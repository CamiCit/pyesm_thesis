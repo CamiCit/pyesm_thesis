{
 "cells": [
  {
   "attachments": {},
   "cell_type": "markdown",
   "metadata": {},
   "source": [
    "pyESM WORKFLOW"
   ]
  },
  {
   "cell_type": "code",
   "execution_count": 1,
   "metadata": {},
   "outputs": [
    {
     "name": "stderr",
     "output_type": "stream",
     "text": [
      "INFO | Interface | 'Interface' object initialization...\n",
      "INFO | Interface.file_manager | 'FileManager' object generated.\n",
      "DEBUG | Interface.file_manager | File 'settings.yml' loaded.\n",
      "INFO | Interface.model | 'Model' object initialization...\n",
      "WARNING | Interface.file_manager | Directory 'test_case_1' already exists.\n",
      "WARNING | Interface.file_manager | Directory 'test_case_1' not overwritten.\n",
      "INFO | Interface.model.database | 'Database' object initialization...\n",
      "INFO | Interface.model.database.sql_manager | 'SQLManager' object generated.\n",
      "INFO | Interface.model.database | 'Database' object initialized.\n",
      "INFO | Interface.model.problem | 'Problem' object initialization...\n",
      "INFO | Interface.model.problem | 'Problem' object initialized.\n",
      "INFO | Interface.model | 'Model' initialized.\n",
      "INFO | Interface | 'Interface' object initialized.\n"
     ]
    }
   ],
   "source": [
    "# create an instance of Interface class\n",
    "# based on the model settings, this generates the model's input files to be filled\n",
    "# and the blank SQL database\n",
    "\n",
    "from src.frontend.interface import Interface\n",
    "\n",
    "test = Interface(\n",
    "    log_level='debug',\n",
    "    log_format='minimal',\n",
    "    log_file_name='model_test.log',\n",
    ")"
   ]
  },
  {
   "cell_type": "code",
   "execution_count": 2,
   "metadata": {},
   "outputs": [
    {
     "name": "stderr",
     "output_type": "stream",
     "text": [
      "DEBUG | Interface.model.database.sql_manager | Connection to 'database.db' opened.\n",
      "DEBUG | Interface.file_manager | Excel file 'sets.xlsx' loaded.\n",
      "INFO | Interface.model.database | New Sets loaded in Database class and 'database.db' from 'sets.xlsx'.\n",
      "DEBUG | Interface.model.database.sql_manager | Connection to 'database.db' closed.\n"
     ]
    }
   ],
   "source": [
    "# load model sets from the xlsx files filled by the user\n",
    "# (data validation in excel according to the constant file is envisaged)\n",
    "test.model.database.load_sets()"
   ]
  },
  {
   "cell_type": "code",
   "execution_count": 3,
   "metadata": {},
   "outputs": [
    {
     "name": "stderr",
     "output_type": "stream",
     "text": [
      "DEBUG | Interface.model.database.sql_manager | Connection to 'database.db' opened.\n",
      "INFO | Interface.model.database | Generation of empty database...\n",
      "INFO | Interface.model.database | Loading variables coordinates...\n",
      "DEBUG | Interface.model.database | Loading coordinates for variable 'v'.\n",
      "DEBUG | Interface.model.database | Loading coordinates for variable 'u'.\n",
      "DEBUG | Interface.model.database | Loading coordinates for variable 'Y'.\n",
      "INFO | Interface.model.database | Variables coordinates loaded.\n",
      "DEBUG | Interface.model.database.sql_manager | Table 'v' already exists.\n",
      "DEBUG | Interface.model.database.sql_manager | Table 'v' not owerwritten.\n",
      "ERROR | Interface.model.database.sql_manager | duplicate column name: values\n",
      "ERROR | Interface.model.database.sql_manager | Error adding column to table: duplicate column name: values\n",
      "DEBUG | Interface.model.database.sql_manager | Table 'u' already exists.\n",
      "DEBUG | Interface.model.database.sql_manager | Table 'u' not owerwritten.\n",
      "ERROR | Interface.model.database.sql_manager | duplicate column name: values\n",
      "ERROR | Interface.model.database.sql_manager | Error adding column to table: duplicate column name: values\n",
      "DEBUG | Interface.model.database.sql_manager | Table 'Y' already exists.\n",
      "DEBUG | Interface.model.database.sql_manager | Table 'Y' not owerwritten.\n",
      "ERROR | Interface.model.database.sql_manager | duplicate column name: values\n",
      "ERROR | Interface.model.database.sql_manager | Error adding column to table: duplicate column name: values\n",
      "INFO | Interface.model.database | Empty database generated.\n",
      "DEBUG | Interface.model.database.sql_manager | Connection to 'database.db' closed.\n"
     ]
    }
   ],
   "source": [
    "# once sets has compiled in excel and loaded in the database, the blank \n",
    "# database is generated\n",
    "test.model.database.generate_blank_database()"
   ]
  },
  {
   "cell_type": "code",
   "execution_count": null,
   "metadata": {},
   "outputs": [],
   "source": [
    "# generate input files to filled by the user\n",
    "test.model.database.generate_input_files()"
   ]
  },
  {
   "cell_type": "code",
   "execution_count": 5,
   "metadata": {},
   "outputs": [
    {
     "name": "stderr",
     "output_type": "stream",
     "text": [
      "DEBUG | Interface.model.database.sql_manager | Connection to 'database.db' opened.\n",
      "INFO | Interface.model.database | Loading input file/s for 'Database' object.\n",
      "DEBUG | Interface.file_manager | Excel file 'input_data.xlsx' loaded.\n",
      "DEBUG | Interface.model.database.sql_manager | 9 rows deleted from table 'v'\n",
      "DEBUG | Interface.model.database.sql_manager | 9 rows inserted into table 'v'\n",
      "DEBUG | Interface.model.database.sql_manager | 9 rows deleted from table 'u'\n",
      "DEBUG | Interface.model.database.sql_manager | 9 rows inserted into table 'u'\n",
      "DEBUG | Interface.model.database.sql_manager | 3 rows deleted from table 'Y'\n",
      "DEBUG | Interface.model.database.sql_manager | 3 rows inserted into table 'Y'\n",
      "INFO | Interface.model.database | Input file/s loaded into 'Database' object.\n",
      "DEBUG | Interface.model.database.sql_manager | Connection to 'database.db' closed.\n"
     ]
    }
   ],
   "source": [
    "# load input file/s data into the sql database\n",
    "test.model.database.load_input_files()"
   ]
  },
  {
   "cell_type": "code",
   "execution_count": null,
   "metadata": {},
   "outputs": [],
   "source": []
  },
  {
   "cell_type": "code",
   "execution_count": null,
   "metadata": {},
   "outputs": [],
   "source": [
    "test.model.database.sets_structure"
   ]
  },
  {
   "cell_type": "code",
   "execution_count": null,
   "metadata": {},
   "outputs": [],
   "source": [
    "test.model.database.sets"
   ]
  },
  {
   "cell_type": "code",
   "execution_count": null,
   "metadata": {},
   "outputs": [],
   "source": [
    "test.model.database.variables"
   ]
  },
  {
   "cell_type": "code",
   "execution_count": null,
   "metadata": {},
   "outputs": [],
   "source": [
    "test.model.database.coordinates"
   ]
  },
  {
   "cell_type": "code",
   "execution_count": null,
   "metadata": {},
   "outputs": [],
   "source": [
    "# delete all the information included in the model data folder, if necessary\n",
    "test.model.model_cleanup()"
   ]
  }
 ],
 "metadata": {
  "kernelspec": {
   "display_name": "esm_dev",
   "language": "python",
   "name": "python3"
  },
  "language_info": {
   "codemirror_mode": {
    "name": "ipython",
    "version": 3
   },
   "file_extension": ".py",
   "mimetype": "text/x-python",
   "name": "python",
   "nbconvert_exporter": "python",
   "pygments_lexer": "ipython3",
   "version": "3.9.18"
  },
  "orig_nbformat": 4
 },
 "nbformat": 4,
 "nbformat_minor": 2
}
