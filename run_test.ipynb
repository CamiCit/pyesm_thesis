{
 "cells": [
  {
   "attachments": {},
   "cell_type": "markdown",
   "metadata": {},
   "source": [
    "pyESM WORKFLOW"
   ]
  },
  {
   "cell_type": "code",
   "execution_count": 1,
   "metadata": {},
   "outputs": [
    {
     "name": "stderr",
     "output_type": "stream",
     "text": [
      "INFO | Interface | 'Interface' object initialization...\n",
      "INFO | Interface.file_manager | 'FileManager' object generated.\n",
      "INFO | Interface | Loading settings.\n",
      "DEBUG | Interface.file_manager | File 'settings.yml' loaded.\n",
      "INFO | Interface.model | 'Model' object initialization...\n",
      "WARNING | Interface.file_manager | Directory 'test_case_1' already exists.\n",
      "DEBUG | Interface.file_manager | Directory 'test_case_1' overwritten.\n",
      "INFO | Interface.model.sql_manager | Generation of 'SQLManager' object...\n",
      "INFO | Interface.model.sql_manager | 'SQLManager' object generated.\n",
      "INFO | Interface.model.database | 'Database' object initialization...\n",
      "DEBUG | Interface.model.sql_manager | Connection to 'database.db' opened.\n",
      "DEBUG | Interface.model.sql_manager | SQLite table '_set_SCENARIOS' - created.\n",
      "DEBUG | Interface.model.sql_manager | SQLite table '_set_SCENARIOS' - exported to sets.xlsx.\n",
      "DEBUG | Interface.model.sql_manager | SQLite table '_set_DATETIME' - created.\n",
      "DEBUG | Interface.model.sql_manager | SQLite table '_set_DATETIME' - exported to sets.xlsx.\n",
      "DEBUG | Interface.model.sql_manager | SQLite table '_set_TECHNOLOGIES' - created.\n",
      "DEBUG | Interface.model.sql_manager | SQLite table '_set_TECHNOLOGIES' - exported to sets.xlsx.\n",
      "DEBUG | Interface.model.sql_manager | SQLite table '_set_FLOWS' - created.\n",
      "DEBUG | Interface.model.sql_manager | SQLite table '_set_FLOWS' - exported to sets.xlsx.\n",
      "DEBUG | Interface.model.sql_manager | Connection to 'database.db' closed.\n",
      "INFO | Interface.model.database | 'Database' object initialized.\n",
      "INFO | Interface.model.problem | 'Problem' object initialization...\n",
      "INFO | Interface.model.problem | 'Problem' object initialized.\n",
      "INFO | Interface.model | 'Model' initialized.\n",
      "INFO | Interface | 'Interface' object initialized.\n"
     ]
    }
   ],
   "source": [
    "# create an instance of Interface class\n",
    "# based on the model settings, this generates the model's input files to be filled\n",
    "# and the blank SQL database\n",
    "\n",
    "from src.frontend.interface import Interface\n",
    "\n",
    "test = Interface(\n",
    "    log_level='debug',\n",
    "    log_format='minimal',\n",
    ")"
   ]
  },
  {
   "cell_type": "code",
   "execution_count": 2,
   "metadata": {},
   "outputs": [
    {
     "name": "stderr",
     "output_type": "stream",
     "text": [
      "DEBUG | Interface.model.sql_manager | Connection to 'database.db' opened.\n",
      "DEBUG | Interface.file_manager | Excel file 'sets.xlsx' loaded.\n",
      "DEBUG | Interface.model.sql_manager | SQLite table '_set_SCENARIOS' - 1 entries added.\n",
      "DEBUG | Interface.model.sql_manager | SQLite table '_set_DATETIME' - 2 entries added.\n",
      "DEBUG | Interface.model.sql_manager | SQLite table '_set_TECHNOLOGIES' - 4 entries added.\n",
      "DEBUG | Interface.model.sql_manager | SQLite table '_set_FLOWS' - 4 entries added.\n",
      "INFO | Interface.model.database | New Sets loaded in Database class and 'database.db' from 'sets.xlsx'.\n",
      "DEBUG | Interface.model.sql_manager | Connection to 'database.db' closed.\n"
     ]
    }
   ],
   "source": [
    "# load model sets from the xlsx files filled by the user\n",
    "# (data validation in excel according to the constant file is envisaged)\n",
    "test.model.database.load_sets()"
   ]
  },
  {
   "cell_type": "code",
   "execution_count": 4,
   "metadata": {},
   "outputs": [
    {
     "name": "stderr",
     "output_type": "stream",
     "text": [
      "DEBUG | Interface.model.sql_manager | Connection to 'database.db' opened.\n",
      "INFO | Interface.model.database | Generation of empty SQLite database...\n",
      "DEBUG | Interface.model.sql_manager | SQLite table 'v' already exists.\n",
      "DEBUG | Interface.model.sql_manager | SQLite 'v' - deleted.\n",
      "DEBUG | Interface.model.sql_manager | SQLite table 'v' - created with foreign keys.\n",
      "DEBUG | Interface.model.sql_manager | SQLite table 'v' - 18 entries added.\n",
      "DEBUG | Interface.model.sql_manager | Column 'values' added to table 'v'.\n",
      "DEBUG | Interface.model.sql_manager | SQLite table 'u' - created with foreign keys.\n",
      "DEBUG | Interface.model.sql_manager | SQLite table 'u' - 12 entries added.\n",
      "DEBUG | Interface.model.sql_manager | Column 'values' added to table 'u'.\n",
      "DEBUG | Interface.model.sql_manager | SQLite table 'Y' - created with foreign keys.\n",
      "DEBUG | Interface.model.sql_manager | SQLite table 'Y' - 4 entries added.\n",
      "DEBUG | Interface.model.sql_manager | Column 'values' added to table 'Y'.\n",
      "DEBUG | Interface.model.sql_manager | SQLite table 'Q' - created with foreign keys.\n",
      "DEBUG | Interface.model.sql_manager | SQLite table 'Q' - 4 entries added.\n",
      "DEBUG | Interface.model.sql_manager | Column 'values' added to table 'Q'.\n",
      "DEBUG | Interface.model.sql_manager | SQLite table 'X' - created with foreign keys.\n",
      "DEBUG | Interface.model.sql_manager | SQLite table 'X' - 6 entries added.\n",
      "DEBUG | Interface.model.sql_manager | Column 'values' added to table 'X'.\n",
      "INFO | Interface.model.database | Empty SQLite database generated.\n",
      "DEBUG | Interface.model.sql_manager | Connection to 'database.db' closed.\n"
     ]
    }
   ],
   "source": [
    "# once sets has compiled in excel and loaded in the database, variables \n",
    "# coordinates are loaded and blank database is generated\n",
    "test.model.database.generate_blank_database()"
   ]
  },
  {
   "cell_type": "code",
   "execution_count": 5,
   "metadata": {},
   "outputs": [
    {
     "name": "stderr",
     "output_type": "stream",
     "text": [
      "DEBUG | Interface.model.sql_manager | Connection to 'database.db' opened.\n",
      "INFO | Interface.model.database | Generation of input file/s for 'Database' object.\n",
      "DEBUG | Interface.file_manager | Directory 'input_data' created.\n",
      "DEBUG | Interface.model.sql_manager | SQLite table 'v' - exported to input_data.xlsx.\n",
      "DEBUG | Interface.model.sql_manager | SQLite table 'u' - exported to input_data.xlsx.\n",
      "DEBUG | Interface.model.sql_manager | SQLite table 'Y' - exported to input_data.xlsx.\n",
      "INFO | Interface.model.database | Input file/s for 'Database' object generated.\n",
      "DEBUG | Interface.model.sql_manager | Connection to 'database.db' closed.\n"
     ]
    }
   ],
   "source": [
    "# generate input files to filled by the user\n",
    "test.model.database.generate_input_files()"
   ]
  },
  {
   "cell_type": "code",
   "execution_count": 7,
   "metadata": {},
   "outputs": [
    {
     "name": "stderr",
     "output_type": "stream",
     "text": [
      "DEBUG | Interface.model.sql_manager | Connection to 'database.db' opened.\n",
      "INFO | Interface.model.database | Loading input file/s for 'Database' object.\n",
      "DEBUG | Interface.file_manager | Excel file 'input_data.xlsx' loaded.\n",
      "DEBUG | Interface.model.sql_manager | 18 rows deleted from table 'v'\n",
      "DEBUG | Interface.model.sql_manager | SQLite table 'v' - 18 entries added.\n",
      "DEBUG | Interface.model.sql_manager | 12 rows deleted from table 'u'\n",
      "DEBUG | Interface.model.sql_manager | SQLite table 'u' - 12 entries added.\n",
      "DEBUG | Interface.model.sql_manager | 4 rows deleted from table 'Y'\n",
      "DEBUG | Interface.model.sql_manager | SQLite table 'Y' - 4 entries added.\n",
      "INFO | Interface.model.database | Input file/s loaded into 'Database' object.\n",
      "DEBUG | Interface.model.sql_manager | Connection to 'database.db' closed.\n"
     ]
    }
   ],
   "source": [
    "# load input file/s data into the sql database\n",
    "test.model.database.load_input_files()"
   ]
  },
  {
   "cell_type": "code",
   "execution_count": null,
   "metadata": {},
   "outputs": [],
   "source": [
    "# use this to start from existing database\n",
    "from src.frontend.interface import Interface\n",
    "\n",
    "test = Interface(\n",
    "    log_level='debug',\n",
    "    log_format='minimal',\n",
    "    log_file_name='model_test.log',\n",
    ")\n",
    "\n",
    "test.warm_start_for_debug()"
   ]
  },
  {
   "cell_type": "code",
   "execution_count": null,
   "metadata": {},
   "outputs": [],
   "source": [
    "test.model.variables_generation()\n",
    "test.model.variables\n"
   ]
  },
  {
   "cell_type": "code",
   "execution_count": null,
   "metadata": {},
   "outputs": [],
   "source": [
    "from src.util.util import prettify\n",
    "prettify(test.model.database.coordinates)"
   ]
  },
  {
   "cell_type": "code",
   "execution_count": null,
   "metadata": {},
   "outputs": [],
   "source": [
    "from src.util.util import prettify\n",
    "prettify(test.model.database.variables_info['v'])"
   ]
  },
  {
   "cell_type": "code",
   "execution_count": null,
   "metadata": {},
   "outputs": [],
   "source": [
    "test.model.database.sets_structure"
   ]
  },
  {
   "cell_type": "code",
   "execution_count": null,
   "metadata": {},
   "outputs": [],
   "source": [
    "test.model.database.sets"
   ]
  },
  {
   "cell_type": "code",
   "execution_count": null,
   "metadata": {},
   "outputs": [],
   "source": [
    "test.model.database.sqltools.open_connection()\n",
    "\n",
    "var = test.model.database.sqltools.filtered_table_to_dataframe(\n",
    "    table_name='v',\n",
    "    filters_dict={\n",
    "        's_Name': ['Reference'],\n",
    "        'dt_Name': [2023],\n",
    "        't_Name': ['Gas power plant'],\n",
    "        'f_Name': ['Steel']\n",
    "    }\n",
    ")\n",
    "\n",
    "filter_1 = test.model.database.sqltools.get_related_table_keys(\n",
    "    parent_table_name='_set_FLOWS',\n",
    "    child_column_name='f_Name',\n",
    "    parent_table_fields={\n",
    "        'f_Category': ['Product flow'],\n",
    "    }\n",
    ")\n",
    "\n",
    "filter_2 = test.model.database.sqltools.get_related_table_keys(\n",
    "    parent_table_name='_set_DATETIME',\n",
    "    child_column_name='dt_Name',\n",
    "    parent_table_fields={\n",
    "        'dt_Name': [2023],\n",
    "    }\n",
    ")\n",
    "\n",
    "var_custom_filter = test.model.database.sqltools.filtered_table_to_dataframe(\n",
    "    table_name='v',\n",
    "    filters_dict={\n",
    "        **filter_1,\n",
    "        **filter_2,\n",
    "        **{'f_Name': ['Steel']},\n",
    "    }\n",
    ")\n",
    "\n",
    "test.model.database.sqltools.close_connection()\n",
    "\n",
    "# filter_1, filter_2\n",
    "var_custom_filter"
   ]
  },
  {
   "cell_type": "code",
   "execution_count": null,
   "metadata": {},
   "outputs": [],
   "source": [
    "# delete all the information included in the model data folder, if necessary\n",
    "test.model.model_dir_cleanup()"
   ]
  }
 ],
 "metadata": {
  "kernelspec": {
   "display_name": "esm_dev",
   "language": "python",
   "name": "python3"
  },
  "language_info": {
   "codemirror_mode": {
    "name": "ipython",
    "version": 3
   },
   "file_extension": ".py",
   "mimetype": "text/x-python",
   "name": "python",
   "nbconvert_exporter": "python",
   "pygments_lexer": "ipython3",
   "version": "3.9.18"
  },
  "orig_nbformat": 4
 },
 "nbformat": 4,
 "nbformat_minor": 2
}
