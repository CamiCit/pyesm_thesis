{
 "cells": [
  {
   "attachments": {},
   "cell_type": "markdown",
   "metadata": {
    "slideshow": {
     "slide_type": "slide"
    }
   },
   "source": [
    "# pyESM WORKFLOW"
   ]
  },
  {
   "cell_type": "markdown",
   "metadata": {
    "slideshow": {
     "slide_type": "slide"
    }
   },
   "source": [
    "CASE A \n",
    "\n",
    "Generation of a new model from scratch, including database and data input\n",
    "\n",
    "(settings -> use_existing_database: False)"
   ]
  },
  {
   "cell_type": "code",
   "execution_count": null,
   "metadata": {},
   "outputs": [],
   "source": [
    "# Create an instance of Model class based on the model settings.\n",
    "# This generates the model's set input file/s to be filled \n",
    "# and the blank SQL database.\n",
    "from src.frontend.model import Model\n",
    "\n",
    "test = Model(\n",
    "    log_level='debug',\n",
    "    log_format='minimal',\n",
    ")"
   ]
  },
  {
   "cell_type": "code",
   "execution_count": null,
   "metadata": {},
   "outputs": [],
   "source": [
    "# load model sets from the xlsx files filled by the user\n",
    "# Note: data validation in excel according to the constant file is envisaged\n",
    "test.load_model_coordinates()"
   ]
  },
  {
   "cell_type": "code",
   "execution_count": null,
   "metadata": {},
   "outputs": [],
   "source": [
    "# Once sets has compiled in excel and loaded in the database, \n",
    "# blank database is generated.\n",
    "# Note: an error is raised at the first launch of the method, \n",
    "# disappearing the second run.\n",
    "test.generate_blank_database()"
   ]
  },
  {
   "cell_type": "code",
   "execution_count": null,
   "metadata": {},
   "outputs": [],
   "source": [
    "# Load input file/s data into the sql database.\n",
    "# Can be used to update data in the sql database without generating a new \n",
    "# Model instance\n",
    "test.load_data_files_to_database(operation='overwrite')"
   ]
  },
  {
   "cell_type": "code",
   "execution_count": null,
   "metadata": {},
   "outputs": [],
   "source": [
    "# Initialize cvxpy problem.and\n",
    "# Fetch data from sql database to cvxpy exogenous variables,\n",
    "# (to be done: generate equations and objective function)\n",
    "test.initialize_problem()"
   ]
  },
  {
   "cell_type": "markdown",
   "metadata": {},
   "source": [
    "CASE B\n",
    "\n",
    "Generation of a new model working with existing database and data input files.\n",
    "\n",
    "(settings -> use_existing_database: True)"
   ]
  },
  {
   "cell_type": "code",
   "execution_count": 1,
   "metadata": {},
   "outputs": [
    {
     "name": "stderr",
     "output_type": "stream",
     "text": [
      "INFO | Model | 'Model' object initialization...\n",
      "INFO | Model.file_manager | 'FileManager' object generated.\n",
      "INFO | Model | 'Model' object: loading settings.\n",
      "DEBUG | Model.file_manager | File 'settings.yml' loaded.\n",
      "INFO | Model | 'Model' object: loading paths from settings.\n",
      "INFO | Model.core | 'Core' object initialization...\n",
      "INFO | Model.core | Skipping model directory generation.\n",
      "INFO | Model.core.sql_manager | 'SQLManager' object Generated.\n",
      "INFO | Model.core.index | 'Index' object initialization...\n",
      "DEBUG | Model.core.index | Loading variables table headers and label headers to Index.\n",
      "INFO | Model.core.index | 'Index' object initialized.\n",
      "INFO | Model.core.database | 'Database' object initialization...\n",
      "INFO | Model.core.database | 'Database' object initialized.\n",
      "INFO | Model.core.problem | 'Problem' object initialization...\n",
      "INFO | Model.core.problem | 'Problem' object initialized.\n",
      "INFO | Model.core | 'Core' initialized.\n",
      "INFO | Model.pbi_manager | 'PBIManager' object generated.\n",
      "INFO | Model | 'Model' object initialized.\n",
      "INFO | Model.core.index | 'Index' object: loading new Sets to Index.\n",
      "DEBUG | Model.file_manager | Excel file 'sets.xlsx' loaded.\n",
      "INFO | Model | Relying on existing SQL database 'database.db'.\n",
      "DEBUG | Model.core.index | Loading variables 'table_headers' to Index.\n",
      "DEBUG | Model.core.index | Loading variables 'coordinates' to Index.\n",
      "DEBUG | Model.core.index | Loading variables 'sets_parsing_hierarchy' to Index.\n",
      "DEBUG | Model.core.index | Loading tables 'foreign_keys' to Index.\n",
      "INFO | Model.core | Initialize variables dataframes (cvxpy objects, filters dictionaries).\n",
      "DEBUG | Model.core.problem | Generating variable 'v' dataframe (cvxpy object, filter dictionary).\n",
      "DEBUG | Model.core.problem | Generating variable 'u' dataframe (cvxpy object, filter dictionary).\n",
      "DEBUG | Model.core.problem | Generating variable 'Y' dataframe (cvxpy object, filter dictionary).\n",
      "DEBUG | Model.core.problem | Generating variable 'Q' dataframe (cvxpy object, filter dictionary).\n",
      "DEBUG | Model.core.problem | Generating variable 'X' dataframe (cvxpy object, filter dictionary).\n",
      "DEBUG | Model.core.sql_manager | Connection to 'database.db' opened.\n",
      "INFO | Model.core | Fetching data from 'database.db' to cvxpy exogenous variables.\n",
      "DEBUG | Model.core | Fetching data from table 'v' to cvxpy exogenous variable.\n",
      "DEBUG | Model.core | Fetching data from table 'u' to cvxpy exogenous variable.\n",
      "DEBUG | Model.core | Fetching data from table 'Y' to cvxpy exogenous variable.\n",
      "DEBUG | Model.core.sql_manager | Connection to 'database.db' closed.\n"
     ]
    }
   ],
   "source": [
    "# Generating a Model instance referring to existing model folder and input data.\n",
    "from src.frontend.model import Model\n",
    "\n",
    "test = Model(\n",
    "    log_level='debug',\n",
    "    log_format='minimal',\n",
    ")\n",
    "\n",
    "test.load_model_coordinates()\n",
    "test.initialize_problem()"
   ]
  },
  {
   "cell_type": "code",
   "execution_count": null,
   "metadata": {},
   "outputs": [],
   "source": [
    "# In case it is needed, update data without re-generate a new instance of Model class.\n",
    "test.update_database_and_problem()"
   ]
  },
  {
   "cell_type": "code",
   "execution_count": null,
   "metadata": {},
   "outputs": [],
   "source": [
    "test.load_results_to_database(operation='update')"
   ]
  },
  {
   "cell_type": "markdown",
   "metadata": {},
   "source": [
    "TESTS ---"
   ]
  },
  {
   "cell_type": "code",
   "execution_count": 2,
   "metadata": {},
   "outputs": [
    {
     "data": {
      "text/plain": [
       "\n",
       "symbol: t\n",
       "table_name: _set_TECHNOLOGIES\n",
       "table_headers: {'id': ['t_ID', 'INTEGER PRIMARY KEY'], 'name': ['t_Name', 'TEXT'], 'category': ['t_Category', 'TEXT']}\n",
       "set_categories: {'t.s': 'Supply technology', 't.d': 'Demand technology'}"
      ]
     },
     "execution_count": 2,
     "metadata": {},
     "output_type": "execute_result"
    }
   ],
   "source": [
    "test.core.index.sets.technologies"
   ]
  },
  {
   "cell_type": "code",
   "execution_count": 4,
   "metadata": {},
   "outputs": [
    {
     "data": {
      "text/plain": [
       "\n",
       "symbol: X\n",
       "name: total technology activity vector\n",
       "type: endogenous\n",
       "set_headers_key: name\n",
       "coordinates_info: {'scenarios': None, 'datetime': None, 'technologies': {'set_categories': 't.s'}}\n",
       "shape: ['technologies', 1]\n",
       "variable_fields: {'scenarios': ['s_Name', 'TEXT'], 'datetime': ['dt_Name', 'TEXT'], 'technologies': ['t_Name', 'TEXT']}\n",
       "table_headers: {'id': ['id', 'INTEGER PRIMARY KEY'], 'scenarios': ['s_Name', 'TEXT'], 'datetime': ['dt_Name', 'TEXT'], 'technologies': ['t_Name', 'TEXT']}\n",
       "coordinates: {'s_Name': ['Reference'], 'dt_Name': ['2023', '2024'], 't_Name': ['Gas power plant', 'Steel factory', 'PV power plant']}\n",
       "foreign_keys: {'s_Name': ('s_Name', '_set_SCENARIOS'), 'dt_Name': ('dt_Name', '_set_DATETIME'), 't_Name': ('t_Name', '_set_TECHNOLOGIES')}\n",
       "sets_parsing_hierarchy: {'scenarios': 's_Name', 'datetime': 'dt_Name'}"
      ]
     },
     "execution_count": 4,
     "metadata": {},
     "output_type": "execute_result"
    }
   ],
   "source": [
    "test.core.index.variables.X"
   ]
  },
  {
   "cell_type": "code",
   "execution_count": null,
   "metadata": {},
   "outputs": [],
   "source": [
    "import numpy as np\n",
    "values = np.ones((3,1))\n",
    "\n",
    "variable.data['variable'][0].value = values"
   ]
  },
  {
   "cell_type": "code",
   "execution_count": null,
   "metadata": {},
   "outputs": [],
   "source": [
    "import pandas as pd\n",
    "from src.util import constants\n",
    "from src.util import util\n",
    "\n",
    "field_id = constants._STD_ID_FIELD['id'][0]\n",
    "\n",
    "col_to_update = constants._STD_VALUES_FIELD['values'][0]\n",
    "cols_common = list(variable.coordinates.keys())\n",
    "\n",
    "new_df = variable.reshaping_variable_data(0)\n",
    "\n",
    "new_values = {\n",
    "    's_Name': 'Reference',\n",
    "    'dt_Name': '2023',\n",
    "    't_Name': 'Final demand',\n",
    "    'values': 15.0\n",
    "}\n",
    "\n",
    "new_df.loc[len(new_df)] = new_values\n",
    "new_df.at[0,'values'] = 2\n",
    "\n",
    "test.core.sqltools.open_connection()\n",
    "existing_df = test.core.sqltools.table_to_dataframe(table_name=variable.symbol)\n",
    "existing_df.drop(columns=['id'],inplace=True)\n",
    "test.core.sqltools.close_connection()\n",
    "\n",
    "print('\\n')\n",
    "print('existing_df: \\n', existing_df)\n",
    "print('\\n')\n",
    "print('new_df: \\n', new_df)"
   ]
  },
  {
   "cell_type": "code",
   "execution_count": null,
   "metadata": {},
   "outputs": [],
   "source": [
    "variable=test.core.index.variables.u\n",
    "\n",
    "test.core.database.sqltools.open_connection()\n",
    "raw_data = test.core.database.sqltools.filtered_table_to_dataframe(\n",
    "    table_name=variable.symbol,\n",
    "    filters_dict=variable.data['filter'][0]\n",
    ")\n",
    "test.core.database.sqltools.close_connection()\n",
    "\n",
    "raw_data"
   ]
  },
  {
   "cell_type": "code",
   "execution_count": null,
   "metadata": {},
   "outputs": [],
   "source": [
    "test.core.database.sqltools.open_connection()\n",
    "\n",
    "var = test.core.database.sqltools.filtered_table_to_dataframe(\n",
    "    table_name='u',\n",
    "    filters_dict={\n",
    "        's_Name': ['Reference'],\n",
    "        'dt_Name': [2023],\n",
    "        'f_Name': ['Energy', 'Steel'],\n",
    "        't_Name': ['PV power plant', 'Steel factory', 'Gas power plant']\n",
    "    }\n",
    ")\n",
    "\n",
    "# filter_1 = test.core.database.sqltools.get_related_table_keys(\n",
    "#     child_column_name='f_Name',\n",
    "#     parent_table_name='_set_FLOWS',\n",
    "#     parent_table_fields={\n",
    "#         'f_Category': ['Product flow'],\n",
    "#     }\n",
    "# )\n",
    "\n",
    "# filter_2 = test.core.database.sqltools.get_related_table_keys(\n",
    "#     child_column_name='dt_Name',\n",
    "#     parent_table_name='_set_DATETIME',\n",
    "#     parent_table_fields={\n",
    "#         'dt_Name': [2023],\n",
    "#     }\n",
    "# )\n",
    "\n",
    "# var_custom_filter = test.core.database.sqltools.filtered_table_to_dataframe(\n",
    "#     table_name='v',\n",
    "#     filters_dict={\n",
    "#         **filter_1,\n",
    "#         **filter_2,\n",
    "#         **{'f_Name': ['Steel']},\n",
    "#     }\n",
    "# )\n",
    "\n",
    "test.core.database.sqltools.close_connection()\n",
    "\n",
    "# filter_1, filter_2\n",
    "var"
   ]
  },
  {
   "cell_type": "markdown",
   "metadata": {},
   "source": [
    "Other commands"
   ]
  },
  {
   "cell_type": "code",
   "execution_count": null,
   "metadata": {},
   "outputs": [],
   "source": [
    "# delete all the information included in the model data folder, if necessary\n",
    "test.erase_model()"
   ]
  }
 ],
 "metadata": {
  "kernelspec": {
   "display_name": "esm_dev",
   "language": "python",
   "name": "python3"
  },
  "language_info": {
   "codemirror_mode": {
    "name": "ipython",
    "version": 3
   },
   "file_extension": ".py",
   "mimetype": "text/x-python",
   "name": "python",
   "nbconvert_exporter": "python",
   "pygments_lexer": "ipython3",
   "version": "3.9.18"
  },
  "orig_nbformat": 4
 },
 "nbformat": 4,
 "nbformat_minor": 2
}
