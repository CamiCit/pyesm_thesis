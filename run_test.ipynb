{
 "cells": [
  {
   "attachments": {},
   "cell_type": "markdown",
   "metadata": {},
   "source": [
    "pyESM WORKFLOW"
   ]
  },
  {
   "cell_type": "code",
   "execution_count": 1,
   "metadata": {},
   "outputs": [
    {
     "name": "stderr",
     "output_type": "stream",
     "text": [
      "INFO | Interface | 'Interface' object initialization...\n",
      "DEBUG | Interface.file_manager | 'FileManager' object generated.\n",
      "DEBUG | Interface.file_manager | File 'settings.yml' loaded.\n",
      "INFO | Interface.model | 'Model' object initialization...\n",
      "DEBUG | Interface.file_manager | Directory 'test_case_1' created.\n",
      "INFO | Interface.model.database | 'Database' object initialization...\n",
      "INFO | Interface.model.database.sql_manager | 'SQLManager' object generated.\n",
      "DEBUG | Interface.model.database.sql_manager | 'SQLManager' connection opened.\n",
      "DEBUG | Interface.model.database.sql_manager | Table '_set_SCENARIOS' created.\n",
      "DEBUG | Interface.model.database.sql_manager | Table '_set_TECHNOLOGIES' created.\n",
      "DEBUG | Interface.model.database.sql_manager | Table '_set_FLOWS' created.\n",
      "DEBUG | Interface.model.database.sql_manager | 'SQLManager' connection closed.\n",
      "INFO | Interface.model.database | 'Database' object initialized.\n",
      "INFO | Interface.model.problem | 'Problem' object initialization...\n",
      "INFO | Interface.model.problem | 'Problem' object initialized.\n",
      "INFO | Interface.model | 'Model' initialized.\n",
      "INFO | Interface | 'Interface' object initialized.\n"
     ]
    }
   ],
   "source": [
    "# create an instance of Interface class\n",
    "# based on the model settings, this generates the model's input files to be filled\n",
    "# and the blank SQL database\n",
    "\n",
    "from src.frontend.interface import Interface\n",
    "\n",
    "test = Interface(\n",
    "    log_level='debug',\n",
    "    log_format='minimal',\n",
    "    log_file_name='model_test.log',\n",
    ")"
   ]
  },
  {
   "cell_type": "code",
   "execution_count": null,
   "metadata": {},
   "outputs": [],
   "source": [
    "sets_structure = test.model.database.sets_structure\n",
    "table_names = [sets_structure[name]['table_name'] for name in sets_structure.keys()]\n",
    "table_names"
   ]
  },
  {
   "cell_type": "code",
   "execution_count": null,
   "metadata": {},
   "outputs": [],
   "source": [
    "# load model sets from the xlsx files filled by the user\n",
    "# (data validation in excel according to the constant file is envisaged)\n",
    "\n",
    "test.model.database.load_sets()"
   ]
  },
  {
   "cell_type": "code",
   "execution_count": null,
   "metadata": {},
   "outputs": [],
   "source": [
    "# load model variables coordinates necessary to generate database and \n",
    "# files for input data\n",
    "\n",
    "test.model.database.load_coordinates()"
   ]
  },
  {
   "cell_type": "code",
   "execution_count": null,
   "metadata": {},
   "outputs": [],
   "source": [
    "# generate database as a dictionary of xarray DataArray objects\n",
    "\n",
    "test.model.database.generate_blank_database()"
   ]
  },
  {
   "cell_type": "code",
   "execution_count": null,
   "metadata": {},
   "outputs": [],
   "source": [
    "# generate files for input data to be filled by the user\n",
    "\n",
    "test.model.database.generate_input_files()"
   ]
  },
  {
   "cell_type": "code",
   "execution_count": null,
   "metadata": {},
   "outputs": [],
   "source": [
    "b =test.model.database.database_settings['input_data_hierarchy_map']\n",
    "# if all(b['directories'].values()):\n",
    "#     print('ciao')\n",
    "b['directories']"
   ]
  },
  {
   "cell_type": "code",
   "execution_count": null,
   "metadata": {},
   "outputs": [],
   "source": [
    "a = test.model.database.generate_input_hierarchy(\n",
    "    test.model.database.database_settings['input_data_hierarchy_map']\n",
    ")\n",
    "a"
   ]
  },
  {
   "cell_type": "code",
   "execution_count": null,
   "metadata": {},
   "outputs": [],
   "source": [
    "test.model.database.full_dir_paths"
   ]
  },
  {
   "cell_type": "code",
   "execution_count": null,
   "metadata": {},
   "outputs": [],
   "source": [
    "test.model.database.data"
   ]
  },
  {
   "cell_type": "code",
   "execution_count": null,
   "metadata": {},
   "outputs": [],
   "source": [
    "test.model.database.sets_structure['scenarios']['table_headers']['name'][0]"
   ]
  },
  {
   "cell_type": "code",
   "execution_count": null,
   "metadata": {},
   "outputs": [],
   "source": [
    "test.model.database.coordinates"
   ]
  },
  {
   "cell_type": "code",
   "execution_count": null,
   "metadata": {},
   "outputs": [],
   "source": [
    "test.model.database.data"
   ]
  },
  {
   "cell_type": "code",
   "execution_count": null,
   "metadata": {},
   "outputs": [],
   "source": [
    "# delete all the information included in the model data folder, if necessary\n",
    "\n",
    "test.model.model_cleanup()"
   ]
  }
 ],
 "metadata": {
  "kernelspec": {
   "display_name": "esm_dev",
   "language": "python",
   "name": "python3"
  },
  "language_info": {
   "codemirror_mode": {
    "name": "ipython",
    "version": 3
   },
   "file_extension": ".py",
   "mimetype": "text/x-python",
   "name": "python",
   "nbconvert_exporter": "python",
   "pygments_lexer": "ipython3",
   "version": "3.9.18"
  },
  "orig_nbformat": 4
 },
 "nbformat": 4,
 "nbformat_minor": 2
}
