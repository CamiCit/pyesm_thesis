{
 "cells": [
  {
   "attachments": {},
   "cell_type": "markdown",
   "metadata": {},
   "source": [
    "pyESM WORKFLOW"
   ]
  },
  {
   "cell_type": "code",
   "execution_count": null,
   "metadata": {},
   "outputs": [],
   "source": [
    "# create an instance of Interface class\n",
    "# based on the model settings, this generates the model's input files to be filled\n",
    "# and the blank SQL database\n",
    "\n",
    "from src.frontend.interface import Interface\n",
    "\n",
    "test = Interface(\n",
    "    log_level='debug',\n",
    "    log_format='minimal',\n",
    "    log_file_name='model_test.log',\n",
    ")"
   ]
  },
  {
   "cell_type": "code",
   "execution_count": null,
   "metadata": {},
   "outputs": [],
   "source": [
    "# load model sets from the xlsx files filled by the user\n",
    "# (data validation in excel according to the constant file is envisaged)\n",
    "test.model.database.load_sets()"
   ]
  },
  {
   "cell_type": "code",
   "execution_count": null,
   "metadata": {},
   "outputs": [],
   "source": [
    "# once sets has compiled in excel and loaded in the database, variables \n",
    "# coordinates are loaded and blank database is generated\n",
    "test.model.database.generate_blank_database()"
   ]
  },
  {
   "cell_type": "code",
   "execution_count": null,
   "metadata": {},
   "outputs": [],
   "source": [
    "# generate input files to filled by the user\n",
    "test.model.database.generate_input_files()"
   ]
  },
  {
   "cell_type": "code",
   "execution_count": null,
   "metadata": {},
   "outputs": [],
   "source": [
    "# load input file/s data into the sql database\n",
    "test.model.database.load_input_files()"
   ]
  },
  {
   "cell_type": "code",
   "execution_count": 1,
   "metadata": {},
   "outputs": [
    {
     "name": "stderr",
     "output_type": "stream",
     "text": [
      "INFO | Interface | 'Interface' object initialization...\n",
      "INFO | Interface.file_manager | 'FileManager' object generated.\n",
      "DEBUG | Interface.file_manager | File 'settings.yml' loaded.\n",
      "INFO | Interface.model | 'Model' object initialization...\n",
      "WARNING | Interface.file_manager | Directory 'test_case_1' already exists.\n",
      "WARNING | Interface.file_manager | Directory 'test_case_1' not overwritten.\n",
      "INFO | Interface.model.database | 'Database' object initialization...\n",
      "INFO | Interface.model.database.sql_manager | 'SQLManager' object generated.\n",
      "INFO | Interface.model.database | 'Database' object initialized.\n",
      "INFO | Interface.model.problem | 'Problem' object initialization...\n",
      "INFO | Interface.model.problem | 'Problem' object initialized.\n",
      "INFO | Interface.model | 'Model' initialized.\n",
      "INFO | Interface | 'Interface' object initialized.\n",
      "DEBUG | Interface.model.database.sql_manager | Connection to 'database.db' opened.\n",
      "DEBUG | Interface.file_manager | Excel file 'sets.xlsx' loaded.\n",
      "DEBUG | Interface.model.database.sql_manager | SQLite table '_set_SCENARIOS' - not overwritten.\n",
      "DEBUG | Interface.model.database.sql_manager | SQLite table '_set_DATETIME' - not overwritten.\n",
      "DEBUG | Interface.model.database.sql_manager | SQLite table '_set_TECHNOLOGIES' - not overwritten.\n",
      "DEBUG | Interface.model.database.sql_manager | SQLite table '_set_FLOWS' - not overwritten.\n",
      "INFO | Interface.model.database | New Sets loaded in Database class and 'database.db' from 'sets.xlsx'.\n",
      "DEBUG | Interface.model.database.sql_manager | Connection to 'database.db' closed.\n",
      "INFO | Interface.model.database | Loading variables coordinates...\n",
      "DEBUG | Interface.model.database | Loading coordinates for variable 'v'.\n",
      "DEBUG | Interface.model.database | Loading coordinates for variable 'u'.\n",
      "DEBUG | Interface.model.database | Loading coordinates for variable 'Y'.\n",
      "DEBUG | Interface.model.database | Loading coordinates for variable 'Q'.\n",
      "DEBUG | Interface.model.database | Loading coordinates for variable 'X'.\n",
      "INFO | Interface.model.database | Variables coordinates loaded.\n"
     ]
    }
   ],
   "source": [
    "# use this to start from existing database\n",
    "from src.frontend.interface import Interface\n",
    "\n",
    "test = Interface(\n",
    "    log_level='debug',\n",
    "    log_format='minimal',\n",
    "    log_file_name='model_test.log',\n",
    ")\n",
    "\n",
    "test.warm_start_for_debug()"
   ]
  },
  {
   "cell_type": "code",
   "execution_count": 2,
   "metadata": {},
   "outputs": [
    {
     "name": "stderr",
     "output_type": "stream",
     "text": [
      "INFO | Interface.model.database | Generating empty dictionary of variables data...\n",
      "INFO | Interface.model.database | Empty dictionary of variables data generated.\n"
     ]
    },
    {
     "data": {
      "text/plain": [
       "{'v': {'Reference': {2023: None, 2024: None}},\n",
       " 'u': {'Reference': {2023: None, 2024: None}},\n",
       " 'Y': {'Reference': {2023: None, 2024: None}},\n",
       " 'Q': {'Reference': {2023: None, 2024: None}},\n",
       " 'X': {'Reference': {2023: None, 2024: None}}}"
      ]
     },
     "execution_count": 2,
     "metadata": {},
     "output_type": "execute_result"
    }
   ],
   "source": [
    "test.model.variables_generation()\n",
    "test.model.variables\n"
   ]
  },
  {
   "cell_type": "code",
   "execution_count": 11,
   "metadata": {},
   "outputs": [
    {
     "data": {
      "text/plain": [
       "{'v': {'s_Name': ['Reference'],\n",
       "  'dt_Name': [2023, 2024],\n",
       "  't_Name': ['Gas power plant', 'PV power plant', 'Steel factory'],\n",
       "  'f_Name': ['Energy, gas', 'Steel', 'Energy, PV']},\n",
       " 'u': {'s_Name': ['Reference'],\n",
       "  'dt_Name': [2023, 2024],\n",
       "  'f_Name': ['Energy', 'Steel'],\n",
       "  't_Name': ['Gas power plant', 'PV power plant', 'Steel factory']},\n",
       " 'Y': {'s_Name': ['Reference'],\n",
       "  'dt_Name': [2023, 2024],\n",
       "  'f_Name': ['Energy', 'Steel'],\n",
       "  't_Name': ['Final demand']},\n",
       " 'Q': {'s_Name': ['Reference'],\n",
       "  'dt_Name': [2023, 2024],\n",
       "  'f_Name': ['Energy', 'Steel']},\n",
       " 'X': {'s_Name': ['Reference'],\n",
       "  'dt_Name': [2023, 2024],\n",
       "  't_Name': ['Gas power plant', 'PV power plant', 'Steel factory']}}"
      ]
     },
     "execution_count": 11,
     "metadata": {},
     "output_type": "execute_result"
    }
   ],
   "source": [
    "test.model.database.coordinates"
   ]
  },
  {
   "cell_type": "code",
   "execution_count": 21,
   "metadata": {},
   "outputs": [
    {
     "name": "stdout",
     "output_type": "stream",
     "text": [
      "{'coordinates': {'datetime': 'all',\n",
      "                 'flows': {'set_categories': 'f.p'},\n",
      "                 'scenarios': 'all',\n",
      "                 'technologies': {'set_categories': 't.s'}},\n",
      " 'name': 'make coefficients matrix',\n",
      " 'set_headers': 'name',\n",
      " 'shape': ['technologies', 'flows'],\n",
      " 'symbol': 'v',\n",
      " 'type': 'exogenous',\n",
      " 'var_dict_hierarchy': None}\n"
     ]
    }
   ],
   "source": [
    "from src.util.util import prettify\n",
    "prettify(test.model.database.variables_info['v'])"
   ]
  },
  {
   "cell_type": "code",
   "execution_count": null,
   "metadata": {},
   "outputs": [],
   "source": [
    "test.model.database.sets_structure"
   ]
  },
  {
   "cell_type": "code",
   "execution_count": null,
   "metadata": {},
   "outputs": [],
   "source": [
    "test.model.database.sets"
   ]
  },
  {
   "cell_type": "code",
   "execution_count": 10,
   "metadata": {},
   "outputs": [
    {
     "name": "stderr",
     "output_type": "stream",
     "text": [
      "DEBUG | Interface.model.database.sql_manager | Connection to 'database.db' opened.\n",
      "DEBUG | Interface.model.database.sql_manager | Connection to 'database.db' closed.\n"
     ]
    },
    {
     "data": {
      "text/html": [
       "<div>\n",
       "<style scoped>\n",
       "    .dataframe tbody tr th:only-of-type {\n",
       "        vertical-align: middle;\n",
       "    }\n",
       "\n",
       "    .dataframe tbody tr th {\n",
       "        vertical-align: top;\n",
       "    }\n",
       "\n",
       "    .dataframe thead th {\n",
       "        text-align: right;\n",
       "    }\n",
       "</style>\n",
       "<table border=\"1\" class=\"dataframe\">\n",
       "  <thead>\n",
       "    <tr style=\"text-align: right;\">\n",
       "      <th></th>\n",
       "      <th>id</th>\n",
       "      <th>s_Name</th>\n",
       "      <th>dt_Name</th>\n",
       "      <th>t_Name</th>\n",
       "      <th>f_Name</th>\n",
       "      <th>values</th>\n",
       "    </tr>\n",
       "  </thead>\n",
       "  <tbody>\n",
       "    <tr>\n",
       "      <th>0</th>\n",
       "      <td>0</td>\n",
       "      <td>Reference</td>\n",
       "      <td>2023</td>\n",
       "      <td>Gas power plant</td>\n",
       "      <td>Steel</td>\n",
       "      <td>1.0</td>\n",
       "    </tr>\n",
       "    <tr>\n",
       "      <th>1</th>\n",
       "      <td>3</td>\n",
       "      <td>Reference</td>\n",
       "      <td>2023</td>\n",
       "      <td>PV power plant</td>\n",
       "      <td>Steel</td>\n",
       "      <td>4.0</td>\n",
       "    </tr>\n",
       "    <tr>\n",
       "      <th>2</th>\n",
       "      <td>6</td>\n",
       "      <td>Reference</td>\n",
       "      <td>2023</td>\n",
       "      <td>Steel factory</td>\n",
       "      <td>Steel</td>\n",
       "      <td>7.0</td>\n",
       "    </tr>\n",
       "  </tbody>\n",
       "</table>\n",
       "</div>"
      ],
      "text/plain": [
       "   id     s_Name dt_Name           t_Name f_Name  values\n",
       "0   0  Reference    2023  Gas power plant  Steel     1.0\n",
       "1   3  Reference    2023   PV power plant  Steel     4.0\n",
       "2   6  Reference    2023    Steel factory  Steel     7.0"
      ]
     },
     "execution_count": 10,
     "metadata": {},
     "output_type": "execute_result"
    }
   ],
   "source": [
    "test.model.database.sqltools.open_connection()\n",
    "\n",
    "var = test.model.database.sqltools.filtered_table_to_dataframe(\n",
    "    table_name='v',\n",
    "    filters_dict={\n",
    "        's_Name': ['Reference'],\n",
    "        'dt_Name': [2023],\n",
    "        't_Name': ['Gas power plant'],\n",
    "        'f_Name': ['Steel']\n",
    "    }\n",
    ")\n",
    "\n",
    "filter_1 = test.model.database.sqltools.get_related_table_keys(\n",
    "    parent_table_name='_set_FLOWS',\n",
    "    child_column_name='f_Name',\n",
    "    parent_table_fields={\n",
    "        'f_Category': ['Product flow'],\n",
    "    }\n",
    ")\n",
    "\n",
    "filter_2 = test.model.database.sqltools.get_related_table_keys(\n",
    "    parent_table_name='_set_DATETIME',\n",
    "    child_column_name='dt_Name',\n",
    "    parent_table_fields={\n",
    "        'dt_Name': [2023],\n",
    "    }\n",
    ")\n",
    "\n",
    "var_custom_filter = test.model.database.sqltools.filtered_table_to_dataframe(\n",
    "    table_name='v',\n",
    "    filters_dict={\n",
    "        **filter_1,\n",
    "        **filter_2,\n",
    "        **{'f_Name': ['Steel']},\n",
    "    }\n",
    ")\n",
    "\n",
    "test.model.database.sqltools.close_connection()\n",
    "\n",
    "# filter_1, filter_2\n",
    "var_custom_filter"
   ]
  },
  {
   "cell_type": "code",
   "execution_count": null,
   "metadata": {},
   "outputs": [],
   "source": [
    "# delete all the information included in the model data folder, if necessary\n",
    "test.model.model_dir_cleanup()"
   ]
  }
 ],
 "metadata": {
  "kernelspec": {
   "display_name": "esm_dev",
   "language": "python",
   "name": "python3"
  },
  "language_info": {
   "codemirror_mode": {
    "name": "ipython",
    "version": 3
   },
   "file_extension": ".py",
   "mimetype": "text/x-python",
   "name": "python",
   "nbconvert_exporter": "python",
   "pygments_lexer": "ipython3",
   "version": "3.9.18"
  },
  "orig_nbformat": 4
 },
 "nbformat": 4,
 "nbformat_minor": 2
}
