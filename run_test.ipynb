{
 "cells": [
  {
   "attachments": {},
   "cell_type": "markdown",
   "metadata": {
    "slideshow": {
     "slide_type": "slide"
    }
   },
   "source": [
    "# pyESM WORKFLOW"
   ]
  },
  {
   "cell_type": "markdown",
   "metadata": {
    "slideshow": {
     "slide_type": "slide"
    }
   },
   "source": [
    "CASE A \n",
    "\n",
    "Generation of a new model from scratch, including database and data input\n",
    "\n",
    "(settings -> use_existing_database: False)"
   ]
  },
  {
   "cell_type": "code",
   "execution_count": 1,
   "metadata": {},
   "outputs": [
    {
     "name": "stderr",
     "output_type": "stream",
     "text": [
      "INFO | Model | 'Model' object initialization...\n",
      "INFO | Model.file_manager | 'FileManager' object generated.\n",
      "INFO | Model | 'Model' object: loading settings.\n",
      "DEBUG | Model.file_manager | File 'settings.yml' loaded.\n",
      "INFO | Model | 'Model' object: loading paths from settings.\n",
      "INFO | Model.core | 'Core' object initialization...\n",
      "WARNING | Model.file_manager | Directory 'test_case_1' already exists.\n",
      "DEBUG | Model.file_manager | Directory 'test_case_1' overwritten.\n",
      "INFO | Model.core.sql_manager | 'SQLManager' object Generated.\n",
      "INFO | Model.core.index | 'Index' object initialization...\n",
      "DEBUG | Model.core.index | Loading variables table headers and label headers to Index.\n",
      "INFO | Model.core.index | 'Index' object initialized.\n",
      "INFO | Model.core.database | 'Database' object initialization...\n",
      "DEBUG | Model.core.sql_manager | Connection to 'database.db' opened.\n",
      "DEBUG | Model.core.sql_manager | SQLite table '_set_SCENARIOS' - created.\n",
      "DEBUG | Model.core.sql_manager | SQLite table '_set_SCENARIOS' - exported to sets.xlsx.\n",
      "DEBUG | Model.core.sql_manager | SQLite table '_set_DATETIME' - created.\n",
      "DEBUG | Model.core.sql_manager | SQLite table '_set_DATETIME' - exported to sets.xlsx.\n",
      "DEBUG | Model.core.sql_manager | SQLite table '_set_TECHNOLOGIES' - created.\n",
      "DEBUG | Model.core.sql_manager | SQLite table '_set_TECHNOLOGIES' - exported to sets.xlsx.\n",
      "DEBUG | Model.core.sql_manager | SQLite table '_set_FLOWS' - created.\n",
      "DEBUG | Model.core.sql_manager | SQLite table '_set_FLOWS' - exported to sets.xlsx.\n",
      "DEBUG | Model.core.sql_manager | Connection to 'database.db' closed.\n",
      "INFO | Model.core.database | 'Database' object initialized.\n",
      "INFO | Model.core.problem | 'Problem' object initialization...\n",
      "INFO | Model.core.problem | 'Problem' object initialized.\n",
      "INFO | Model.core | 'Core' initialized.\n",
      "INFO | Model | 'Model' object initialized.\n"
     ]
    }
   ],
   "source": [
    "# Create an instance of Model class based on the model settings.\n",
    "# This generates the model's set input file/s to be filled \n",
    "# and the blank SQL database.\n",
    "from src.frontend.model import Model\n",
    "\n",
    "test = Model(\n",
    "    log_level='debug',\n",
    "    log_format='minimal',\n",
    ")"
   ]
  },
  {
   "cell_type": "code",
   "execution_count": 2,
   "metadata": {},
   "outputs": [
    {
     "name": "stderr",
     "output_type": "stream",
     "text": [
      "INFO | Model.core.index | 'Index' object: loading new Sets to Index.\n",
      "DEBUG | Model.file_manager | Excel file 'sets.xlsx' loaded.\n",
      "DEBUG | Model.core.sql_manager | Connection to 'database.db' opened.\n",
      "INFO | Model.core.database | 'Database' object: loading Sets.\n",
      "DEBUG | Model.core.sql_manager | SQLite table '_set_SCENARIOS' - 1 entries added.\n",
      "DEBUG | Model.core.sql_manager | SQLite table '_set_DATETIME' - 2 entries added.\n",
      "DEBUG | Model.core.sql_manager | SQLite table '_set_TECHNOLOGIES' - 4 entries added.\n",
      "DEBUG | Model.core.sql_manager | SQLite table '_set_FLOWS' - 4 entries added.\n",
      "DEBUG | Model.core.sql_manager | Connection to 'database.db' closed.\n"
     ]
    }
   ],
   "source": [
    "# load model sets from the xlsx files filled by the user\n",
    "# Note: data validation in excel according to the constant file is envisaged\n",
    "test.load_model_sets()"
   ]
  },
  {
   "cell_type": "code",
   "execution_count": 4,
   "metadata": {},
   "outputs": [
    {
     "name": "stderr",
     "output_type": "stream",
     "text": [
      "DEBUG | Model.core.sql_manager | Connection to 'database.db' opened.\n",
      "INFO | Model.core.database | Generation of empty SQLite database.\n",
      "DEBUG | Model.core.index | Loading variables coordinates to Index.\n",
      "DEBUG | Model.core.index | Loading foreign keys to Index.\n",
      "DEBUG | Model.core.sql_manager | SQLite table 'v' already exists.\n",
      "DEBUG | Model.core.sql_manager | SQLite 'v' - deleted.\n",
      "DEBUG | Model.core.sql_manager | SQLite table 'v' - created with foreign keys.\n",
      "DEBUG | Model.core.sql_manager | SQLite table 'v' - 18 entries added.\n",
      "DEBUG | Model.core.sql_manager | Column 'values' added to table 'v'.\n",
      "DEBUG | Model.core.sql_manager | SQLite table 'u' - created with foreign keys.\n",
      "DEBUG | Model.core.sql_manager | SQLite table 'u' - 12 entries added.\n",
      "DEBUG | Model.core.sql_manager | Column 'values' added to table 'u'.\n",
      "DEBUG | Model.core.sql_manager | SQLite table 'Y' - created with foreign keys.\n",
      "DEBUG | Model.core.sql_manager | SQLite table 'Y' - 4 entries added.\n",
      "DEBUG | Model.core.sql_manager | Column 'values' added to table 'Y'.\n",
      "DEBUG | Model.core.sql_manager | SQLite table 'Q' - created with foreign keys.\n",
      "DEBUG | Model.core.sql_manager | SQLite table 'Q' - 4 entries added.\n",
      "DEBUG | Model.core.sql_manager | Column 'values' added to table 'Q'.\n",
      "DEBUG | Model.core.sql_manager | SQLite table 'X' - created with foreign keys.\n",
      "DEBUG | Model.core.sql_manager | SQLite table 'X' - 6 entries added.\n",
      "DEBUG | Model.core.sql_manager | Column 'values' added to table 'X'.\n",
      "DEBUG | Model.core.sql_manager | Connection to 'database.db' closed.\n",
      "DEBUG | Model.core.sql_manager | Connection to 'database.db' opened.\n",
      "INFO | Model.core.database | Generation of data input file/s.\n",
      "DEBUG | Model.file_manager | Directory 'input_data' created.\n",
      "DEBUG | Model.core.sql_manager | SQLite table 'v' - exported to input_data.xlsx.\n",
      "DEBUG | Model.core.sql_manager | SQLite table 'u' - exported to input_data.xlsx.\n",
      "DEBUG | Model.core.sql_manager | SQLite table 'Y' - exported to input_data.xlsx.\n",
      "DEBUG | Model.core.sql_manager | Connection to 'database.db' closed.\n"
     ]
    }
   ],
   "source": [
    "# Once sets has compiled in excel and loaded in the database, \n",
    "# blank database is generated.\n",
    "# Note: an error is raised at the first launch of the method, \n",
    "# disappearing the second run.\n",
    "test.generate_blank_database()"
   ]
  },
  {
   "cell_type": "code",
   "execution_count": 5,
   "metadata": {},
   "outputs": [
    {
     "name": "stderr",
     "output_type": "stream",
     "text": [
      "DEBUG | Model.core.sql_manager | Connection to 'database.db' opened.\n",
      "INFO | Model.core.database | Loading data input file/s filled by the user to SQLite database.\n",
      "DEBUG | Model.file_manager | Excel file 'input_data.xlsx' loaded.\n",
      "DEBUG | Model.core.sql_manager | 18 rows deleted from table 'v'\n",
      "DEBUG | Model.core.sql_manager | SQLite table 'v' - 18 entries added.\n",
      "DEBUG | Model.core.sql_manager | 12 rows deleted from table 'u'\n",
      "DEBUG | Model.core.sql_manager | SQLite table 'u' - 12 entries added.\n",
      "DEBUG | Model.core.sql_manager | 4 rows deleted from table 'Y'\n",
      "DEBUG | Model.core.sql_manager | SQLite table 'Y' - 4 entries added.\n",
      "DEBUG | Model.core.sql_manager | Connection to 'database.db' closed.\n"
     ]
    }
   ],
   "source": [
    "# Load input file/s data into the sql database.\n",
    "# Can be used to update data in the sql database without generating a new \n",
    "# Model instance\n",
    "test.load_data_files_to_database()"
   ]
  },
  {
   "cell_type": "markdown",
   "metadata": {},
   "source": [
    "CASE B \n",
    "\n",
    "Generation of a new model working with existing database and data input files.\n",
    "\n",
    "(settings -> use_existing_database: True)"
   ]
  },
  {
   "cell_type": "code",
   "execution_count": null,
   "metadata": {},
   "outputs": [],
   "source": [
    "# Generating a Model instance referring to existing model folder and input data.\n",
    "from src.frontend.model import Model\n",
    "\n",
    "test = Model(\n",
    "    log_level='debug',\n",
    "    log_format='minimal',\n",
    ")\n",
    "\n",
    "test.load_model_sets()"
   ]
  },
  {
   "cell_type": "code",
   "execution_count": null,
   "metadata": {},
   "outputs": [],
   "source": [
    "# In case it is needed, update data without re-generate a new instance of Model class.\n",
    "test.load_data_files_to_database()"
   ]
  },
  {
   "cell_type": "markdown",
   "metadata": {},
   "source": [
    "TESTS ---"
   ]
  },
  {
   "cell_type": "code",
   "execution_count": 6,
   "metadata": {},
   "outputs": [
    {
     "data": {
      "text/plain": [
       "symbol: t\n",
       "table_name: _set_TECHNOLOGIES\n",
       "table_headers: {'id': ['t_ID', 'INTEGER PRIMARY KEY'], 'name': ['t_Name', 'TEXT'], 'category': ['t_Category', 'TEXT']}\n",
       "set_categories: {'t.s': 'Supply technology', 't.d': 'Demand technology'}\n",
       "values:    t_ID           t_Name         t_Category\n",
       "0     0    Steel factory  Supply technology\n",
       "1     1  Gas power plant  Supply technology\n",
       "2     2   PV power plant  Supply technology\n",
       "3     3     Final demand  Demand technology"
      ]
     },
     "execution_count": 6,
     "metadata": {},
     "output_type": "execute_result"
    }
   ],
   "source": [
    "test.core.index.sets.technologies"
   ]
  },
  {
   "cell_type": "code",
   "execution_count": 11,
   "metadata": {},
   "outputs": [
    {
     "data": {
      "text/plain": [
       "symbol: u\n",
       "name: use coefficients matrix\n",
       "type: exogenous\n",
       "set_headers_key: name\n",
       "coordinates_info: {'scenarios': None, 'datetime': None, 'flows': {'set_categories': 'f.p', 'aggregation_key': 'competition'}, 'technologies': {'set_categories': 't.s'}}\n",
       "var_dict_hierarchy: None\n",
       "shape: ['flows', 'technologies']\n",
       "variable_fields: {'scenarios': ['s_Name', 'TEXT'], 'datetime': ['dt_Name', 'TEXT'], 'flows': ['f_Name', 'TEXT'], 'technologies': ['t_Name', 'TEXT']}\n",
       "table_headers: {'id': ['id', 'INTEGER PRIMARY KEY'], 'scenarios': ['s_Name', 'TEXT'], 'datetime': ['dt_Name', 'TEXT'], 'flows': ['f_Name', 'TEXT'], 'technologies': ['t_Name', 'TEXT']}\n",
       "coordinates: {'scenarios': ['Reference'], 'datetime': [2023, 2024], 'flows': ['Energy', 'Steel'], 'technologies': ['Steel factory', 'PV power plant', 'Gas power plant']}\n",
       "foreign_keys: {'s_Name': ('s_Name', '_set_SCENARIOS'), 'dt_Name': ('dt_Name', '_set_DATETIME'), 'f_Name': ('f_Name', '_set_FLOWS'), 't_Name': ('t_Name', '_set_TECHNOLOGIES')}"
      ]
     },
     "execution_count": 11,
     "metadata": {},
     "output_type": "execute_result"
    }
   ],
   "source": [
    "test.core.index.variables.u"
   ]
  },
  {
   "cell_type": "code",
   "execution_count": null,
   "metadata": {},
   "outputs": [],
   "source": [
    "test.model.database.sqltools.open_connection()\n",
    "\n",
    "var = test.model.database.sqltools.filtered_table_to_dataframe(\n",
    "    table_name='v',\n",
    "    filters_dict={\n",
    "        's_Name': ['Reference'],\n",
    "        'dt_Name': [2023],\n",
    "        't_Name': ['Gas power plant'],\n",
    "        'f_Name': ['Steel']\n",
    "    }\n",
    ")\n",
    "\n",
    "filter_1 = test.model.database.sqltools.get_related_table_keys(\n",
    "    parent_table_name='_set_FLOWS',\n",
    "    child_column_name='f_Name',\n",
    "    parent_table_fields={\n",
    "        'f_Category': ['Product flow'],\n",
    "    }\n",
    ")\n",
    "\n",
    "filter_2 = test.model.database.sqltools.get_related_table_keys(\n",
    "    parent_table_name='_set_DATETIME',\n",
    "    child_column_name='dt_Name',\n",
    "    parent_table_fields={\n",
    "        'dt_Name': [2023],\n",
    "    }\n",
    ")\n",
    "\n",
    "var_custom_filter = test.model.database.sqltools.filtered_table_to_dataframe(\n",
    "    table_name='v',\n",
    "    filters_dict={\n",
    "        **filter_1,\n",
    "        **filter_2,\n",
    "        **{'f_Name': ['Steel']},\n",
    "    }\n",
    ")\n",
    "\n",
    "test.model.database.sqltools.close_connection()\n",
    "\n",
    "# filter_1, filter_2\n",
    "var_custom_filter"
   ]
  },
  {
   "cell_type": "code",
   "execution_count": null,
   "metadata": {},
   "outputs": [],
   "source": [
    "# delete all the information included in the model data folder, if necessary\n",
    "test.core.model_dir_cleanup()"
   ]
  }
 ],
 "metadata": {
  "kernelspec": {
   "display_name": "esm_dev",
   "language": "python",
   "name": "python3"
  },
  "language_info": {
   "codemirror_mode": {
    "name": "ipython",
    "version": 3
   },
   "file_extension": ".py",
   "mimetype": "text/x-python",
   "name": "python",
   "nbconvert_exporter": "python",
   "pygments_lexer": "ipython3",
   "version": "3.9.18"
  },
  "orig_nbformat": 4
 },
 "nbformat": 4,
 "nbformat_minor": 2
}
