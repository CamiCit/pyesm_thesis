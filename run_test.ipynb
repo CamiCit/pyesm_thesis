{
 "cells": [
  {
   "attachments": {},
   "cell_type": "markdown",
   "metadata": {},
   "source": [
    "pyESM WORKFLOW"
   ]
  },
  {
   "cell_type": "code",
   "execution_count": 1,
   "metadata": {},
   "outputs": [
    {
     "name": "stderr",
     "output_type": "stream",
     "text": [
      "INFO | Interface | 'Interface' object initialization...\n",
      "INFO | Interface.file_manager | 'FileManager' object generated.\n",
      "INFO | Interface | 'Interface' object: loading settings.\n",
      "DEBUG | Interface.file_manager | File 'settings.yml' loaded.\n",
      "INFO | Interface | 'Interface' object: loading paths from settings.\n",
      "INFO | Interface.model | 'Model' object initialization...\n",
      "WARNING | Interface.file_manager | Directory 'test_case_1' already exists.\n",
      "DEBUG | Interface.file_manager | Directory 'test_case_1' not overwritten.\n",
      "INFO | Interface.model.sql_manager | 'SQLManager' object initialization...\n",
      "INFO | Interface.model.sql_manager | 'SQLManager' object initialized.\n",
      "INFO | Interface.model.index | 'Index' object initialization...\n",
      "DEBUG | Interface.model.index | Loading variables table headers and label headers to Index.\n",
      "INFO | Interface.model.index | 'Index' object initialized.\n",
      "INFO | Interface.model.database | 'Database' object initialization...\n",
      "INFO | Interface.model.database | 'Database' object initialized.\n",
      "INFO | Interface.model.problem | 'Problem' object initialization...\n",
      "INFO | Interface.model.problem | 'Problem' object initialized.\n",
      "INFO | Interface.model | 'Model' initialized.\n",
      "INFO | Interface | 'Interface' object initialized.\n"
     ]
    }
   ],
   "source": [
    "# create an instance of Interface class\n",
    "# based on the model settings, this generates the model's input files to be filled\n",
    "# and the blank SQL database\n",
    "\n",
    "from src.frontend.interface import Interface\n",
    "\n",
    "test = Interface(\n",
    "    log_level='debug',\n",
    "    log_format='minimal',\n",
    ")"
   ]
  },
  {
   "cell_type": "code",
   "execution_count": null,
   "metadata": {},
   "outputs": [],
   "source": [
    "# load model sets from the xlsx files filled by the user\n",
    "# (data validation in excel according to the constant file is envisaged)\n",
    "test.load_sets()"
   ]
  },
  {
   "cell_type": "code",
   "execution_count": null,
   "metadata": {},
   "outputs": [],
   "source": [
    "# once sets has compiled in excel and loaded in the database, blank database \n",
    "# is generated\n",
    "test.generate_blank_sql_database()"
   ]
  },
  {
   "cell_type": "code",
   "execution_count": null,
   "metadata": {},
   "outputs": [],
   "source": [
    "# generate input files to filled by the user\n",
    "test.generate_blank_data_input_files()"
   ]
  },
  {
   "cell_type": "code",
   "execution_count": 3,
   "metadata": {},
   "outputs": [
    {
     "name": "stderr",
     "output_type": "stream",
     "text": [
      "DEBUG | Interface.model.sql_manager | Connection to 'database.db' opened.\n",
      "INFO | Interface.model.database | Loading data input file/s filled by the user.\n",
      "DEBUG | Interface.file_manager | Excel file 'input_data.xlsx' loaded.\n",
      "DEBUG | Interface.model.sql_manager | 18 rows deleted from table 'v'\n",
      "DEBUG | Interface.model.sql_manager | SQLite table 'v' - 18 entries added.\n",
      "DEBUG | Interface.model.sql_manager | 12 rows deleted from table 'u'\n",
      "DEBUG | Interface.model.sql_manager | SQLite table 'u' - 12 entries added.\n",
      "DEBUG | Interface.model.sql_manager | 4 rows deleted from table 'Y'\n",
      "DEBUG | Interface.model.sql_manager | SQLite table 'Y' - 4 entries added.\n",
      "DEBUG | Interface.model.sql_manager | Connection to 'database.db' closed.\n"
     ]
    }
   ],
   "source": [
    "# load input file/s data into the sql database\n",
    "test.load_data_files_to_database()"
   ]
  },
  {
   "cell_type": "code",
   "execution_count": null,
   "metadata": {},
   "outputs": [],
   "source": [
    "test.model.index.sets.technologies"
   ]
  },
  {
   "cell_type": "code",
   "execution_count": 2,
   "metadata": {},
   "outputs": [
    {
     "data": {
      "text/plain": [
       "symbol: v\n",
       "name: make coefficients matrix\n",
       "type: exogenous\n",
       "set_headers_key: name\n",
       "coordinates_info: {'scenarios': None, 'datetime': None, 'technologies': {'set_categories': 't.s'}, 'flows': {'set_categories': 'f.p'}}\n",
       "var_dict_hierarchy: None\n",
       "shape: ['technologies', 'flows']\n",
       "variable_fields: {'scenarios': ['s_Name', 'TEXT'], 'datetime': ['dt_Name', 'TEXT'], 'technologies': ['t_Name', 'TEXT'], 'flows': ['f_Name', 'TEXT']}\n",
       "table_headers: {}\n",
       "coordinates: {}\n",
       "foreign_keys: {}"
      ]
     },
     "execution_count": 2,
     "metadata": {},
     "output_type": "execute_result"
    }
   ],
   "source": [
    "test.model.index.variables.v"
   ]
  },
  {
   "cell_type": "code",
   "execution_count": null,
   "metadata": {},
   "outputs": [],
   "source": [
    "# use this to start from existing database\n",
    "from src.frontend.interface import Interface\n",
    "\n",
    "test = Interface(\n",
    "    log_level='debug',\n",
    "    log_format='minimal',\n",
    "    log_file_name='model_test.log',\n",
    ")\n",
    "\n",
    "test.warm_start_for_debug()"
   ]
  },
  {
   "cell_type": "code",
   "execution_count": null,
   "metadata": {},
   "outputs": [],
   "source": [
    "test.model.variables_generation()\n",
    "test.model.variables\n"
   ]
  },
  {
   "cell_type": "code",
   "execution_count": null,
   "metadata": {},
   "outputs": [],
   "source": [
    "from src.util.util import prettify\n",
    "prettify(test.model.database.coordinates)"
   ]
  },
  {
   "cell_type": "code",
   "execution_count": null,
   "metadata": {},
   "outputs": [],
   "source": [
    "from src.util.util import prettify\n",
    "prettify(test.model.database.variables_info['v'])"
   ]
  },
  {
   "cell_type": "code",
   "execution_count": null,
   "metadata": {},
   "outputs": [],
   "source": [
    "test.model.database.sets_structure"
   ]
  },
  {
   "cell_type": "code",
   "execution_count": null,
   "metadata": {},
   "outputs": [],
   "source": [
    "test.model.database.sets"
   ]
  },
  {
   "cell_type": "code",
   "execution_count": null,
   "metadata": {},
   "outputs": [],
   "source": [
    "test.model.database.sqltools.open_connection()\n",
    "\n",
    "var = test.model.database.sqltools.filtered_table_to_dataframe(\n",
    "    table_name='v',\n",
    "    filters_dict={\n",
    "        's_Name': ['Reference'],\n",
    "        'dt_Name': [2023],\n",
    "        't_Name': ['Gas power plant'],\n",
    "        'f_Name': ['Steel']\n",
    "    }\n",
    ")\n",
    "\n",
    "filter_1 = test.model.database.sqltools.get_related_table_keys(\n",
    "    parent_table_name='_set_FLOWS',\n",
    "    child_column_name='f_Name',\n",
    "    parent_table_fields={\n",
    "        'f_Category': ['Product flow'],\n",
    "    }\n",
    ")\n",
    "\n",
    "filter_2 = test.model.database.sqltools.get_related_table_keys(\n",
    "    parent_table_name='_set_DATETIME',\n",
    "    child_column_name='dt_Name',\n",
    "    parent_table_fields={\n",
    "        'dt_Name': [2023],\n",
    "    }\n",
    ")\n",
    "\n",
    "var_custom_filter = test.model.database.sqltools.filtered_table_to_dataframe(\n",
    "    table_name='v',\n",
    "    filters_dict={\n",
    "        **filter_1,\n",
    "        **filter_2,\n",
    "        **{'f_Name': ['Steel']},\n",
    "    }\n",
    ")\n",
    "\n",
    "test.model.database.sqltools.close_connection()\n",
    "\n",
    "# filter_1, filter_2\n",
    "var_custom_filter"
   ]
  },
  {
   "cell_type": "code",
   "execution_count": null,
   "metadata": {},
   "outputs": [],
   "source": [
    "# delete all the information included in the model data folder, if necessary\n",
    "test.model.model_dir_cleanup()"
   ]
  }
 ],
 "metadata": {
  "kernelspec": {
   "display_name": "esm_dev",
   "language": "python",
   "name": "python3"
  },
  "language_info": {
   "codemirror_mode": {
    "name": "ipython",
    "version": 3
   },
   "file_extension": ".py",
   "mimetype": "text/x-python",
   "name": "python",
   "nbconvert_exporter": "python",
   "pygments_lexer": "ipython3",
   "version": "3.9.18"
  },
  "orig_nbformat": 4
 },
 "nbformat": 4,
 "nbformat_minor": 2
}
