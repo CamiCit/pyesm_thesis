{
 "cells": [
  {
   "cell_type": "markdown",
   "metadata": {},
   "source": [
    "## Python based Input-Output Modelling System (pyESM)\n",
    "Change in input data only "
   ]
  },
  {
   "cell_type": "code",
   "execution_count": null,
   "metadata": {},
   "outputs": [],
   "source": [
    "# Generate model instance based on existing data\n",
    "# If existing data are used, model coordinates are loaded and numerical problem\n",
    "# initialized (model ready to be run)\n",
    "import esm\n",
    "main_dir_path = 'tesi_camilla/casi_MarioU'\n",
    "\n",
    "for city in ['Siracusa','Roma','Milano']:\n",
    "    model_dir_name = city\n",
    "\n",
    "    model = esm.Model(\n",
    "        model_dir_name=model_dir_name,\n",
    "        main_dir_path=main_dir_path,\n",
    "        use_existing_data=True,\n",
    "        log_level='info',\n",
    "    )\n",
    "\n",
    "    #Data update\n",
    "    model.update_database_and_problem(force_overwrite=True)\n",
    "\n",
    "    #Solve numerical problems\n",
    "    model.run_model(verbose=False, solver='GUROBI')\n",
    "\n",
    "    # once model has successfully solved, load endogenous parameters data to \n",
    "    # sqlite database and generate powerbi dataset.\n",
    "    model.load_results_to_database()\n"
   ]
  }
 ],
 "metadata": {
  "kernelspec": {
   "display_name": "esm_dev",
   "language": "python",
   "name": "python3"
  },
  "language_info": {
   "codemirror_mode": {
    "name": "ipython",
    "version": 3
   },
   "file_extension": ".py",
   "mimetype": "text/x-python",
   "name": "python",
   "nbconvert_exporter": "python",
   "pygments_lexer": "ipython3",
   "version": "3.12.4"
  },
  "orig_nbformat": 4
 },
 "nbformat": 4,
 "nbformat_minor": 2
}
