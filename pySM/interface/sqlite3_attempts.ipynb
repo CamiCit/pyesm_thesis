{
 "cells": [
  {
   "cell_type": "code",
   "execution_count": 1,
   "metadata": {},
   "outputs": [],
   "source": [
    "import sqlite3\n",
    "import datetime as dt\n",
    "import pandas as pd\n",
    "\n",
    "class Database:\n",
    "\n",
    "    def __init__(self, db_name):\n",
    "        self.db_name = db_name\n",
    "        self.connection = sqlite3.connect(f'{self.db_name}')\n",
    "        self.cursor = self.connection.cursor()\n",
    "\n",
    "    def create_table(\n",
    "            self,\n",
    "            table_name: str,\n",
    "            table_fields: dict,\n",
    "    ):\n",
    "        fields_str = \", \".join(\n",
    "            [f'{field_name} {field_type}' \n",
    "            for field_name, field_type in table_fields.items()]\n",
    "        )\n",
    "        query = f'CREATE TABLE [IF NOT EXISTS] {table_name}({fields_str})'\n",
    "        \n",
    "        try:\n",
    "            while self.connection:\n",
    "                self.cursor.execute(query)\n",
    "                self.connection.commit()\n",
    "        except sqlite3.OperationalError as error:\n",
    "            if str(error).startswith(f'table {table_name} already exists'):\n",
    "                raise sqlite3.OperationalError(f'Table {table_name} already exists')\n",
    "            else:\n",
    "                raise error\n",
    "\n",
    "    def insert_data(\n",
    "            self,\n",
    "            destination_table: str,\n",
    "            data: 'pd.DataFrame'\n",
    "    ):\n",
    "        fields = \", \".join(data.columns)\n",
    "        values = [tuple(row) for row in data.values] \n",
    "        query = f'INSERT INTO {destination_table}({fields}) VALUES ({\", \".join([\"?\"]*len(data.columns))})'\n",
    "\n",
    "        while self.connection:\n",
    "            self.cursor.executemany(query, values)\n",
    "            self.connection.commit()\n",
    "\n",
    "    def delete_data(\n",
    "            self,\n",
    "            destination_table: str,\n",
    "            data: 'pd.DataFrame'\n",
    "    ):\n",
    "        fields = \", \".join(data.columns)\n",
    "        values = [tuple(row) for row in data.values] \n",
    "        query = f'DELETE FROM {destination_table}({fields}) VALUES ({\", \".join([\"?\"]*len(data.columns))})'\n",
    "\n",
    "        while self.connection:\n",
    "            self.cursor.executemany(query, values)\n",
    "            self.connection.commit()\n",
    "\n",
    "    def select_columns(\n",
    "            self,\n",
    "            columns: list,\n",
    "            source: str = 'sqlite_master',\n",
    "            order: str = '',\n",
    "    ):\n",
    "        if order == '':\n",
    "            items_list = \", \".join(columns)\n",
    "            query = f'SELECT {items_list} FROM {source}'\n",
    "        else:\n",
    "            items_list = \", \".join(columns)\n",
    "            query = f'SELECT {items_list} FROM {source} ORDER BY {order}'\n",
    "        \n",
    "        return self.cursor.execute(query).fetchall()\n",
    "\n",
    "    def close_connection(self):\n",
    "        self.connection.close()"
   ]
  },
  {
   "cell_type": "code",
   "execution_count": null,
   "metadata": {},
   "outputs": [],
   "source": [
    "categories_table = 'categories'\n",
    "\n",
    "categories_table_fields = {\n",
    "    'id': 'INTEGER PRIMARY KEY',\n",
    "    'category': 'TEXT'\n",
    "}\n",
    "\n",
    "categories_data = [\n",
    "    (1, 'Commedy'),\n",
    "    (2, 'Tragedy')\n",
    "]\n",
    "\n",
    "categories_data_df = pd.DataFrame(categories_data, columns=list(categories_table_fields.keys()))"
   ]
  },
  {
   "cell_type": "code",
   "execution_count": null,
   "metadata": {},
   "outputs": [],
   "source": [
    "movies_table = 'movies'\n",
    "\n",
    "movies_table_fields = {\n",
    "    'id': 'INTEGER PRIMARY KEY',\n",
    "    'title': 'TEXT',\n",
    "    'category': 'TEXT',\n",
    "    'year': 'DATE',\n",
    "    'score': 'FLOAT'\n",
    "}\n",
    "\n",
    "movies_data = [\n",
    "    (1, 'Monty Python and the Holy Grail', 'Commedy', dt.date(1975, 1, 1), 8.2),\n",
    "    (2, 'And Now for Something Completely Different', 'Tragedy', dt.date(1980, 1, 1), 7.5),\n",
    "    (3, 'Terminator', 'Commedy', dt.date(1975, 1, 1), 10.0),\n",
    "    (4, 'Titanic', 'Tragedy', dt.date(1980, 1, 1), 6.5)\n",
    "]\n",
    "\n",
    "movies_data_df = pd.DataFrame(movies_data, columns=list(movies_table_fields.keys()))"
   ]
  },
  {
   "cell_type": "code",
   "execution_count": null,
   "metadata": {},
   "outputs": [],
   "source": [
    "sql_tools = Database('tutorial.db')"
   ]
  },
  {
   "cell_type": "code",
   "execution_count": null,
   "metadata": {},
   "outputs": [],
   "source": [
    "sql_tools.create_table(\n",
    "    table_name=movies_table,\n",
    "    table_fields=movies_table_fields)\n",
    "\n",
    "sql_tools.create_table(\n",
    "    table_name=categories_table,\n",
    "    table_fields=categories_table_fields)"
   ]
  },
  {
   "cell_type": "code",
   "execution_count": null,
   "metadata": {},
   "outputs": [],
   "source": [
    "sql_tools.insert_data(\n",
    "    destination_table=movies_table,\n",
    "    data=movies_data_df\n",
    ")\n",
    "\n",
    "sql_tools.insert_data(\n",
    "    destination_table=categories_table,\n",
    "    data=categories_data_df\n",
    ")\n"
   ]
  },
  {
   "cell_type": "code",
   "execution_count": null,
   "metadata": {},
   "outputs": [],
   "source": [
    "sql_tools.select_columns(\n",
    "    columns=['id', 'title'],\n",
    "    source=movies_table,\n",
    ")"
   ]
  },
  {
   "cell_type": "code",
   "execution_count": null,
   "metadata": {},
   "outputs": [],
   "source": [
    "sql_tools.close_connection()"
   ]
  },
  {
   "cell_type": "code",
   "execution_count": null,
   "metadata": {},
   "outputs": [],
   "source": [
    "sql_tools.cursor.execute('VACUUM')"
   ]
  },
  {
   "cell_type": "code",
   "execution_count": null,
   "metadata": {},
   "outputs": [],
   "source": []
  }
 ],
 "metadata": {
  "kernelspec": {
   "display_name": "esm_dev",
   "language": "python",
   "name": "python3"
  },
  "language_info": {
   "codemirror_mode": {
    "name": "ipython",
    "version": 3
   },
   "file_extension": ".py",
   "mimetype": "text/x-python",
   "name": "python",
   "nbconvert_exporter": "python",
   "pygments_lexer": "ipython3",
   "version": "3.7.12"
  },
  "orig_nbformat": 4
 },
 "nbformat": 4,
 "nbformat_minor": 2
}
