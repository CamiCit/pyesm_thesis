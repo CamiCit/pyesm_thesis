{
 "cells": [
  {
   "attachments": {},
   "cell_type": "markdown",
   "metadata": {},
   "source": [
    "pySM WORKFLOW"
   ]
  },
  {
   "attachments": {},
   "cell_type": "markdown",
   "metadata": {},
   "source": [
    "step 1\n",
    "- uploading package and generating an instance of the model interface"
   ]
  },
  {
   "cell_type": "code",
   "execution_count": 1,
   "metadata": {},
   "outputs": [
    {
     "name": "stderr",
     "output_type": "stream",
     "text": [
      "INFO - interface - Initializing 'Interface' object... ------------------\n",
      "INFO - interface.file_manager - 'FileManager' object generated.\n",
      "INFO - interface.file_manager - File 'model_settings.json' loaded.\n",
      "INFO - interface - 'Interface' object correctly initialized.\n"
     ]
    }
   ],
   "source": [
    "from interface import Interface\n",
    "test = Interface(\n",
    "    log_level='info',\n",
    "    log_format='minimal')"
   ]
  },
  {
   "attachments": {},
   "cell_type": "markdown",
   "metadata": {},
   "source": [
    "step 2\n",
    "- initialize the model \n",
    "- eventually generate a new model folder with related sets.xlsx blank file"
   ]
  },
  {
   "cell_type": "code",
   "execution_count": 2,
   "metadata": {},
   "outputs": [
    {
     "name": "stderr",
     "output_type": "stream",
     "text": [
      "INFO - interface.model - Generation of 'None' object...\n",
      "INFO - interface.model.database - Generation of 'Database' object...\n",
      "INFO - interface.model.database - 'Database' object generated.\n",
      "INFO - interface.model.problem - Generation of 'Problem' object...\n",
      "INFO - interface.model.problem - 'Problem' object generated.\n",
      "INFO - interface.model - '<pySM.src.model.Model object at 0x0000027E3DB8C908>' generated.\n"
     ]
    },
    {
     "name": "stdout",
     "output_type": "stream",
     "text": [
      "Model\n"
     ]
    }
   ],
   "source": [
    "test.model_init(generate_sets_file=False)"
   ]
  },
  {
   "attachments": {},
   "cell_type": "markdown",
   "metadata": {},
   "source": [
    "step 3\n",
    "- loading filled sets and \n",
    "- generating reference production system xlsx"
   ]
  },
  {
   "cell_type": "code",
   "execution_count": 3,
   "metadata": {},
   "outputs": [
    {
     "name": "stderr",
     "output_type": "stream",
     "text": [
      "INFO - interface.file_manager - Excel file 'sets.xlsx' loaded.\n",
      "INFO - interface.model.database - Sets data properly loaded.\n"
     ]
    }
   ],
   "source": [
    "test.generate_rps()"
   ]
  },
  {
   "cell_type": "code",
   "execution_count": 6,
   "metadata": {},
   "outputs": [
    {
     "data": {
      "text/plain": [
       "'Model'"
      ]
     },
     "execution_count": 6,
     "metadata": {},
     "output_type": "execute_result"
    }
   ],
   "source": [
    "str(test.model)"
   ]
  },
  {
   "cell_type": "code",
   "execution_count": null,
   "metadata": {},
   "outputs": [],
   "source": []
  }
 ],
 "metadata": {
  "kernelspec": {
   "display_name": "esm_dev",
   "language": "python",
   "name": "python3"
  },
  "language_info": {
   "codemirror_mode": {
    "name": "ipython",
    "version": 3
   },
   "file_extension": ".py",
   "mimetype": "text/x-python",
   "name": "python",
   "nbconvert_exporter": "python",
   "pygments_lexer": "ipython3",
   "version": "3.7.12"
  },
  "orig_nbformat": 4
 },
 "nbformat": 4,
 "nbformat_minor": 2
}
