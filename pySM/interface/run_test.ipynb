{
 "cells": [
  {
   "attachments": {},
   "cell_type": "markdown",
   "metadata": {},
   "source": [
    "pySM WORKFLOW"
   ]
  },
  {
   "cell_type": "code",
   "execution_count": 3,
   "metadata": {},
   "outputs": [
    {
     "name": "stderr",
     "output_type": "stream",
     "text": [
      "INFO | Interface | Initializing 'Interface' object.\n",
      "INFO | Interface.file_manager | 'FileManager' object generated.\n",
      "INFO | Interface.model | Generation of 'Model' object.\n",
      "DEBUG | Interface.file_manager | File 'model_settings.json' loaded.\n",
      "DEBUG | Interface.file_manager | Folder 'test_case_1' has created.\n",
      "INFO | Interface.model.database | Generation of 'Database' object.\n",
      "DEBUG | Interface.model.database | Table _set_SCENARIOS created.\n",
      "DEBUG | Interface.model.database | Table _set_SYSTEMS created.\n",
      "DEBUG | Interface.model.database | Table _set_TECHNOLOGIES created.\n",
      "DEBUG | Interface.model.database | Table _set_FLOWS created.\n",
      "DEBUG | Interface.model.database | 'Database' connection closed.\n",
      "DEBUG | Interface.file_manager | Excel file 'sets.xlsx' generated.\n",
      "INFO | Interface.model.database | 'Database' object initialized.\n",
      "INFO | Interface.model.problem | Generation of 'Problem' object.\n",
      "INFO | Interface.model.problem | 'Problem' object generated.\n",
      "INFO | Interface.model | 'Model' generated.\n",
      "INFO | Interface | 'Interface' object correctly initialized.\n"
     ]
    }
   ],
   "source": [
    "from interface import Interface\n",
    "\n",
    "model_test = Interface(\n",
    "    log_format='minimal',\n",
    "    log_level='debug',\n",
    ")"
   ]
  },
  {
   "cell_type": "code",
   "execution_count": 2,
   "metadata": {},
   "outputs": [
    {
     "name": "stderr",
     "output_type": "stream",
     "text": [
      "WARNING | Interface.file_manager | Folder 'test_case_1' have been erased.\n"
     ]
    }
   ],
   "source": [
    "model_test.model_cleanup()"
   ]
  },
  {
   "cell_type": "code",
   "execution_count": null,
   "metadata": {},
   "outputs": [],
   "source": [
    "test.model.database.sets['TECHNOLOGIES']\n",
    "test.model.database.sets['SYSTEMS']"
   ]
  },
  {
   "cell_type": "code",
   "execution_count": null,
   "metadata": {},
   "outputs": [],
   "source": [
    "from pySM.src import util\n",
    "util.find_dict_depth(test.model.database.sets_structure)"
   ]
  },
  {
   "cell_type": "code",
   "execution_count": null,
   "metadata": {},
   "outputs": [],
   "source": [
    "test_dict = test.model.database.sets_structure\n",
    "\n",
    "def dict_to_excel(\n",
    "        dict_name: dict,\n",
    "        file_name: str = None,\n",
    "        table_key: str = None):\n",
    "\n",
    "    if not isinstance(dict_name, dict):\n",
    "        raise ValueError(f'{dict_name} is not a dictionary')\n",
    "\n",
    "    if file_name is None:\n",
    "        for key, value in dict_name.items():\n",
    "            print(f'\\nexcel file name: {key}')\n",
    "            print(f'\\tfile tab name: {table_key}')\n",
    "            print(f'\\t\\ttab content: {value[table_key]}')   \n",
    "    else:\n",
    "        print(f'\\nexcel file name: {file_name}')\n",
    "        for key, value in dict_name.items():\n",
    "            print(f'\\tfile tab: {key}')\n",
    "            print(f'\\t\\ttab content: {value[table_key]}')\n",
    "\n",
    "\n",
    "\n",
    "dict_to_excel(\n",
    "    dict_name=test_dict,\n",
    "    file_name='sets.xlsx',\n",
    "    table_key='Headers')\n",
    "\n",
    "dict_to_excel(\n",
    "    dict_name=test_dict,\n",
    "    file_name=None,\n",
    "    table_key='Headers')"
   ]
  },
  {
   "cell_type": "code",
   "execution_count": null,
   "metadata": {},
   "outputs": [],
   "source": []
  }
 ],
 "metadata": {
  "kernelspec": {
   "display_name": "esm_dev",
   "language": "python",
   "name": "python3"
  },
  "language_info": {
   "codemirror_mode": {
    "name": "ipython",
    "version": 3
   },
   "file_extension": ".py",
   "mimetype": "text/x-python",
   "name": "python",
   "nbconvert_exporter": "python",
   "pygments_lexer": "ipython3",
   "version": "3.7.12"
  },
  "orig_nbformat": 4
 },
 "nbformat": 4,
 "nbformat_minor": 2
}
