{
 "cells": [
  {
   "attachments": {},
   "cell_type": "markdown",
   "metadata": {},
   "source": [
    "pySM WORKFLOW"
   ]
  },
  {
   "cell_type": "code",
   "execution_count": 1,
   "metadata": {},
   "outputs": [
    {
     "name": "stderr",
     "output_type": "stream",
     "text": [
      "INFO | Interface | Initializing 'Interface' object.\n",
      "DEBUG | Interface.file_manager | 'FileManager' object generated.\n",
      "INFO | Interface.model | Generation of 'Model' object.\n",
      "DEBUG | Interface.file_manager | File 'model_settings.json' loaded.\n",
      "WARNING | Interface.file_manager | Folder 'test_case_1' already exists.\n",
      "INFO | Interface.model.database | Generation of 'Database' object.\n",
      "DEBUG | Interface.model.database | Table _set_SCENARIOS created.\n",
      "DEBUG | Interface.model.database | Table _set_SYSTEMS created.\n",
      "DEBUG | Interface.model.database | Table _set_TECHNOLOGIES created.\n",
      "DEBUG | Interface.model.database | Table _set_FLOWS created.\n",
      "WARNING | Interface.file_manager | Excel file 'sets.xlsx' already exists.\n",
      "DEBUG | Interface.file_manager | Excel tab name '_set_SCENARIOS' inserted into sets.xlsx.\n",
      "DEBUG | Interface.file_manager | Excel tab name '_set_SYSTEMS' inserted into sets.xlsx.\n",
      "DEBUG | Interface.file_manager | Excel tab name '_set_TECHNOLOGIES' inserted into sets.xlsx.\n",
      "DEBUG | Interface.file_manager | Excel tab name '_set_FLOWS' inserted into sets.xlsx.\n",
      "WARNING | Interface.file_manager | Excel file 'sets.xlsx' overwritten.\n",
      "INFO | Interface.model.database | 'Database' object initialized.\n",
      "INFO | Interface.model.problem | Generation of 'Problem' object.\n",
      "INFO | Interface.model.problem | 'Problem' object generated.\n",
      "INFO | Interface.model | 'Model' generated.\n",
      "INFO | Interface | 'Interface' object initialized.\n"
     ]
    }
   ],
   "source": [
    "from interface import Interface\n",
    "\n",
    "model_test = Interface(\n",
    "    log_format='minimal',\n",
    "    log_level='debug',\n",
    ")"
   ]
  },
  {
   "cell_type": "code",
   "execution_count": 2,
   "metadata": {},
   "outputs": [
    {
     "name": "stderr",
     "output_type": "stream",
     "text": [
      "WARNING | Interface.file_manager | Excel file 'sets.xlsx' already exists.\n",
      "DEBUG | Interface.file_manager | Excel tab name '_set_SCENARIOS' inserted into sets.xlsx.\n",
      "DEBUG | Interface.file_manager | Excel tab name '_set_SYSTEMS' inserted into sets.xlsx.\n",
      "DEBUG | Interface.file_manager | Excel tab name '_set_TECHNOLOGIES' inserted into sets.xlsx.\n",
      "DEBUG | Interface.file_manager | Excel tab name '_set_FLOWS' inserted into sets.xlsx.\n",
      "WARNING | Interface.file_manager | Excel file 'sets.xlsx' overwritten.\n"
     ]
    }
   ],
   "source": [
    "model_test.model.database.load_new_sets()"
   ]
  },
  {
   "cell_type": "code",
   "execution_count": null,
   "metadata": {},
   "outputs": [],
   "source": [
    "model_test.model.database.close_connection()"
   ]
  },
  {
   "cell_type": "code",
   "execution_count": null,
   "metadata": {},
   "outputs": [],
   "source": [
    "model_test.model_cleanup()"
   ]
  },
  {
   "cell_type": "code",
   "execution_count": null,
   "metadata": {},
   "outputs": [],
   "source": []
  }
 ],
 "metadata": {
  "kernelspec": {
   "display_name": "esm_dev",
   "language": "python",
   "name": "python3"
  },
  "language_info": {
   "codemirror_mode": {
    "name": "ipython",
    "version": 3
   },
   "file_extension": ".py",
   "mimetype": "text/x-python",
   "name": "python",
   "nbconvert_exporter": "python",
   "pygments_lexer": "ipython3",
   "version": "3.7.12"
  },
  "orig_nbformat": 4
 },
 "nbformat": 4,
 "nbformat_minor": 2
}
