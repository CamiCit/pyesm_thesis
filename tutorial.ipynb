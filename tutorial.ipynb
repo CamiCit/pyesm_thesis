{
 "cells": [
  {
   "cell_type": "markdown",
   "metadata": {},
   "source": [
    "## pyESM - Python based Engineering Systems Modelling (pyESM)\n",
    "Python based engineering systems modelling framework based on the Supply and Use structure"
   ]
  },
  {
   "cell_type": "markdown",
   "metadata": {},
   "source": [
    "- - -\n",
    "PACKAGE LOCAL INSTALLATION and USAGE\n",
    "\n",
    "Editable local installation:\n",
    "1. Create a virtual environment based on 'environment.yml' file.\n",
    "2. In the cmd, run: >>> python -m pip install -e \"path/to/pyesm\"\n",
    "3. From the virtual environment: >>> import esm\n",
    "4. Use esm APIs (Model class)\n"
   ]
  },
  {
   "cell_type": "markdown",
   "metadata": {},
   "source": [
    "- - -\n",
    "CREATE/UPDATE ENVIRONMENT BASED ON YML FILE IN PROJECT REPO\n",
    "\n",
    "In the prompt:\n",
    "- From the path where environment.yml is present: >>> conda env create -f environment.yml\n",
    "- The environment is named \"esm\", so type >>> conda activate esm\n",
    "\n",
    "UPDATE ENVIRONMENT YML FILE (in case of modifications)\n",
    "\n",
    "In the prompt: \n",
    "- activate the working environment: >>> conda activate your_environment_name\n",
    "- export environment.yml file based on the working environment: >>> conda env export > environment.yml\n"
   ]
  },
  {
   "cell_type": "markdown",
   "metadata": {
    "slideshow": {
     "slide_type": "slide"
    }
   },
   "source": [
    "- - - \n",
    "MODEL DIRECTORY GENERATION\n",
    "\n",
    "Generation of a model directory based on a model template or with blank setup files."
   ]
  },
  {
   "cell_type": "code",
   "execution_count": null,
   "metadata": {},
   "outputs": [],
   "source": [
    "# create model directory with essential setup files\n",
    "# to be used only to generate models from scratch\n",
    "# template models can be imported \n",
    "import esm\n",
    "\n",
    "model_dir_name = '5_sut_storage'\n",
    "main_dir_path = 'default'\n",
    "\n",
    "esm.create_model_dir(\n",
    "    model_dir_name=model_dir_name,\n",
    "    main_dir_path=main_dir_path,\n",
    "    default_model=None,\n",
    "    force_overwrite=False,\n",
    ")"
   ]
  },
  {
   "cell_type": "markdown",
   "metadata": {},
   "source": [
    "- - - \n",
    "GENERATION OF A NEW MODEL FROM SCRATCH\n",
    "\n",
    "Generation of a new model defined by setup files.\n",
    "\n",
    "Step-by-step model creation with sets, data and problems generation."
   ]
  },
  {
   "cell_type": "markdown",
   "metadata": {},
   "source": []
  },
  {
   "cell_type": "code",
   "execution_count": null,
   "metadata": {},
   "outputs": [],
   "source": [
    "# generate model instance based on setup files filled by the user.\n",
    "# validates model directory before executing.\n",
    "import esm\n",
    "\n",
    "model_dir_name = '0_test_structure'\n",
    "main_dir_path = 'D:/git_repos/pyesm/default'\n",
    "\n",
    "model = esm.Model(\n",
    "    model_dir_name=model_dir_name,\n",
    "    main_dir_path=main_dir_path,\n",
    "    use_existing_data=False,\n",
    ")"
   ]
  },
  {
   "cell_type": "code",
   "execution_count": null,
   "metadata": {},
   "outputs": [],
   "source": [
    "# after filling sets.xlsx file: \n",
    "# - loading model coordinates to Index\n",
    "# - generating sqlite database tables for sets and variables\n",
    "# (variables tables in sqlite database empty)\n",
    "model.load_model_coordinates()\n",
    "model.initialize_blank_database()"
   ]
  },
  {
   "cell_type": "code",
   "execution_count": null,
   "metadata": {},
   "outputs": [],
   "source": [
    "# after filling input_data file/s:\n",
    "# - loading input data into sqlite database variables tables\n",
    "# - initialize problem\n",
    "model.load_data_files_to_database()\n",
    "model.initialize_problems()"
   ]
  },
  {
   "cell_type": "markdown",
   "metadata": {},
   "source": [
    "- - - \n",
    "MODEL GENERATION FROM EXISTING DATA\n",
    "\n",
    "Generation of a new model working with existing database and data input files."
   ]
  },
  {
   "cell_type": "code",
   "execution_count": 2,
   "metadata": {},
   "outputs": [
    {
     "name": "stderr",
     "output_type": "stream",
     "text": [
      "INFO | Model | 'Model' object initialization...\n",
      "INFO | Model.file_manager | 'FileManager' object generated.\n",
      "INFO | Model | Defining settings from model arguments.\n",
      "INFO | Model | Defining paths from model arguments.\n",
      "INFO | Model | Model directory and required setup files validated.\n",
      "INFO | Model.core | 'Core' object initialization...\n",
      "INFO | Model.core.sql_manager | 'SQLManager' object generation.\n",
      "INFO | Model.core.index | 'Index' object initialization...\n",
      "INFO | Model.core.index | Loading and validating data from file, generating 'SetTable' objects.\n",
      "DEBUG | Model.file_manager | File 'structure_sets.yml' loaded.\n",
      "INFO | Model.core.index | Loading and validating data from file, generating 'DataTable' objects.\n",
      "DEBUG | Model.file_manager | File 'structure_variables.yml' loaded.\n",
      "INFO | Model.core.index | Fetching and validating data, generating 'Variable' objects.\n",
      "DEBUG | Model.core.index | Fetching 'coordinates_info' to Index.variables.\n",
      "INFO | Model.core.index | 'Index' object initialized.\n",
      "INFO | Model.core.database | 'Database' object initialization...\n",
      "INFO | Model.core.database | 'Database' object initialized.\n",
      "INFO | Model.core.problem | 'Problem' object initialization...\n",
      "INFO | Model.core.problem | 'Problem' object initialized.\n",
      "INFO | Model.core | 'Core' initialized.\n",
      "INFO | Model | Loading existing sets data and variable coordinates.\n",
      "INFO | Model.core.index | 'Index' object: loading new Sets data to Index.sets.\n",
      "DEBUG | Model.file_manager | Excel file 'sets.xlsx' loaded.\n",
      "INFO | Model.core.index | 'Index' object: loading variable coordinates to Index.data.\n",
      "INFO | Model.core.index | 'Index' object: loading variable coordinates to Index.variables.\n",
      "DEBUG | Model.core.index | Identifying aggregated dimensions for variables coordinates.\n",
      "DEBUG | Model.core.index | Identifying parent-child variables for setting implicit constraints.\n",
      "INFO | Model.core.index | Loading tables 'foreign_keys' to Index.data_tables.\n",
      "INFO | Model | Initializing numerical problems.\n",
      "INFO | Model.core | Initialize variables dataframes (cvxpy objects, filters dictionaries).\n",
      "DEBUG | Model.core.problem | Generating dataframe for variable 'V_tfp' (cvxpy object, filter dictionary).\n",
      "DEBUG | Model.core.problem | Generating dataframe for variable 'V_tfc' (cvxpy object, filter dictionary).\n",
      "DEBUG | Model.core.problem | Generating dataframe for variable 'V_yt' (cvxpy object, filter dictionary).\n",
      "DEBUG | Model.core.problem | Generating constant 'i_1f' as 'sum_vector'.\n",
      "DEBUG | Model.core.problem | Generating constant 'T_yy' as 'lower_triangular'.\n",
      "DEBUG | Model.core.problem | Generating dataframe for variable 'X_tfp' (cvxpy object, filter dictionary).\n",
      "DEBUG | Model.core.problem | Generating dataframe for variable 'X_tfc' (cvxpy object, filter dictionary).\n",
      "DEBUG | Model.core.problem | Generating dataframe for variable 'X_yt' (cvxpy object, filter dictionary).\n",
      "DEBUG | Model.core.problem | Generating dataframe for variable 'X_1f' (cvxpy object, filter dictionary).\n",
      "DEBUG | Model.core.sql_manager | Connection to 'database.db' opened.\n",
      "INFO | Model.core | Fetching data from 'database.db' to cvxpy exogenous variables.\n",
      "DEBUG | Model.core | Fetching data from table 'V_tfp' to cvxpy exogenous variable.\n",
      "DEBUG | Model.core | Fetching data from table 'V_tfc' to cvxpy exogenous variable.\n",
      "DEBUG | Model.core | Fetching data from table 'V_yt' to cvxpy exogenous variable.\n",
      "DEBUG | Model.core.sql_manager | Connection to 'database.db' closed.\n",
      "INFO | Model.core | Load symbolic problem, initialize dataframes with cvxpy problems \n",
      "INFO | Model.core.problem | Loading symbolic problem from 'problem.yml' file.\n",
      "DEBUG | Model.file_manager | File 'problem.yml' loaded.\n",
      "INFO | Model.core.problem | Defining numeric problems based on symbolic problem.\n",
      "DEBUG | Model.core.problem | Defining numeric problem for combination of sets: ['reference', 'low'].\n",
      "WARNING | Model.core.problem | Empty list of allowed variables for expression: Minimize(1)\n",
      "DEBUG | Model.core.problem | Defining numeric problem for combination of sets: ['reference', 'high'].\n",
      "WARNING | Model.core.problem | Empty list of allowed variables for expression: Minimize(1)\n",
      "DEBUG | Model.core.problem | Defining numeric problem for combination of sets: ['net-zero', 'low'].\n",
      "WARNING | Model.core.problem | Empty list of allowed variables for expression: Minimize(1)\n",
      "DEBUG | Model.core.problem | Defining numeric problem for combination of sets: ['net-zero', 'high'].\n",
      "WARNING | Model.core.problem | Empty list of allowed variables for expression: Minimize(1)\n",
      "INFO | Model.pbi_manager | 'PBIManager' object generated.\n",
      "INFO | Model | 'Model' object initialized.\n"
     ]
    }
   ],
   "source": [
    "# generate model instance based on setup files filled by the user.\n",
    "# validates model directory (in case user relies on existing directory). \n",
    "# parse settings and paths.\n",
    "# loading model coordinates\n",
    "# initializing numerical problem\n",
    "import esm \n",
    "\n",
    "model_dir_name = '0_test_structure'\n",
    "main_dir_path = 'D:/git_repos/pyesm/default'\n",
    "\n",
    "model = esm.Model(\n",
    "    model_dir_name=model_dir_name,\n",
    "    main_dir_path=main_dir_path,\n",
    "    use_existing_data=True,\n",
    "    log_level='debug'\n",
    ")"
   ]
  },
  {
   "cell_type": "markdown",
   "metadata": {},
   "source": [
    "- - -\n",
    "DATA and MODEL UPDATE, MODEL RUN \n",
    "\n",
    "updating SQLite database with new data, \n",
    "re-initializing numerical problem\n",
    "\n",
    "solving numerical model, \n",
    "results export to sqlite database, \n",
    "generation of powerbi dataset"
   ]
  },
  {
   "cell_type": "code",
   "execution_count": null,
   "metadata": {},
   "outputs": [],
   "source": [
    "# in case of modifications in input data files (but not in sets, nor in \n",
    "# variables structures), update database and problem only\n",
    "model.update_database_and_problem()"
   ]
  },
  {
   "cell_type": "code",
   "execution_count": null,
   "metadata": {},
   "outputs": [],
   "source": [
    "# in case of modifications in symbolic problem only,\n",
    "# update problems dataframe and symbolic problem\n",
    "model.initialize_problems()"
   ]
  },
  {
   "cell_type": "code",
   "execution_count": 4,
   "metadata": {},
   "outputs": [
    {
     "name": "stderr",
     "output_type": "stream",
     "text": [
      "INFO | Model | Running numerical model.\n",
      "WARNING | Model.core.problem | Numeric problems already run.\n",
      "INFO | Model.core.problem | Solving problem: ['reference', 'low'].\n",
      "INFO | Model.core.problem | Problem status: 'optimal'\n",
      "INFO | Model.core.problem | Solving problem: ['reference', 'high'].\n",
      "INFO | Model.core.problem | Problem status: 'optimal'\n",
      "INFO | Model.core.problem | Solving problem: ['net-zero', 'low'].\n",
      "INFO | Model.core.problem | Problem status: 'optimal'\n",
      "INFO | Model.core.problem | Solving problem: ['net-zero', 'high'].\n",
      "INFO | Model.core.problem | Problem status: 'optimal'\n"
     ]
    }
   ],
   "source": [
    "# solve numerical problems\n",
    "model.run_model(verbose=False, solver='SCIPY')"
   ]
  },
  {
   "cell_type": "code",
   "execution_count": 5,
   "metadata": {},
   "outputs": [
    {
     "name": "stderr",
     "output_type": "stream",
     "text": [
      "INFO | Model | Exporting endogenous model results to SQLite database.\n",
      "DEBUG | Model.core.sql_manager | Connection to 'database.db' opened.\n",
      "INFO | Model.core | Exporting data from cvxpy endogenous variables to SQLite database 'database.db' \n",
      "DEBUG | Model.core | Exporting data from cvxpy variable 'X_tfp' to the related SQLite table 'X'.\n",
      "DEBUG | Model.core.sql_manager | SQLite table 'X' - 80 entries updated.\n",
      "DEBUG | Model.core | Exporting data from cvxpy variable 'X_tfc' to the related SQLite table 'X'.\n",
      "DEBUG | Model.core.sql_manager | SQLite table 'X' - 40 entries updated.\n",
      "DEBUG | Model.core | Exporting data from cvxpy variable 'X_yt' to the related SQLite table 'X'.\n",
      "DEBUG | Model.core.sql_manager | SQLite table 'X' - 120 entries updated.\n",
      "DEBUG | Model.core | Exporting data from cvxpy variable 'X_1f' to the related SQLite table 'X'.\n",
      "DEBUG | Model.core | SQLite table 'X_1f': no data available for {'time': 'y.1', 'technologies': 'gas plant', 'scenarios': 'reference', 'sensitivity': 'low'}.\n",
      "DEBUG | Model.core | SQLite table 'X_1f': no data available for {'time': 'y.1', 'technologies': 'gas plant', 'scenarios': 'reference', 'sensitivity': 'high'}.\n",
      "DEBUG | Model.core | SQLite table 'X_1f': no data available for {'time': 'y.1', 'technologies': 'gas plant', 'scenarios': 'net-zero', 'sensitivity': 'low'}.\n",
      "DEBUG | Model.core | SQLite table 'X_1f': no data available for {'time': 'y.1', 'technologies': 'gas plant', 'scenarios': 'net-zero', 'sensitivity': 'high'}.\n",
      "DEBUG | Model.core | SQLite table 'X_1f': no data available for {'time': 'y.1', 'technologies': 'pv plant', 'scenarios': 'reference', 'sensitivity': 'low'}.\n",
      "DEBUG | Model.core | SQLite table 'X_1f': no data available for {'time': 'y.1', 'technologies': 'pv plant', 'scenarios': 'reference', 'sensitivity': 'high'}.\n",
      "DEBUG | Model.core | SQLite table 'X_1f': no data available for {'time': 'y.1', 'technologies': 'pv plant', 'scenarios': 'net-zero', 'sensitivity': 'low'}.\n",
      "DEBUG | Model.core | SQLite table 'X_1f': no data available for {'time': 'y.1', 'technologies': 'pv plant', 'scenarios': 'net-zero', 'sensitivity': 'high'}.\n",
      "DEBUG | Model.core | SQLite table 'X_1f': no data available for {'time': 'y.1', 'technologies': 'household', 'scenarios': 'reference', 'sensitivity': 'low'}.\n",
      "DEBUG | Model.core | SQLite table 'X_1f': no data available for {'time': 'y.1', 'technologies': 'household', 'scenarios': 'reference', 'sensitivity': 'high'}.\n",
      "DEBUG | Model.core | SQLite table 'X_1f': no data available for {'time': 'y.1', 'technologies': 'household', 'scenarios': 'net-zero', 'sensitivity': 'low'}.\n",
      "DEBUG | Model.core | SQLite table 'X_1f': no data available for {'time': 'y.1', 'technologies': 'household', 'scenarios': 'net-zero', 'sensitivity': 'high'}.\n",
      "DEBUG | Model.core | SQLite table 'X_1f': no data available for {'time': 'y.2', 'technologies': 'gas plant', 'scenarios': 'reference', 'sensitivity': 'low'}.\n",
      "DEBUG | Model.core | SQLite table 'X_1f': no data available for {'time': 'y.2', 'technologies': 'gas plant', 'scenarios': 'reference', 'sensitivity': 'high'}.\n",
      "DEBUG | Model.core | SQLite table 'X_1f': no data available for {'time': 'y.2', 'technologies': 'gas plant', 'scenarios': 'net-zero', 'sensitivity': 'low'}.\n",
      "DEBUG | Model.core | SQLite table 'X_1f': no data available for {'time': 'y.2', 'technologies': 'gas plant', 'scenarios': 'net-zero', 'sensitivity': 'high'}.\n",
      "DEBUG | Model.core | SQLite table 'X_1f': no data available for {'time': 'y.2', 'technologies': 'pv plant', 'scenarios': 'reference', 'sensitivity': 'low'}.\n",
      "DEBUG | Model.core | SQLite table 'X_1f': no data available for {'time': 'y.2', 'technologies': 'pv plant', 'scenarios': 'reference', 'sensitivity': 'high'}.\n",
      "DEBUG | Model.core | SQLite table 'X_1f': no data available for {'time': 'y.2', 'technologies': 'pv plant', 'scenarios': 'net-zero', 'sensitivity': 'low'}.\n",
      "DEBUG | Model.core | SQLite table 'X_1f': no data available for {'time': 'y.2', 'technologies': 'pv plant', 'scenarios': 'net-zero', 'sensitivity': 'high'}.\n",
      "DEBUG | Model.core | SQLite table 'X_1f': no data available for {'time': 'y.2', 'technologies': 'household', 'scenarios': 'reference', 'sensitivity': 'low'}.\n",
      "DEBUG | Model.core | SQLite table 'X_1f': no data available for {'time': 'y.2', 'technologies': 'household', 'scenarios': 'reference', 'sensitivity': 'high'}.\n",
      "DEBUG | Model.core | SQLite table 'X_1f': no data available for {'time': 'y.2', 'technologies': 'household', 'scenarios': 'net-zero', 'sensitivity': 'low'}.\n",
      "DEBUG | Model.core | SQLite table 'X_1f': no data available for {'time': 'y.2', 'technologies': 'household', 'scenarios': 'net-zero', 'sensitivity': 'high'}.\n",
      "DEBUG | Model.core | SQLite table 'X_1f': no data available for {'time': 'y.3', 'technologies': 'gas plant', 'scenarios': 'reference', 'sensitivity': 'low'}.\n",
      "DEBUG | Model.core | SQLite table 'X_1f': no data available for {'time': 'y.3', 'technologies': 'gas plant', 'scenarios': 'reference', 'sensitivity': 'high'}.\n",
      "DEBUG | Model.core | SQLite table 'X_1f': no data available for {'time': 'y.3', 'technologies': 'gas plant', 'scenarios': 'net-zero', 'sensitivity': 'low'}.\n",
      "DEBUG | Model.core | SQLite table 'X_1f': no data available for {'time': 'y.3', 'technologies': 'gas plant', 'scenarios': 'net-zero', 'sensitivity': 'high'}.\n",
      "DEBUG | Model.core | SQLite table 'X_1f': no data available for {'time': 'y.3', 'technologies': 'pv plant', 'scenarios': 'reference', 'sensitivity': 'low'}.\n",
      "DEBUG | Model.core | SQLite table 'X_1f': no data available for {'time': 'y.3', 'technologies': 'pv plant', 'scenarios': 'reference', 'sensitivity': 'high'}.\n",
      "DEBUG | Model.core | SQLite table 'X_1f': no data available for {'time': 'y.3', 'technologies': 'pv plant', 'scenarios': 'net-zero', 'sensitivity': 'low'}.\n",
      "DEBUG | Model.core | SQLite table 'X_1f': no data available for {'time': 'y.3', 'technologies': 'pv plant', 'scenarios': 'net-zero', 'sensitivity': 'high'}.\n",
      "DEBUG | Model.core | SQLite table 'X_1f': no data available for {'time': 'y.3', 'technologies': 'household', 'scenarios': 'reference', 'sensitivity': 'low'}.\n",
      "DEBUG | Model.core | SQLite table 'X_1f': no data available for {'time': 'y.3', 'technologies': 'household', 'scenarios': 'reference', 'sensitivity': 'high'}.\n",
      "DEBUG | Model.core | SQLite table 'X_1f': no data available for {'time': 'y.3', 'technologies': 'household', 'scenarios': 'net-zero', 'sensitivity': 'low'}.\n",
      "DEBUG | Model.core | SQLite table 'X_1f': no data available for {'time': 'y.3', 'technologies': 'household', 'scenarios': 'net-zero', 'sensitivity': 'high'}.\n",
      "DEBUG | Model.core | SQLite table 'X_1f': no data available for {'time': 'y.4', 'technologies': 'gas plant', 'scenarios': 'reference', 'sensitivity': 'low'}.\n",
      "DEBUG | Model.core | SQLite table 'X_1f': no data available for {'time': 'y.4', 'technologies': 'gas plant', 'scenarios': 'reference', 'sensitivity': 'high'}.\n",
      "DEBUG | Model.core | SQLite table 'X_1f': no data available for {'time': 'y.4', 'technologies': 'gas plant', 'scenarios': 'net-zero', 'sensitivity': 'low'}.\n",
      "DEBUG | Model.core | SQLite table 'X_1f': no data available for {'time': 'y.4', 'technologies': 'gas plant', 'scenarios': 'net-zero', 'sensitivity': 'high'}.\n",
      "DEBUG | Model.core | SQLite table 'X_1f': no data available for {'time': 'y.4', 'technologies': 'pv plant', 'scenarios': 'reference', 'sensitivity': 'low'}.\n",
      "DEBUG | Model.core | SQLite table 'X_1f': no data available for {'time': 'y.4', 'technologies': 'pv plant', 'scenarios': 'reference', 'sensitivity': 'high'}.\n",
      "DEBUG | Model.core | SQLite table 'X_1f': no data available for {'time': 'y.4', 'technologies': 'pv plant', 'scenarios': 'net-zero', 'sensitivity': 'low'}.\n",
      "DEBUG | Model.core | SQLite table 'X_1f': no data available for {'time': 'y.4', 'technologies': 'pv plant', 'scenarios': 'net-zero', 'sensitivity': 'high'}.\n",
      "DEBUG | Model.core | SQLite table 'X_1f': no data available for {'time': 'y.4', 'technologies': 'household', 'scenarios': 'reference', 'sensitivity': 'low'}.\n",
      "DEBUG | Model.core | SQLite table 'X_1f': no data available for {'time': 'y.4', 'technologies': 'household', 'scenarios': 'reference', 'sensitivity': 'high'}.\n",
      "DEBUG | Model.core | SQLite table 'X_1f': no data available for {'time': 'y.4', 'technologies': 'household', 'scenarios': 'net-zero', 'sensitivity': 'low'}.\n",
      "DEBUG | Model.core | SQLite table 'X_1f': no data available for {'time': 'y.4', 'technologies': 'household', 'scenarios': 'net-zero', 'sensitivity': 'high'}.\n",
      "DEBUG | Model.core | SQLite table 'X_1f': no data available for {'time': 'y.5', 'technologies': 'gas plant', 'scenarios': 'reference', 'sensitivity': 'low'}.\n",
      "DEBUG | Model.core | SQLite table 'X_1f': no data available for {'time': 'y.5', 'technologies': 'gas plant', 'scenarios': 'reference', 'sensitivity': 'high'}.\n",
      "DEBUG | Model.core | SQLite table 'X_1f': no data available for {'time': 'y.5', 'technologies': 'gas plant', 'scenarios': 'net-zero', 'sensitivity': 'low'}.\n",
      "DEBUG | Model.core | SQLite table 'X_1f': no data available for {'time': 'y.5', 'technologies': 'gas plant', 'scenarios': 'net-zero', 'sensitivity': 'high'}.\n",
      "DEBUG | Model.core | SQLite table 'X_1f': no data available for {'time': 'y.5', 'technologies': 'pv plant', 'scenarios': 'reference', 'sensitivity': 'low'}.\n",
      "DEBUG | Model.core | SQLite table 'X_1f': no data available for {'time': 'y.5', 'technologies': 'pv plant', 'scenarios': 'reference', 'sensitivity': 'high'}.\n",
      "DEBUG | Model.core | SQLite table 'X_1f': no data available for {'time': 'y.5', 'technologies': 'pv plant', 'scenarios': 'net-zero', 'sensitivity': 'low'}.\n",
      "DEBUG | Model.core | SQLite table 'X_1f': no data available for {'time': 'y.5', 'technologies': 'pv plant', 'scenarios': 'net-zero', 'sensitivity': 'high'}.\n",
      "DEBUG | Model.core | SQLite table 'X_1f': no data available for {'time': 'y.5', 'technologies': 'household', 'scenarios': 'reference', 'sensitivity': 'low'}.\n",
      "DEBUG | Model.core | SQLite table 'X_1f': no data available for {'time': 'y.5', 'technologies': 'household', 'scenarios': 'reference', 'sensitivity': 'high'}.\n",
      "DEBUG | Model.core | SQLite table 'X_1f': no data available for {'time': 'y.5', 'technologies': 'household', 'scenarios': 'net-zero', 'sensitivity': 'low'}.\n",
      "DEBUG | Model.core | SQLite table 'X_1f': no data available for {'time': 'y.5', 'technologies': 'household', 'scenarios': 'net-zero', 'sensitivity': 'high'}.\n",
      "WARNING | Model.core | No data available in cvxpy variable 'X_1f'\n",
      "DEBUG | Model.core.sql_manager | Connection to 'database.db' closed.\n",
      "INFO | Model | Generating PowerBI report.\n",
      "DEBUG | Model.pbi_manager | Generation of PowerBI report file 'dataset.pbix'.\n"
     ]
    }
   ],
   "source": [
    "# once model has successfully solved, load endogenous parameters data to \n",
    "# sqlite database and generate powerbi dataset.\n",
    "model.load_results_to_database()\n",
    "model.generate_pbi_report()"
   ]
  },
  {
   "cell_type": "markdown",
   "metadata": {},
   "source": [
    "- - - \n",
    "cvxpy TESTS"
   ]
  },
  {
   "cell_type": "code",
   "execution_count": null,
   "metadata": {},
   "outputs": [],
   "source": [
    "import cvxpy as cp\n",
    "import numpy as np\n",
    "\n",
    "# Problem data.\n",
    "m = 5\n",
    "n = 2\n",
    "\n",
    "# Construct the problem.\n",
    "x = cp.Variable((n,1))\n",
    "A = cp.Constant(np.random.randn(m, n))\n",
    "b = cp.Constant(1)\n",
    "\n",
    "\n",
    "C = cp.Constant(np.random.randn(n, n))\n",
    "I = cp.Constant(np.eye(n))\n",
    "\n",
    "objective = cp.Minimize(cp.sum_squares(A @ x - b))\n",
    "constraints = [0 <= x] \n",
    "expression = [x <= 1]\n",
    "constraints.extend(expression)\n",
    "\n",
    "prob = cp.Problem(objective, constraints)\n",
    "\n",
    "# The optimal objective value is returned by `prob.solve()`.\n",
    "result = prob.solve(solver='GUROBI', verbose=False)\n",
    "# The optimal value for x is stored in `x.value`.\n",
    "\n",
    "x.value\n"
   ]
  },
  {
   "cell_type": "code",
   "execution_count": null,
   "metadata": {},
   "outputs": [],
   "source": [
    "import numpy as np\n",
    "import cvxpy as cp\n",
    "\n",
    "\n",
    "v_parent = cp.Variable((3,4))\n",
    "\n",
    "v_parameter = cp.Parameter((3,4))\n",
    "v_parameter.value = np.array([\n",
    "    [1,2,3,4],\n",
    "    [5,6,7,8],\n",
    "    [9,10,11,12],\n",
    "])\n",
    "\n",
    "slicer_rows = slice(None)\n",
    "slicer_cols = slice(None)\n",
    "slicer = (slicer_rows, slicer_cols)\n",
    "v_child = v_parent[slicer]\n",
    "\n",
    "objective = cp.Minimize(1)\n",
    "constraints = [v_parameter == v_parent]\n",
    "prob = cp.Problem(objective, constraints)\n",
    "prob.solve(solver='GUROBI')\n",
    "\n",
    "print(f'v_parent = {v_parent.value} \\n')\n",
    "print(f'v_parameter = {v_parameter.value} \\n')\n",
    "print(f'v_child = {v_child.value} \\n')"
   ]
  },
  {
   "cell_type": "code",
   "execution_count": null,
   "metadata": {},
   "outputs": [],
   "source": [
    "# DEFINIZIONE COSTANTI PER TRASFORMARE I VARI OPERATORI VETTORIALI\n",
    "import cvxpy as cp\n",
    "import numpy as np\n",
    "\n",
    "var_a = cp.Variable((3,2))\n",
    "var_a.value = np.ones((var_a.shape))*3\n",
    "var_b = cp.Variable((3,1))\n",
    "\n",
    "i_21 = cp.Constant(np.ones((2,1)))\n",
    "i_13 = cp.Constant(np.ones((1,3)))\n",
    "\n",
    "allowed_vars = {\n",
    "    'A': var_a,\n",
    "    'B': var_b,\n",
    "    'i_21': i_21,\n",
    "    'i_13': i_13,\n",
    "}\n",
    "\n",
    "allowed_ops = {\n",
    "    '+': '+',\n",
    "    '-': '-',\n",
    "    '*': '*',\n",
    "    '@': '@',\n",
    "    '==': '==',\n",
    "    '>=': '>=',\n",
    "    '<=': '<=',\n",
    "    '(': '(',\n",
    "    ')': ')',\n",
    "    ',':',',\n",
    "    'sum': cp.sum,\n",
    "}\n",
    "\n",
    "expr = model.core.problem.execute_cvxpy_code(\n",
    "    expression='i_13 @ A @ i_21',\n",
    "    allowed_variables=allowed_vars,\n",
    "    allowed_operators=allowed_ops\n",
    ")\n",
    "\n",
    "expr2 = model.core.problem.execute_cvxpy_code(\n",
    "    expression='sum(B)',\n",
    "    allowed_variables=allowed_vars,\n",
    "    allowed_operators=allowed_ops\n",
    ")\n",
    "\n",
    "expr"
   ]
  },
  {
   "cell_type": "markdown",
   "metadata": {},
   "source": [
    "- - -\n",
    "filtering functions"
   ]
  },
  {
   "cell_type": "code",
   "execution_count": null,
   "metadata": {},
   "outputs": [],
   "source": [
    "model.core.database.sqltools.open_connection()\n",
    "\n",
    "var = model.core.database.sqltools.filtered_table_to_dataframe(\n",
    "    table_name='u',\n",
    "    filters_dict={\n",
    "        's_Name': ['Reference'],\n",
    "        'dt_Name': [2023],\n",
    "        'f_Name': ['Energy', 'Steel'],\n",
    "        't_Name': ['PV power plant', 'Steel factory', 'Gas power plant']\n",
    "    }\n",
    ")\n",
    "\n",
    "# filter_1 = test.core.database.sqltools.get_related_table_keys(\n",
    "#     child_column_name='f_Name',\n",
    "#     parent_table_name='_set_FLOWS',\n",
    "#     parent_table_fields={\n",
    "#         'f_Category': ['Product flow'],\n",
    "#     }\n",
    "# )\n",
    "\n",
    "# filter_2 = test.core.database.sqltools.get_related_table_keys(\n",
    "#     child_column_name='dt_Name',\n",
    "#     parent_table_name='_set_DATETIME',\n",
    "#     parent_table_fields={\n",
    "#         'dt_Name': [2023],\n",
    "#     }\n",
    "# )\n",
    "\n",
    "# var_custom_filter = test.core.database.sqltools.filtered_table_to_dataframe(\n",
    "#     table_name='v',\n",
    "#     filters_dict={\n",
    "#         **filter_1,\n",
    "#         **filter_2,\n",
    "#         **{'f_Name': ['Steel']},\n",
    "#     }\n",
    "# )\n",
    "\n",
    "model.core.database.sqltools.close_connection()\n",
    "\n",
    "# filter_1, filter_2\n",
    "var"
   ]
  }
 ],
 "metadata": {
  "kernelspec": {
   "display_name": "esm_dev",
   "language": "python",
   "name": "python3"
  },
  "language_info": {
   "codemirror_mode": {
    "name": "ipython",
    "version": 3
   },
   "file_extension": ".py",
   "mimetype": "text/x-python",
   "name": "python",
   "nbconvert_exporter": "python",
   "pygments_lexer": "ipython3",
   "version": "3.10.13"
  },
  "orig_nbformat": 4
 },
 "nbformat": 4,
 "nbformat_minor": 2
}
