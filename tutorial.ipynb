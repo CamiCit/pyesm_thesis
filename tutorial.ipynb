{
 "cells": [
  {
   "cell_type": "markdown",
   "metadata": {},
   "source": [
    "## pyESM - Python based Engineering Systems Modelling (pyESM)\n",
    "Python based engineering systems modelling framework based on the Supply and Use structure"
   ]
  },
  {
   "cell_type": "markdown",
   "metadata": {},
   "source": [
    "- - -\n",
    "PACKAGE LOCAL INSTALLATION and USAGE\n",
    "\n",
    "Editable local installation:\n",
    "1. Create a virtual environment based on 'environment.yml' file.\n",
    "2. In the cmd, run: >>> python -m pip install -e \"path/to/pyesm\"\n",
    "3. From the virtual environment: >>> import esm\n",
    "4. Use esm APIs (Model class)\n"
   ]
  },
  {
   "cell_type": "markdown",
   "metadata": {},
   "source": [
    "- - -\n",
    "CREATE/UPDATE ENVIRONMENT BASED ON YML FILE IN PROJECT REPO\n",
    "\n",
    "In the prompt:\n",
    "- From the path where environment.yml is present: >>> conda env create -f environment.yml\n",
    "- The environment is named \"esm\", so type >>> conda activate esm\n",
    "\n",
    "UPDATE ENVIRONMENT YML FILE (in case of modifications)\n",
    "\n",
    "In the prompt: \n",
    "- activate the working environment: >>> conda activate your_environment_name\n",
    "- export environment.yml file based on the working environment: >>> conda env export > environment.yml\n"
   ]
  },
  {
   "cell_type": "markdown",
   "metadata": {
    "slideshow": {
     "slide_type": "slide"
    }
   },
   "source": [
    "- - - \n",
    "MODEL DIRECTORY GENERATION\n",
    "\n",
    "Generation of a model directory based on a model template or with blank setup files."
   ]
  },
  {
   "cell_type": "code",
   "execution_count": null,
   "metadata": {},
   "outputs": [],
   "source": [
    "# create model directory with essential setup files\n",
    "# to be used only to generate models from scratch\n",
    "# template models can be imported \n",
    "import esm\n",
    "\n",
    "model_dir_name = '1_sut_multi_year'\n",
    "main_dir_path = 'D:\\git_repos\\pyesm\\default'\n",
    "\n",
    "esm.create_model_dir(\n",
    "    model_dir_name=model_dir_name,\n",
    "    main_dir_path=main_dir_path,\n",
    "    default_model=None,\n",
    "    force_overwrite=False,\n",
    ")"
   ]
  },
  {
   "cell_type": "markdown",
   "metadata": {},
   "source": [
    "- - - \n",
    "GENERATION OF A NEW MODEL FROM SCRATCH\n",
    "\n",
    "Generation of a new model defined by setup files.\n",
    "\n",
    "Step-by-step model creation with sets, data and problems generation."
   ]
  },
  {
   "cell_type": "code",
   "execution_count": 1,
   "metadata": {},
   "outputs": [
    {
     "name": "stderr",
     "output_type": "stream",
     "text": [
      "INFO | Model | 'Model' object initialization...\n",
      "INFO | Model.file_manager | 'FileManager' object generated.\n",
      "INFO | Model | Defining settings from model arguments.\n",
      "INFO | Model | Defining paths from model arguments.\n",
      "INFO | Model | Model directory and required setup files validated.\n",
      "INFO | Model.core | 'Core' object initialization...\n",
      "INFO | Model.core.sql_manager | 'SQLManager' object generation.\n",
      "INFO | Model.core.index | 'Index' object initialization...\n",
      "INFO | Model.core.index | Loading and validating data from file, generating 'SetTable' objects.\n",
      "DEBUG | Model.file_manager | File 'structure_sets.yml' loaded.\n",
      "INFO | Model.core.index | Loading and validating data from file, generating 'DataTable' objects.\n",
      "DEBUG | Model.file_manager | File 'structure_variables.yml' loaded.\n",
      "INFO | Model.core.index | Fetching and validating data, generating 'Variable' objects.\n",
      "DEBUG | Model.core.index | Fetching 'coordinates_info' to Index.variables.\n",
      "INFO | Model.core.index | 'Index' object initialized.\n",
      "INFO | Model.core.database | 'Database' object initialization...\n",
      "DEBUG | Model.core.sql_manager | Connection to 'database.db' opened.\n",
      "INFO | Model.core.database | Overwriting database 'database.db'\n",
      "DEBUG | Model.core.sql_manager | SQLite table '_set_SCENARIOS' - created.\n",
      "DEBUG | Model.core.sql_manager | SQLite table '_set_TIME' - created.\n",
      "DEBUG | Model.core.sql_manager | SQLite table '_set_TECHNOLOGIES' - created.\n",
      "DEBUG | Model.core.sql_manager | SQLite table '_set_FLOWS' - created.\n",
      "DEBUG | Model.core.sql_manager | SQLite table '_set_COSTS' - created.\n",
      "DEBUG | Model.core.sql_manager | Connection to 'database.db' closed.\n",
      "DEBUG | Model.core.sql_manager | Connection to 'database.db' opened.\n",
      "INFO | Model.core.database | Generating new sets excel file 'sets.xlsx'\n",
      "DEBUG | Model.core.sql_manager | SQLite table '_set_SCENARIOS' - exported to sets.xlsx.\n",
      "DEBUG | Model.core.sql_manager | SQLite table '_set_TIME' - exported to sets.xlsx.\n",
      "DEBUG | Model.core.sql_manager | SQLite table '_set_TECHNOLOGIES' - exported to sets.xlsx.\n",
      "DEBUG | Model.core.sql_manager | SQLite table '_set_FLOWS' - exported to sets.xlsx.\n",
      "DEBUG | Model.core.sql_manager | SQLite table '_set_COSTS' - exported to sets.xlsx.\n",
      "DEBUG | Model.core.sql_manager | Connection to 'database.db' closed.\n",
      "INFO | Model.core.database | 'Database' object initialized.\n",
      "INFO | Model.core.problem | 'Problem' object initialization...\n",
      "INFO | Model.core.problem | 'Problem' object initialized.\n",
      "INFO | Model.core | 'Core' initialized.\n",
      "INFO | Model.pbi_manager | 'PBIManager' object generated.\n",
      "INFO | Model | 'Model' object initialized.\n"
     ]
    }
   ],
   "source": [
    "# generate model instance based on setup files filled by the user.\n",
    "# validates model directory before executing.\n",
    "import esm\n",
    "\n",
    "model_dir_name = '1_sut_multi_year'\n",
    "main_dir_path = 'D:\\git_repos\\pyesm\\default'\n",
    "\n",
    "model = esm.Model(\n",
    "    model_dir_name=model_dir_name,\n",
    "    main_dir_path=main_dir_path,\n",
    "    use_existing_data=False,\n",
    ")"
   ]
  },
  {
   "cell_type": "code",
   "execution_count": 2,
   "metadata": {},
   "outputs": [
    {
     "name": "stderr",
     "output_type": "stream",
     "text": [
      "INFO | Model | Loading new sets data and variable coordinates.\n",
      "INFO | Model.core.index | 'Index' object: loading new Sets data to Index.sets.\n",
      "DEBUG | Model.file_manager | Excel file 'sets.xlsx' loaded.\n",
      "INFO | Model.core.index | 'Index' object: loading variable coordinates to Index.data.\n",
      "INFO | Model.core.index | 'Index' object: loading variable coordinates to Index.variables.\n",
      "INFO | Model.core.index | Loading tables 'foreign_keys' to Index.data_tables.\n",
      "INFO | Model | Generating blank SQLite database and excel input files.\n",
      "DEBUG | Model.core.sql_manager | Connection to 'database.db' opened.\n",
      "INFO | Model.core.database | Loading Sets to 'database.db'.\n",
      "DEBUG | Model.core.sql_manager | SQLite table '_set_SCENARIOS' - table overwritten and 2 entries added.\n",
      "DEBUG | Model.core.sql_manager | SQLite table '_set_TIME' - table overwritten and 5 entries added.\n",
      "DEBUG | Model.core.sql_manager | SQLite table '_set_TECHNOLOGIES' - table overwritten and 3 entries added.\n",
      "DEBUG | Model.core.sql_manager | SQLite table '_set_FLOWS' - table overwritten and 2 entries added.\n",
      "DEBUG | Model.core.sql_manager | SQLite table '_set_COSTS' - table overwritten and 1 entries added.\n",
      "DEBUG | Model.core.sql_manager | Connection to 'database.db' closed.\n",
      "DEBUG | Model.core.sql_manager | Connection to 'database.db' opened.\n",
      "INFO | Model.core.database | Generation of empty SQLite database data tables.\n",
      "DEBUG | Model.core.sql_manager | Foreign keys enabled.\n",
      "DEBUG | Model.core.sql_manager | SQLite table 'D_coeff' - created with foreign keys.\n",
      "DEBUG | Model.core.sql_manager | SQLite table 'U_coeff' - created with foreign keys.\n",
      "DEBUG | Model.core.sql_manager | SQLite table 'C_coeff' - created with foreign keys.\n",
      "DEBUG | Model.core.sql_manager | SQLite table 'Y_tot' - created with foreign keys.\n",
      "DEBUG | Model.core.sql_manager | SQLite table 'X' - created with foreign keys.\n",
      "DEBUG | Model.core.sql_manager | SQLite table 'Q' - created with foreign keys.\n",
      "DEBUG | Model.core.sql_manager | SQLite table 'C_tot' - created with foreign keys.\n",
      "DEBUG | Model.core.sql_manager | Connection to 'database.db' closed.\n",
      "DEBUG | Model.core.sql_manager | Connection to 'database.db' opened.\n",
      "INFO | Model.core.database | Filling empty SQLite database variables tables with sets data.\n",
      "DEBUG | Model.core.sql_manager | SQLite table 'D_coeff' - table overwritten and 12 entries added.\n",
      "DEBUG | Model.core.sql_manager | SQLite table 'D_coeff' - column 'values' added.\n",
      "DEBUG | Model.core.sql_manager | SQLite table 'U_coeff' - table overwritten and 12 entries added.\n",
      "DEBUG | Model.core.sql_manager | SQLite table 'U_coeff' - column 'values' added.\n",
      "DEBUG | Model.core.sql_manager | SQLite table 'C_coeff' - table overwritten and 6 entries added.\n",
      "DEBUG | Model.core.sql_manager | SQLite table 'C_coeff' - column 'values' added.\n",
      "DEBUG | Model.core.sql_manager | SQLite table 'Y_tot' - table overwritten and 60 entries added.\n",
      "DEBUG | Model.core.sql_manager | SQLite table 'Y_tot' - column 'values' added.\n",
      "DEBUG | Model.core.sql_manager | SQLite table 'X' - table overwritten and 30 entries added.\n",
      "DEBUG | Model.core.sql_manager | SQLite table 'X' - column 'values' added.\n",
      "DEBUG | Model.core.sql_manager | SQLite table 'Q' - table overwritten and 20 entries added.\n",
      "DEBUG | Model.core.sql_manager | SQLite table 'Q' - column 'values' added.\n",
      "DEBUG | Model.core.sql_manager | SQLite table 'C_tot' - table overwritten and 30 entries added.\n",
      "DEBUG | Model.core.sql_manager | SQLite table 'C_tot' - column 'values' added.\n",
      "DEBUG | Model.core.sql_manager | Connection to 'database.db' closed.\n",
      "DEBUG | Model.core.sql_manager | Connection to 'database.db' opened.\n",
      "INFO | Model.core.database | Generation of data input file/s.\n",
      "DEBUG | Model.file_manager | Directory 'input_data' created.\n",
      "DEBUG | Model.core.sql_manager | SQLite table 'D_coeff' - exported to input_data.xlsx.\n",
      "DEBUG | Model.core.sql_manager | SQLite table 'U_coeff' - exported to input_data.xlsx.\n",
      "DEBUG | Model.core.sql_manager | SQLite table 'C_coeff' - exported to input_data.xlsx.\n",
      "DEBUG | Model.core.sql_manager | SQLite table 'Y_tot' - exported to input_data.xlsx.\n",
      "DEBUG | Model.core.sql_manager | Connection to 'database.db' closed.\n"
     ]
    }
   ],
   "source": [
    "# after filling sets.xlsx file: \n",
    "# - loading model coordinates to Index\n",
    "# - generating sqlite database tables for sets and variables\n",
    "# (variables tables in sqlite database empty)\n",
    "model.load_model_coordinates()\n",
    "model.initialize_blank_database()"
   ]
  },
  {
   "cell_type": "code",
   "execution_count": 3,
   "metadata": {},
   "outputs": [
    {
     "name": "stderr",
     "output_type": "stream",
     "text": [
      "INFO | Model | Loading input data to SQLite database.\n",
      "DEBUG | Model.core.sql_manager | Connection to 'database.db' opened.\n",
      "INFO | Model.core.database | Loading data input file/s filled by the user to SQLite database.\n",
      "DEBUG | Model.file_manager | Excel file 'input_data.xlsx' loaded.\n",
      "DEBUG | Model.core.sql_manager | SQLite table 'D_coeff' - 12 entries updated.\n",
      "DEBUG | Model.core.sql_manager | SQLite table 'U_coeff' - 12 entries updated.\n",
      "DEBUG | Model.core.sql_manager | SQLite table 'C_coeff' - 6 entries updated.\n",
      "DEBUG | Model.core.sql_manager | SQLite table 'Y_tot' - 60 entries updated.\n",
      "DEBUG | Model.core.sql_manager | Connection to 'database.db' closed.\n",
      "DEBUG | Model.core.sql_manager | Connection to 'database.db' opened.\n",
      "INFO | Model.core.database | Auto-completion of blank data in SQLite database.\n",
      "DEBUG | Model.core.sql_manager | Connection to 'database.db' closed.\n",
      "INFO | Model | Initializing numerical problems.\n",
      "INFO | Model.core | Initialize variables dataframes (cvxpy objects, filters dictionaries).\n",
      "DEBUG | Model.core.problem | Generating dataframe for variable 'd' (cvxpy object, filter dictionary).\n",
      "DEBUG | Model.core.problem | Generating dataframe for variable 'u' (cvxpy object, filter dictionary).\n",
      "DEBUG | Model.core.problem | Generating dataframe for variable 'c' (cvxpy object, filter dictionary).\n",
      "DEBUG | Model.core.problem | Generating dataframe for variable 'Y' (cvxpy object, filter dictionary).\n",
      "DEBUG | Model.core.problem | Generating constant 'i_1y' as 'sum_vector'.\n",
      "DEBUG | Model.core.problem | Generating constant 'i_t1' as 'sum_vector'.\n",
      "DEBUG | Model.core.problem | Generating dataframe for variable 'X' (cvxpy object, filter dictionary).\n",
      "DEBUG | Model.core.problem | Generating dataframe for variable 'Q' (cvxpy object, filter dictionary).\n",
      "DEBUG | Model.core.problem | Generating dataframe for variable 'C' (cvxpy object, filter dictionary).\n",
      "DEBUG | Model.core.sql_manager | Connection to 'database.db' opened.\n",
      "INFO | Model.core | Fetching data from 'database.db' to cvxpy exogenous variables.\n",
      "DEBUG | Model.core | Fetching data from table 'd' to cvxpy exogenous variable.\n",
      "DEBUG | Model.core | Fetching data from table 'u' to cvxpy exogenous variable.\n",
      "DEBUG | Model.core | Fetching data from table 'c' to cvxpy exogenous variable.\n",
      "DEBUG | Model.core | Fetching data from table 'Y' to cvxpy exogenous variable.\n",
      "DEBUG | Model.core.sql_manager | Connection to 'database.db' closed.\n",
      "INFO | Model.core | Load symbolic problem, initialize dataframes with cvxpy problems \n",
      "INFO | Model.core.problem | Loading symbolic problem from 'problem.yml' file.\n",
      "DEBUG | Model.file_manager | File 'problem.yml' loaded.\n",
      "INFO | Model.core.problem | Defining numeric problems based on symbolic problem.\n",
      "DEBUG | Model.core.problem | Defining numeric problem for combination of sets: ['fossil based'].\n",
      "DEBUG | Model.core.problem | Defining numeric problem for combination of sets: ['renewable based'].\n"
     ]
    }
   ],
   "source": [
    "# after filling input_data file/s:\n",
    "# - loading input data into sqlite database variables tables\n",
    "# - initialize problem\n",
    "model.load_data_files_to_database()\n",
    "model.initialize_problems()"
   ]
  },
  {
   "cell_type": "markdown",
   "metadata": {},
   "source": [
    "- - - \n",
    "MODEL GENERATION FROM EXISTING DATA\n",
    "\n",
    "Generation of a new model working with existing database and data input files."
   ]
  },
  {
   "cell_type": "code",
   "execution_count": 7,
   "metadata": {},
   "outputs": [
    {
     "name": "stderr",
     "output_type": "stream",
     "text": [
      "INFO | Model | 'Model' object initialization...\n",
      "INFO | Model.file_manager | 'FileManager' object generated.\n",
      "INFO | Model | Defining settings from model arguments.\n",
      "INFO | Model | Defining paths from model arguments.\n",
      "INFO | Model | Model directory and required setup files validated.\n",
      "INFO | Model.core | 'Core' object initialization...\n",
      "INFO | Model.core.sql_manager | 'SQLManager' object generation.\n",
      "INFO | Model.core.index | 'Index' object initialization...\n",
      "INFO | Model.core.index | Loading and validating data from file, generating 'SetTable' objects.\n",
      "DEBUG | Model.file_manager | File 'structure_sets.yml' loaded.\n",
      "INFO | Model.core.index | Loading and validating data from file, generating 'DataTable' objects.\n",
      "DEBUG | Model.file_manager | File 'structure_variables.yml' loaded.\n",
      "INFO | Model.core.index | Fetching and validating data, generating 'Variable' objects.\n",
      "DEBUG | Model.core.index | Fetching 'coordinates_info' to Index.variables.\n",
      "INFO | Model.core.index | 'Index' object initialized.\n",
      "INFO | Model.core.database | 'Database' object initialization...\n",
      "INFO | Model.core.database | 'Database' object initialized.\n",
      "INFO | Model.core.problem | 'Problem' object initialization...\n",
      "INFO | Model.core.problem | 'Problem' object initialized.\n",
      "INFO | Model.core | 'Core' initialized.\n",
      "INFO | Model | Loading existing sets data and variable coordinates.\n",
      "INFO | Model.core.index | 'Index' object: loading new Sets data to Index.sets.\n",
      "DEBUG | Model.file_manager | Excel file 'sets.xlsx' loaded.\n",
      "INFO | Model.core.index | 'Index' object: loading variable coordinates to Index.data.\n",
      "INFO | Model.core.index | 'Index' object: loading variable coordinates to Index.variables.\n",
      "INFO | Model.core.index | Loading tables 'foreign_keys' to Index.data_tables.\n",
      "INFO | Model | Initializing numerical problems.\n",
      "INFO | Model.core | Initialize variables dataframes (cvxpy objects, filters dictionaries).\n",
      "DEBUG | Model.core.problem | Generating dataframe for variable 'd' (cvxpy object, filter dictionary).\n",
      "DEBUG | Model.core.problem | Generating dataframe for variable 'u' (cvxpy object, filter dictionary).\n",
      "DEBUG | Model.core.problem | Generating dataframe for variable 'c' (cvxpy object, filter dictionary).\n",
      "DEBUG | Model.core.problem | Generating dataframe for variable 'Y' (cvxpy object, filter dictionary).\n",
      "DEBUG | Model.core.problem | Generating constant 'i_1y' as 'sum_vector'.\n",
      "DEBUG | Model.core.problem | Generating constant 'i_t1' as 'sum_vector'.\n",
      "DEBUG | Model.core.problem | Generating dataframe for variable 'X' (cvxpy object, filter dictionary).\n",
      "DEBUG | Model.core.problem | Generating dataframe for variable 'Q' (cvxpy object, filter dictionary).\n",
      "DEBUG | Model.core.problem | Generating dataframe for variable 'C' (cvxpy object, filter dictionary).\n",
      "DEBUG | Model.core.sql_manager | Connection to 'database.db' opened.\n",
      "INFO | Model.core | Fetching data from 'database.db' to cvxpy exogenous variables.\n",
      "DEBUG | Model.core | Fetching data from table 'd' to cvxpy exogenous variable.\n",
      "DEBUG | Model.core | Fetching data from table 'u' to cvxpy exogenous variable.\n",
      "DEBUG | Model.core | Fetching data from table 'c' to cvxpy exogenous variable.\n",
      "DEBUG | Model.core | Fetching data from table 'Y' to cvxpy exogenous variable.\n",
      "DEBUG | Model.core.sql_manager | Connection to 'database.db' closed.\n",
      "INFO | Model.core | Load symbolic problem, initialize dataframes with cvxpy problems \n",
      "INFO | Model.core.problem | Loading symbolic problem from 'problem.yml' file.\n",
      "DEBUG | Model.file_manager | File 'problem.yml' loaded.\n",
      "INFO | Model.core.problem | Defining numeric problems based on symbolic problem.\n",
      "DEBUG | Model.core.problem | Defining numeric problem for combination of sets: ['fossil based'].\n",
      "DEBUG | Model.core.problem | Defining numeric problem for combination of sets: ['renewable based'].\n",
      "INFO | Model.pbi_manager | 'PBIManager' object generated.\n",
      "INFO | Model | 'Model' object initialized.\n"
     ]
    }
   ],
   "source": [
    "# generate model instance based on setup files filled by the user.\n",
    "# validates model directory (in case user relies on existing directory). \n",
    "# parse settings and paths.\n",
    "# loading model coordinates\n",
    "# initializing numerical problem\n",
    "import esm \n",
    "\n",
    "model_dir_name = '1_sut_multi_year'\n",
    "main_dir_path = 'D:\\git_repos\\pyesm\\default'\n",
    "\n",
    "model = esm.Model(\n",
    "    model_dir_name=model_dir_name,\n",
    "    main_dir_path=main_dir_path,\n",
    "    use_existing_data=True,\n",
    "    log_level='debug'\n",
    ")"
   ]
  },
  {
   "cell_type": "markdown",
   "metadata": {},
   "source": [
    "- - -\n",
    "DATA and MODEL UPDATE, MODEL RUN \n",
    "\n",
    "updating SQLite database with new data, \n",
    "re-initializing numerical problem\n",
    "\n",
    "solving numerical model, \n",
    "results export to sqlite database, \n",
    "generation of powerbi dataset"
   ]
  },
  {
   "cell_type": "code",
   "execution_count": 8,
   "metadata": {},
   "outputs": [
    {
     "name": "stderr",
     "output_type": "stream",
     "text": [
      "INFO | Model | Updating SQLite database and initialize problems.\n",
      "INFO | Model | Loading input data to SQLite database.\n",
      "DEBUG | Model.core.sql_manager | Connection to 'database.db' opened.\n",
      "INFO | Model.core.database | Loading data input file/s filled by the user to SQLite database.\n",
      "DEBUG | Model.file_manager | Excel file 'input_data.xlsx' loaded.\n",
      "WARNING | Model.core.sql_manager | SQLite table D_coeff already up to date.\n",
      "WARNING | Model.core.sql_manager | SQLite table U_coeff already up to date.\n",
      "DEBUG | Model.core.sql_manager | SQLite table 'C_coeff' - 6 entries updated.\n",
      "WARNING | Model.core.sql_manager | SQLite table Y_tot already up to date.\n",
      "DEBUG | Model.core.sql_manager | Connection to 'database.db' closed.\n",
      "DEBUG | Model.core.sql_manager | Connection to 'database.db' opened.\n",
      "INFO | Model.core.database | Auto-completion of blank data in SQLite database.\n",
      "DEBUG | Model.core.sql_manager | Connection to 'database.db' closed.\n",
      "INFO | Model | Initializing numerical problems.\n",
      "INFO | Model.core | Initialize variables dataframes (cvxpy objects, filters dictionaries).\n",
      "DEBUG | Model.core.problem | Generating dataframe for variable 'd' (cvxpy object, filter dictionary).\n",
      "DEBUG | Model.core.problem | Generating dataframe for variable 'u' (cvxpy object, filter dictionary).\n",
      "DEBUG | Model.core.problem | Generating dataframe for variable 'c' (cvxpy object, filter dictionary).\n",
      "DEBUG | Model.core.problem | Generating dataframe for variable 'Y' (cvxpy object, filter dictionary).\n",
      "DEBUG | Model.core.problem | Generating constant 'i_1y' as 'sum_vector'.\n",
      "DEBUG | Model.core.problem | Generating constant 'i_t1' as 'sum_vector'.\n",
      "DEBUG | Model.core.problem | Generating dataframe for variable 'X' (cvxpy object, filter dictionary).\n",
      "DEBUG | Model.core.problem | Generating dataframe for variable 'Q' (cvxpy object, filter dictionary).\n",
      "DEBUG | Model.core.problem | Generating dataframe for variable 'C' (cvxpy object, filter dictionary).\n",
      "DEBUG | Model.core.sql_manager | Connection to 'database.db' opened.\n",
      "INFO | Model.core | Fetching data from 'database.db' to cvxpy exogenous variables.\n",
      "DEBUG | Model.core | Fetching data from table 'd' to cvxpy exogenous variable.\n",
      "DEBUG | Model.core | Fetching data from table 'u' to cvxpy exogenous variable.\n",
      "DEBUG | Model.core | Fetching data from table 'c' to cvxpy exogenous variable.\n",
      "DEBUG | Model.core | Fetching data from table 'Y' to cvxpy exogenous variable.\n",
      "DEBUG | Model.core.sql_manager | Connection to 'database.db' closed.\n",
      "INFO | Model.core | Load symbolic problem, initialize dataframes with cvxpy problems \n",
      "WARNING | Model.core.problem | Symbolic problem already loaded.\n",
      "INFO | Model.core.problem | Symbolic problem updated.\n",
      "DEBUG | Model.file_manager | File 'problem.yml' loaded.\n",
      "WARNING | Model.core.problem | Numeric problem already defined.\n",
      "INFO | Model.core.problem | Numeric problem overwritten.\n",
      "DEBUG | Model.core.problem | Defining numeric problem for combination of sets: ['fossil based'].\n",
      "DEBUG | Model.core.problem | Defining numeric problem for combination of sets: ['renewable based'].\n"
     ]
    }
   ],
   "source": [
    "# in case of modifications in input data files (not in sets),\n",
    "# update database and problem\n",
    "model.update_database_and_problem()"
   ]
  },
  {
   "cell_type": "code",
   "execution_count": null,
   "metadata": {},
   "outputs": [],
   "source": [
    "# in case of modifications in symbolic problem,\n",
    "# update problems dataframe and symbolic problem\n",
    "model.initialize_problems()"
   ]
  },
  {
   "cell_type": "code",
   "execution_count": 9,
   "metadata": {},
   "outputs": [
    {
     "name": "stderr",
     "output_type": "stream",
     "text": [
      "INFO | Model | Running numerical model.\n",
      "INFO | Model.core.problem | Solving problem: ['fossil based'].\n",
      "INFO | Model.core.problem | Problem status: 'optimal'\n",
      "INFO | Model.core.problem | Solving problem: ['renewable based'].\n",
      "INFO | Model.core.problem | Problem status: 'optimal'\n"
     ]
    }
   ],
   "source": [
    "# solve numerical problems\n",
    "model.run_model(verbose=False)"
   ]
  },
  {
   "cell_type": "code",
   "execution_count": 10,
   "metadata": {},
   "outputs": [
    {
     "name": "stderr",
     "output_type": "stream",
     "text": [
      "INFO | Model | Exporting endogenous model results to SQLite database.\n",
      "DEBUG | Model.core.sql_manager | Connection to 'database.db' opened.\n",
      "INFO | Model.core | Fetching data from cvxpy endogenous variables to SQLite database 'database.db' \n",
      "DEBUG | Model.core | Fetching data from cvxpy variable 'X' to the related SQLite table.\n",
      "DEBUG | Model.core.sql_manager | SQLite table 'X' - 20 entries updated.\n",
      "DEBUG | Model.core | Fetching data from cvxpy variable 'Q' to the related SQLite table.\n",
      "DEBUG | Model.core.sql_manager | SQLite table 'Q' - 20 entries updated.\n",
      "DEBUG | Model.core | Fetching data from cvxpy variable 'C' to the related SQLite table.\n",
      "DEBUG | Model.core.sql_manager | SQLite table 'C_tot' - 20 entries updated.\n",
      "DEBUG | Model.core.sql_manager | Connection to 'database.db' closed.\n",
      "INFO | Model | Generating PowerBI report.\n",
      "DEBUG | Model.pbi_manager | Generation of PowerBI report file 'dataset.pbix'.\n"
     ]
    }
   ],
   "source": [
    "# once model has successfully solved, load endogenous parameters data to \n",
    "# sqlite database and generate powerbi dataset.\n",
    "model.load_results_to_database()\n",
    "model.generate_pbi_report()"
   ]
  },
  {
   "cell_type": "markdown",
   "metadata": {},
   "source": [
    "- - - \n",
    "TESTS"
   ]
  },
  {
   "cell_type": "code",
   "execution_count": null,
   "metadata": {},
   "outputs": [],
   "source": [
    "for var_key, variable in model.core.index.variables.items():\n",
    "    print(\n",
    "        var_key, ' ',\n",
    "        'shape:', variable.shape, ' ',\n",
    "        'shape_size:', variable.shape_size, ' ',\n",
    "        # 'is_square:', variable.is_square, ' ',\n",
    "        # 'is_vector:', variable.is_vector, ' ',\n",
    "        # 'dim_labels:', variable.dim_labels, ' ',\n",
    "        # 'dim_items:', variable.dim_items, ' ',\n",
    "    )\n"
   ]
  },
  {
   "cell_type": "code",
   "execution_count": null,
   "metadata": {},
   "outputs": [],
   "source": [
    "model.core.index.variables"
   ]
  },
  {
   "cell_type": "code",
   "execution_count": null,
   "metadata": {},
   "outputs": [],
   "source": [
    "model.core.index.sets.technologies"
   ]
  },
  {
   "cell_type": "code",
   "execution_count": null,
   "metadata": {},
   "outputs": [],
   "source": [
    "model.core.problem.symbolic_problem"
   ]
  },
  {
   "cell_type": "code",
   "execution_count": null,
   "metadata": {},
   "outputs": [],
   "source": [
    "model.core.problem.numeric_problems"
   ]
  },
  {
   "cell_type": "code",
   "execution_count": null,
   "metadata": {},
   "outputs": [],
   "source": [
    "import cvxpy as cp\n",
    "import numpy as np\n",
    "\n",
    "# Problem data.\n",
    "m = 5\n",
    "n = 2\n",
    "\n",
    "# Construct the problem.\n",
    "x = cp.Variable((n,1))\n",
    "A = cp.Constant(np.random.randn(m, n))\n",
    "b = cp.Constant(1)\n",
    "\n",
    "\n",
    "C = cp.Constant(np.random.randn(n, n))\n",
    "I = cp.Constant(np.eye(n))\n",
    "\n",
    "objective = cp.Minimize(cp.sum_squares(A @ x - b))\n",
    "constraints = [0 <= x, x <= 1]\n",
    "prob = cp.Problem(objective, constraints)\n",
    "\n",
    "# The optimal objective value is returned by `prob.solve()`.\n",
    "result = prob.solve(solver='GUROBI', verbose=False)\n",
    "# The optimal value for x is stored in `x.value`.\n",
    "\n",
    "x.value\n"
   ]
  },
  {
   "cell_type": "code",
   "execution_count": null,
   "metadata": {},
   "outputs": [],
   "source": [
    "v_24 = cp.Variable((2,4))\n",
    "c_24 = cp.Constant(np.ones((2,4)))\n",
    "c_41 = cp.Constant(np.ones((4,1)))\n",
    "\n",
    "constraints = [v_24 == c_24 + c_41.T]\n",
    "prob = cp.Problem(cp.Minimize(1), constraints)\n",
    "prob.solve(solver='GUROBI', verbose=False)\n",
    "\n",
    "print(f'v_24 = {v_24.value} \\n')\n",
    "print(f'c_24 = {c_24.value} \\n')\n",
    "print(f'c_41 = {c_41.T.value} \\n')\n"
   ]
  },
  {
   "cell_type": "code",
   "execution_count": null,
   "metadata": {},
   "outputs": [],
   "source": [
    "# DEFINIZIONE COSTANTI PER TRASFORMARE I VARI OPERATORI VETTORIALI\n",
    "import cvxpy as cp\n",
    "import numpy as np\n",
    "\n",
    "var_a = cp.Variable((3,2))\n",
    "var_a.value = np.ones((var_a.shape))*3\n",
    "var_b = cp.Variable((3,1))\n",
    "\n",
    "i_21 = cp.Constant(np.ones((2,1)))\n",
    "i_13 = cp.Constant(np.ones((1,3)))\n",
    "\n",
    "allowed_vars = {\n",
    "    'A': var_a,\n",
    "    'B': var_b,\n",
    "    'i_21': i_21,\n",
    "    'i_13': i_13,\n",
    "}\n",
    "\n",
    "allowed_ops = {\n",
    "    '+': '+',\n",
    "    '-': '-',\n",
    "    '*': '*',\n",
    "    '@': '@',\n",
    "    '==': '==',\n",
    "    '>=': '>=',\n",
    "    '<=': '<=',\n",
    "    '(': '(',\n",
    "    ')': ')',\n",
    "    ',':',',\n",
    "    'sum': cp.sum,\n",
    "}\n",
    "\n",
    "expr = model.core.problem.execute_cvxpy_code(\n",
    "    expression='i_13 @ A @ i_21',\n",
    "    allowed_variables=allowed_vars,\n",
    "    allowed_operators=allowed_ops\n",
    ")\n",
    "\n",
    "expr2 = model.core.problem.execute_cvxpy_code(\n",
    "    expression='sum(B)',\n",
    "    allowed_variables=allowed_vars,\n",
    "    allowed_operators=allowed_ops\n",
    ")\n",
    "\n",
    "expr"
   ]
  },
  {
   "cell_type": "code",
   "execution_count": null,
   "metadata": {},
   "outputs": [],
   "source": [
    "model.core.database.sqltools.open_connection()\n",
    "\n",
    "var = model.core.database.sqltools.filtered_table_to_dataframe(\n",
    "    table_name='u',\n",
    "    filters_dict={\n",
    "        's_Name': ['Reference'],\n",
    "        'dt_Name': [2023],\n",
    "        'f_Name': ['Energy', 'Steel'],\n",
    "        't_Name': ['PV power plant', 'Steel factory', 'Gas power plant']\n",
    "    }\n",
    ")\n",
    "\n",
    "# filter_1 = test.core.database.sqltools.get_related_table_keys(\n",
    "#     child_column_name='f_Name',\n",
    "#     parent_table_name='_set_FLOWS',\n",
    "#     parent_table_fields={\n",
    "#         'f_Category': ['Product flow'],\n",
    "#     }\n",
    "# )\n",
    "\n",
    "# filter_2 = test.core.database.sqltools.get_related_table_keys(\n",
    "#     child_column_name='dt_Name',\n",
    "#     parent_table_name='_set_DATETIME',\n",
    "#     parent_table_fields={\n",
    "#         'dt_Name': [2023],\n",
    "#     }\n",
    "# )\n",
    "\n",
    "# var_custom_filter = test.core.database.sqltools.filtered_table_to_dataframe(\n",
    "#     table_name='v',\n",
    "#     filters_dict={\n",
    "#         **filter_1,\n",
    "#         **filter_2,\n",
    "#         **{'f_Name': ['Steel']},\n",
    "#     }\n",
    "# )\n",
    "\n",
    "model.core.database.sqltools.close_connection()\n",
    "\n",
    "# filter_1, filter_2\n",
    "var"
   ]
  }
 ],
 "metadata": {
  "kernelspec": {
   "display_name": "esm_dev",
   "language": "python",
   "name": "python3"
  },
  "language_info": {
   "codemirror_mode": {
    "name": "ipython",
    "version": 3
   },
   "file_extension": ".py",
   "mimetype": "text/x-python",
   "name": "python",
   "nbconvert_exporter": "python",
   "pygments_lexer": "ipython3",
   "version": "3.10.13"
  },
  "orig_nbformat": 4
 },
 "nbformat": 4,
 "nbformat_minor": 2
}
