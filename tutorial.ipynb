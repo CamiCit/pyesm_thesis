{
 "cells": [
  {
   "cell_type": "markdown",
   "metadata": {},
   "source": [
    "## pyESM - Python based Engineering Systems Modelling (pyESM)\n",
    "Python based engineering systems modelling framework based on the Supply and Use structure"
   ]
  },
  {
   "cell_type": "markdown",
   "metadata": {},
   "source": [
    "- - -\n",
    "PACKAGE LOCAL INSTALLATION and USAGE\n",
    "\n",
    "Editable local installation:\n",
    "1. Create a virtual environment based on 'environment.yml' file.\n",
    "2. In the cmd, run: >>> python -m pip install -e \"path/to/pyesm\"\n",
    "3. From the virtual environment: >>> import esm\n",
    "4. Use esm APIs (Model class)\n"
   ]
  },
  {
   "cell_type": "markdown",
   "metadata": {},
   "source": [
    "- - -\n",
    "CREATE/UPDATE ENVIRONMENT BASED ON YML FILE IN PROJECT REPO\n",
    "\n",
    "In the prompt:\n",
    "- From the path where environment.yml is present: >>> conda env create -f environment.yml\n",
    "- The environment is named \"esm\", so type >>> conda activate esm\n",
    "\n",
    "UPDATE ENVIRONMENT YML FILE (in case of modifications)\n",
    "\n",
    "In the prompt: \n",
    "- activate the working environment: >>> conda activate your_environment_name\n",
    "- export environment.yml file based on the working environment: >>> conda env export > environment.yml\n"
   ]
  },
  {
   "cell_type": "markdown",
   "metadata": {
    "slideshow": {
     "slide_type": "slide"
    }
   },
   "source": [
    "- - - \n",
    "MODEL DIRECTORY GENERATION\n",
    "\n",
    "Generation of a model directory based on a model template or with blank setup files."
   ]
  },
  {
   "cell_type": "code",
   "execution_count": null,
   "metadata": {},
   "outputs": [],
   "source": [
    "# create model directory with essential setup files\n",
    "# to be used only to generate models from scratch\n",
    "# template models can be imported \n",
    "import esm\n",
    "\n",
    "model_dir_name = '0_test_structure'\n",
    "main_dir_path = 'D:\\git_repos\\pyesm\\default'\n",
    "\n",
    "esm.create_model_dir(\n",
    "    model_dir_name=model_dir_name,\n",
    "    main_dir_path=main_dir_path,\n",
    "    default_model=None,\n",
    "    force_overwrite=False,\n",
    ")"
   ]
  },
  {
   "cell_type": "markdown",
   "metadata": {},
   "source": [
    "- - - \n",
    "GENERATION OF A NEW MODEL FROM SCRATCH\n",
    "\n",
    "Generation of a new model defined by setup files.\n",
    "\n",
    "Step-by-step model creation with sets, data and problems generation."
   ]
  },
  {
   "cell_type": "code",
   "execution_count": null,
   "metadata": {},
   "outputs": [],
   "source": [
    "# generate model instance based on setup files filled by the user.\n",
    "# validates model directory before executing.\n",
    "import esm\n",
    "\n",
    "model_dir_name = '0_test_structure'\n",
    "main_dir_path = 'D:\\git_repos\\pyesm\\default'\n",
    "\n",
    "model = esm.Model(\n",
    "    model_dir_name=model_dir_name,\n",
    "    main_dir_path=main_dir_path,\n",
    "    use_existing_data=False,\n",
    ")"
   ]
  },
  {
   "cell_type": "code",
   "execution_count": null,
   "metadata": {},
   "outputs": [],
   "source": [
    "# after filling sets.xlsx file: \n",
    "# - loading model coordinates to Index\n",
    "# - generating sqlite database tables for sets and variables\n",
    "# (variables tables in sqlite database empty)\n",
    "model.load_model_coordinates()\n",
    "model.initialize_blank_database()"
   ]
  },
  {
   "cell_type": "code",
   "execution_count": null,
   "metadata": {},
   "outputs": [],
   "source": [
    "# after filling input_data file/s:\n",
    "# - loading input data into sqlite database variables tables\n",
    "# - initialize problem\n",
    "# model.load_data_files_to_database()\n",
    "model.initialize_problems()"
   ]
  },
  {
   "cell_type": "markdown",
   "metadata": {},
   "source": [
    "- - - \n",
    "MODEL GENERATION FROM EXISTING DATA\n",
    "\n",
    "Generation of a new model working with existing database and data input files."
   ]
  },
  {
   "cell_type": "code",
   "execution_count": 1,
   "metadata": {},
   "outputs": [
    {
     "name": "stderr",
     "output_type": "stream",
     "text": [
      "INFO | Model | 'Model' object initialization...\n",
      "INFO | Model.file_manager | 'FileManager' object generated.\n",
      "INFO | Model | Defining settings from model arguments.\n",
      "INFO | Model | Defining paths from model arguments.\n",
      "INFO | Model | Model directory and required setup files validated.\n",
      "INFO | Model.core | 'Core' object initialization...\n",
      "INFO | Model.core.sql_manager | 'SQLManager' object generation.\n",
      "INFO | Model.core.index | 'Index' object initialization...\n",
      "INFO | Model.core.index | Loading and validating data from file, generating 'SetTable' objects.\n",
      "DEBUG | Model.file_manager | File 'structure_sets.yml' loaded.\n",
      "INFO | Model.core.index | Loading and validating data from file, generating 'DataTable' objects.\n",
      "DEBUG | Model.file_manager | File 'structure_variables.yml' loaded.\n",
      "INFO | Model.core.index | Fetching and validating data, generating 'Variable' objects.\n",
      "DEBUG | Model.core.index | Fetching 'coordinates_info' to Index.variables.\n",
      "INFO | Model.core.index | 'Index' object initialized.\n",
      "INFO | Model.core.database | 'Database' object initialization...\n",
      "INFO | Model.core.database | 'Database' object initialized.\n",
      "INFO | Model.core.problem | 'Problem' object initialization...\n",
      "INFO | Model.core.problem | 'Problem' object initialized.\n",
      "INFO | Model.core | 'Core' initialized.\n",
      "INFO | Model | Loading existing sets data and variable coordinates.\n",
      "INFO | Model.core.index | 'Index' object: loading new Sets data to Index.sets.\n",
      "DEBUG | Model.file_manager | Excel file 'sets.xlsx' loaded.\n",
      "INFO | Model.core.index | 'Index' object: loading variable coordinates to Index.data.\n",
      "INFO | Model.core.index | 'Index' object: loading variable coordinates to Index.variables.\n",
      "INFO | Model.core.index | Loading tables 'foreign_keys' to Index.data_tables.\n",
      "INFO | Model | Initializing numerical problems.\n",
      "INFO | Model.core | Initialize variables dataframes (cvxpy objects, filters dictionaries).\n",
      "DEBUG | Model.core.problem | Generating dataframe for variable 'V_tf' (cvxpy object, filter dictionary).\n",
      "DEBUG | Model.core.problem | Generating dataframe for variable 'V_yt' (cvxpy object, filter dictionary).\n",
      "DEBUG | Model.core.problem | Generating dataframe for variable 'V_ff' (cvxpy object, filter dictionary).\n",
      "DEBUG | Model.core.problem | Generating constant 'I_rcot' as 'sum_vector'.\n",
      "DEBUG | Model.core.problem | Generating constant 'i_t1' as 'sum_vector'.\n",
      "DEBUG | Model.core.problem | Generating constant 'T' as 'lower_triangular'.\n",
      "DEBUG | Model.core.problem | Generating dataframe for variable 'X_tf' (cvxpy object, filter dictionary).\n",
      "DEBUG | Model.core.problem | Generating dataframe for variable 'X_yt' (cvxpy object, filter dictionary).\n",
      "DEBUG | Model.core.problem | Generating dataframe for variable 'X_ff' (cvxpy object, filter dictionary).\n",
      "DEBUG | Model.core.sql_manager | Connection to 'database.db' opened.\n",
      "INFO | Model.core | Fetching data from 'database.db' to cvxpy exogenous variables.\n",
      "DEBUG | Model.core.sql_manager | Connection to 'database.db' closed.\n",
      "INFO | Model.core | Load symbolic problem, initialize dataframes with cvxpy problems \n",
      "INFO | Model.core.problem | Loading symbolic problem from 'problem.yml' file.\n",
      "DEBUG | Model.file_manager | File 'problem.yml' loaded.\n",
      "INFO | Model.core.problem | Defining numeric problems based on symbolic problem.\n",
      "DEBUG | Model.core.problem | Defining numeric problem for combination of sets: ['reference', 'low'].\n"
     ]
    },
    {
     "ename": "KeyError",
     "evalue": "'s_Name'",
     "output_type": "error",
     "traceback": [
      "\u001b[1;31m---------------------------------------------------------------------------\u001b[0m",
      "\u001b[1;31mKeyError\u001b[0m                                  Traceback (most recent call last)",
      "\u001b[1;32m~\\AppData\\Local\\Temp\\ipykernel_17900\\2097284718.py\u001b[0m in \u001b[0;36m?\u001b[1;34m()\u001b[0m\n\u001b[0;32m      7\u001b[0m \u001b[1;33m\u001b[0m\u001b[0m\n\u001b[0;32m      8\u001b[0m \u001b[0mmodel_dir_name\u001b[0m \u001b[1;33m=\u001b[0m \u001b[1;34m'0_test_structure'\u001b[0m\u001b[1;33m\u001b[0m\u001b[1;33m\u001b[0m\u001b[0m\n\u001b[0;32m      9\u001b[0m \u001b[0mmain_dir_path\u001b[0m \u001b[1;33m=\u001b[0m \u001b[1;34m'D:\\git_repos\\pyesm\\default'\u001b[0m\u001b[1;33m\u001b[0m\u001b[1;33m\u001b[0m\u001b[0m\n\u001b[0;32m     10\u001b[0m \u001b[1;33m\u001b[0m\u001b[0m\n\u001b[1;32m---> 11\u001b[1;33m model = esm.Model(\n\u001b[0m\u001b[0;32m     12\u001b[0m     \u001b[0mmodel_dir_name\u001b[0m\u001b[1;33m=\u001b[0m\u001b[0mmodel_dir_name\u001b[0m\u001b[1;33m,\u001b[0m\u001b[1;33m\u001b[0m\u001b[1;33m\u001b[0m\u001b[0m\n\u001b[0;32m     13\u001b[0m     \u001b[0mmain_dir_path\u001b[0m\u001b[1;33m=\u001b[0m\u001b[0mmain_dir_path\u001b[0m\u001b[1;33m,\u001b[0m\u001b[1;33m\u001b[0m\u001b[1;33m\u001b[0m\u001b[0m\n\u001b[0;32m     14\u001b[0m     \u001b[0muse_existing_data\u001b[0m\u001b[1;33m=\u001b[0m\u001b[1;32mTrue\u001b[0m\u001b[1;33m,\u001b[0m\u001b[1;33m\u001b[0m\u001b[1;33m\u001b[0m\u001b[0m\n",
      "\u001b[1;32md:\\git_repos\\pyesm\\esm\\base\\model.py\u001b[0m in \u001b[0;36m?\u001b[1;34m(self, model_dir_name, main_dir_path, use_existing_data, multiple_input_files, log_level, log_format, sets_xlsx_file, input_data_dir, input_data_file, sqlite_database_file, sqlite_database_foreign_keys, powerbi_report_file)\u001b[0m\n\u001b[0;32m     71\u001b[0m         )\n\u001b[0;32m     72\u001b[0m \u001b[1;33m\u001b[0m\u001b[0m\n\u001b[0;32m     73\u001b[0m         \u001b[1;32mif\u001b[0m \u001b[0mself\u001b[0m\u001b[1;33m.\u001b[0m\u001b[0msettings\u001b[0m\u001b[1;33m[\u001b[0m\u001b[1;34m'use_existing_data'\u001b[0m\u001b[1;33m]\u001b[0m\u001b[1;33m:\u001b[0m\u001b[1;33m\u001b[0m\u001b[1;33m\u001b[0m\u001b[0m\n\u001b[0;32m     74\u001b[0m             \u001b[0mself\u001b[0m\u001b[1;33m.\u001b[0m\u001b[0mload_model_coordinates\u001b[0m\u001b[1;33m(\u001b[0m\u001b[1;33m)\u001b[0m\u001b[1;33m\u001b[0m\u001b[1;33m\u001b[0m\u001b[0m\n\u001b[1;32m---> 75\u001b[1;33m             \u001b[0mself\u001b[0m\u001b[1;33m.\u001b[0m\u001b[0minitialize_problems\u001b[0m\u001b[1;33m(\u001b[0m\u001b[1;33m)\u001b[0m\u001b[1;33m\u001b[0m\u001b[1;33m\u001b[0m\u001b[0m\n\u001b[0m\u001b[0;32m     76\u001b[0m \u001b[1;33m\u001b[0m\u001b[0m\n\u001b[0;32m     77\u001b[0m         self.pbi_tools = PBIManager(\n\u001b[0;32m     78\u001b[0m             \u001b[0mlogger\u001b[0m\u001b[1;33m=\u001b[0m\u001b[0mself\u001b[0m\u001b[1;33m.\u001b[0m\u001b[0mlogger\u001b[0m\u001b[1;33m,\u001b[0m\u001b[1;33m\u001b[0m\u001b[1;33m\u001b[0m\u001b[0m\n",
      "\u001b[1;32md:\\git_repos\\pyesm\\esm\\base\\model.py\u001b[0m in \u001b[0;36m?\u001b[1;34m(self)\u001b[0m\n\u001b[0;32m    150\u001b[0m     ) -> None:\n\u001b[0;32m    151\u001b[0m         \u001b[0mself\u001b[0m\u001b[1;33m.\u001b[0m\u001b[0mlogger\u001b[0m\u001b[1;33m.\u001b[0m\u001b[0minfo\u001b[0m\u001b[1;33m(\u001b[0m\u001b[1;34m'Initializing numerical problems.'\u001b[0m\u001b[1;33m)\u001b[0m\u001b[1;33m\u001b[0m\u001b[1;33m\u001b[0m\u001b[0m\n\u001b[0;32m    152\u001b[0m         \u001b[0mself\u001b[0m\u001b[1;33m.\u001b[0m\u001b[0mcore\u001b[0m\u001b[1;33m.\u001b[0m\u001b[0minitialize_problems_variables\u001b[0m\u001b[1;33m(\u001b[0m\u001b[1;33m)\u001b[0m\u001b[1;33m\u001b[0m\u001b[1;33m\u001b[0m\u001b[0m\n\u001b[0;32m    153\u001b[0m         \u001b[0mself\u001b[0m\u001b[1;33m.\u001b[0m\u001b[0mcore\u001b[0m\u001b[1;33m.\u001b[0m\u001b[0mdata_to_cvxpy_exogenous_vars\u001b[0m\u001b[1;33m(\u001b[0m\u001b[1;33m)\u001b[0m\u001b[1;33m\u001b[0m\u001b[1;33m\u001b[0m\u001b[0m\n\u001b[1;32m--> 154\u001b[1;33m         \u001b[0mself\u001b[0m\u001b[1;33m.\u001b[0m\u001b[0mcore\u001b[0m\u001b[1;33m.\u001b[0m\u001b[0mdefine_numerical_problems\u001b[0m\u001b[1;33m(\u001b[0m\u001b[1;33m)\u001b[0m\u001b[1;33m\u001b[0m\u001b[1;33m\u001b[0m\u001b[0m\n\u001b[0m",
      "\u001b[1;32md:\\git_repos\\pyesm\\esm\\base\\core.py\u001b[0m in \u001b[0;36m?\u001b[1;34m(self)\u001b[0m\n\u001b[0;32m     85\u001b[0m         self.logger.info(\n\u001b[0;32m     86\u001b[0m             \"Load symbolic problem, initialize dataframes with cvxpy problems \")\n\u001b[0;32m     87\u001b[0m \u001b[1;33m\u001b[0m\u001b[0m\n\u001b[0;32m     88\u001b[0m         \u001b[0mself\u001b[0m\u001b[1;33m.\u001b[0m\u001b[0mproblem\u001b[0m\u001b[1;33m.\u001b[0m\u001b[0mload_symbolic_problem_from_file\u001b[0m\u001b[1;33m(\u001b[0m\u001b[1;33m)\u001b[0m\u001b[1;33m\u001b[0m\u001b[1;33m\u001b[0m\u001b[0m\n\u001b[1;32m---> 89\u001b[1;33m         \u001b[0mself\u001b[0m\u001b[1;33m.\u001b[0m\u001b[0mproblem\u001b[0m\u001b[1;33m.\u001b[0m\u001b[0mgenerate_problems_dataframe\u001b[0m\u001b[1;33m(\u001b[0m\u001b[1;33m)\u001b[0m\u001b[1;33m\u001b[0m\u001b[1;33m\u001b[0m\u001b[0m\n\u001b[0m",
      "\u001b[1;32md:\\git_repos\\pyesm\\esm\\base\\problem.py\u001b[0m in \u001b[0;36m?\u001b[1;34m(self)\u001b[0m\n\u001b[0;32m    347\u001b[0m                 \u001b[1;33m[\u001b[0m\u001b[0mproblem_num\u001b[0m\u001b[1;33m]\u001b[0m\u001b[1;33m,\u001b[0m\u001b[1;33m\u001b[0m\u001b[1;33m\u001b[0m\u001b[0m\n\u001b[0;32m    348\u001b[0m                 \u001b[0mlist_sets_split_problem\u001b[0m\u001b[1;33m\u001b[0m\u001b[1;33m\u001b[0m\u001b[0m\n\u001b[0;32m    349\u001b[0m             ]\n\u001b[0;32m    350\u001b[0m \u001b[1;33m\u001b[0m\u001b[0m\n\u001b[1;32m--> 351\u001b[1;33m             constraints = self.define_expressions(\n\u001b[0m\u001b[0;32m    352\u001b[0m                 \u001b[0mheader_object\u001b[0m\u001b[1;33m=\u001b[0m\u001b[0mheaders\u001b[0m\u001b[1;33m[\u001b[0m\u001b[1;34m'constraints'\u001b[0m\u001b[1;33m]\u001b[0m\u001b[1;33m,\u001b[0m\u001b[1;33m\u001b[0m\u001b[1;33m\u001b[0m\u001b[0m\n\u001b[0;32m    353\u001b[0m                 \u001b[0mproblem_filter\u001b[0m\u001b[1;33m=\u001b[0m\u001b[0mproblem_filter\u001b[0m\u001b[1;33m\u001b[0m\u001b[1;33m\u001b[0m\u001b[0m\n\u001b[0;32m    354\u001b[0m             )\n",
      "\u001b[1;32md:\\git_repos\\pyesm\\esm\\base\\problem.py\u001b[0m in \u001b[0;36m?\u001b[1;34m(self, header_object, problem_filter)\u001b[0m\n\u001b[0;32m    494\u001b[0m                 \u001b[1;31m# parse values in intra-problem-set\u001b[0m\u001b[1;33m\u001b[0m\u001b[1;33m\u001b[0m\u001b[0m\n\u001b[0;32m    495\u001b[0m                 \u001b[1;32mfor\u001b[0m \u001b[0mvalue\u001b[0m \u001b[1;32min\u001b[0m \u001b[0mset_data\u001b[0m\u001b[1;33m[\u001b[0m\u001b[0mset_header\u001b[0m\u001b[1;33m]\u001b[0m\u001b[1;33m:\u001b[0m\u001b[1;33m\u001b[0m\u001b[1;33m\u001b[0m\u001b[0m\n\u001b[0;32m    496\u001b[0m \u001b[1;33m\u001b[0m\u001b[0m\n\u001b[0;32m    497\u001b[0m                     \u001b[1;31m# fetch allowed cvxpy variables\u001b[0m\u001b[1;33m\u001b[0m\u001b[1;33m\u001b[0m\u001b[0m\n\u001b[1;32m--> 498\u001b[1;33m                     allowed_variables = self.fetch_allowed_cvxpy_variables(\n\u001b[0m\u001b[0;32m    499\u001b[0m                         \u001b[0mvariables_set_dict\u001b[0m\u001b[1;33m=\u001b[0m\u001b[1;33m{\u001b[0m\u001b[1;33m**\u001b[0m\u001b[0mvars_subset\u001b[0m\u001b[1;33m,\u001b[0m \u001b[1;33m**\u001b[0m\u001b[0mconstants_subset\u001b[0m\u001b[1;33m}\u001b[0m\u001b[1;33m,\u001b[0m\u001b[1;33m\u001b[0m\u001b[1;33m\u001b[0m\u001b[0m\n\u001b[0;32m    500\u001b[0m                         \u001b[0mproblem_filter\u001b[0m\u001b[1;33m=\u001b[0m\u001b[0mproblem_filter\u001b[0m\u001b[1;33m,\u001b[0m\u001b[1;33m\u001b[0m\u001b[1;33m\u001b[0m\u001b[0m\n\u001b[0;32m    501\u001b[0m                         \u001b[0mset_intra_problem_header\u001b[0m\u001b[1;33m=\u001b[0m\u001b[0mset_header\u001b[0m\u001b[1;33m,\u001b[0m\u001b[1;33m\u001b[0m\u001b[1;33m\u001b[0m\u001b[0m\n",
      "\u001b[1;32md:\\git_repos\\pyesm\\esm\\base\\problem.py\u001b[0m in \u001b[0;36m?\u001b[1;34m(self, variables_set_dict, problem_filter, set_intra_problem_header, set_intra_problem_value)\u001b[0m\n\u001b[0;32m    388\u001b[0m                 \u001b[0mallowed_variables\u001b[0m\u001b[1;33m[\u001b[0m\u001b[0mvar_key\u001b[0m\u001b[1;33m]\u001b[0m \u001b[1;33m=\u001b[0m \u001b[0mvariable\u001b[0m\u001b[1;33m.\u001b[0m\u001b[0mdata\u001b[0m\u001b[1;33m\u001b[0m\u001b[1;33m\u001b[0m\u001b[0m\n\u001b[0;32m    389\u001b[0m                 \u001b[1;32mcontinue\u001b[0m\u001b[1;33m\u001b[0m\u001b[1;33m\u001b[0m\u001b[0m\n\u001b[0;32m    390\u001b[0m \u001b[1;33m\u001b[0m\u001b[0m\n\u001b[0;32m    391\u001b[0m             \u001b[1;31m# filter variable data based on problem filter\u001b[0m\u001b[1;33m\u001b[0m\u001b[1;33m\u001b[0m\u001b[0m\n\u001b[1;32m--> 392\u001b[1;33m             variable_data = pd.merge(\n\u001b[0m\u001b[0;32m    393\u001b[0m                 \u001b[0mleft\u001b[0m\u001b[1;33m=\u001b[0m\u001b[0mvariable\u001b[0m\u001b[1;33m.\u001b[0m\u001b[0mdata\u001b[0m\u001b[1;33m,\u001b[0m\u001b[1;33m\u001b[0m\u001b[1;33m\u001b[0m\u001b[0m\n\u001b[0;32m    394\u001b[0m                 \u001b[0mright\u001b[0m\u001b[1;33m=\u001b[0m\u001b[0mproblem_filter\u001b[0m\u001b[1;33m,\u001b[0m\u001b[1;33m\u001b[0m\u001b[1;33m\u001b[0m\u001b[0m\n\u001b[0;32m    395\u001b[0m                 \u001b[0mon\u001b[0m\u001b[1;33m=\u001b[0m\u001b[0mlist\u001b[0m\u001b[1;33m(\u001b[0m\u001b[0mproblem_filter\u001b[0m\u001b[1;33m.\u001b[0m\u001b[0mcolumns\u001b[0m\u001b[1;33m)\u001b[0m\u001b[1;33m,\u001b[0m\u001b[1;33m\u001b[0m\u001b[1;33m\u001b[0m\u001b[0m\n",
      "\u001b[1;32mc:\\ProgramData\\Anaconda3\\envs\\esm\\lib\\site-packages\\pandas\\core\\reshape\\merge.py\u001b[0m in \u001b[0;36m?\u001b[1;34m(left, right, how, on, left_on, right_on, left_index, right_index, sort, suffixes, copy, indicator, validate)\u001b[0m\n\u001b[0;32m    165\u001b[0m             \u001b[0mvalidate\u001b[0m\u001b[1;33m=\u001b[0m\u001b[0mvalidate\u001b[0m\u001b[1;33m,\u001b[0m\u001b[1;33m\u001b[0m\u001b[1;33m\u001b[0m\u001b[0m\n\u001b[0;32m    166\u001b[0m             \u001b[0mcopy\u001b[0m\u001b[1;33m=\u001b[0m\u001b[0mcopy\u001b[0m\u001b[1;33m,\u001b[0m\u001b[1;33m\u001b[0m\u001b[1;33m\u001b[0m\u001b[0m\n\u001b[0;32m    167\u001b[0m         )\n\u001b[0;32m    168\u001b[0m     \u001b[1;32melse\u001b[0m\u001b[1;33m:\u001b[0m\u001b[1;33m\u001b[0m\u001b[1;33m\u001b[0m\u001b[0m\n\u001b[1;32m--> 169\u001b[1;33m         op = _MergeOperation(\n\u001b[0m\u001b[0;32m    170\u001b[0m             \u001b[0mleft_df\u001b[0m\u001b[1;33m,\u001b[0m\u001b[1;33m\u001b[0m\u001b[1;33m\u001b[0m\u001b[0m\n\u001b[0;32m    171\u001b[0m             \u001b[0mright_df\u001b[0m\u001b[1;33m,\u001b[0m\u001b[1;33m\u001b[0m\u001b[1;33m\u001b[0m\u001b[0m\n\u001b[0;32m    172\u001b[0m             \u001b[0mhow\u001b[0m\u001b[1;33m=\u001b[0m\u001b[0mhow\u001b[0m\u001b[1;33m,\u001b[0m\u001b[1;33m\u001b[0m\u001b[1;33m\u001b[0m\u001b[0m\n",
      "\u001b[1;32mc:\\ProgramData\\Anaconda3\\envs\\esm\\lib\\site-packages\\pandas\\core\\reshape\\merge.py\u001b[0m in \u001b[0;36m?\u001b[1;34m(self, left, right, how, on, left_on, right_on, left_index, right_index, sort, suffixes, indicator, validate)\u001b[0m\n\u001b[0;32m    787\u001b[0m             \u001b[0mself\u001b[0m\u001b[1;33m.\u001b[0m\u001b[0mright_join_keys\u001b[0m\u001b[1;33m,\u001b[0m\u001b[1;33m\u001b[0m\u001b[1;33m\u001b[0m\u001b[0m\n\u001b[0;32m    788\u001b[0m             \u001b[0mself\u001b[0m\u001b[1;33m.\u001b[0m\u001b[0mjoin_names\u001b[0m\u001b[1;33m,\u001b[0m\u001b[1;33m\u001b[0m\u001b[1;33m\u001b[0m\u001b[0m\n\u001b[0;32m    789\u001b[0m             \u001b[0mleft_drop\u001b[0m\u001b[1;33m,\u001b[0m\u001b[1;33m\u001b[0m\u001b[1;33m\u001b[0m\u001b[0m\n\u001b[0;32m    790\u001b[0m             \u001b[0mright_drop\u001b[0m\u001b[1;33m,\u001b[0m\u001b[1;33m\u001b[0m\u001b[1;33m\u001b[0m\u001b[0m\n\u001b[1;32m--> 791\u001b[1;33m         ) = self._get_merge_keys()\n\u001b[0m\u001b[0;32m    792\u001b[0m \u001b[1;33m\u001b[0m\u001b[0m\n\u001b[0;32m    793\u001b[0m         \u001b[1;32mif\u001b[0m \u001b[0mleft_drop\u001b[0m\u001b[1;33m:\u001b[0m\u001b[1;33m\u001b[0m\u001b[1;33m\u001b[0m\u001b[0m\n\u001b[0;32m    794\u001b[0m             \u001b[0mself\u001b[0m\u001b[1;33m.\u001b[0m\u001b[0mleft\u001b[0m \u001b[1;33m=\u001b[0m \u001b[0mself\u001b[0m\u001b[1;33m.\u001b[0m\u001b[0mleft\u001b[0m\u001b[1;33m.\u001b[0m\u001b[0m_drop_labels_or_levels\u001b[0m\u001b[1;33m(\u001b[0m\u001b[0mleft_drop\u001b[0m\u001b[1;33m)\u001b[0m\u001b[1;33m\u001b[0m\u001b[1;33m\u001b[0m\u001b[0m\n",
      "\u001b[1;32mc:\\ProgramData\\Anaconda3\\envs\\esm\\lib\\site-packages\\pandas\\core\\reshape\\merge.py\u001b[0m in \u001b[0;36m?\u001b[1;34m(self)\u001b[0m\n\u001b[0;32m   1283\u001b[0m                     \u001b[1;32mif\u001b[0m \u001b[0mlk\u001b[0m \u001b[1;32mis\u001b[0m \u001b[1;32mnot\u001b[0m \u001b[1;32mNone\u001b[0m\u001b[1;33m:\u001b[0m\u001b[1;33m\u001b[0m\u001b[1;33m\u001b[0m\u001b[0m\n\u001b[0;32m   1284\u001b[0m                         \u001b[1;31m# Then we're either Hashable or a wrong-length arraylike,\u001b[0m\u001b[1;33m\u001b[0m\u001b[1;33m\u001b[0m\u001b[0m\n\u001b[0;32m   1285\u001b[0m                         \u001b[1;31m#  the latter of which will raise\u001b[0m\u001b[1;33m\u001b[0m\u001b[1;33m\u001b[0m\u001b[0m\n\u001b[0;32m   1286\u001b[0m                         \u001b[0mlk\u001b[0m \u001b[1;33m=\u001b[0m \u001b[0mcast\u001b[0m\u001b[1;33m(\u001b[0m\u001b[0mHashable\u001b[0m\u001b[1;33m,\u001b[0m \u001b[0mlk\u001b[0m\u001b[1;33m)\u001b[0m\u001b[1;33m\u001b[0m\u001b[1;33m\u001b[0m\u001b[0m\n\u001b[1;32m-> 1287\u001b[1;33m                         \u001b[0mleft_keys\u001b[0m\u001b[1;33m.\u001b[0m\u001b[0mappend\u001b[0m\u001b[1;33m(\u001b[0m\u001b[0mleft\u001b[0m\u001b[1;33m.\u001b[0m\u001b[0m_get_label_or_level_values\u001b[0m\u001b[1;33m(\u001b[0m\u001b[0mlk\u001b[0m\u001b[1;33m)\u001b[0m\u001b[1;33m)\u001b[0m\u001b[1;33m\u001b[0m\u001b[1;33m\u001b[0m\u001b[0m\n\u001b[0m\u001b[0;32m   1288\u001b[0m                         \u001b[0mjoin_names\u001b[0m\u001b[1;33m.\u001b[0m\u001b[0mappend\u001b[0m\u001b[1;33m(\u001b[0m\u001b[0mlk\u001b[0m\u001b[1;33m)\u001b[0m\u001b[1;33m\u001b[0m\u001b[1;33m\u001b[0m\u001b[0m\n\u001b[0;32m   1289\u001b[0m                     \u001b[1;32melse\u001b[0m\u001b[1;33m:\u001b[0m\u001b[1;33m\u001b[0m\u001b[1;33m\u001b[0m\u001b[0m\n\u001b[0;32m   1290\u001b[0m                         \u001b[1;31m# work-around for merge_asof(left_index=True)\u001b[0m\u001b[1;33m\u001b[0m\u001b[1;33m\u001b[0m\u001b[0m\n",
      "\u001b[1;32mc:\\ProgramData\\Anaconda3\\envs\\esm\\lib\\site-packages\\pandas\\core\\generic.py\u001b[0m in \u001b[0;36m?\u001b[1;34m(self, key, axis)\u001b[0m\n\u001b[0;32m   1840\u001b[0m             \u001b[0mvalues\u001b[0m \u001b[1;33m=\u001b[0m \u001b[0mself\u001b[0m\u001b[1;33m.\u001b[0m\u001b[0mxs\u001b[0m\u001b[1;33m(\u001b[0m\u001b[0mkey\u001b[0m\u001b[1;33m,\u001b[0m \u001b[0maxis\u001b[0m\u001b[1;33m=\u001b[0m\u001b[0mother_axes\u001b[0m\u001b[1;33m[\u001b[0m\u001b[1;36m0\u001b[0m\u001b[1;33m]\u001b[0m\u001b[1;33m)\u001b[0m\u001b[1;33m.\u001b[0m\u001b[0m_values\u001b[0m\u001b[1;33m\u001b[0m\u001b[1;33m\u001b[0m\u001b[0m\n\u001b[0;32m   1841\u001b[0m         \u001b[1;32melif\u001b[0m \u001b[0mself\u001b[0m\u001b[1;33m.\u001b[0m\u001b[0m_is_level_reference\u001b[0m\u001b[1;33m(\u001b[0m\u001b[0mkey\u001b[0m\u001b[1;33m,\u001b[0m \u001b[0maxis\u001b[0m\u001b[1;33m=\u001b[0m\u001b[0maxis\u001b[0m\u001b[1;33m)\u001b[0m\u001b[1;33m:\u001b[0m\u001b[1;33m\u001b[0m\u001b[1;33m\u001b[0m\u001b[0m\n\u001b[0;32m   1842\u001b[0m             \u001b[0mvalues\u001b[0m \u001b[1;33m=\u001b[0m \u001b[0mself\u001b[0m\u001b[1;33m.\u001b[0m\u001b[0maxes\u001b[0m\u001b[1;33m[\u001b[0m\u001b[0maxis\u001b[0m\u001b[1;33m]\u001b[0m\u001b[1;33m.\u001b[0m\u001b[0mget_level_values\u001b[0m\u001b[1;33m(\u001b[0m\u001b[0mkey\u001b[0m\u001b[1;33m)\u001b[0m\u001b[1;33m.\u001b[0m\u001b[0m_values\u001b[0m\u001b[1;33m\u001b[0m\u001b[1;33m\u001b[0m\u001b[0m\n\u001b[0;32m   1843\u001b[0m         \u001b[1;32melse\u001b[0m\u001b[1;33m:\u001b[0m\u001b[1;33m\u001b[0m\u001b[1;33m\u001b[0m\u001b[0m\n\u001b[1;32m-> 1844\u001b[1;33m             \u001b[1;32mraise\u001b[0m \u001b[0mKeyError\u001b[0m\u001b[1;33m(\u001b[0m\u001b[0mkey\u001b[0m\u001b[1;33m)\u001b[0m\u001b[1;33m\u001b[0m\u001b[1;33m\u001b[0m\u001b[0m\n\u001b[0m\u001b[0;32m   1845\u001b[0m \u001b[1;33m\u001b[0m\u001b[0m\n\u001b[0;32m   1846\u001b[0m         \u001b[1;31m# Check for duplicates\u001b[0m\u001b[1;33m\u001b[0m\u001b[1;33m\u001b[0m\u001b[0m\n\u001b[0;32m   1847\u001b[0m         \u001b[1;32mif\u001b[0m \u001b[0mvalues\u001b[0m\u001b[1;33m.\u001b[0m\u001b[0mndim\u001b[0m \u001b[1;33m>\u001b[0m \u001b[1;36m1\u001b[0m\u001b[1;33m:\u001b[0m\u001b[1;33m\u001b[0m\u001b[1;33m\u001b[0m\u001b[0m\n",
      "\u001b[1;31mKeyError\u001b[0m: 's_Name'"
     ]
    }
   ],
   "source": [
    "# generate model instance based on setup files filled by the user.\n",
    "# validates model directory (in case user relies on existing directory). \n",
    "# parse settings and paths.\n",
    "# loading model coordinates\n",
    "# initializing numerical problem\n",
    "import esm \n",
    "\n",
    "model_dir_name = '0_test_structure'\n",
    "main_dir_path = 'D:\\git_repos\\pyesm\\default'\n",
    "\n",
    "model = esm.Model(\n",
    "    model_dir_name=model_dir_name,\n",
    "    main_dir_path=main_dir_path,\n",
    "    use_existing_data=True,\n",
    "    log_level='debug'\n",
    ")"
   ]
  },
  {
   "cell_type": "markdown",
   "metadata": {},
   "source": [
    "- - -\n",
    "DATA and MODEL UPDATE, MODEL RUN \n",
    "\n",
    "updating SQLite database with new data, \n",
    "re-initializing numerical problem\n",
    "\n",
    "solving numerical model, \n",
    "results export to sqlite database, \n",
    "generation of powerbi dataset"
   ]
  },
  {
   "cell_type": "code",
   "execution_count": null,
   "metadata": {},
   "outputs": [],
   "source": [
    "# in case of modifications in input data files (not in sets),\n",
    "# update database and problem\n",
    "model.update_database_and_problem()"
   ]
  },
  {
   "cell_type": "code",
   "execution_count": null,
   "metadata": {},
   "outputs": [],
   "source": [
    "# in case of modifications in symbolic problem,\n",
    "# update problems dataframe and symbolic problem\n",
    "model.initialize_problems()"
   ]
  },
  {
   "cell_type": "code",
   "execution_count": null,
   "metadata": {},
   "outputs": [],
   "source": [
    "# solve numerical problems\n",
    "model.run_model(verbose=False)"
   ]
  },
  {
   "cell_type": "code",
   "execution_count": null,
   "metadata": {},
   "outputs": [],
   "source": [
    "# once model has successfully solved, load endogenous parameters data to \n",
    "# sqlite database and generate powerbi dataset.\n",
    "model.load_results_to_database()\n",
    "model.generate_pbi_report()"
   ]
  },
  {
   "cell_type": "markdown",
   "metadata": {},
   "source": [
    "- - - \n",
    "TESTS"
   ]
  },
  {
   "cell_type": "code",
   "execution_count": null,
   "metadata": {},
   "outputs": [],
   "source": [
    "for var_key, variable in model.core.index.variables.items():\n",
    "    print(\n",
    "        var_key, ' ',\n",
    "        'shape:', variable.shape, ' ',\n",
    "        'shape_size:', variable.shape_size, ' ',\n",
    "        # 'is_square:', variable.is_square, ' ',\n",
    "        # 'is_vector:', variable.is_vector, ' ',\n",
    "        # 'dim_labels:', variable.dim_labels, ' ',\n",
    "        # 'dim_items:', variable.dim_items, ' ',\n",
    "    )\n"
   ]
  },
  {
   "cell_type": "code",
   "execution_count": null,
   "metadata": {},
   "outputs": [],
   "source": [
    "model.core.index.variables"
   ]
  },
  {
   "cell_type": "code",
   "execution_count": null,
   "metadata": {},
   "outputs": [],
   "source": [
    "model.core.index.sets.technologies"
   ]
  },
  {
   "cell_type": "code",
   "execution_count": null,
   "metadata": {},
   "outputs": [],
   "source": [
    "model.core.problem.symbolic_problem"
   ]
  },
  {
   "cell_type": "code",
   "execution_count": null,
   "metadata": {},
   "outputs": [],
   "source": [
    "model.core.problem.numeric_problems"
   ]
  },
  {
   "cell_type": "code",
   "execution_count": null,
   "metadata": {},
   "outputs": [],
   "source": [
    "import cvxpy as cp\n",
    "import numpy as np\n",
    "\n",
    "# Problem data.\n",
    "m = 5\n",
    "n = 2\n",
    "\n",
    "# Construct the problem.\n",
    "x = cp.Variable((n,1))\n",
    "A = cp.Constant(np.random.randn(m, n))\n",
    "b = cp.Constant(1)\n",
    "\n",
    "\n",
    "C = cp.Constant(np.random.randn(n, n))\n",
    "I = cp.Constant(np.eye(n))\n",
    "\n",
    "objective = cp.Minimize(cp.sum_squares(A @ x - b))\n",
    "constraints = [0 <= x, x <= 1]\n",
    "prob = cp.Problem(objective, constraints)\n",
    "\n",
    "# The optimal objective value is returned by `prob.solve()`.\n",
    "result = prob.solve(solver='GUROBI', verbose=False)\n",
    "# The optimal value for x is stored in `x.value`.\n",
    "\n",
    "XX = cp.Variable((n,1))\n",
    "AA = cp.Constant(np.random.randn(n, m))\n",
    "\n",
    "cp.multiply(XX,AA)\n"
   ]
  },
  {
   "cell_type": "code",
   "execution_count": null,
   "metadata": {},
   "outputs": [],
   "source": [
    "v_24 = cp.Variable((2,4))\n",
    "c_24 = cp.Constant(np.ones((2,4)))\n",
    "c_41 = cp.Constant(np.ones((4,1)))\n",
    "\n",
    "constraints = [v_24 == c_24 + c_41.T]\n",
    "prob = cp.Problem(cp.Minimize(1), constraints)\n",
    "prob.solve(solver='GUROBI', verbose=False)\n",
    "\n",
    "print(f'v_24 = {v_24.value} \\n')\n",
    "print(f'c_24 = {c_24.value} \\n')\n",
    "print(f'c_41 = {c_41.T.value} \\n')\n"
   ]
  },
  {
   "cell_type": "code",
   "execution_count": null,
   "metadata": {},
   "outputs": [],
   "source": [
    "# DEFINIZIONE COSTANTI PER TRASFORMARE I VARI OPERATORI VETTORIALI\n",
    "import cvxpy as cp\n",
    "import numpy as np\n",
    "\n",
    "var_a = cp.Variable((3,2))\n",
    "var_a.value = np.ones((var_a.shape))*3\n",
    "var_b = cp.Variable((3,1))\n",
    "\n",
    "i_21 = cp.Constant(np.ones((2,1)))\n",
    "i_13 = cp.Constant(np.ones((1,3)))\n",
    "\n",
    "allowed_vars = {\n",
    "    'A': var_a,\n",
    "    'B': var_b,\n",
    "    'i_21': i_21,\n",
    "    'i_13': i_13,\n",
    "}\n",
    "\n",
    "allowed_ops = {\n",
    "    '+': '+',\n",
    "    '-': '-',\n",
    "    '*': '*',\n",
    "    '@': '@',\n",
    "    '==': '==',\n",
    "    '>=': '>=',\n",
    "    '<=': '<=',\n",
    "    '(': '(',\n",
    "    ')': ')',\n",
    "    ',':',',\n",
    "    'sum': cp.sum,\n",
    "}\n",
    "\n",
    "expr = model.core.problem.execute_cvxpy_code(\n",
    "    expression='i_13 @ A @ i_21',\n",
    "    allowed_variables=allowed_vars,\n",
    "    allowed_operators=allowed_ops\n",
    ")\n",
    "\n",
    "expr2 = model.core.problem.execute_cvxpy_code(\n",
    "    expression='sum(B)',\n",
    "    allowed_variables=allowed_vars,\n",
    "    allowed_operators=allowed_ops\n",
    ")\n",
    "\n",
    "expr"
   ]
  },
  {
   "cell_type": "code",
   "execution_count": null,
   "metadata": {},
   "outputs": [],
   "source": [
    "model.core.database.sqltools.open_connection()\n",
    "\n",
    "var = model.core.database.sqltools.filtered_table_to_dataframe(\n",
    "    table_name='u',\n",
    "    filters_dict={\n",
    "        's_Name': ['Reference'],\n",
    "        'dt_Name': [2023],\n",
    "        'f_Name': ['Energy', 'Steel'],\n",
    "        't_Name': ['PV power plant', 'Steel factory', 'Gas power plant']\n",
    "    }\n",
    ")\n",
    "\n",
    "# filter_1 = test.core.database.sqltools.get_related_table_keys(\n",
    "#     child_column_name='f_Name',\n",
    "#     parent_table_name='_set_FLOWS',\n",
    "#     parent_table_fields={\n",
    "#         'f_Category': ['Product flow'],\n",
    "#     }\n",
    "# )\n",
    "\n",
    "# filter_2 = test.core.database.sqltools.get_related_table_keys(\n",
    "#     child_column_name='dt_Name',\n",
    "#     parent_table_name='_set_DATETIME',\n",
    "#     parent_table_fields={\n",
    "#         'dt_Name': [2023],\n",
    "#     }\n",
    "# )\n",
    "\n",
    "# var_custom_filter = test.core.database.sqltools.filtered_table_to_dataframe(\n",
    "#     table_name='v',\n",
    "#     filters_dict={\n",
    "#         **filter_1,\n",
    "#         **filter_2,\n",
    "#         **{'f_Name': ['Steel']},\n",
    "#     }\n",
    "# )\n",
    "\n",
    "model.core.database.sqltools.close_connection()\n",
    "\n",
    "# filter_1, filter_2\n",
    "var"
   ]
  }
 ],
 "metadata": {
  "kernelspec": {
   "display_name": "esm_dev",
   "language": "python",
   "name": "python3"
  },
  "language_info": {
   "codemirror_mode": {
    "name": "ipython",
    "version": 3
   },
   "file_extension": ".py",
   "mimetype": "text/x-python",
   "name": "python",
   "nbconvert_exporter": "python",
   "pygments_lexer": "ipython3",
   "version": "3.10.13"
  },
  "orig_nbformat": 4
 },
 "nbformat": 4,
 "nbformat_minor": 2
}
