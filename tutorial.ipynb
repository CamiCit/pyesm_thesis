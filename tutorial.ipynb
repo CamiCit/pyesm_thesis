{
 "cells": [
  {
   "cell_type": "markdown",
   "metadata": {},
   "source": [
    "## pyESM - Python based Engineering Systems Modelling (pyESM)\n",
    "Python based engineering systems modelling framework based on the Supply and Use structure"
   ]
  },
  {
   "cell_type": "markdown",
   "metadata": {},
   "source": [
    "- - -\n",
    "PACKAGE LOCAL INSTALLATION and USAGE\n",
    "\n",
    "Editable local installation:\n",
    "1. Create a virtual environment based on 'environment.yml' file.\n",
    "2. In the cmd, run: >>> python -m pip install -e \"path/to/pyesm\"\n",
    "3. From the virtual environment: >>> import esm\n",
    "4. Use esm APIs (Model class)\n"
   ]
  },
  {
   "cell_type": "markdown",
   "metadata": {},
   "source": [
    "- - -\n",
    "CREATE/UPDATE ENVIRONMENT BASED ON YML FILE IN PROJECT REPO\n",
    "\n",
    "In the prompt:\n",
    "- From the path where environment.yml is present: >>> conda env create -f environment.yml\n",
    "- The environment is named \"esm\", so type >>> conda activate esm\n",
    "\n",
    "UPDATE ENVIRONMENT YML FILE (in case of modifications)\n",
    "\n",
    "In the prompt: \n",
    "- activate the working environment: >>> conda activate your_environment_name\n",
    "- export environment.yml file based on the working environment: >>> conda env export > environment.yml\n"
   ]
  },
  {
   "cell_type": "markdown",
   "metadata": {
    "slideshow": {
     "slide_type": "slide"
    }
   },
   "source": [
    "- - - \n",
    "MODEL DIRECTORY GENERATION\n",
    "\n",
    "Generation of a model directory based on a model template or with blank setup files."
   ]
  },
  {
   "cell_type": "code",
   "execution_count": null,
   "metadata": {},
   "outputs": [],
   "source": [
    "# create model directory with essential setup files\n",
    "# to be used only to generate models from scratch\n",
    "# template models can be imported \n",
    "import esm\n",
    "\n",
    "model_dir_name = '4_sut_multi_year_rcot_vb'\n",
    "main_dir_path = r'c:\\Users\\baioc\\Documents\\GitHub\\pyesm\\default'\n",
    "\n",
    "esm.create_model_dir(\n",
    "    model_dir_name=model_dir_name,\n",
    "    main_dir_path=main_dir_path,\n",
    "    default_model=None,\n",
    "    force_overwrite=False,\n",
    ")"
   ]
  },
  {
   "cell_type": "markdown",
   "metadata": {},
   "source": [
    "- - - \n",
    "GENERATION OF A NEW MODEL FROM SCRATCH\n",
    "\n",
    "Generation of a new model defined by setup files.\n",
    "\n",
    "Step-by-step model creation with sets, data and problems generation."
   ]
  },
  {
   "cell_type": "markdown",
   "metadata": {},
   "source": []
  },
  {
   "cell_type": "code",
   "execution_count": 1,
   "metadata": {},
   "outputs": [
    {
     "name": "stderr",
     "output_type": "stream",
     "text": [
      "INFO | Model | 'Model' object initialization...\n",
      "INFO | Model.file_manager | 'FileManager' object generated.\n",
      "INFO | Model | Defining settings from model arguments.\n",
      "INFO | Model | Defining paths from model arguments.\n",
      "INFO | Model | Model directory and required setup files validated.\n",
      "INFO | Model.core | 'Core' object initialization...\n",
      "INFO | Model.core.sql_manager | 'SQLManager' object generation.\n",
      "INFO | Model.core.index | 'Index' object initialization...\n",
      "INFO | Model.core.index | Loading and validating data from file, generating 'SetTable' objects.\n",
      "DEBUG | Model.file_manager | File 'structure_sets.yml' loaded.\n",
      "INFO | Model.core.index | Loading and validating data from file, generating 'DataTable' objects.\n",
      "DEBUG | Model.file_manager | File 'structure_variables.yml' loaded.\n",
      "INFO | Model.core.index | Fetching and validating data, generating 'Variable' objects.\n",
      "DEBUG | Model.core.index | Fetching 'coordinates_info' to Index.variables.\n",
      "INFO | Model.core.index | 'Index' object initialized.\n",
      "INFO | Model.core.database | 'Database' object initialization...\n",
      "DEBUG | Model.core.sql_manager | Connection to 'database.db' opened.\n",
      "INFO | Model.core.database | Overwriting database 'database.db'\n",
      "DEBUG | Model.core.sql_manager | SQLite table '_set_SCENARIOS' - created.\n",
      "DEBUG | Model.core.sql_manager | SQLite table '_set_TECH_SUP' - created.\n",
      "DEBUG | Model.core.sql_manager | SQLite table '_set_TECH_DEM' - created.\n",
      "DEBUG | Model.core.sql_manager | SQLite table '_set_FLOWS' - created.\n",
      "DEBUG | Model.core.sql_manager | SQLite table '_set_FLOWS_AGG' - created.\n",
      "DEBUG | Model.core.sql_manager | SQLite table '_set_COSTS' - created.\n",
      "DEBUG | Model.core.sql_manager | SQLite table '_set_EMISSIONS' - created.\n",
      "DEBUG | Model.core.sql_manager | SQLite table '_set_LOADFACTORS' - created.\n",
      "DEBUG | Model.core.sql_manager | SQLite table '_set_YEARS' - created.\n",
      "DEBUG | Model.core.sql_manager | Connection to 'database.db' closed.\n",
      "INFO | Model.core.database | Generating new sets excel file 'sets.xlsx'\n",
      "DEBUG | Model.file_manager | Excel tab name '_set_SCENARIOS' inserted into 'sets.xlsx'.\n",
      "DEBUG | Model.file_manager | Excel tab name '_set_TECH_SUP' inserted into 'sets.xlsx'.\n",
      "DEBUG | Model.file_manager | Excel tab name '_set_TECH_DEM' inserted into 'sets.xlsx'.\n",
      "DEBUG | Model.file_manager | Excel tab name '_set_FLOWS' inserted into 'sets.xlsx'.\n",
      "DEBUG | Model.file_manager | Excel tab name '_set_FLOWS_AGG' inserted into 'sets.xlsx'.\n",
      "DEBUG | Model.file_manager | Excel tab name '_set_COSTS' inserted into 'sets.xlsx'.\n",
      "DEBUG | Model.file_manager | Excel tab name '_set_EMISSIONS' inserted into 'sets.xlsx'.\n",
      "DEBUG | Model.file_manager | Excel tab name '_set_LOADFACTORS' inserted into 'sets.xlsx'.\n",
      "DEBUG | Model.file_manager | Excel tab name '_set_YEARS' inserted into 'sets.xlsx'.\n",
      "DEBUG | Model.file_manager | Excel file 'sets.xlsx' generated.\n",
      "INFO | Model.core.database | 'Database' object initialized.\n",
      "INFO | Model.core.problem | 'Problem' object initialization...\n",
      "INFO | Model.core.problem | 'Problem' object initialized.\n",
      "INFO | Model.core | 'Core' initialized.\n",
      "INFO | Model.pbi_manager | 'PBIManager' object generated.\n",
      "INFO | Model | 'Model' object initialized.\n"
     ]
    }
   ],
   "source": [
    "# generate model instance based on setup files filled by the user.\n",
    "# validates model directory before executing.\n",
    "import esm\n",
    "\n",
    "model_dir_name = '4_sut_multi_year_rcot_cap_new'\n",
    "main_dir_path = 'D:/git_repos/pyesm/default'\n",
    "\n",
    "model = esm.Model(\n",
    "    model_dir_name=model_dir_name,\n",
    "    main_dir_path=main_dir_path,\n",
    "    use_existing_data=False,\n",
    ")"
   ]
  },
  {
   "cell_type": "code",
   "execution_count": 2,
   "metadata": {},
   "outputs": [
    {
     "name": "stderr",
     "output_type": "stream",
     "text": [
      "INFO | Model | Loading new sets data and variable coordinates.\n",
      "INFO | Model.core.index | 'Index' object: loading new Sets data to Index.sets.\n",
      "DEBUG | Model.file_manager | Excel file 'sets.xlsx' loaded.\n",
      "INFO | Model.core.index | 'Index' object: loading variable coordinates to Index.data.\n",
      "INFO | Model.core.index | 'Index' object: loading variable coordinates to Index.variables.\n",
      "INFO | Model.core.index | Loading tables 'foreign_keys' to Index.data_tables.\n",
      "INFO | Model | Generating blank SQLite database and excel input files.\n",
      "DEBUG | Model.core.sql_manager | Connection to 'database.db' opened.\n",
      "INFO | Model.core.database | Loading Sets to 'database.db'.\n",
      "DEBUG | Model.core.sql_manager | SQLite table '_set_SCENARIOS' - table overwritten and 1 entries added.\n",
      "DEBUG | Model.core.sql_manager | SQLite table '_set_TECH_SUP' - table overwritten and 3 entries added.\n",
      "DEBUG | Model.core.sql_manager | SQLite table '_set_TECH_DEM' - table overwritten and 1 entries added.\n",
      "DEBUG | Model.core.sql_manager | SQLite table '_set_FLOWS' - table overwritten and 3 entries added.\n",
      "DEBUG | Model.core.sql_manager | SQLite table '_set_FLOWS_AGG' - table overwritten and 2 entries added.\n",
      "DEBUG | Model.core.sql_manager | SQLite table '_set_COSTS' - table overwritten and 2 entries added.\n",
      "DEBUG | Model.core.sql_manager | SQLite table '_set_EMISSIONS' - table overwritten and 1 entries added.\n",
      "DEBUG | Model.core.sql_manager | SQLite table '_set_LOADFACTORS' - table overwritten and 2 entries added.\n",
      "DEBUG | Model.core.sql_manager | SQLite table '_set_YEARS' - table overwritten and 5 entries added.\n",
      "DEBUG | Model.core.sql_manager | Connection to 'database.db' closed.\n",
      "DEBUG | Model.core.sql_manager | Connection to 'database.db' opened.\n",
      "INFO | Model.core.database | Generation of empty SQLite database data tables.\n",
      "DEBUG | Model.core.sql_manager | Foreign keys enabled.\n",
      "DEBUG | Model.core.sql_manager | SQLite table 'd' - created with foreign keys.\n",
      "DEBUG | Model.core.sql_manager | SQLite table 'u' - created with foreign keys.\n",
      "DEBUG | Model.core.sql_manager | SQLite table 'c' - created with foreign keys.\n",
      "DEBUG | Model.core.sql_manager | SQLite table 'Y' - created with foreign keys.\n",
      "DEBUG | Model.core.sql_manager | SQLite table 'c_start' - created with foreign keys.\n",
      "DEBUG | Model.core.sql_manager | SQLite table 'e' - created with foreign keys.\n",
      "DEBUG | Model.core.sql_manager | SQLite table 'lf_range' - created with foreign keys.\n",
      "DEBUG | Model.core.sql_manager | SQLite table 'X' - created with foreign keys.\n",
      "DEBUG | Model.core.sql_manager | SQLite table 'Q' - created with foreign keys.\n",
      "DEBUG | Model.core.sql_manager | SQLite table 'Q_agg' - created with foreign keys.\n",
      "DEBUG | Model.core.sql_manager | SQLite table 'C_tot' - created with foreign keys.\n",
      "DEBUG | Model.core.sql_manager | SQLite table 'X_range' - created with foreign keys.\n",
      "DEBUG | Model.core.sql_manager | SQLite table 'Cap_op' - created with foreign keys.\n",
      "DEBUG | Model.core.sql_manager | SQLite table 'Cap_new' - created with foreign keys.\n",
      "DEBUG | Model.core.sql_manager | SQLite table 'E_tot' - created with foreign keys.\n",
      "DEBUG | Model.core.sql_manager | Connection to 'database.db' closed.\n",
      "DEBUG | Model.core.sql_manager | Connection to 'database.db' opened.\n",
      "INFO | Model.core.database | Filling empty SQLite database variables tables with sets data.\n",
      "DEBUG | Model.core.sql_manager | SQLite table 'd' - table overwritten and 9 entries added.\n",
      "DEBUG | Model.core.sql_manager | SQLite table 'd' - column 'values' added.\n",
      "DEBUG | Model.core.sql_manager | SQLite table 'u' - table overwritten and 6 entries added.\n",
      "DEBUG | Model.core.sql_manager | SQLite table 'u' - column 'values' added.\n",
      "DEBUG | Model.core.sql_manager | SQLite table 'c' - table overwritten and 6 entries added.\n",
      "DEBUG | Model.core.sql_manager | SQLite table 'c' - column 'values' added.\n",
      "DEBUG | Model.core.sql_manager | SQLite table 'Y' - table overwritten and 10 entries added.\n",
      "DEBUG | Model.core.sql_manager | SQLite table 'Y' - column 'values' added.\n",
      "DEBUG | Model.core.sql_manager | SQLite table 'c_start' - table overwritten and 3 entries added.\n",
      "DEBUG | Model.core.sql_manager | SQLite table 'c_start' - column 'values' added.\n",
      "DEBUG | Model.core.sql_manager | SQLite table 'e' - table overwritten and 3 entries added.\n",
      "DEBUG | Model.core.sql_manager | SQLite table 'e' - column 'values' added.\n",
      "DEBUG | Model.core.sql_manager | SQLite table 'lf_range' - table overwritten and 6 entries added.\n",
      "DEBUG | Model.core.sql_manager | SQLite table 'lf_range' - column 'values' added.\n",
      "DEBUG | Model.core.sql_manager | SQLite table 'X' - table overwritten and 15 entries added.\n",
      "DEBUG | Model.core.sql_manager | SQLite table 'X' - column 'values' added.\n",
      "DEBUG | Model.core.sql_manager | SQLite table 'Q' - table overwritten and 15 entries added.\n",
      "DEBUG | Model.core.sql_manager | SQLite table 'Q' - column 'values' added.\n",
      "DEBUG | Model.core.sql_manager | SQLite table 'Q_agg' - table overwritten and 10 entries added.\n",
      "DEBUG | Model.core.sql_manager | SQLite table 'Q_agg' - column 'values' added.\n",
      "DEBUG | Model.core.sql_manager | SQLite table 'C_tot' - table overwritten and 30 entries added.\n",
      "DEBUG | Model.core.sql_manager | SQLite table 'C_tot' - column 'values' added.\n",
      "DEBUG | Model.core.sql_manager | SQLite table 'X_range' - table overwritten and 30 entries added.\n",
      "DEBUG | Model.core.sql_manager | SQLite table 'X_range' - column 'values' added.\n",
      "DEBUG | Model.core.sql_manager | SQLite table 'Cap_op' - table overwritten and 15 entries added.\n",
      "DEBUG | Model.core.sql_manager | SQLite table 'Cap_op' - column 'values' added.\n",
      "DEBUG | Model.core.sql_manager | SQLite table 'Cap_new' - table overwritten and 15 entries added.\n",
      "DEBUG | Model.core.sql_manager | SQLite table 'Cap_new' - column 'values' added.\n",
      "DEBUG | Model.core.sql_manager | SQLite table 'E_tot' - table overwritten and 15 entries added.\n",
      "DEBUG | Model.core.sql_manager | SQLite table 'E_tot' - column 'values' added.\n",
      "DEBUG | Model.core.sql_manager | Connection to 'database.db' closed.\n",
      "DEBUG | Model.core.sql_manager | Connection to 'database.db' opened.\n",
      "INFO | Model.core.database | Generation of data input file/s.\n",
      "DEBUG | Model.file_manager | Directory 'input_data' created.\n",
      "DEBUG | Model.core.sql_manager | SQLite table 'd' - exported to input_data.xlsx.\n",
      "DEBUG | Model.core.sql_manager | SQLite table 'u' - exported to input_data.xlsx.\n",
      "DEBUG | Model.core.sql_manager | SQLite table 'c' - exported to input_data.xlsx.\n",
      "DEBUG | Model.core.sql_manager | SQLite table 'Y' - exported to input_data.xlsx.\n",
      "DEBUG | Model.core.sql_manager | SQLite table 'c_start' - exported to input_data.xlsx.\n",
      "DEBUG | Model.core.sql_manager | SQLite table 'e' - exported to input_data.xlsx.\n",
      "DEBUG | Model.core.sql_manager | SQLite table 'lf_range' - exported to input_data.xlsx.\n",
      "DEBUG | Model.core.sql_manager | Connection to 'database.db' closed.\n"
     ]
    }
   ],
   "source": [
    "# after filling sets.xlsx file: \n",
    "# - loading model coordinates to Index\n",
    "# - generating sqlite database tables for sets and variables\n",
    "# (variables tables in sqlite database empty)\n",
    "model.load_model_coordinates()\n",
    "model.initialize_blank_database()"
   ]
  },
  {
   "cell_type": "code",
   "execution_count": 3,
   "metadata": {},
   "outputs": [
    {
     "name": "stderr",
     "output_type": "stream",
     "text": [
      "INFO | Model | Loading input data to SQLite database.\n",
      "DEBUG | Model.core.sql_manager | Connection to 'database.db' opened.\n",
      "INFO | Model.core.database | Loading data input file/s filled by the user to SQLite database.\n",
      "DEBUG | Model.file_manager | Excel file 'input_data.xlsx' loaded.\n",
      "DEBUG | Model.core.sql_manager | SQLite table 'd' - 9 entries updated.\n",
      "DEBUG | Model.core.sql_manager | SQLite table 'u' - 6 entries updated.\n",
      "DEBUG | Model.core.sql_manager | SQLite table 'c' - 6 entries updated.\n",
      "DEBUG | Model.core.sql_manager | SQLite table 'Y' - 10 entries updated.\n",
      "DEBUG | Model.core.sql_manager | SQLite table 'c_start' - 3 entries updated.\n",
      "DEBUG | Model.core.sql_manager | SQLite table 'e' - 3 entries updated.\n",
      "DEBUG | Model.core.sql_manager | SQLite table 'lf_range' - 6 entries updated.\n",
      "DEBUG | Model.core.sql_manager | Connection to 'database.db' closed.\n",
      "DEBUG | Model.core.sql_manager | Connection to 'database.db' opened.\n",
      "INFO | Model.core.database | Auto-completion of blank data in SQLite database.\n",
      "DEBUG | Model.core.sql_manager | Connection to 'database.db' closed.\n",
      "INFO | Model | Initializing numerical problems.\n",
      "INFO | Model.core | Initialize variables dataframes (cvxpy objects, filters dictionaries).\n",
      "DEBUG | Model.core.problem | Generating dataframe for variable 'd' (cvxpy object, filter dictionary).\n",
      "DEBUG | Model.core.problem | Generating dataframe for variable 'u' (cvxpy object, filter dictionary).\n",
      "DEBUG | Model.core.problem | Generating dataframe for variable 'c_cap' (cvxpy object, filter dictionary).\n",
      "DEBUG | Model.core.problem | Generating dataframe for variable 'c_om' (cvxpy object, filter dictionary).\n",
      "DEBUG | Model.core.problem | Generating dataframe for variable 'Y' (cvxpy object, filter dictionary).\n",
      "DEBUG | Model.core.problem | Generating dataframe for variable 'c_start' (cvxpy object, filter dictionary).\n",
      "DEBUG | Model.core.problem | Generating dataframe for variable 'e' (cvxpy object, filter dictionary).\n",
      "DEBUG | Model.core.problem | Generating dataframe for variable 'lf_max' (cvxpy object, filter dictionary).\n",
      "DEBUG | Model.core.problem | Generating dataframe for variable 'lf_min' (cvxpy object, filter dictionary).\n",
      "DEBUG | Model.core.problem | Generating constant 'T_yy' as 'lower_triangular'.\n",
      "DEBUG | Model.core.problem | Generating constant 'I_ff' as 'identity_rcot'.\n",
      "DEBUG | Model.core.problem | Generating dataframe for variable 'X' (cvxpy object, filter dictionary).\n",
      "DEBUG | Model.core.problem | Generating dataframe for variable 'Q' (cvxpy object, filter dictionary).\n",
      "DEBUG | Model.core.problem | Generating dataframe for variable 'Q_agg' (cvxpy object, filter dictionary).\n",
      "DEBUG | Model.core.problem | Generating dataframe for variable 'C_cap' (cvxpy object, filter dictionary).\n",
      "DEBUG | Model.core.problem | Generating dataframe for variable 'C_om' (cvxpy object, filter dictionary).\n",
      "DEBUG | Model.core.problem | Generating dataframe for variable 'X_max' (cvxpy object, filter dictionary).\n",
      "DEBUG | Model.core.problem | Generating dataframe for variable 'X_min' (cvxpy object, filter dictionary).\n",
      "DEBUG | Model.core.problem | Generating dataframe for variable 'Cap_op_y' (cvxpy object, filter dictionary).\n",
      "DEBUG | Model.core.problem | Generating dataframe for variable 'Cap_op' (cvxpy object, filter dictionary).\n",
      "DEBUG | Model.core.problem | Generating dataframe for variable 'Cap_new_y' (cvxpy object, filter dictionary).\n",
      "DEBUG | Model.core.problem | Generating dataframe for variable 'Cap_new' (cvxpy object, filter dictionary).\n",
      "DEBUG | Model.core.problem | Generating dataframe for variable 'E' (cvxpy object, filter dictionary).\n",
      "DEBUG | Model.core.sql_manager | Connection to 'database.db' opened.\n",
      "INFO | Model.core | Fetching data from 'database.db' to cvxpy exogenous variables.\n",
      "DEBUG | Model.core | Fetching data from table 'd' to cvxpy exogenous variable.\n",
      "DEBUG | Model.core | Fetching data from table 'u' to cvxpy exogenous variable.\n",
      "DEBUG | Model.core | Fetching data from table 'c_cap' to cvxpy exogenous variable.\n",
      "DEBUG | Model.core | Fetching data from table 'c_om' to cvxpy exogenous variable.\n",
      "DEBUG | Model.core | Fetching data from table 'Y' to cvxpy exogenous variable.\n",
      "DEBUG | Model.core | Fetching data from table 'c_start' to cvxpy exogenous variable.\n",
      "DEBUG | Model.core | Fetching data from table 'e' to cvxpy exogenous variable.\n",
      "DEBUG | Model.core | Fetching data from table 'lf_max' to cvxpy exogenous variable.\n",
      "DEBUG | Model.core | Fetching data from table 'lf_min' to cvxpy exogenous variable.\n",
      "DEBUG | Model.core.sql_manager | Connection to 'database.db' closed.\n",
      "INFO | Model.core | Load symbolic problem, initialize dataframes with cvxpy problems \n",
      "INFO | Model.core.problem | Loading symbolic problem from 'problem.yml' file.\n",
      "DEBUG | Model.file_manager | File 'problem.yml' loaded.\n",
      "INFO | Model.core.problem | Defining numeric problems based on symbolic problem.\n",
      "DEBUG | Model.core.problem | Defining numeric problem for combination of sets: ['baseline'].\n"
     ]
    }
   ],
   "source": [
    "# after filling input_data file/s:\n",
    "# - loading input data into sqlite database variables tables\n",
    "# - initialize problem\n",
    "model.load_data_files_to_database()\n",
    "model.initialize_problems()"
   ]
  },
  {
   "cell_type": "markdown",
   "metadata": {},
   "source": [
    "- - - \n",
    "MODEL GENERATION FROM EXISTING DATA\n",
    "\n",
    "Generation of a new model working with existing database and data input files."
   ]
  },
  {
   "cell_type": "code",
   "execution_count": 1,
   "metadata": {},
   "outputs": [
    {
     "name": "stderr",
     "output_type": "stream",
     "text": [
      "INFO | Model | 'Model' object initialization...\n",
      "INFO | Model.file_manager | 'FileManager' object generated.\n",
      "INFO | Model | Defining settings from model arguments.\n",
      "INFO | Model | Defining paths from model arguments.\n",
      "INFO | Model | Model directory and required setup files validated.\n",
      "INFO | Model.core | 'Core' object initialization...\n",
      "INFO | Model.core.sql_manager | 'SQLManager' object generation.\n",
      "INFO | Model.core.index | 'Index' object initialization...\n",
      "INFO | Model.core.index | Loading and validating data from file, generating 'SetTable' objects.\n",
      "INFO | Model.core.index | Loading and validating data from file, generating 'DataTable' objects.\n",
      "INFO | Model.core.index | Fetching and validating data, generating 'Variable' objects.\n",
      "INFO | Model.core.index | 'Index' object initialized.\n",
      "INFO | Model.core.database | 'Database' object initialization...\n",
      "INFO | Model.core.database | 'Database' object initialized.\n",
      "INFO | Model.core.problem | 'Problem' object initialization...\n",
      "INFO | Model.core.problem | 'Problem' object initialized.\n",
      "INFO | Model.core | 'Core' initialized.\n",
      "INFO | Model | Loading existing sets data and variable coordinates.\n",
      "INFO | Model.core.index | 'Index' object: loading new Sets data to Index.sets.\n",
      "INFO | Model.core.index | 'Index' object: loading variable coordinates to Index.data.\n",
      "INFO | Model.core.index | 'Index' object: loading variable coordinates to Index.variables.\n",
      "INFO | Model.core.index | Loading tables 'foreign_keys' to Index.data_tables.\n",
      "INFO | Model | Initializing numerical problems.\n",
      "INFO | Model.core | Initialize variables dataframes (cvxpy objects, filters dictionaries).\n",
      "INFO | Model.core | Fetching data from 'database.db' to cvxpy exogenous variables.\n",
      "INFO | Model.core | Load symbolic problem, initialize dataframes with cvxpy problems \n",
      "INFO | Model.core.problem | Loading symbolic problem from 'problem.yml' file.\n",
      "INFO | Model.core.problem | Defining numeric problems based on symbolic problem.\n",
      "INFO | Model.pbi_manager | 'PBIManager' object generated.\n",
      "INFO | Model | 'Model' object initialized.\n"
     ]
    }
   ],
   "source": [
    "# generate model instance based on setup files filled by the user.\n",
    "# validates model directory (in case user relies on existing directory). \n",
    "# parse settings and paths.\n",
    "# loading model coordinates\n",
    "# initializing numerical problem\n",
    "import esm \n",
    "\n",
    "model_dir_name = '4_sut_multi_year_rcot_cap_new'\n",
    "main_dir_path = 'D:/git_repos/pyesm/default'\n",
    "\n",
    "model = esm.Model(\n",
    "    model_dir_name=model_dir_name,\n",
    "    main_dir_path=main_dir_path,\n",
    "    use_existing_data=True,\n",
    "    log_level='info'\n",
    ")"
   ]
  },
  {
   "cell_type": "markdown",
   "metadata": {},
   "source": [
    "- - -\n",
    "DATA and MODEL UPDATE, MODEL RUN \n",
    "\n",
    "updating SQLite database with new data, \n",
    "re-initializing numerical problem\n",
    "\n",
    "solving numerical model, \n",
    "results export to sqlite database, \n",
    "generation of powerbi dataset"
   ]
  },
  {
   "cell_type": "code",
   "execution_count": null,
   "metadata": {},
   "outputs": [],
   "source": [
    "# in case of modifications in input data files (but not in sets, nor in \n",
    "# variables structures), update database and problem only\n",
    "model.update_database_and_problem()"
   ]
  },
  {
   "cell_type": "code",
   "execution_count": null,
   "metadata": {},
   "outputs": [],
   "source": [
    "# in case of modifications in symbolic problem only,\n",
    "# update problems dataframe and symbolic problem\n",
    "model.initialize_problems()"
   ]
  },
  {
   "cell_type": "code",
   "execution_count": 4,
   "metadata": {},
   "outputs": [
    {
     "name": "stderr",
     "output_type": "stream",
     "text": [
      "INFO | Model | Running numerical model.\n",
      "INFO | Model.core.problem | Solving problem: ['baseline'].\n"
     ]
    },
    {
     "name": "stdout",
     "output_type": "stream",
     "text": [
      "Set parameter Username\n",
      "Academic license - for non-commercial use only - expires 2024-12-19\n"
     ]
    },
    {
     "name": "stderr",
     "output_type": "stream",
     "text": [
      "INFO | Model.core.problem | Problem status: 'optimal'\n"
     ]
    }
   ],
   "source": [
    "# solve numerical problems\n",
    "model.run_model(verbose=False)"
   ]
  },
  {
   "cell_type": "code",
   "execution_count": null,
   "metadata": {},
   "outputs": [],
   "source": [
    "# once model has successfully solved, load endogenous parameters data to \n",
    "# sqlite database and generate powerbi dataset.\n",
    "model.load_results_to_database()\n",
    "model.generate_pbi_report()"
   ]
  },
  {
   "cell_type": "markdown",
   "metadata": {},
   "source": [
    "- - - \n",
    "TESTS"
   ]
  },
  {
   "cell_type": "code",
   "execution_count": 42,
   "metadata": {},
   "outputs": [],
   "source": [
    "model.core.index.variables.u.none_data_coordinates(0)"
   ]
  },
  {
   "cell_type": "code",
   "execution_count": 9,
   "metadata": {},
   "outputs": [
    {
     "name": "stdout",
     "output_type": "stream",
     "text": [
      "d \t\t ['technologies_supply', 'flows']   shape_size: [3, 3]  \n",
      "u \t\t ['flows_agg', 'technologies_supply']   shape_size: [2, 3]  \n",
      "c_cap \t\t ['costs', 'technologies_supply']   shape_size: [1, 3]  \n",
      "c_om \t\t ['costs', 'technologies_supply']   shape_size: [1, 3]  \n",
      "Y \t\t ['flows_agg', 'technologies_demand']   shape_size: [2, 1]  \n",
      "c_start \t\t [1, 'technologies_supply']   shape_size: [1, 3]  \n",
      "e \t\t ['emissions', 'technologies_supply']   shape_size: [1, 3]  \n",
      "lf_max \t\t ['load_factors', 'technologies_supply']   shape_size: [1, 3]  \n",
      "lf_min \t\t ['load_factors', 'technologies_supply']   shape_size: [1, 3]  \n",
      "T_yy \t\t ['years', 'years']   shape_size: [5, 5]  \n",
      "I_ff \t\t ['flows_agg', 'flows']   shape_size: [2, 3]  \n",
      "X \t\t ['technologies_supply', 1]   shape_size: [3, 1]  \n",
      "Q \t\t [1, 'flows']   shape_size: [1, 3]  \n",
      "Q_agg \t\t ['flows_agg', 1]   shape_size: [2, 1]  \n",
      "C_cap \t\t ['costs', 'technologies_supply']   shape_size: [1, 3]  \n",
      "C_om \t\t ['costs', 'technologies_supply']   shape_size: [1, 3]  \n",
      "X_max \t\t ['load_factors', 'technologies_supply']   shape_size: [1, 3]  \n",
      "X_min \t\t ['load_factors', 'technologies_supply']   shape_size: [1, 3]  \n",
      "Cap_op_y \t\t [1, 'technologies_supply']   shape_size: [1, 3]  \n",
      "Cap_op \t\t ['years', 'technologies_supply']   shape_size: [5, 3]  \n",
      "Cap_new_y \t\t [1, 'technologies_supply']   shape_size: [1, 3]  \n",
      "Cap_new \t\t ['years', 'technologies_supply']   shape_size: [5, 3]  \n",
      "E \t\t ['emissions', 'technologies_supply']   shape_size: [1, 3]  \n"
     ]
    }
   ],
   "source": [
    "for var_key, variable in model.core.index.variables.items():\n",
    "    print(\n",
    "        var_key, '\\t\\t',\n",
    "        variable.shape, ' ',\n",
    "        'shape_size:', variable.shape_size, ' ',\n",
    "        # 'is_square:', variable.is_square, ' ',\n",
    "        # 'is_vector:', variable.is_vector, ' ',\n",
    "        # 'dim_labels:', variable.dim_labels, ' ',\n",
    "        # 'dim_items:', variable.dim_items, ' ',\n",
    "    )\n",
    "\n"
   ]
  },
  {
   "cell_type": "code",
   "execution_count": null,
   "metadata": {},
   "outputs": [],
   "source": [
    "model.core.index.variables"
   ]
  },
  {
   "cell_type": "code",
   "execution_count": null,
   "metadata": {},
   "outputs": [],
   "source": [
    "model.core.index.sets.technologies"
   ]
  },
  {
   "cell_type": "code",
   "execution_count": null,
   "metadata": {},
   "outputs": [],
   "source": [
    "model.core.problem.symbolic_problem"
   ]
  },
  {
   "cell_type": "code",
   "execution_count": null,
   "metadata": {},
   "outputs": [],
   "source": [
    "model.core.problem.numeric_problems"
   ]
  },
  {
   "cell_type": "code",
   "execution_count": null,
   "metadata": {},
   "outputs": [],
   "source": [
    "import cvxpy as cp\n",
    "import numpy as np\n",
    "\n",
    "# Problem data.\n",
    "m = 5\n",
    "n = 2\n",
    "\n",
    "# Construct the problem.\n",
    "x = cp.Variable((n,1))\n",
    "A = cp.Constant(np.random.randn(m, n))\n",
    "b = cp.Constant(1)\n",
    "\n",
    "\n",
    "C = cp.Constant(np.random.randn(n, n))\n",
    "I = cp.Constant(np.eye(n))\n",
    "\n",
    "objective = cp.Minimize(cp.sum_squares(A @ x - b))\n",
    "constraints = [0 <= x, x <= 1]\n",
    "prob = cp.Problem(objective, constraints)\n",
    "\n",
    "# The optimal objective value is returned by `prob.solve()`.\n",
    "result = prob.solve(solver='GUROBI', verbose=False)\n",
    "# The optimal value for x is stored in `x.value`.\n",
    "\n",
    "x.value\n"
   ]
  },
  {
   "cell_type": "code",
   "execution_count": null,
   "metadata": {},
   "outputs": [],
   "source": [
    "import numpy as np\n",
    "\n",
    "array = np.ndarray()"
   ]
  },
  {
   "cell_type": "code",
   "execution_count": 24,
   "metadata": {},
   "outputs": [
    {
     "name": "stdout",
     "output_type": "stream",
     "text": [
      "v_parent = [[ 1.  2.  3.  4.]\n",
      " [ 5.  6.  7.  8.]\n",
      " [ 9. 10. 11. 12.]] \n",
      "\n",
      "v_parameter = [[ 1  2  3  4]\n",
      " [ 5  6  7  8]\n",
      " [ 9 10 11 12]] \n",
      "\n",
      "v_child = [[1. 2.]] \n",
      "\n"
     ]
    },
    {
     "data": {
      "text/plain": [
       "cvxpy.atoms.affine.index.index"
      ]
     },
     "execution_count": 24,
     "metadata": {},
     "output_type": "execute_result"
    }
   ],
   "source": [
    "import numpy as np\n",
    "import cvxpy as cp\n",
    "\n",
    "\n",
    "v_parent = cp.Variable((3,4))\n",
    "\n",
    "v_parameter = cp.Parameter((3,4))\n",
    "v_parameter.value = np.array([\n",
    "    [1,2,3,4],\n",
    "    [5,6,7,8],\n",
    "    [9,10,11,12],\n",
    "])\n",
    "\n",
    "v_child = v_parent[0:1,0:2]\n",
    "\n",
    "objective = cp.Minimize(1)\n",
    "constraints = [v_parameter == v_parent]\n",
    "prob = cp.Problem(objective, constraints)\n",
    "prob.solve(solver='GUROBI')\n",
    "\n",
    "print(f'v_parent = {v_parent.value} \\n')\n",
    "print(f'v_parameter = {v_parameter.value} \\n')\n",
    "print(f'v_child = {v_child.value} \\n')\n",
    "\n",
    "type(v_child)"
   ]
  },
  {
   "cell_type": "code",
   "execution_count": null,
   "metadata": {},
   "outputs": [],
   "source": [
    "# DEFINIZIONE COSTANTI PER TRASFORMARE I VARI OPERATORI VETTORIALI\n",
    "import cvxpy as cp\n",
    "import numpy as np\n",
    "\n",
    "var_a = cp.Variable((3,2))\n",
    "var_a.value = np.ones((var_a.shape))*3\n",
    "var_b = cp.Variable((3,1))\n",
    "\n",
    "i_21 = cp.Constant(np.ones((2,1)))\n",
    "i_13 = cp.Constant(np.ones((1,3)))\n",
    "\n",
    "allowed_vars = {\n",
    "    'A': var_a,\n",
    "    'B': var_b,\n",
    "    'i_21': i_21,\n",
    "    'i_13': i_13,\n",
    "}\n",
    "\n",
    "allowed_ops = {\n",
    "    '+': '+',\n",
    "    '-': '-',\n",
    "    '*': '*',\n",
    "    '@': '@',\n",
    "    '==': '==',\n",
    "    '>=': '>=',\n",
    "    '<=': '<=',\n",
    "    '(': '(',\n",
    "    ')': ')',\n",
    "    ',':',',\n",
    "    'sum': cp.sum,\n",
    "}\n",
    "\n",
    "expr = model.core.problem.execute_cvxpy_code(\n",
    "    expression='i_13 @ A @ i_21',\n",
    "    allowed_variables=allowed_vars,\n",
    "    allowed_operators=allowed_ops\n",
    ")\n",
    "\n",
    "expr2 = model.core.problem.execute_cvxpy_code(\n",
    "    expression='sum(B)',\n",
    "    allowed_variables=allowed_vars,\n",
    "    allowed_operators=allowed_ops\n",
    ")\n",
    "\n",
    "expr"
   ]
  },
  {
   "cell_type": "code",
   "execution_count": null,
   "metadata": {},
   "outputs": [],
   "source": [
    "model.core.database.sqltools.open_connection()\n",
    "\n",
    "var = model.core.database.sqltools.filtered_table_to_dataframe(\n",
    "    table_name='u',\n",
    "    filters_dict={\n",
    "        's_Name': ['Reference'],\n",
    "        'dt_Name': [2023],\n",
    "        'f_Name': ['Energy', 'Steel'],\n",
    "        't_Name': ['PV power plant', 'Steel factory', 'Gas power plant']\n",
    "    }\n",
    ")\n",
    "\n",
    "# filter_1 = test.core.database.sqltools.get_related_table_keys(\n",
    "#     child_column_name='f_Name',\n",
    "#     parent_table_name='_set_FLOWS',\n",
    "#     parent_table_fields={\n",
    "#         'f_Category': ['Product flow'],\n",
    "#     }\n",
    "# )\n",
    "\n",
    "# filter_2 = test.core.database.sqltools.get_related_table_keys(\n",
    "#     child_column_name='dt_Name',\n",
    "#     parent_table_name='_set_DATETIME',\n",
    "#     parent_table_fields={\n",
    "#         'dt_Name': [2023],\n",
    "#     }\n",
    "# )\n",
    "\n",
    "# var_custom_filter = test.core.database.sqltools.filtered_table_to_dataframe(\n",
    "#     table_name='v',\n",
    "#     filters_dict={\n",
    "#         **filter_1,\n",
    "#         **filter_2,\n",
    "#         **{'f_Name': ['Steel']},\n",
    "#     }\n",
    "# )\n",
    "\n",
    "model.core.database.sqltools.close_connection()\n",
    "\n",
    "# filter_1, filter_2\n",
    "var"
   ]
  }
 ],
 "metadata": {
  "kernelspec": {
   "display_name": "esm_dev",
   "language": "python",
   "name": "python3"
  },
  "language_info": {
   "codemirror_mode": {
    "name": "ipython",
    "version": 3
   },
   "file_extension": ".py",
   "mimetype": "text/x-python",
   "name": "python",
   "nbconvert_exporter": "python",
   "pygments_lexer": "ipython3",
   "version": "3.10.13"
  },
  "orig_nbformat": 4
 },
 "nbformat": 4,
 "nbformat_minor": 2
}
