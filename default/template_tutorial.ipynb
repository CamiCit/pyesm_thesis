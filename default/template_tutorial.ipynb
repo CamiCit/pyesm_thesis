{
 "cells": [
  {
   "cell_type": "markdown",
   "metadata": {},
   "source": [
    "## Python based Input-Output Modelling System (pyESM)\n",
    "Python package for generation and analysis of generic systems models "
   ]
  },
  {
   "cell_type": "markdown",
   "metadata": {},
   "source": [
    "- - -\n",
    "PACKAGE LOCAL INSTALLATION and USAGE\n",
    "\n",
    "Editable local installation:\n",
    "1. Create a virtual environment based on 'environment.yml' file.\n",
    "2. In the cmd, run: >>> python -m pip install -e \"path/to/pyesm\"\n",
    "3. From the virtual environment: >>> import esm\n",
    "4. Use esm APIs (Model class)\n"
   ]
  },
  {
   "cell_type": "markdown",
   "metadata": {},
   "source": [
    "- - -\n",
    "CREATE/UPDATE ENVIRONMENT BASED ON YML FILE IN PROJECT REPO\n",
    "\n",
    "In the prompt:\n",
    "- From the path where environment.yml is present: >>> conda env create -f environment.yml\n",
    "- The environment is named \"esm\", so type >>> conda activate esm\n",
    "\n",
    "UPDATE ENVIRONMENT YML FILE (in case of modifications)\n",
    "\n",
    "In the prompt: \n",
    "- activate the working environment: >>> conda activate your_environment_name\n",
    "- export environment.yml file based on the working environment: >>> conda env export > environment.yml\n"
   ]
  },
  {
   "cell_type": "markdown",
   "metadata": {
    "slideshow": {
     "slide_type": "slide"
    }
   },
   "source": [
    "- - - \n",
    "MODEL DIRECTORY GENERATION\n",
    "\n",
    "Generation of a model directory based on a model template or with blank setup files."
   ]
  },
  {
   "cell_type": "code",
   "execution_count": 35,
   "metadata": {},
   "outputs": [
    {
     "name": "stderr",
     "output_type": "stream",
     "text": [
      "INFO | default_logger.file_manager | Directory 'Anna' and its content not erased.\n"
     ]
    }
   ],
   "source": [
    "# Create model directory with essential setup files.\n",
    "# To be used only to generate models from scratch.\n",
    "# Template models setup files, raw data and sqlite database can be imported.\n",
    "import esm\n",
    "\n",
    "model_dir_name = 'Anna'\n",
    "main_dir_path = ''\n",
    "\n",
    "esm.create_model_dir(\n",
    "    model_dir_name=model_dir_name,\n",
    "    main_dir_path=main_dir_path,\n",
    "    default_model=None,\n",
    "    force_overwrite=False,\n",
    ")"
   ]
  },
  {
   "cell_type": "markdown",
   "metadata": {},
   "source": [
    "- - - \n",
    "GENERATION OF A NEW MODEL FROM SCRATCH\n",
    "\n",
    "Generation of a new model defined by setup files.\n",
    "\n",
    "Step-by-step model creation with sets, data and problems generation."
   ]
  },
  {
   "cell_type": "markdown",
   "metadata": {},
   "source": []
  },
  {
   "cell_type": "code",
   "execution_count": 39,
   "metadata": {},
   "outputs": [
    {
     "name": "stderr",
     "output_type": "stream",
     "text": [
      "INFO | Model | Generating 'Anna' pyESM model instance.\n",
      "INFO | Model | Model directory and required setup files validated.\n",
      "INFO | Model | Loading existing sets data and variable coordinates to Index.\n",
      "INFO | Model | Loading symbolic problem, initializing numerical problems.\n"
     ]
    }
   ],
   "source": [
    "# Generate model instance based on setup files filled by the user.\n",
    "# Validates model directory before executing.\n",
    "# If existing data are used, model coordinates are loaded and numerical problem\n",
    "# initialized (model ready to be run). Otherwise, sets excel file generated only.\n",
    "import esm\n",
    "\n",
    "model_dir_name = 'Anna'\n",
    "main_dir_path = ''\n",
    "\n",
    "model = esm.Model(\n",
    "    model_dir_name=model_dir_name,\n",
    "    main_dir_path=main_dir_path,\n",
    "    use_existing_data=True,\n",
    "    log_level='info',\n",
    ")"
   ]
  },
  {
   "cell_type": "code",
   "execution_count": 37,
   "metadata": {},
   "outputs": [
    {
     "name": "stderr",
     "output_type": "stream",
     "text": [
      "INFO | Model | Loading new sets data and variable coordinates to Index.\n",
      "INFO | Model | Generating new SQLite database 'database.db' and input excel file/s.\n"
     ]
    }
   ],
   "source": [
    "# Once sets.xlsx file has filled: \n",
    "# - loading model coordinates to Index\n",
    "# - generating blank sqlite database for sets and variables \n",
    "# (variables tables in sqlite database empty)\n",
    "model.load_model_coordinates()\n",
    "model.initialize_blank_data_structure()"
   ]
  },
  {
   "cell_type": "code",
   "execution_count": 38,
   "metadata": {},
   "outputs": [
    {
     "name": "stderr",
     "output_type": "stream",
     "text": [
      "INFO | Model | Loading input data to SQLite database.\n",
      "INFO | Model | Loading symbolic problem, initializing numerical problems.\n",
      "ERROR | Model.core.problem | NameError: name 'C_tot' is not defined\n"
     ]
    },
    {
     "ename": "NumericalProblemError",
     "evalue": "NameError: name 'C_tot' is not defined",
     "output_type": "error",
     "traceback": [
      "\u001b[1;31m---------------------------------------------------------------------------\u001b[0m",
      "\u001b[1;31mNameError\u001b[0m                                 Traceback (most recent call last)",
      "File \u001b[1;32mc:\\users\\annav\\onedrive\\documenti\\github\\pyesm\\esm\\base\\problem.py:550\u001b[0m, in \u001b[0;36mProblem.execute_cvxpy_code\u001b[1;34m(self, expression, allowed_variables, allowed_operators)\u001b[0m\n\u001b[0;32m    549\u001b[0m \u001b[38;5;28;01mtry\u001b[39;00m:\n\u001b[1;32m--> 550\u001b[0m     \u001b[43mexec\u001b[49m\u001b[43m(\u001b[49m\n\u001b[0;32m    551\u001b[0m \u001b[43m        \u001b[49m\u001b[38;5;124;43m'\u001b[39;49m\u001b[38;5;124;43moutput = \u001b[39;49m\u001b[38;5;124;43m'\u001b[39;49m\u001b[43m \u001b[49m\u001b[38;5;241;43m+\u001b[39;49m\u001b[43m \u001b[49m\u001b[43mexpression\u001b[49m\u001b[43m,\u001b[49m\n\u001b[0;32m    552\u001b[0m \u001b[43m        \u001b[49m\u001b[43m{\u001b[49m\u001b[38;5;241;43m*\u001b[39;49m\u001b[38;5;241;43m*\u001b[39;49m\u001b[43mallowed_operators\u001b[49m\u001b[43m,\u001b[49m\u001b[43m \u001b[49m\u001b[38;5;241;43m*\u001b[39;49m\u001b[38;5;241;43m*\u001b[39;49m\u001b[43mallowed_variables\u001b[49m\u001b[43m}\u001b[49m\u001b[43m,\u001b[49m\n\u001b[0;32m    553\u001b[0m \u001b[43m        \u001b[49m\u001b[43mlocal_vars\u001b[49m\u001b[43m,\u001b[49m\n\u001b[0;32m    554\u001b[0m \u001b[43m    \u001b[49m\u001b[43m)\u001b[49m\n\u001b[0;32m    556\u001b[0m \u001b[38;5;28;01mexcept\u001b[39;00m \u001b[38;5;167;01mSyntaxError\u001b[39;00m:\n",
      "File \u001b[1;32m<string>:1\u001b[0m\n",
      "\u001b[1;31mNameError\u001b[0m: name 'C_tot' is not defined",
      "\nDuring handling of the above exception, another exception occurred:\n",
      "\u001b[1;31mNumericalProblemError\u001b[0m                     Traceback (most recent call last)",
      "Cell \u001b[1;32mIn[38], line 5\u001b[0m\n\u001b[0;32m      1\u001b[0m \u001b[38;5;66;03m# after filling input_data file/s:\u001b[39;00m\n\u001b[0;32m      2\u001b[0m \u001b[38;5;66;03m# - loading input data into sqlite database variables tables\u001b[39;00m\n\u001b[0;32m      3\u001b[0m \u001b[38;5;66;03m# - initialize problem\u001b[39;00m\n\u001b[0;32m      4\u001b[0m model\u001b[38;5;241m.\u001b[39mload_exogenous_data_to_sqlite_database()\n\u001b[1;32m----> 5\u001b[0m \u001b[43mmodel\u001b[49m\u001b[38;5;241;43m.\u001b[39;49m\u001b[43minitialize_problems\u001b[49m\u001b[43m(\u001b[49m\u001b[43m)\u001b[49m\n",
      "File \u001b[1;32mc:\\users\\annav\\onedrive\\documenti\\github\\pyesm\\esm\\base\\model.py:187\u001b[0m, in \u001b[0;36mModel.initialize_problems\u001b[1;34m(self, force_overwrite)\u001b[0m\n\u001b[0;32m    185\u001b[0m \u001b[38;5;28mself\u001b[39m\u001b[38;5;241m.\u001b[39mcore\u001b[38;5;241m.\u001b[39minitialize_problems_variables()\n\u001b[0;32m    186\u001b[0m \u001b[38;5;28mself\u001b[39m\u001b[38;5;241m.\u001b[39mcore\u001b[38;5;241m.\u001b[39mdata_to_cvxpy_exogenous_vars()\n\u001b[1;32m--> 187\u001b[0m \u001b[38;5;28;43mself\u001b[39;49m\u001b[38;5;241;43m.\u001b[39;49m\u001b[43mcore\u001b[49m\u001b[38;5;241;43m.\u001b[39;49m\u001b[43mdefine_numerical_problems\u001b[49m\u001b[43m(\u001b[49m\u001b[43mforce_overwrite\u001b[49m\u001b[43m)\u001b[49m\n",
      "File \u001b[1;32mc:\\users\\annav\\onedrive\\documenti\\github\\pyesm\\esm\\base\\core.py:117\u001b[0m, in \u001b[0;36mCore.define_numerical_problems\u001b[1;34m(self, force_overwrite)\u001b[0m\n\u001b[0;32m    113\u001b[0m \u001b[38;5;28mself\u001b[39m\u001b[38;5;241m.\u001b[39mlogger\u001b[38;5;241m.\u001b[39mdebug(\n\u001b[0;32m    114\u001b[0m     \u001b[38;5;124m\"\u001b[39m\u001b[38;5;124mLoad symbolic problem, initialize dataframes with cvxpy problems \u001b[39m\u001b[38;5;124m\"\u001b[39m)\n\u001b[0;32m    116\u001b[0m \u001b[38;5;28mself\u001b[39m\u001b[38;5;241m.\u001b[39mproblem\u001b[38;5;241m.\u001b[39mload_symbolic_problem_from_file(force_overwrite)\n\u001b[1;32m--> 117\u001b[0m \u001b[38;5;28;43mself\u001b[39;49m\u001b[38;5;241;43m.\u001b[39;49m\u001b[43mproblem\u001b[49m\u001b[38;5;241;43m.\u001b[39;49m\u001b[43mgenerate_problems_dataframe\u001b[49m\u001b[43m(\u001b[49m\u001b[43mforce_overwrite\u001b[49m\u001b[43m)\u001b[49m\n",
      "File \u001b[1;32mc:\\users\\annav\\onedrive\\documenti\\github\\pyesm\\esm\\base\\problem.py:454\u001b[0m, in \u001b[0;36mProblem.generate_problems_dataframe\u001b[1;34m(self, force_overwrite)\u001b[0m\n\u001b[0;32m    448\u001b[0m problem_filter \u001b[38;5;241m=\u001b[39m problems_data\u001b[38;5;241m.\u001b[39mloc[\n\u001b[0;32m    449\u001b[0m     [problem_num],\n\u001b[0;32m    450\u001b[0m     list_sets_split_problem\n\u001b[0;32m    451\u001b[0m ]\n\u001b[0;32m    453\u001b[0m \u001b[38;5;66;03m# define explicit problem constraints (user-defined constraints)\u001b[39;00m\n\u001b[1;32m--> 454\u001b[0m constraints \u001b[38;5;241m=\u001b[39m \u001b[38;5;28;43mself\u001b[39;49m\u001b[38;5;241;43m.\u001b[39;49m\u001b[43mdefine_expressions\u001b[49m\u001b[43m(\u001b[49m\n\u001b[0;32m    455\u001b[0m \u001b[43m    \u001b[49m\u001b[43mheader_object\u001b[49m\u001b[38;5;241;43m=\u001b[39;49m\u001b[43mheaders\u001b[49m\u001b[43m[\u001b[49m\u001b[38;5;124;43m'\u001b[39;49m\u001b[38;5;124;43mconstraints\u001b[39;49m\u001b[38;5;124;43m'\u001b[39;49m\u001b[43m]\u001b[49m\u001b[43m,\u001b[49m\n\u001b[0;32m    456\u001b[0m \u001b[43m    \u001b[49m\u001b[43mproblem_filter\u001b[49m\u001b[38;5;241;43m=\u001b[39;49m\u001b[43mproblem_filter\u001b[49m\n\u001b[0;32m    457\u001b[0m \u001b[43m\u001b[49m\u001b[43m)\u001b[49m\n\u001b[0;32m    459\u001b[0m \u001b[38;5;66;03m# define problem objective\u001b[39;00m\n\u001b[0;32m    460\u001b[0m \u001b[38;5;66;03m# if not defined in yml, a dummy objective is defined\u001b[39;00m\n\u001b[0;32m    461\u001b[0m \u001b[38;5;28;01mif\u001b[39;00m \u001b[38;5;28mself\u001b[39m\u001b[38;5;241m.\u001b[39msymbolic_problem \u001b[38;5;129;01mand\u001b[39;00m \\\n\u001b[0;32m    462\u001b[0m         \u001b[38;5;28mself\u001b[39m\u001b[38;5;241m.\u001b[39msymbolic_problem\u001b[38;5;241m.\u001b[39mget(headers[\u001b[38;5;124m'\u001b[39m\u001b[38;5;124mobjective\u001b[39m\u001b[38;5;124m'\u001b[39m]):\n",
      "File \u001b[1;32mc:\\users\\annav\\onedrive\\documenti\\github\\pyesm\\esm\\base\\problem.py:638\u001b[0m, in \u001b[0;36mProblem.define_expressions\u001b[1;34m(self, header_object, problem_filter)\u001b[0m\n\u001b[0;32m    632\u001b[0m     \u001b[38;5;28;01melse\u001b[39;00m:\n\u001b[0;32m    633\u001b[0m         allowed_variables \u001b[38;5;241m=\u001b[39m \u001b[38;5;28mself\u001b[39m\u001b[38;5;241m.\u001b[39mfetch_allowed_cvxpy_variables(\n\u001b[0;32m    634\u001b[0m             variables_set_dict\u001b[38;5;241m=\u001b[39m{\u001b[38;5;241m*\u001b[39m\u001b[38;5;241m*\u001b[39mvars_subset, \u001b[38;5;241m*\u001b[39m\u001b[38;5;241m*\u001b[39mconstants_subset},\n\u001b[0;32m    635\u001b[0m             problem_filter\u001b[38;5;241m=\u001b[39mproblem_filter,\n\u001b[0;32m    636\u001b[0m         )\n\u001b[1;32m--> 638\u001b[0m         cvxpy_expression \u001b[38;5;241m=\u001b[39m \u001b[38;5;28;43mself\u001b[39;49m\u001b[38;5;241;43m.\u001b[39;49m\u001b[43mexecute_cvxpy_code\u001b[49m\u001b[43m(\u001b[49m\n\u001b[0;32m    639\u001b[0m \u001b[43m            \u001b[49m\u001b[43mexpression\u001b[49m\u001b[38;5;241;43m=\u001b[39;49m\u001b[43mexpression\u001b[49m\u001b[43m,\u001b[49m\n\u001b[0;32m    640\u001b[0m \u001b[43m            \u001b[49m\u001b[43mallowed_variables\u001b[49m\u001b[38;5;241;43m=\u001b[39;49m\u001b[43mallowed_variables\u001b[49m\u001b[43m,\u001b[49m\n\u001b[0;32m    641\u001b[0m \u001b[43m        \u001b[49m\u001b[43m)\u001b[49m\n\u001b[0;32m    643\u001b[0m         expressions\u001b[38;5;241m.\u001b[39mappend(cvxpy_expression)\n\u001b[0;32m    645\u001b[0m \u001b[38;5;28;01mreturn\u001b[39;00m expressions\n",
      "File \u001b[1;32mc:\\users\\annav\\onedrive\\documenti\\github\\pyesm\\esm\\base\\problem.py:564\u001b[0m, in \u001b[0;36mProblem.execute_cvxpy_code\u001b[1;34m(self, expression, allowed_variables, allowed_operators)\u001b[0m\n\u001b[0;32m    562\u001b[0m \u001b[38;5;28;01mexcept\u001b[39;00m \u001b[38;5;167;01mNameError\u001b[39;00m \u001b[38;5;28;01mas\u001b[39;00m msg:\n\u001b[0;32m    563\u001b[0m     \u001b[38;5;28mself\u001b[39m\u001b[38;5;241m.\u001b[39mlogger\u001b[38;5;241m.\u001b[39merror(\u001b[38;5;124mf\u001b[39m\u001b[38;5;124m'\u001b[39m\u001b[38;5;124mNameError: \u001b[39m\u001b[38;5;132;01m{\u001b[39;00mmsg\u001b[38;5;132;01m}\u001b[39;00m\u001b[38;5;124m'\u001b[39m)\n\u001b[1;32m--> 564\u001b[0m     \u001b[38;5;28;01mraise\u001b[39;00m exc\u001b[38;5;241m.\u001b[39mNumericalProblemError(\u001b[38;5;124mf\u001b[39m\u001b[38;5;124m'\u001b[39m\u001b[38;5;124mNameError: \u001b[39m\u001b[38;5;132;01m{\u001b[39;00mmsg\u001b[38;5;132;01m}\u001b[39;00m\u001b[38;5;124m'\u001b[39m)\n\u001b[0;32m    566\u001b[0m \u001b[38;5;28;01mreturn\u001b[39;00m local_vars[\u001b[38;5;124m'\u001b[39m\u001b[38;5;124moutput\u001b[39m\u001b[38;5;124m'\u001b[39m]\n",
      "\u001b[1;31mNumericalProblemError\u001b[0m: NameError: name 'C_tot' is not defined"
     ]
    }
   ],
   "source": [
    "# after filling input_data file/s:\n",
    "# - loading input data into sqlite database variables tables\n",
    "# - initialize problem\n",
    "model.load_exogenous_data_to_sqlite_database()\n",
    "model.initialize_problems()"
   ]
  },
  {
   "cell_type": "markdown",
   "metadata": {},
   "source": [
    "- - - \n",
    "MODEL GENERATION FROM EXISTING DATA\n",
    "\n",
    "Generation of a new model working with existing database and data input files."
   ]
  },
  {
   "cell_type": "code",
   "execution_count": null,
   "metadata": {},
   "outputs": [],
   "source": [
    "# generate model instance based on setup files filled by the user.\n",
    "# validates model directory (in case user relies on existing directory). \n",
    "# parse settings and paths.\n",
    "# loading model coordinates\n",
    "# initializing numerical problem\n",
    "import esm \n",
    "\n",
    "model_dir_name = '4_sut_multi_year_rcot_cap_new'\n",
    "main_dir_path = 'D:/git_repos/pyesm/default'\n",
    "\n",
    "model = esm.Model(\n",
    "    model_dir_name=model_dir_name,\n",
    "    main_dir_path=main_dir_path,\n",
    "    use_existing_data=True,\n",
    "    log_level='info'\n",
    ")"
   ]
  },
  {
   "cell_type": "markdown",
   "metadata": {},
   "source": [
    "- - -\n",
    "DATA and MODEL UPDATE, MODEL RUN \n",
    "\n",
    "updating SQLite database with new data, \n",
    "re-initializing numerical problem\n",
    "\n",
    "solving numerical model, \n",
    "results export to sqlite database, \n",
    "generation of powerbi dataset"
   ]
  },
  {
   "cell_type": "code",
   "execution_count": null,
   "metadata": {},
   "outputs": [],
   "source": [
    "# in case of modifications in input data files (but not in sets, nor in \n",
    "# variables structures), update database and problem only\n",
    "model.update_database_and_problem()"
   ]
  },
  {
   "cell_type": "code",
   "execution_count": null,
   "metadata": {},
   "outputs": [],
   "source": [
    "# in case of modifications in symbolic problem only,\n",
    "# update problems dataframe and symbolic problem\n",
    "model.initialize_problems()"
   ]
  },
  {
   "cell_type": "code",
   "execution_count": 40,
   "metadata": {},
   "outputs": [
    {
     "name": "stderr",
     "output_type": "stream",
     "text": [
      "INFO | Model | Running numerical model.\n",
      "INFO | Model.core.problem | Solving problem: ['base'].\n",
      "INFO | Model.core.problem | Problem status: 'optimal'\n"
     ]
    }
   ],
   "source": [
    "# solve numerical problems\n",
    "model.run_model(verbose=False, solver='SCIPY')"
   ]
  },
  {
   "cell_type": "code",
   "execution_count": 41,
   "metadata": {},
   "outputs": [
    {
     "name": "stderr",
     "output_type": "stream",
     "text": [
      "INFO | Model | Exporting endogenous model results to SQLite database.\n",
      "INFO | Model | Generating PowerBI report 'dataset.pbix'.\n"
     ]
    }
   ],
   "source": [
    "# once model has successfully solved, load endogenous parameters data to \n",
    "# sqlite database and generate powerbi dataset.\n",
    "model.load_results_to_database()\n",
    "model.generate_pbi_report()"
   ]
  }
 ],
 "metadata": {
  "kernelspec": {
   "display_name": "esm_dev",
   "language": "python",
   "name": "python3"
  },
  "language_info": {
   "codemirror_mode": {
    "name": "ipython",
    "version": 3
   },
   "file_extension": ".py",
   "mimetype": "text/x-python",
   "name": "python",
   "nbconvert_exporter": "python",
   "pygments_lexer": "ipython3",
   "version": "3.10.13"
  },
  "orig_nbformat": 4
 },
 "nbformat": 4,
 "nbformat_minor": 2
}
