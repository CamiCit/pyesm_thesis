{
 "cells": [
  {
   "cell_type": "code",
   "execution_count": 2,
   "metadata": {},
   "outputs": [],
   "source": [
    "import ruamel.yaml\n",
    "from ruamel.yaml import YAML\n",
    "\n",
    "# Load the YAML content\n",
    "yaml = ruamel.yaml.YAML()\n",
    "yaml.preserve_quotes = True\n",
    "\n",
    "input_file = 'old_structure_variables.yml'\n",
    "with open(input_file, 'r') as file:\n",
    "    data: dict = yaml.load(file)\n",
    " \n",
    "# Function to transform the variables_info structure\n",
    "def transform_variables_info(variables_info: dict):\n",
    "    transformed_info = {}\n",
    "    for key, value in variables_info.items():\n",
    "        if value is None or {}:\n",
    "            transformed_info[key] = None\n",
    "            continue\n",
    "        value: dict\n",
    "        transformed_info[key] = {}\n",
    "        for inner_key, inner_value in value.items():\n",
    "            if inner_key == 'value':\n",
    "                transformed_info[key]['value'] = inner_value\n",
    "            if isinstance(inner_value, dict):\n",
    "                if 'set' in inner_value:\n",
    "                    new_key = inner_value['set']\n",
    "                    transformed_info[key][new_key] = {'dim': inner_key}\n",
    "                if 'filters' in inner_value:\n",
    "                    transformed_info[key][new_key]['filters'] = inner_value['filters']\n",
    "    return transformed_info\n",
    " \n",
    "# Apply the transformation to each item in the dictionary\n",
    "for key, value in data.items():\n",
    "    if 'variables_info' in value and isinstance(value['variables_info'], dict):\n",
    "        value['variables_info'] = transform_variables_info(value['variables_info'])\n",
    "\n",
    "output_file = 'new_structure_variables.yml'\n",
    "# Write the modified content back to the YAML file\n",
    "with open(output_file, 'w') as file:\n",
    "    yaml.dump(data, file)"
   ]
  }
 ],
 "metadata": {
  "kernelspec": {
   "display_name": "pyesm",
   "language": "python",
   "name": "python3"
  },
  "language_info": {
   "codemirror_mode": {
    "name": "ipython",
    "version": 3
   },
   "file_extension": ".py",
   "mimetype": "text/x-python",
   "name": "python",
   "nbconvert_exporter": "python",
   "pygments_lexer": "ipython3",
   "version": "3.12.4"
  }
 },
 "nbformat": 4,
 "nbformat_minor": 2
}
