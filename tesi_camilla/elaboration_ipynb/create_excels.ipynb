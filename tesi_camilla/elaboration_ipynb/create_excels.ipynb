{
 "cells": [
  {
   "cell_type": "code",
   "execution_count": 3,
   "metadata": {},
   "outputs": [],
   "source": [
    "import pandas as pd\n",
    "    \n",
    "# Definizione delle stagioni e generazione dei giorni\n",
    "seasons = ['winter', 'mid-cold', 'mid-warm', 'summer']\n",
    "\n",
    "days = []\n",
    "repeat=10\n",
    "for season in seasons:\n",
    "    for i in range(1, repeat + 1):\n",
    "        days.append(f\"{season}{i}\")\n",
    "\n",
    "# Definizione delle ore\n",
    "hours = ['h1','h2','h3','h4','h5','h6','h7','h8','h9','h10','h11','h12','h13','h14','h15','h16','h17','h18','h19','h20','h21','h22','h23','h24']\n",
    "\n",
    "# Generazione del file Excel\n",
    "filename='days_hours.xlsx'\n",
    "# Crea una lista di righe, ciascuna con l'ora e il giorno corrispondente\n",
    "data = []\n",
    "for day in days:\n",
    "    for hour in hours:\n",
    "         data.append([hour, day])\n",
    "    \n",
    "# Crea un DataFrame da queste righe\n",
    "df = pd.DataFrame(data, columns=['Hour', 'Day'])\n",
    "    \n",
    "# Scrive il DataFrame in un file Excel\n",
    "df.to_excel(filename, index=False)"
   ]
  }
 ],
 "metadata": {
  "kernelspec": {
   "display_name": "pyesm",
   "language": "python",
   "name": "python3"
  },
  "language_info": {
   "codemirror_mode": {
    "name": "ipython",
    "version": 3
   },
   "file_extension": ".py",
   "mimetype": "text/x-python",
   "name": "python",
   "nbconvert_exporter": "python",
   "pygments_lexer": "ipython3",
   "version": "3.12.4"
  }
 },
 "nbformat": 4,
 "nbformat_minor": 2
}
