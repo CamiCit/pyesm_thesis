{
 "cells": [
  {
   "cell_type": "code",
   "execution_count": 8,
   "metadata": {},
   "outputs": [
    {
     "name": "stdout",
     "output_type": "stream",
     "text": [
      "Range significativo: Minimo = 21.787886, Massimo = 294.907461\n"
     ]
    }
   ],
   "source": [
    "import pandas as pd\n",
    "\n",
    "# Carichiamo i dati di esempio (presupponiamo che il DataFrame abbia una colonna 'price' con i prezzi mensili)\n",
    "pun = pd.read_excel('GME_pun2015-24.xlsx')\n",
    "\n",
    "# Metodo 1: Utilizzare l'intervallo interquartile (IQR) per individuare e rimuovere i picchi anormali\n",
    "Q1 = pun['price'].quantile(0.25)\n",
    "Q3 = pun['price'].quantile(0.75)\n",
    "IQR = Q3 - Q1\n",
    "\n",
    "# Consideriamo come outliers i valori che superano 1.5 volte l'IQR sopra Q3 (puoi cambiare 1.5 se necessario)\n",
    "upper_bound = Q3 + 3 * IQR\n",
    "\n",
    "# Rimuoviamo i valori superiori all'upper_bound ma lasciamo intatto il valore minimo\n",
    "cleaned_data = pun[pun['price'] <= upper_bound]\n",
    "\n",
    "# Otteniamo il range significativo dopo la pulizia dei dati\n",
    "min_value = cleaned_data['price'].min()  # Manteniamo il minimo\n",
    "max_value = cleaned_data['price'].max()  # Il massimo significativo dopo la pulizia\n",
    "\n",
    "# Visualizziamo il risultato\n",
    "print(f\"Range significativo: Minimo = {min_value}, Massimo = {max_value}\")"
   ]
  },
  {
   "cell_type": "code",
   "execution_count": null,
   "metadata": {
    "vscode": {
     "languageId": "r"
    }
   },
   "outputs": [],
   "source": [
    "import matplotlib.pyplot as plt\n",
    "\n",
    "# Plot all the 'price' data\n",
    "plt.figure(figsize=(12, 6))\n",
    "plt.plot(pun['Data'], pun['price'], label='Price', color='blue')\n",
    "\n",
    "# Highlight the range between min_value and max_value\n",
    "plt.axhspan(min_value, max_value, color='yellow', alpha=0.3, label='Statistical Bounds')\n",
    "\n",
    "# Add labels and title\n",
    "plt.xlabel('Date')\n",
    "plt.ylabel('Price')\n",
    "plt.title('Price Data with Statistical Bounds Highlighted')\n",
    "plt.legend()\n",
    "\n",
    "# Rotate x-axis labels for better readability\n",
    "plt.xticks(rotation=45)\n",
    "\n",
    "# Show the plot\n",
    "plt.show()"
   ]
  }
 ],
 "metadata": {
  "kernelspec": {
   "display_name": "clustering_tesi",
   "language": "python",
   "name": "python3"
  },
  "language_info": {
   "codemirror_mode": {
    "name": "ipython",
    "version": 3
   },
   "file_extension": ".py",
   "mimetype": "text/x-python",
   "name": "python",
   "nbconvert_exporter": "python",
   "pygments_lexer": "ipython3",
   "version": "3.9.19"
  }
 },
 "nbformat": 4,
 "nbformat_minor": 2
}
