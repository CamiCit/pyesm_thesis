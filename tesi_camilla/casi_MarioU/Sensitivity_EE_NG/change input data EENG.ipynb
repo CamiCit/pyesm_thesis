{
 "cells": [
  {
   "cell_type": "code",
   "execution_count": 1,
   "metadata": {},
   "outputs": [
    {
     "name": "stdout",
     "output_type": "stream",
     "text": [
      "Il file aggiornato è stato salvato come Siracusa/input_data/input_data_E1G1.xlsx\n",
      "Il file aggiornato è stato salvato come Roma/input_data/input_data_E1G1.xlsx\n",
      "Il file aggiornato è stato salvato come Milano/input_data/input_data_E1G1.xlsx\n",
      "Il file aggiornato è stato salvato come Siracusa/input_data/input_data_E1G2.xlsx\n",
      "Il file aggiornato è stato salvato come Roma/input_data/input_data_E1G2.xlsx\n",
      "Il file aggiornato è stato salvato come Milano/input_data/input_data_E1G2.xlsx\n",
      "Il file aggiornato è stato salvato come Siracusa/input_data/input_data_E1G3.xlsx\n",
      "Il file aggiornato è stato salvato come Roma/input_data/input_data_E1G3.xlsx\n",
      "Il file aggiornato è stato salvato come Milano/input_data/input_data_E1G3.xlsx\n",
      "Il file aggiornato è stato salvato come Siracusa/input_data/input_data_E2G1.xlsx\n",
      "Il file aggiornato è stato salvato come Roma/input_data/input_data_E2G1.xlsx\n",
      "Il file aggiornato è stato salvato come Milano/input_data/input_data_E2G1.xlsx\n",
      "Il file aggiornato è stato salvato come Siracusa/input_data/input_data_E2G2.xlsx\n",
      "Il file aggiornato è stato salvato come Roma/input_data/input_data_E2G2.xlsx\n",
      "Il file aggiornato è stato salvato come Milano/input_data/input_data_E2G2.xlsx\n",
      "Il file aggiornato è stato salvato come Siracusa/input_data/input_data_E2G3.xlsx\n",
      "Il file aggiornato è stato salvato come Roma/input_data/input_data_E2G3.xlsx\n",
      "Il file aggiornato è stato salvato come Milano/input_data/input_data_E2G3.xlsx\n",
      "Il file aggiornato è stato salvato come Siracusa/input_data/input_data_E3G1.xlsx\n",
      "Il file aggiornato è stato salvato come Roma/input_data/input_data_E3G1.xlsx\n",
      "Il file aggiornato è stato salvato come Milano/input_data/input_data_E3G1.xlsx\n",
      "Il file aggiornato è stato salvato come Siracusa/input_data/input_data_E3G2.xlsx\n",
      "Il file aggiornato è stato salvato come Roma/input_data/input_data_E3G2.xlsx\n",
      "Il file aggiornato è stato salvato come Milano/input_data/input_data_E3G2.xlsx\n",
      "Il file aggiornato è stato salvato come Siracusa/input_data/input_data_E3G3.xlsx\n",
      "Il file aggiornato è stato salvato come Roma/input_data/input_data_E3G3.xlsx\n",
      "Il file aggiornato è stato salvato come Milano/input_data/input_data_E3G3.xlsx\n"
     ]
    }
   ],
   "source": [
    "import pandas as pd\n",
    "import xlsxwriter\n",
    "\n",
    "vector_ee=[0.038,0.2,0.504]\n",
    "vector_ng=[0.223,0.55,1.29]\n",
    "# Carica il file Excel\n",
    "for ee in range(3):\n",
    "    for gas in range(3):\n",
    "        for city in ['Siracusa','Roma','Milano']:\n",
    "            file_path = f'{city}/input_data/input_data_base.xlsx'\n",
    "            xls = pd.ExcelFile(file_path)\n",
    "\n",
    "            new_df = pd.read_excel(file_path, sheet_name='cost_op')\n",
    "\n",
    "            new_df.loc[new_df['a_names'] == 'National Grid import', 'values'] = vector_ee[ee]\n",
    "            new_df.loc[new_df['a_names'] == 'Natural Gas supply grid', 'values'] = vector_ng[gas]\n",
    "\n",
    "            # Salva il file Excel aggiornato\n",
    "            output_file_path = f'{city}/input_data/input_data_E{ee+1}G{gas+1}.xlsx'\n",
    "            with pd.ExcelWriter(output_file_path, engine='xlsxwriter') as writer:\n",
    "                for sheet_name in xls.sheet_names:\n",
    "                    if sheet_name == 'cost_op':\n",
    "                        new_df.to_excel(writer, sheet_name=sheet_name, index=False)\n",
    "                    else:\n",
    "                        pd.read_excel(file_path, sheet_name=sheet_name).to_excel(writer, sheet_name=sheet_name, index=False)\n",
    "\n",
    "            print(f\"Il file aggiornato è stato salvato come {output_file_path}\")\n"
   ]
  }
 ],
 "metadata": {
  "kernelspec": {
   "display_name": "clustering_tesi",
   "language": "python",
   "name": "python3"
  },
  "language_info": {
   "codemirror_mode": {
    "name": "ipython",
    "version": 3
   },
   "file_extension": ".py",
   "mimetype": "text/x-python",
   "name": "python",
   "nbconvert_exporter": "python",
   "pygments_lexer": "ipython3",
   "version": "3.9.19"
  }
 },
 "nbformat": 4,
 "nbformat_minor": 2
}
