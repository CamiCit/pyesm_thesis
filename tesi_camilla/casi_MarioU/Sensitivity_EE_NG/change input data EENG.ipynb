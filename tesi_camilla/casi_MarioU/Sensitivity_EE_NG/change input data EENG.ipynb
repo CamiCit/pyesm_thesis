{
 "cells": [
  {
   "cell_type": "code",
   "execution_count": 1,
   "metadata": {},
   "outputs": [
    {
     "name": "stdout",
     "output_type": "stream",
     "text": [
      "Il file aggiornato è stato salvato come Siracusa/input_data/input_data_E1G1.xlsx\n",
      "Il file aggiornato è stato salvato come Roma/input_data/input_data_E1G1.xlsx\n",
      "Il file aggiornato è stato salvato come Milano/input_data/input_data_E1G1.xlsx\n",
      "Il file aggiornato è stato salvato come Siracusa/input_data/input_data_E1G2.xlsx\n",
      "Il file aggiornato è stato salvato come Roma/input_data/input_data_E1G2.xlsx\n",
      "Il file aggiornato è stato salvato come Milano/input_data/input_data_E1G2.xlsx\n",
      "Il file aggiornato è stato salvato come Siracusa/input_data/input_data_E1G3.xlsx\n",
      "Il file aggiornato è stato salvato come Roma/input_data/input_data_E1G3.xlsx\n",
      "Il file aggiornato è stato salvato come Milano/input_data/input_data_E1G3.xlsx\n",
      "Il file aggiornato è stato salvato come Siracusa/input_data/input_data_E2G1.xlsx\n",
      "Il file aggiornato è stato salvato come Roma/input_data/input_data_E2G1.xlsx\n",
      "Il file aggiornato è stato salvato come Milano/input_data/input_data_E2G1.xlsx\n",
      "Il file aggiornato è stato salvato come Siracusa/input_data/input_data_E2G2.xlsx\n",
      "Il file aggiornato è stato salvato come Roma/input_data/input_data_E2G2.xlsx\n",
      "Il file aggiornato è stato salvato come Milano/input_data/input_data_E2G2.xlsx\n",
      "Il file aggiornato è stato salvato come Siracusa/input_data/input_data_E2G3.xlsx\n",
      "Il file aggiornato è stato salvato come Roma/input_data/input_data_E2G3.xlsx\n",
      "Il file aggiornato è stato salvato come Milano/input_data/input_data_E2G3.xlsx\n",
      "Il file aggiornato è stato salvato come Siracusa/input_data/input_data_E3G1.xlsx\n",
      "Il file aggiornato è stato salvato come Roma/input_data/input_data_E3G1.xlsx\n",
      "Il file aggiornato è stato salvato come Milano/input_data/input_data_E3G1.xlsx\n",
      "Il file aggiornato è stato salvato come Siracusa/input_data/input_data_E3G2.xlsx\n",
      "Il file aggiornato è stato salvato come Roma/input_data/input_data_E3G2.xlsx\n",
      "Il file aggiornato è stato salvato come Milano/input_data/input_data_E3G2.xlsx\n",
      "Il file aggiornato è stato salvato come Siracusa/input_data/input_data_E3G3.xlsx\n",
      "Il file aggiornato è stato salvato come Roma/input_data/input_data_E3G3.xlsx\n",
      "Il file aggiornato è stato salvato come Milano/input_data/input_data_E3G3.xlsx\n"
     ]
    }
   ],
   "source": [
    "import pandas as pd\n",
    "import xlsxwriter\n",
    "\n",
    "vector_ee=[0.038,0.2,0.504]\n",
    "vector_ng=[0.223,0.55,1.29]\n",
    "# Carica il file Excel\n",
    "for ee in range(3):\n",
    "    for gas in range(3):\n",
    "        for city in ['Siracusa','Roma','Milano']:\n",
    "            file_path = f'{city}/input_data/input_data_base.xlsx'\n",
    "            xls = pd.ExcelFile(file_path)\n",
    "\n",
    "            new_df = pd.read_excel(file_path, sheet_name='cost_op')\n",
    "\n",
    "            new_df.loc[new_df['a_names'] == 'National Grid import', 'values'] = vector_ee[ee]\n",
    "            new_df.loc[new_df['a_names'] == 'Natural Gas supply grid', 'values'] = vector_ng[gas]\n",
    "\n",
    "            # Salva il file Excel aggiornato\n",
    "            output_file_path = f'{city}/input_data/input_data_E{ee+1}G{gas+1}.xlsx'\n",
    "            with pd.ExcelWriter(output_file_path, engine='xlsxwriter') as writer:\n",
    "                for sheet_name in xls.sheet_names:\n",
    "                    if sheet_name == 'cost_op':\n",
    "                        new_df.to_excel(writer, sheet_name=sheet_name, index=False)\n",
    "                    else:\n",
    "                        pd.read_excel(file_path, sheet_name=sheet_name).to_excel(writer, sheet_name=sheet_name, index=False)\n",
    "\n",
    "            print(f\"Il file aggiornato è stato salvato come {output_file_path}\")\n"
   ]
  },
  {
   "cell_type": "code",
   "execution_count": 10,
   "metadata": {},
   "outputs": [
    {
     "name": "stdout",
     "output_type": "stream",
     "text": [
      "Il file E1G1 è aggiornato\n"
     ]
    },
    {
     "name": "stderr",
     "output_type": "stream",
     "text": [
      "/var/folders/7_/h7wd3zm54kg_zntp92069r1h0000gn/T/ipykernel_11642/2187560267.py:19: FutureWarning: Setting an item of incompatible dtype is deprecated and will raise an error in a future version of pandas. Value '[1028.192 1028.192 1028.192 1028.192]' has dtype incompatible with int64, please explicitly cast to a compatible dtype first.\n",
      "  new_df.loc[new_df['t_names'] == tech, 'values'] = new_df.loc[new_df['t_names'] == tech, 'values'] * (1-0.4158)\n"
     ]
    },
    {
     "name": "stdout",
     "output_type": "stream",
     "text": [
      "Il file E1G1 è aggiornato\n"
     ]
    },
    {
     "name": "stderr",
     "output_type": "stream",
     "text": [
      "/var/folders/7_/h7wd3zm54kg_zntp92069r1h0000gn/T/ipykernel_11642/2187560267.py:19: FutureWarning: Setting an item of incompatible dtype is deprecated and will raise an error in a future version of pandas. Value '[1028.192 1028.192 1028.192 1028.192]' has dtype incompatible with int64, please explicitly cast to a compatible dtype first.\n",
      "  new_df.loc[new_df['t_names'] == tech, 'values'] = new_df.loc[new_df['t_names'] == tech, 'values'] * (1-0.4158)\n"
     ]
    },
    {
     "name": "stdout",
     "output_type": "stream",
     "text": [
      "Il file E1G1 è aggiornato\n"
     ]
    },
    {
     "name": "stderr",
     "output_type": "stream",
     "text": [
      "/var/folders/7_/h7wd3zm54kg_zntp92069r1h0000gn/T/ipykernel_11642/2187560267.py:19: FutureWarning: Setting an item of incompatible dtype is deprecated and will raise an error in a future version of pandas. Value '[1028.192 1028.192 1028.192 1028.192]' has dtype incompatible with int64, please explicitly cast to a compatible dtype first.\n",
      "  new_df.loc[new_df['t_names'] == tech, 'values'] = new_df.loc[new_df['t_names'] == tech, 'values'] * (1-0.4158)\n"
     ]
    },
    {
     "name": "stdout",
     "output_type": "stream",
     "text": [
      "Il file E1G3 è aggiornato\n"
     ]
    },
    {
     "name": "stderr",
     "output_type": "stream",
     "text": [
      "/var/folders/7_/h7wd3zm54kg_zntp92069r1h0000gn/T/ipykernel_11642/2187560267.py:19: FutureWarning: Setting an item of incompatible dtype is deprecated and will raise an error in a future version of pandas. Value '[1028.192 1028.192 1028.192 1028.192]' has dtype incompatible with int64, please explicitly cast to a compatible dtype first.\n",
      "  new_df.loc[new_df['t_names'] == tech, 'values'] = new_df.loc[new_df['t_names'] == tech, 'values'] * (1-0.4158)\n"
     ]
    },
    {
     "name": "stdout",
     "output_type": "stream",
     "text": [
      "Il file E1G3 è aggiornato\n"
     ]
    },
    {
     "name": "stderr",
     "output_type": "stream",
     "text": [
      "/var/folders/7_/h7wd3zm54kg_zntp92069r1h0000gn/T/ipykernel_11642/2187560267.py:19: FutureWarning: Setting an item of incompatible dtype is deprecated and will raise an error in a future version of pandas. Value '[1028.192 1028.192 1028.192 1028.192]' has dtype incompatible with int64, please explicitly cast to a compatible dtype first.\n",
      "  new_df.loc[new_df['t_names'] == tech, 'values'] = new_df.loc[new_df['t_names'] == tech, 'values'] * (1-0.4158)\n"
     ]
    },
    {
     "name": "stdout",
     "output_type": "stream",
     "text": [
      "Il file E1G3 è aggiornato\n"
     ]
    },
    {
     "name": "stderr",
     "output_type": "stream",
     "text": [
      "/var/folders/7_/h7wd3zm54kg_zntp92069r1h0000gn/T/ipykernel_11642/2187560267.py:19: FutureWarning: Setting an item of incompatible dtype is deprecated and will raise an error in a future version of pandas. Value '[1028.192 1028.192 1028.192 1028.192]' has dtype incompatible with int64, please explicitly cast to a compatible dtype first.\n",
      "  new_df.loc[new_df['t_names'] == tech, 'values'] = new_df.loc[new_df['t_names'] == tech, 'values'] * (1-0.4158)\n"
     ]
    },
    {
     "name": "stdout",
     "output_type": "stream",
     "text": [
      "Il file E3G1 è aggiornato\n"
     ]
    },
    {
     "name": "stderr",
     "output_type": "stream",
     "text": [
      "/var/folders/7_/h7wd3zm54kg_zntp92069r1h0000gn/T/ipykernel_11642/2187560267.py:19: FutureWarning: Setting an item of incompatible dtype is deprecated and will raise an error in a future version of pandas. Value '[1028.192 1028.192 1028.192 1028.192]' has dtype incompatible with int64, please explicitly cast to a compatible dtype first.\n",
      "  new_df.loc[new_df['t_names'] == tech, 'values'] = new_df.loc[new_df['t_names'] == tech, 'values'] * (1-0.4158)\n"
     ]
    },
    {
     "name": "stdout",
     "output_type": "stream",
     "text": [
      "Il file E3G1 è aggiornato\n"
     ]
    },
    {
     "name": "stderr",
     "output_type": "stream",
     "text": [
      "/var/folders/7_/h7wd3zm54kg_zntp92069r1h0000gn/T/ipykernel_11642/2187560267.py:19: FutureWarning: Setting an item of incompatible dtype is deprecated and will raise an error in a future version of pandas. Value '[1028.192 1028.192 1028.192 1028.192]' has dtype incompatible with int64, please explicitly cast to a compatible dtype first.\n",
      "  new_df.loc[new_df['t_names'] == tech, 'values'] = new_df.loc[new_df['t_names'] == tech, 'values'] * (1-0.4158)\n"
     ]
    },
    {
     "name": "stdout",
     "output_type": "stream",
     "text": [
      "Il file E3G1 è aggiornato\n"
     ]
    },
    {
     "name": "stderr",
     "output_type": "stream",
     "text": [
      "/var/folders/7_/h7wd3zm54kg_zntp92069r1h0000gn/T/ipykernel_11642/2187560267.py:19: FutureWarning: Setting an item of incompatible dtype is deprecated and will raise an error in a future version of pandas. Value '[1028.192 1028.192 1028.192 1028.192]' has dtype incompatible with int64, please explicitly cast to a compatible dtype first.\n",
      "  new_df.loc[new_df['t_names'] == tech, 'values'] = new_df.loc[new_df['t_names'] == tech, 'values'] * (1-0.4158)\n"
     ]
    },
    {
     "name": "stdout",
     "output_type": "stream",
     "text": [
      "Il file E3G3 è aggiornato\n"
     ]
    },
    {
     "name": "stderr",
     "output_type": "stream",
     "text": [
      "/var/folders/7_/h7wd3zm54kg_zntp92069r1h0000gn/T/ipykernel_11642/2187560267.py:19: FutureWarning: Setting an item of incompatible dtype is deprecated and will raise an error in a future version of pandas. Value '[1028.192 1028.192 1028.192 1028.192]' has dtype incompatible with int64, please explicitly cast to a compatible dtype first.\n",
      "  new_df.loc[new_df['t_names'] == tech, 'values'] = new_df.loc[new_df['t_names'] == tech, 'values'] * (1-0.4158)\n"
     ]
    },
    {
     "name": "stdout",
     "output_type": "stream",
     "text": [
      "Il file E3G3 è aggiornato\n"
     ]
    },
    {
     "name": "stderr",
     "output_type": "stream",
     "text": [
      "/var/folders/7_/h7wd3zm54kg_zntp92069r1h0000gn/T/ipykernel_11642/2187560267.py:19: FutureWarning: Setting an item of incompatible dtype is deprecated and will raise an error in a future version of pandas. Value '[1028.192 1028.192 1028.192 1028.192]' has dtype incompatible with int64, please explicitly cast to a compatible dtype first.\n",
      "  new_df.loc[new_df['t_names'] == tech, 'values'] = new_df.loc[new_df['t_names'] == tech, 'values'] * (1-0.4158)\n"
     ]
    },
    {
     "name": "stdout",
     "output_type": "stream",
     "text": [
      "Il file E3G3 è aggiornato\n"
     ]
    }
   ],
   "source": [
    "#Change: incentive prices\n",
    "import pandas as pd\n",
    "from openpyxl import load_workbook\n",
    "import xlsxwriter\n",
    "\n",
    "sheet_name = 'cost_inv'\n",
    "# Carica il file Excel\n",
    "for ee in range(3):\n",
    "    for gas in range(3):\n",
    "        if ee!=1 and gas!=1:\n",
    "            for city in ['Siracusa','Roma','Milano']:\n",
    "                file_path = f'{city}/input_data_incentive/input_data_E{ee+1}G{gas+1}.xlsx'\n",
    "\n",
    "                # Carica il workbook esistente\n",
    "                workbook = load_workbook(filename=file_path)\n",
    "                new_df = pd.read_excel(file_path, sheet_name='cost_inv')\n",
    "\n",
    "                for tech in ['PV sys','Storage EE','Gas Boiler','HP','AC','Radiators','Floor heating','Induction stove']:\n",
    "                    new_df.loc[new_df['t_names'] == tech, 'values'] = new_df.loc[new_df['t_names'] == tech, 'values'] * (1-0.4158)\n",
    "\n",
    "                # Salva il file Excel aggiornato\n",
    "                with pd.ExcelWriter(file_path, engine='openpyxl', mode='a', if_sheet_exists='replace') as writer:\n",
    "                    new_df.to_excel(writer, sheet_name=sheet_name, index=False)\n",
    "                print(f\"Il file E{ee+1}G{gas+1} è aggiornato\")"
   ]
  },
  {
   "cell_type": "code",
   "execution_count": 5,
   "metadata": {},
   "outputs": [],
   "source": [
    "file_path = 'Siracusa/input_data_incentive/input_data_E1G1.xlsx'\n",
    "xls = pd.ExcelFile(file_path)\n",
    "new_df = pd.read_excel(file_path, sheet_name='cost_inv')"
   ]
  },
  {
   "cell_type": "code",
   "execution_count": 9,
   "metadata": {},
   "outputs": [
    {
     "name": "stderr",
     "output_type": "stream",
     "text": [
      "/var/folders/7_/h7wd3zm54kg_zntp92069r1h0000gn/T/ipykernel_11642/436769577.py:13: FutureWarning: Setting an item of incompatible dtype is deprecated and will raise an error in a future version of pandas. Value '[1028.192 1028.192 1028.192 1028.192]' has dtype incompatible with int64, please explicitly cast to a compatible dtype first.\n",
      "  new_df.loc[new_df['t_names'] == tech, 'values'] = new_df.loc[new_df['t_names'] == tech, 'values'] * (1-0.4158)\n"
     ]
    }
   ],
   "source": [
    "from openpyxl import load_workbook\n",
    "\n",
    "# Specifica il percorso del file Excel\n",
    "file_path = 'Siracusa/input_data_incentive/input_data_E1G1.xlsx'\n",
    "\n",
    "# Carica il workbook esistente\n",
    "workbook = load_workbook(filename=file_path)\n",
    "sheet_name = 'cost_inv'\n",
    "\n",
    "new_df = pd.read_excel(file_path, sheet_name=sheet_name)\n",
    "\n",
    "for tech in ['PV sys','Storage EE','Gas Boiler','HP','AC','Radiators','Floor heating','Induction stove']:\n",
    "    new_df.loc[new_df['t_names'] == tech, 'values'] = new_df.loc[new_df['t_names'] == tech, 'values'] * (1-0.4158)\n",
    "\n",
    "with pd.ExcelWriter(file_path, engine='openpyxl', mode='a', if_sheet_exists='replace') as writer:\n",
    "    new_df.to_excel(writer, sheet_name=sheet_name, index=False)"
   ]
  },
  {
   "cell_type": "code",
   "execution_count": 7,
   "metadata": {},
   "outputs": [
    {
     "name": "stdout",
     "output_type": "stream",
     "text": [
      "<Worksheet \"cost_inv\">\n"
     ]
    }
   ],
   "source": [
    "print(sheet)"
   ]
  }
 ],
 "metadata": {
  "kernelspec": {
   "display_name": "clustering_tesi",
   "language": "python",
   "name": "python3"
  },
  "language_info": {
   "codemirror_mode": {
    "name": "ipython",
    "version": 3
   },
   "file_extension": ".py",
   "mimetype": "text/x-python",
   "name": "python",
   "nbconvert_exporter": "python",
   "pygments_lexer": "ipython3",
   "version": "3.9.19"
  }
 },
 "nbformat": 4,
 "nbformat_minor": 2
}
