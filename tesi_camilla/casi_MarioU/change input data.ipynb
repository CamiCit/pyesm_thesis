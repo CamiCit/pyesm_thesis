{
 "cells": [
  {
   "cell_type": "code",
   "execution_count": 1,
   "metadata": {},
   "outputs": [
    {
     "name": "stdout",
     "output_type": "stream",
     "text": [
      "Il file aggiornato è stato salvato come Siracusa/input_data/input_data_20y.xlsx\n",
      "Il file aggiornato è stato salvato come Roma/input_data/input_data_20y.xlsx\n",
      "Il file aggiornato è stato salvato come Milano/input_data/input_data_20y.xlsx\n"
     ]
    }
   ],
   "source": [
    "import pandas as pd\n",
    "import xlsxwriter\n",
    "\n",
    "\n",
    "# Carica il file Excel\n",
    "for city in ['Siracusa','Roma','Milano']:\n",
    "    file_path = f'{city}/input_data/input_data_base.xlsx'\n",
    "    xls = pd.ExcelFile(file_path)\n",
    "\n",
    "    new_df = pd.read_excel(file_path, sheet_name='n_years')\n",
    "\n",
    "    # Modifica il valore della colonna \"values\" corrispondente a...\n",
    "    new_value = 1450  # Imposta il nuovo valore che desideri\n",
    "    #new_df.loc[(new_df['a_names'] == 'Radiators heater') & (new_df['n_names'] == 'Heat'), 'values'] = 1.25*1.1\n",
    "    #new_df.loc[(new_df['a_names'] == 'Floor heater') & (new_df['n_names'] == 'Heat'), 'values'] = 1/0.9*1.1\n",
    "    #new_df.loc[new_df['t_names'] == 'PV sys', 'values'] = new_value\n",
    "    new_df['values'] = [20 * 1 for _ in range(4)]\n",
    "\n",
    "    # Salva il file Excel aggiornato\n",
    "    output_file_path = f'{city}/input_data/input_data_20y.xlsx'\n",
    "    with pd.ExcelWriter(output_file_path, engine='xlsxwriter') as writer:\n",
    "        for sheet_name in xls.sheet_names:\n",
    "            if sheet_name == 'n_years':\n",
    "                new_df.to_excel(writer, sheet_name=sheet_name, index=False)\n",
    "            else:\n",
    "                pd.read_excel(file_path, sheet_name=sheet_name).to_excel(writer, sheet_name=sheet_name, index=False)\n",
    "\n",
    "    print(f\"Il file aggiornato è stato salvato come {output_file_path}\")\n"
   ]
  },
  {
   "cell_type": "code",
   "execution_count": null,
   "metadata": {},
   "outputs": [],
   "source": [
    "#Incentivi: dimezzare molti prezzi\n",
    "import pandas as pd\n",
    "import xlsxwriter\n",
    "\n",
    "\n",
    "# Carica il file Excel\n",
    "for city in ['Siracusa','Roma','Milano']:\n",
    "    file_path = f'{city}/input_data/input_data_base.xlsx'\n",
    "    xls = pd.ExcelFile(file_path)\n",
    "\n",
    "    new_df = pd.read_excel(file_path, sheet_name='cost_inv')\n",
    "\n",
    "    # Modifica il valore della colonna \"values\" corrispondente a...\n",
    "    #new_value = 1000 # Imposta il nuovo valore che desideri\n",
    "    #new_df.loc[new_df['t_names'] == 'PV', 'values'] = new_value #* 1 for _ in range(4)]\n",
    "    #new_df['values'] = [new_value * 1 for _ in range(4)]\n",
    "    for tech in ['PV sys','Storage EE','Gas Boiler','HP','AC','Radiators','Floor heating','Induction stove']:\n",
    "        new_df.loc[new_df['t_names'] == tech, 'values'] = new_df.loc[new_df['t_names'] == tech, 'values'] * (1-0.4158)\n",
    "\n",
    "\n",
    "    # Salva il file Excel aggiornato\n",
    "    output_file_path = f'{city}/input_data/input_data_incentive.xlsx'\n",
    "    with pd.ExcelWriter(output_file_path, engine='xlsxwriter') as writer:\n",
    "        for sheet_name in xls.sheet_names:\n",
    "            if sheet_name == 'cost_inv':\n",
    "                new_df.to_excel(writer, sheet_name=sheet_name, index=False)\n",
    "            else:\n",
    "                pd.read_excel(file_path, sheet_name=sheet_name).to_excel(writer, sheet_name=sheet_name, index=False)\n",
    "\n",
    "    print(f\"Il file aggiornato è stato salvato come {output_file_path}\")"
   ]
  }
 ],
 "metadata": {
  "kernelspec": {
   "display_name": "clustering_tesi",
   "language": "python",
   "name": "python3"
  },
  "language_info": {
   "codemirror_mode": {
    "name": "ipython",
    "version": 3
   },
   "file_extension": ".py",
   "mimetype": "text/x-python",
   "name": "python",
   "nbconvert_exporter": "python",
   "pygments_lexer": "ipython3",
   "version": "3.9.19"
  }
 },
 "nbformat": 4,
 "nbformat_minor": 2
}
