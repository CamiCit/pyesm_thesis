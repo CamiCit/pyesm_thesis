{
 "cells": [
  {
   "cell_type": "code",
   "execution_count": 1,
   "metadata": {},
   "outputs": [
    {
     "ename": "ModuleNotFoundError",
     "evalue": "No module named 'xlsxwriter'",
     "output_type": "error",
     "traceback": [
      "\u001b[0;31m---------------------------------------------------------------------------\u001b[0m",
      "\u001b[0;31mModuleNotFoundError\u001b[0m                       Traceback (most recent call last)",
      "Cell \u001b[0;32mIn[1], line 2\u001b[0m\n\u001b[1;32m      1\u001b[0m \u001b[38;5;28;01mimport\u001b[39;00m \u001b[38;5;21;01mpandas\u001b[39;00m \u001b[38;5;28;01mas\u001b[39;00m \u001b[38;5;21;01mpd\u001b[39;00m\n\u001b[0;32m----> 2\u001b[0m \u001b[38;5;28;01mimport\u001b[39;00m \u001b[38;5;21;01mxlsxwriter\u001b[39;00m\n\u001b[1;32m      5\u001b[0m \u001b[38;5;66;03m# Carica il file Excel\u001b[39;00m\n\u001b[1;32m      6\u001b[0m \u001b[38;5;28;01mfor\u001b[39;00m city \u001b[38;5;129;01min\u001b[39;00m [\u001b[38;5;124m'\u001b[39m\u001b[38;5;124mSiracusa\u001b[39m\u001b[38;5;124m'\u001b[39m,\u001b[38;5;124m'\u001b[39m\u001b[38;5;124mRoma\u001b[39m\u001b[38;5;124m'\u001b[39m,\u001b[38;5;124m'\u001b[39m\u001b[38;5;124mMilano\u001b[39m\u001b[38;5;124m'\u001b[39m]:\n",
      "\u001b[0;31mModuleNotFoundError\u001b[0m: No module named 'xlsxwriter'"
     ]
    }
   ],
   "source": [
    "import pandas as pd\n",
    "import xlsxwriter\n",
    "\n",
    "\n",
    "# Carica il file Excel\n",
    "for city in ['Siracusa','Roma','Milano']:\n",
    "    file_path = f'{city}/input_data/input_data.xlsx'\n",
    "    xls = pd.ExcelFile(file_path)\n",
    "\n",
    "    # Carica il foglio \"cost_inv\"\n",
    "    cost_inv_df = pd.read_excel(file_path, sheet_name='cost_inv')\n",
    "\n",
    "    # Modifica il valore della colonna \"values\" corrispondente a \"t_names\" == \"PV sys\"\n",
    "    new_value = 1760*0.75  # Imposta il nuovo valore che desideri\n",
    "    cost_inv_df.loc[cost_inv_df['t_names'] == 'PV sys', 'values'] = [new_value * 1 for _ in range(4)]\n",
    "\n",
    "    # Salva il file Excel aggiornato\n",
    "    output_file_path = f'{city}/input_data/input_data_PV075.xlsx'\n",
    "    with pd.ExcelWriter(output_file_path, engine='xlsxwriter') as writer:\n",
    "        for sheet_name in xls.sheet_names:\n",
    "            if sheet_name == 'cost_inv':\n",
    "                cost_inv_df.to_excel(writer, sheet_name=sheet_name, index=False)\n",
    "            else:\n",
    "                pd.read_excel(file_path, sheet_name=sheet_name).to_excel(writer, sheet_name=sheet_name, index=False)\n",
    "\n",
    "    print(f\"Il file aggiornato è stato salvato come {output_file_path}\")\n"
   ]
  },
  {
   "cell_type": "code",
   "execution_count": 12,
   "metadata": {},
   "outputs": [],
   "source": [
    "# Correct the new_value assignment\n",
    "new_value = 1760 * 0.75\n",
    "\n",
    "# Create a list with four 1s multiplied by new_value\n",
    "new_value_list = [new_value * 1 for _ in range(4)]\n"
   ]
  }
 ],
 "metadata": {
  "kernelspec": {
   "display_name": "pyesm",
   "language": "python",
   "name": "python3"
  },
  "language_info": {
   "codemirror_mode": {
    "name": "ipython",
    "version": 3
   },
   "file_extension": ".py",
   "mimetype": "text/x-python",
   "name": "python",
   "nbconvert_exporter": "python",
   "pygments_lexer": "ipython3",
   "version": "3.9.19"
  }
 },
 "nbformat": 4,
 "nbformat_minor": 2
}
