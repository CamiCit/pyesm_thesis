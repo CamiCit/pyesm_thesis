{
 "cells": [
  {
   "cell_type": "code",
   "execution_count": 2,
   "metadata": {},
   "outputs": [
    {
     "ename": "UnboundLocalError",
     "evalue": "cannot access local variable 'new_key' where it is not associated with a value",
     "output_type": "error",
     "traceback": [
      "\u001b[0;31m---------------------------------------------------------------------------\u001b[0m",
      "\u001b[0;31mUnboundLocalError\u001b[0m                         Traceback (most recent call last)",
      "Cell \u001b[0;32mIn[2], line 35\u001b[0m\n\u001b[1;32m     33\u001b[0m \u001b[38;5;28;01mfor\u001b[39;00m key, value \u001b[38;5;129;01min\u001b[39;00m data\u001b[38;5;241m.\u001b[39mitems():\n\u001b[1;32m     34\u001b[0m     \u001b[38;5;28;01mif\u001b[39;00m \u001b[38;5;124m'\u001b[39m\u001b[38;5;124mvariables_info\u001b[39m\u001b[38;5;124m'\u001b[39m \u001b[38;5;129;01min\u001b[39;00m value \u001b[38;5;129;01mand\u001b[39;00m \u001b[38;5;28misinstance\u001b[39m(value[\u001b[38;5;124m'\u001b[39m\u001b[38;5;124mvariables_info\u001b[39m\u001b[38;5;124m'\u001b[39m], \u001b[38;5;28mdict\u001b[39m):\n\u001b[0;32m---> 35\u001b[0m         value[\u001b[38;5;124m'\u001b[39m\u001b[38;5;124mvariables_info\u001b[39m\u001b[38;5;124m'\u001b[39m] \u001b[38;5;241m=\u001b[39m \u001b[43mtransform_variables_info\u001b[49m\u001b[43m(\u001b[49m\u001b[43mvalue\u001b[49m\u001b[43m[\u001b[49m\u001b[38;5;124;43m'\u001b[39;49m\u001b[38;5;124;43mvariables_info\u001b[39;49m\u001b[38;5;124;43m'\u001b[39;49m\u001b[43m]\u001b[49m\u001b[43m)\u001b[49m\n\u001b[1;32m     37\u001b[0m output_file \u001b[38;5;241m=\u001b[39m \u001b[38;5;124m'\u001b[39m\u001b[38;5;124mnew_structure_variables.yml\u001b[39m\u001b[38;5;124m'\u001b[39m\n\u001b[1;32m     38\u001b[0m \u001b[38;5;66;03m# Write the modified content back to the YAML file\u001b[39;00m\n",
      "Cell \u001b[0;32mIn[2], line 29\u001b[0m, in \u001b[0;36mtransform_variables_info\u001b[0;34m(variables_info)\u001b[0m\n\u001b[1;32m     27\u001b[0m                 transformed_info[key][new_key] \u001b[38;5;241m=\u001b[39m {\u001b[38;5;124m'\u001b[39m\u001b[38;5;124mdim\u001b[39m\u001b[38;5;124m'\u001b[39m: inner_key}\n\u001b[1;32m     28\u001b[0m             \u001b[38;5;28;01mif\u001b[39;00m \u001b[38;5;124m'\u001b[39m\u001b[38;5;124mfilters\u001b[39m\u001b[38;5;124m'\u001b[39m \u001b[38;5;129;01min\u001b[39;00m inner_value:\n\u001b[0;32m---> 29\u001b[0m                 transformed_info[key][\u001b[43mnew_key\u001b[49m][\u001b[38;5;124m'\u001b[39m\u001b[38;5;124mfilters\u001b[39m\u001b[38;5;124m'\u001b[39m] \u001b[38;5;241m=\u001b[39m inner_value[\u001b[38;5;124m'\u001b[39m\u001b[38;5;124mfilters\u001b[39m\u001b[38;5;124m'\u001b[39m]\n\u001b[1;32m     30\u001b[0m \u001b[38;5;28;01mreturn\u001b[39;00m transformed_info\n",
      "\u001b[0;31mUnboundLocalError\u001b[0m: cannot access local variable 'new_key' where it is not associated with a value"
     ]
    }
   ],
   "source": [
    "import ruamel.yaml\n",
    "from ruamel.yaml import YAML\n",
    "\n",
    "# Load the YAML content\n",
    "yaml = ruamel.yaml.YAML()\n",
    "yaml.preserve_quotes = True\n",
    "\n",
    "input_file = 'old_structure_variables.yaml'\n",
    "with open(input_file, 'r') as file:\n",
    "    data: dict = yaml.load(file)\n",
    " \n",
    "# Function to transform the variables_info structure\n",
    "def transform_variables_info(variables_info: dict):\n",
    "    transformed_info = {}\n",
    "    for key, value in variables_info.items():\n",
    "        if value is None or {}:\n",
    "            transformed_info[key] = None\n",
    "            continue\n",
    "        value: dict\n",
    "        transformed_info[key] = {}\n",
    "        for inner_key, inner_value in value.items():\n",
    "            if inner_key == 'value':\n",
    "                transformed_info[key]['value'] = inner_value\n",
    "            if isinstance(inner_value, dict):\n",
    "                if 'set' in inner_value:\n",
    "                    new_key = inner_value['set']\n",
    "                    transformed_info[key][new_key] = {'dim': inner_key}\n",
    "                if 'filters' in inner_value:\n",
    "                    transformed_info[key][new_key]['filters'] = inner_value['filters']\n",
    "    return transformed_info\n",
    " \n",
    "# Apply the transformation to each item in the dictionary\n",
    "for key, value in data.items():\n",
    "    if 'variables_info' in value and isinstance(value['variables_info'], dict):\n",
    "        value['variables_info'] = transform_variables_info(value['variables_info'])\n",
    "\n",
    "output_file = 'new_structure_variables.yml'\n",
    "# Write the modified content back to the YAML file\n",
    "with open(output_file, 'w') as file:\n",
    "    yaml.dump(data, file)"
   ]
  }
 ],
 "metadata": {
  "kernelspec": {
   "display_name": "pyesm",
   "language": "python",
   "name": "python3"
  },
  "language_info": {
   "codemirror_mode": {
    "name": "ipython",
    "version": 3
   },
   "file_extension": ".py",
   "mimetype": "text/x-python",
   "name": "python",
   "nbconvert_exporter": "python",
   "pygments_lexer": "ipython3",
   "version": "3.12.4"
  }
 },
 "nbformat": 4,
 "nbformat_minor": 2
}
