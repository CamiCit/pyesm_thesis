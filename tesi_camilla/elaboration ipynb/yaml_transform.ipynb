{
 "cells": [
  {
   "cell_type": "code",
   "execution_count": 2,
   "metadata": {},
   "outputs": [
    {
     "ename": "FileNotFoundError",
     "evalue": "[Errno 2] No such file or directory: 'old_structure_variables.yml'",
     "output_type": "error",
     "traceback": [
      "\u001b[0;31m---------------------------------------------------------------------------\u001b[0m",
      "\u001b[0;31mFileNotFoundError\u001b[0m                         Traceback (most recent call last)",
      "Cell \u001b[0;32mIn[2], line 9\u001b[0m\n\u001b[1;32m      6\u001b[0m yaml\u001b[38;5;241m.\u001b[39mpreserve_quotes \u001b[38;5;241m=\u001b[39m \u001b[38;5;28;01mTrue\u001b[39;00m\n\u001b[1;32m      8\u001b[0m input_file \u001b[38;5;241m=\u001b[39m \u001b[38;5;124m'\u001b[39m\u001b[38;5;124mold_structure_variables.yml\u001b[39m\u001b[38;5;124m'\u001b[39m\n\u001b[0;32m----> 9\u001b[0m \u001b[38;5;28;01mwith\u001b[39;00m \u001b[38;5;28;43mopen\u001b[39;49m\u001b[43m(\u001b[49m\u001b[43minput_file\u001b[49m\u001b[43m,\u001b[49m\u001b[43m \u001b[49m\u001b[38;5;124;43m'\u001b[39;49m\u001b[38;5;124;43mr\u001b[39;49m\u001b[38;5;124;43m'\u001b[39;49m\u001b[43m)\u001b[49m \u001b[38;5;28;01mas\u001b[39;00m file:\n\u001b[1;32m     10\u001b[0m     data: \u001b[38;5;28mdict\u001b[39m \u001b[38;5;241m=\u001b[39m yaml\u001b[38;5;241m.\u001b[39mload(file)\n\u001b[1;32m     12\u001b[0m \u001b[38;5;66;03m# Function to transform the variables_info structure\u001b[39;00m\n",
      "File \u001b[0;32m/opt/anaconda3/envs/pyesm/lib/python3.12/site-packages/IPython/core/interactiveshell.py:324\u001b[0m, in \u001b[0;36m_modified_open\u001b[0;34m(file, *args, **kwargs)\u001b[0m\n\u001b[1;32m    317\u001b[0m \u001b[38;5;28;01mif\u001b[39;00m file \u001b[38;5;129;01min\u001b[39;00m {\u001b[38;5;241m0\u001b[39m, \u001b[38;5;241m1\u001b[39m, \u001b[38;5;241m2\u001b[39m}:\n\u001b[1;32m    318\u001b[0m     \u001b[38;5;28;01mraise\u001b[39;00m \u001b[38;5;167;01mValueError\u001b[39;00m(\n\u001b[1;32m    319\u001b[0m         \u001b[38;5;124mf\u001b[39m\u001b[38;5;124m\"\u001b[39m\u001b[38;5;124mIPython won\u001b[39m\u001b[38;5;124m'\u001b[39m\u001b[38;5;124mt let you open fd=\u001b[39m\u001b[38;5;132;01m{\u001b[39;00mfile\u001b[38;5;132;01m}\u001b[39;00m\u001b[38;5;124m by default \u001b[39m\u001b[38;5;124m\"\u001b[39m\n\u001b[1;32m    320\u001b[0m         \u001b[38;5;124m\"\u001b[39m\u001b[38;5;124mas it is likely to crash IPython. If you know what you are doing, \u001b[39m\u001b[38;5;124m\"\u001b[39m\n\u001b[1;32m    321\u001b[0m         \u001b[38;5;124m\"\u001b[39m\u001b[38;5;124myou can use builtins\u001b[39m\u001b[38;5;124m'\u001b[39m\u001b[38;5;124m open.\u001b[39m\u001b[38;5;124m\"\u001b[39m\n\u001b[1;32m    322\u001b[0m     )\n\u001b[0;32m--> 324\u001b[0m \u001b[38;5;28;01mreturn\u001b[39;00m \u001b[43mio_open\u001b[49m\u001b[43m(\u001b[49m\u001b[43mfile\u001b[49m\u001b[43m,\u001b[49m\u001b[43m \u001b[49m\u001b[38;5;241;43m*\u001b[39;49m\u001b[43margs\u001b[49m\u001b[43m,\u001b[49m\u001b[43m \u001b[49m\u001b[38;5;241;43m*\u001b[39;49m\u001b[38;5;241;43m*\u001b[39;49m\u001b[43mkwargs\u001b[49m\u001b[43m)\u001b[49m\n",
      "\u001b[0;31mFileNotFoundError\u001b[0m: [Errno 2] No such file or directory: 'old_structure_variables.yml'"
     ]
    }
   ],
   "source": [
    "import ruamel.yaml\n",
    "from ruamel.yaml import YAML\n",
    "\n",
    "# Load the YAML content\n",
    "yaml = ruamel.yaml.YAML()\n",
    "yaml.preserve_quotes = True\n",
    "\n",
    "input_file = 'old_structure_variables.yml'\n",
    "with open(input_file, 'r') as file:\n",
    "    data: dict = yaml.load(file)\n",
    " \n",
    "# Function to transform the variables_info structure\n",
    "def transform_variables_info(variables_info: dict):\n",
    "    transformed_info = {}\n",
    "    for key, value in variables_info.items():\n",
    "        if value is None or {}:\n",
    "            transformed_info[key] = None\n",
    "            continue\n",
    "        value: dict\n",
    "        transformed_info[key] = {}\n",
    "        for inner_key, inner_value in value.items():\n",
    "            if inner_key == 'value':\n",
    "                transformed_info[key]['value'] = inner_value\n",
    "            if isinstance(inner_value, dict):\n",
    "                if 'set' in inner_value:\n",
    "                    new_key = inner_value['set']\n",
    "                    transformed_info[key][new_key] = {'dim': inner_key}\n",
    "                if 'filters' in inner_value:\n",
    "                    transformed_info[key][new_key]['filters'] = inner_value['filters']\n",
    "    return transformed_info\n",
    " \n",
    "# Apply the transformation to each item in the dictionary\n",
    "for key, value in data.items():\n",
    "    if 'variables_info' in value and isinstance(value['variables_info'], dict):\n",
    "        value['variables_info'] = transform_variables_info(value['variables_info'])\n",
    "\n",
    "output_file = 'new_structure_variables.yaml'\n",
    "# Write the modified content back to the YAML file\n",
    "with open(output_file, 'w') as file:\n",
    "    yaml.dump(data, file)"
   ]
  }
 ],
 "metadata": {
  "kernelspec": {
   "display_name": "pyesm",
   "language": "python",
   "name": "python3"
  },
  "language_info": {
   "codemirror_mode": {
    "name": "ipython",
    "version": 3
   },
   "file_extension": ".py",
   "mimetype": "text/x-python",
   "name": "python",
   "nbconvert_exporter": "python",
   "pygments_lexer": "ipython3",
   "version": "3.12.4"
  }
 },
 "nbformat": 4,
 "nbformat_minor": 2
}
