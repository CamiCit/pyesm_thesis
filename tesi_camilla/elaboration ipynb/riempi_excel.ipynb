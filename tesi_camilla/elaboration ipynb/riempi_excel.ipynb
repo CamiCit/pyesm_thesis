{
 "cells": [
  {
   "cell_type": "code",
   "execution_count": 1,
   "metadata": {},
   "outputs": [],
   "source": [
    "#Trasferire i dati di un excel a un altro, lasciando vuote le righe che \"vuoto\" ha in più\n",
    "import pandas as pd\n",
    "\n",
    "# Carica i file Excel\n",
    "vuoto_path='/Users/cami/Documents/GitHub/pyesm_tesi/thesis/main_new_formulation/input_data/input_data_empty.xlsx'\n",
    "xls = pd.ExcelFile(vuoto_path)\n",
    "vuoto_sheets = {sheet_name: xls.parse(sheet_name) for sheet_name in xls.sheet_names}\n",
    "\n",
    "pieno_path='/Users/cami/Documents/GitHub/pyesm_tesi/thesis/main_new_formulation/input_data/input_data_old.xlsx'\n",
    "xls = pd.ExcelFile(pieno_path)\n",
    "pieno_sheets = {sheet_name: xls.parse(sheet_name) for sheet_name in xls.sheet_names}\n",
    "\n",
    "\n",
    "# Funzione per aggiornare i valori nella colonna \"values\"\n",
    "def update_values(pieno_sheets, vuoto_sheets):\n",
    "    for sheet_name, vuoto_df in vuoto_sheets.items():\n",
    "        if sheet_name in pieno_sheets:\n",
    "            pieno_df = pieno_sheets[sheet_name]\n",
    "\n",
    "            # Check if 'values' column exists in both DataFrames\n",
    "            if 'values' in vuoto_df.columns and 'values' in pieno_df.columns:\n",
    "                for idx, vuoto_row in vuoto_df.iterrows():\n",
    "                    for _, pieno_row in pieno_df.iterrows():\n",
    "                        # Confronta tutte le colonne tranne l'ultima (assumendo che l'ultima sia \"values\")\n",
    "                        if vuoto_row[:-1].equals(pieno_row[:-1]):\n",
    "                            vuoto_df.at[idx, 'values'] = pieno_row['values']\n",
    "                            break\n",
    "    return vuoto_sheets\n",
    "\n",
    "# Funzione per salvare i DataFrame aggiornati in un nuovo file Excel\n",
    "def save_excel_sheets(sheet_dict, file_path):\n",
    "    with pd.ExcelWriter(file_path, engine='openpyxl') as writer:\n",
    "        for sheet_name, df in sheet_dict.items():\n",
    "            df.to_excel(writer, sheet_name=sheet_name, index=False)\n",
    "\n",
    "\n",
    "# Aggiorna i valori\n",
    "updated_sheets = update_values(pieno_sheets, vuoto_sheets)\n",
    "\n",
    "# Salva il risultato in un nuovo file Excel\n",
    "save_excel_sheets(updated_sheets, '/Users/cami/Documents/GitHub/pyesm_tesi/thesis/main_new_formulation/input_data/input_data_riempito.xlsx')"
   ]
  }
 ],
 "metadata": {
  "kernelspec": {
   "display_name": "pyesm",
   "language": "python",
   "name": "python3"
  },
  "language_info": {
   "codemirror_mode": {
    "name": "ipython",
    "version": 3
   },
   "file_extension": ".py",
   "mimetype": "text/x-python",
   "name": "python",
   "nbconvert_exporter": "python",
   "pygments_lexer": "ipython3",
   "version": "3.12.4"
  }
 },
 "nbformat": 4,
 "nbformat_minor": 2
}
