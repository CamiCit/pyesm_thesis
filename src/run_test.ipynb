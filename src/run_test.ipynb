{
 "cells": [
  {
   "attachments": {},
   "cell_type": "markdown",
   "metadata": {},
   "source": [
    "pyESM WORKFLOW"
   ]
  },
  {
   "cell_type": "code",
   "execution_count": 1,
   "metadata": {},
   "outputs": [
    {
     "name": "stderr",
     "output_type": "stream",
     "text": [
      "INFO | Interface | Initializing 'Interface' object.\n",
      "DEBUG | Interface.file_manager | 'FileManager' object generated.\n",
      "INFO | Interface.model | Generation of 'Model' object.\n",
      "DEBUG | Interface.file_manager | File 'model_settings.yml' loaded.\n",
      "WARNING | Interface.file_manager | Directory 'test_case_1' already exists.\n",
      "WARNING | Interface.file_manager | Directory 'test_case_1' not overwritten.\n",
      "INFO | Interface.model.database | Generation of 'Database' object.\n",
      "WARNING | Interface.file_manager | Excel file 'sets.xlsx' already exists.\n",
      "DEBUG | Interface.file_manager | Excel file 'sets.xlsx' not overwritten.\n",
      "INFO | Interface.model.database | 'Database' object initialized.\n",
      "INFO | Interface.model.problem | Generation of 'Problem' object.\n",
      "INFO | Interface.model.problem | 'Problem' object generated.\n",
      "INFO | Interface.model | 'Model' generated.\n",
      "INFO | Interface | 'Interface' object initialized.\n"
     ]
    }
   ],
   "source": [
    "# create an instance of Interface class\n",
    "# based on the model settings, this generates the model's input files to be filled\n",
    "# and the blank SQL database\n",
    "\n",
    "from frontend.interface import Interface\n",
    "\n",
    "model_test = Interface(\n",
    "    log_level='debug',\n",
    "    log_format='minimal',\n",
    "    log_file_name='model_test.log',\n",
    ")"
   ]
  },
  {
   "cell_type": "code",
   "execution_count": 2,
   "metadata": {},
   "outputs": [
    {
     "name": "stderr",
     "output_type": "stream",
     "text": [
      "DEBUG | Interface.file_manager | Excel file 'sets.xlsx' loaded.\n",
      "INFO | Interface.model.database | New Sets loaded from 'sets.xlsx'.\n"
     ]
    }
   ],
   "source": [
    "# load model sets from the xlsx files filled by the user\n",
    "# (data validation in excel according to the constant file is envisaged)\n",
    "\n",
    "model_test.model.database.load_sets()"
   ]
  },
  {
   "cell_type": "code",
   "execution_count": 3,
   "metadata": {},
   "outputs": [
    {
     "name": "stderr",
     "output_type": "stream",
     "text": [
      "INFO | Interface.model.database | Loading variables coordinates.\n",
      "DEBUG | Interface.model.database | Loading coordinates for variable 'v'.\n",
      "DEBUG | Interface.model.database | Loading coordinates for variable 'u'.\n",
      "DEBUG | Interface.model.database | Loading coordinates for variable 'Y'.\n",
      "INFO | Interface.model.database | Variables coordinates loaded.\n"
     ]
    }
   ],
   "source": [
    "# load model variables coordinates necessary to generate database and \n",
    "# files for input data\n",
    "\n",
    "model_test.model.database.load_vars_coordinates()"
   ]
  },
  {
   "cell_type": "code",
   "execution_count": 4,
   "metadata": {},
   "outputs": [
    {
     "name": "stderr",
     "output_type": "stream",
     "text": [
      "INFO | Interface.model.database | Generation of blank database.\n",
      "DEBUG | Interface.model.database | Creating DataArray for variable 'v'.\n",
      "DEBUG | Interface.model.database | Creating DataArray for variable 'u'.\n",
      "DEBUG | Interface.model.database | Creating DataArray for variable 'Y'.\n",
      "INFO | Interface.model.database | Blank database generated.\n"
     ]
    }
   ],
   "source": [
    "# generate database as a dictionary of xarray DataArray objects\n",
    "\n",
    "model_test.model.database.generate_blank_database()\n"
   ]
  },
  {
   "cell_type": "code",
   "execution_count": 5,
   "metadata": {},
   "outputs": [
    {
     "name": "stderr",
     "output_type": "stream",
     "text": [
      "INFO | Interface.model.database | Generation of input files for 'Database' object.\n",
      "DEBUG | Interface.file_manager | Directory 'input_data' created.\n",
      "DEBUG | Interface.file_manager | Directory 'BAU' created.\n",
      "DEBUG | Interface.file_manager | Directory 'NZE' created.\n",
      "INFO | Interface.model.database | Input files for 'Database' object generated.\n"
     ]
    }
   ],
   "source": [
    "# generate files for input data to be filled by the user\n",
    "\n",
    "model_test.model.database.generate_input_files()"
   ]
  },
  {
   "cell_type": "code",
   "execution_count": null,
   "metadata": {},
   "outputs": [],
   "source": [
    "model_test.model.database.data_dir_settings['hierarchy']['directories']"
   ]
  },
  {
   "cell_type": "code",
   "execution_count": null,
   "metadata": {},
   "outputs": [],
   "source": [
    "model_test.model.database.sets_structure['scenarios']['table_headers']['name'][0]"
   ]
  },
  {
   "cell_type": "code",
   "execution_count": null,
   "metadata": {},
   "outputs": [],
   "source": [
    "model_test.model.database.sets['scenarios']['s_Name']"
   ]
  },
  {
   "cell_type": "code",
   "execution_count": null,
   "metadata": {},
   "outputs": [],
   "source": [
    "model_test.model.database.sets['scenarios'].get('s_Name')"
   ]
  },
  {
   "cell_type": "code",
   "execution_count": null,
   "metadata": {},
   "outputs": [],
   "source": [
    "model_test.model.database.sets_structure['scenarios']['table_headers']['name'][0]"
   ]
  },
  {
   "cell_type": "code",
   "execution_count": null,
   "metadata": {},
   "outputs": [],
   "source": [
    "model_test.model.database.sets[dir_names]"
   ]
  },
  {
   "cell_type": "code",
   "execution_count": null,
   "metadata": {},
   "outputs": [],
   "source": [
    "model_test.model.database.variables_info"
   ]
  },
  {
   "cell_type": "code",
   "execution_count": null,
   "metadata": {},
   "outputs": [],
   "source": [
    "model_test.model.database.data['v']"
   ]
  },
  {
   "cell_type": "code",
   "execution_count": null,
   "metadata": {},
   "outputs": [],
   "source": [
    "model_test.model.database.variables_info['v']"
   ]
  },
  {
   "cell_type": "code",
   "execution_count": null,
   "metadata": {},
   "outputs": [],
   "source": [
    "model_test.model.database.sets"
   ]
  },
  {
   "cell_type": "code",
   "execution_count": null,
   "metadata": {},
   "outputs": [],
   "source": [
    "# delete all the information included in the model data folder, if necessary\n",
    "\n",
    "model_test.model.model_cleanup()"
   ]
  }
 ],
 "metadata": {
  "kernelspec": {
   "display_name": "esm_dev",
   "language": "python",
   "name": "python3"
  },
  "language_info": {
   "codemirror_mode": {
    "name": "ipython",
    "version": 3
   },
   "file_extension": ".py",
   "mimetype": "text/x-python",
   "name": "python",
   "nbconvert_exporter": "python",
   "pygments_lexer": "ipython3",
   "version": "3.7.12"
  },
  "orig_nbformat": 4
 },
 "nbformat": 4,
 "nbformat_minor": 2
}
