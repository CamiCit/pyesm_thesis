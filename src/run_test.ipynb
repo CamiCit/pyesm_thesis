{
 "cells": [
  {
   "attachments": {},
   "cell_type": "markdown",
   "metadata": {},
   "source": [
    "pyESM WORKFLOW"
   ]
  },
  {
   "cell_type": "code",
   "execution_count": 2,
   "metadata": {},
   "outputs": [
    {
     "name": "stderr",
     "output_type": "stream",
     "text": [
      "INFO | Interface | Initializing 'Interface' object.\n",
      "DEBUG | Interface.file_manager | 'FileManager' object generated.\n",
      "INFO | Interface.model | Generation of 'Model' object.\n",
      "DEBUG | Interface.file_manager | File 'model_settings.yaml' loaded.\n",
      "WARNING | Interface.file_manager | Folder 'test_case_1' already exists.\n",
      "INFO | Interface.model.database | Generation of 'Database' object.\n",
      "WARNING | Interface.file_manager | Excel file 'sets.xlsx' already exists.\n",
      "DEBUG | Interface.file_manager | Excel tab name 'technologies' inserted into 'sets.xlsx'.\n",
      "DEBUG | Interface.file_manager | Excel tab name 'flows' inserted into 'sets.xlsx'.\n",
      "WARNING | Interface.file_manager | Excel file 'sets.xlsx' overwritten.\n",
      "INFO | Interface.model.database.database_sql | Generation of 'DatabaseSQL' object.\n",
      "INFO | Interface.model.database.database_sql | 'DatabaseSQL' connection opened.\n",
      "DEBUG | Interface.model.database.database_sql | Table '_set_TECHNOLOGIES' already exists. Overwriting...\n",
      "DEBUG | Interface.model.database.database_sql | Table '_set_TECHNOLOGIES' deleted.\n",
      "DEBUG | Interface.model.database.database_sql | Table '_set_TECHNOLOGIES' created.\n",
      "DEBUG | Interface.model.database.database_sql | Table '_set_FLOWS' already exists. Overwriting...\n",
      "DEBUG | Interface.model.database.database_sql | Table '_set_FLOWS' deleted.\n",
      "DEBUG | Interface.model.database.database_sql | Table '_set_FLOWS' created.\n",
      "INFO | Interface.model.database | 'Database' object initialized.\n",
      "INFO | Interface.model.problem | Generation of 'Problem' object.\n",
      "INFO | Interface.model.problem | 'Problem' object generated.\n",
      "INFO | Interface.model | 'Model' generated.\n",
      "INFO | Interface | 'Interface' object initialized.\n"
     ]
    }
   ],
   "source": [
    "from frontend.interface import Interface\n",
    "\n",
    "model_test = Interface(\n",
    "    log_level='debug',\n",
    "    log_format='minimal',\n",
    ")"
   ]
  },
  {
   "cell_type": "code",
   "execution_count": null,
   "metadata": {},
   "outputs": [],
   "source": [
    "model_test.model.database.load_sets()"
   ]
  },
  {
   "cell_type": "code",
   "execution_count": null,
   "metadata": {},
   "outputs": [],
   "source": [
    "model_test.model.database.database_sql.close_connection()"
   ]
  },
  {
   "cell_type": "code",
   "execution_count": null,
   "metadata": {},
   "outputs": [],
   "source": [
    "model_test.model.model_cleanup()"
   ]
  },
  {
   "cell_type": "code",
   "execution_count": null,
   "metadata": {},
   "outputs": [],
   "source": [
    "model_test"
   ]
  },
  {
   "cell_type": "code",
   "execution_count": null,
   "metadata": {},
   "outputs": [],
   "source": [
    "model_test.model.database.get_table_fields('_set_SCENARIOS')['labels']"
   ]
  },
  {
   "cell_type": "code",
   "execution_count": null,
   "metadata": {},
   "outputs": [],
   "source": [
    "model_test.model.database.sets['technologies'].columns.tolist()\n",
    "model_test.model.database.get_table_fields(table_name='technologies')\n"
   ]
  },
  {
   "cell_type": "code",
   "execution_count": null,
   "metadata": {},
   "outputs": [],
   "source": [
    "model_test.model.database.sets['scenarios'].columns.tolist()"
   ]
  },
  {
   "cell_type": "code",
   "execution_count": null,
   "metadata": {},
   "outputs": [],
   "source": [
    "_INDEX_HEADERS = {\n",
    "    'id': ['ID', 'INTEGER PRIMARY KEY'],\n",
    "    'name': ['Name', 'TEXT'],\n",
    "    'acronym': ['Acronym', 'TEXT'],\n",
    "    'stock_unit': ['Stock_unit', 'TEXT'],\n",
    "    'flow_unit': ['Flow_unit', 'TEXT'],\n",
    "    'category': ['Category', 'TEXT'],\n",
    "    'cluster_1': ['Cluster_1', 'TEXT']\n",
    "}\n",
    "\n",
    "_SETS = {\n",
    "\n",
    "    'technologies': {\n",
    "        'symbol': 't',\n",
    "        'table_name': '_set_TECHNOLOGIES',\n",
    "        'table_headers': {\n",
    "            key: _INDEX_HEADERS[key] for key in [\n",
    "                'name', 'acronym', 'category',\n",
    "            ]\n",
    "        },\n",
    "        'categories': {\n",
    "            't.p': 'Production technology',\n",
    "            't.d': 'Demand technology',\n",
    "        }\n",
    "    },\n",
    "\n",
    "    'flows': {\n",
    "        'symbol': 'f',\n",
    "        'table_name': '_set_FLOWS',\n",
    "        'table_headers': {\n",
    "            key: _INDEX_HEADERS[key] for key in [\n",
    "                'name', 'acronym', 'category',\n",
    "            ]\n",
    "        },\n",
    "        'categories': {\n",
    "            'f.p': 'Product flow',\n",
    "            'f.e': 'Environmental flow',\n",
    "        }\n",
    "    }\n",
    "}\n",
    "\n",
    "_SETS['technologies']['table_headers']"
   ]
  },
  {
   "cell_type": "code",
   "execution_count": null,
   "metadata": {},
   "outputs": [],
   "source": [
    "import os\n",
    "import sys\n",
    "\n",
    "print(sys.path)\n",
    "print(\"Current working directory:\", os.getcwd())\n",
    "print(\"Module execution directory:\", os.path.dirname(os.path.abspath(\"\")))"
   ]
  }
 ],
 "metadata": {
  "kernelspec": {
   "display_name": "esm_dev",
   "language": "python",
   "name": "python3"
  },
  "language_info": {
   "codemirror_mode": {
    "name": "ipython",
    "version": 3
   },
   "file_extension": ".py",
   "mimetype": "text/x-python",
   "name": "python",
   "nbconvert_exporter": "python",
   "pygments_lexer": "ipython3",
   "version": "3.7.12"
  },
  "orig_nbformat": 4
 },
 "nbformat": 4,
 "nbformat_minor": 2
}
