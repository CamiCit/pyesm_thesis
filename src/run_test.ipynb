{
 "cells": [
  {
   "attachments": {},
   "cell_type": "markdown",
   "metadata": {},
   "source": [
    "pyESM WORKFLOW"
   ]
  },
  {
   "cell_type": "code",
   "execution_count": 1,
   "metadata": {},
   "outputs": [
    {
     "name": "stderr",
     "output_type": "stream",
     "text": [
      "INFO | Interface | Initializing 'Interface' object.\n",
      "DEBUG | Interface.file_manager | 'FileManager' object generated.\n",
      "DEBUG | Interface.file_manager | File 'settings.yml' loaded.\n",
      "INFO | Interface.model | Generation of 'Model' object.\n",
      "WARNING | Interface.file_manager | Directory 'test_case_1' already exists.\n",
      "WARNING | Interface.file_manager | Directory 'test_case_1' not overwritten.\n",
      "INFO | Interface.model.database | Generation of 'Database' object.\n",
      "INFO | Interface.model.database | 'Database' object initialized.\n",
      "INFO | Interface.model.problem | Generation of 'Problem' object.\n",
      "INFO | Interface.model.problem | 'Problem' object generated.\n",
      "INFO | Interface.model | 'Model' generated.\n",
      "INFO | Interface | 'Interface' object initialized.\n"
     ]
    }
   ],
   "source": [
    "# create an instance of Interface class\n",
    "# based on the model settings, this generates the model's input files to be filled\n",
    "# and the blank SQL database\n",
    "\n",
    "from frontend.interface import Interface\n",
    "\n",
    "test = Interface(\n",
    "    log_level='debug',\n",
    "    log_format='minimal',\n",
    "    log_file_name='model_test.log',\n",
    ")"
   ]
  },
  {
   "cell_type": "code",
   "execution_count": 2,
   "metadata": {},
   "outputs": [
    {
     "name": "stderr",
     "output_type": "stream",
     "text": [
      "DEBUG | Interface.file_manager | Excel file 'sets.xlsx' loaded.\n",
      "INFO | Interface.model.database | New Sets loaded from 'sets.xlsx'.\n"
     ]
    }
   ],
   "source": [
    "# load model sets from the xlsx files filled by the user\n",
    "# (data validation in excel according to the constant file is envisaged)\n",
    "\n",
    "test.model.database.load_sets()"
   ]
  },
  {
   "cell_type": "code",
   "execution_count": 3,
   "metadata": {},
   "outputs": [
    {
     "name": "stderr",
     "output_type": "stream",
     "text": [
      "INFO | Interface.model.database | Loading variables coordinates.\n",
      "DEBUG | Interface.model.database | Loading coordinates for variable 'v'.\n",
      "DEBUG | Interface.model.database | Loading coordinates for variable 'u'.\n",
      "DEBUG | Interface.model.database | Loading coordinates for variable 'Y'.\n",
      "INFO | Interface.model.database | Variables coordinates loaded.\n"
     ]
    }
   ],
   "source": [
    "# load model variables coordinates necessary to generate database and \n",
    "# files for input data\n",
    "\n",
    "test.model.database.load_coordinates()"
   ]
  },
  {
   "cell_type": "code",
   "execution_count": 4,
   "metadata": {},
   "outputs": [
    {
     "name": "stderr",
     "output_type": "stream",
     "text": [
      "INFO | Interface.model.database | Generation of blank database.\n",
      "DEBUG | Interface.model.database | Creating DataArray for variable 'v'.\n",
      "DEBUG | Interface.model.database | Creating DataArray for variable 'u'.\n",
      "DEBUG | Interface.model.database | Creating DataArray for variable 'Y'.\n",
      "INFO | Interface.model.database | Blank database generated.\n"
     ]
    }
   ],
   "source": [
    "# generate database as a dictionary of xarray DataArray objects\n",
    "\n",
    "test.model.database.generate_blank_database()"
   ]
  },
  {
   "cell_type": "code",
   "execution_count": 5,
   "metadata": {},
   "outputs": [
    {
     "name": "stderr",
     "output_type": "stream",
     "text": [
      "INFO | Interface.model.database | Generation of input files for 'Database' object.\n",
      "DEBUG | Interface.model.database | Loading input data hierarchy labels from settings\n",
      "DEBUG | Interface.model.database | Input data hierarchy labels loaded from settings.\n",
      "WARNING | Interface.file_manager | Directory 'input_data' already exists.\n",
      "DEBUG | Interface.file_manager | Directory 'input_data' overwritten.\n",
      "DEBUG | Interface.file_manager | Excel file 'BAU' generated.\n",
      "DEBUG | Interface.file_manager | Excel file 'NZE' generated.\n",
      "INFO | Interface.model.database | Input files for 'Database' object generated.\n"
     ]
    }
   ],
   "source": [
    "# generate files for input data to be filled by the user\n",
    "\n",
    "test.model.database.generate_input_files()"
   ]
  },
  {
   "cell_type": "code",
   "execution_count": null,
   "metadata": {},
   "outputs": [],
   "source": [
    "b =test.model.database.database_settings['input_data_hierarchy_map']\n",
    "# if all(b['directories'].values()):\n",
    "#     print('ciao')\n",
    "b['directories']"
   ]
  },
  {
   "cell_type": "code",
   "execution_count": 9,
   "metadata": {},
   "outputs": [
    {
     "name": "stderr",
     "output_type": "stream",
     "text": [
      "DEBUG | Interface.model.database | Loading input data hierarchy labels from settings\n",
      "DEBUG | Interface.model.database | Input data hierarchy labels loaded from settings.\n"
     ]
    },
    {
     "data": {
      "text/plain": [
       "{'directories': {0: None},\n",
       " 'files': {'files_name': ['BAU', 'NZE'], 'sheets_name': ['v', 'u', 'Y']}}"
      ]
     },
     "execution_count": 9,
     "metadata": {},
     "output_type": "execute_result"
    }
   ],
   "source": [
    "a = test.model.database.generate_input_hierarchy(\n",
    "    test.model.database.database_settings['input_data_hierarchy_map']\n",
    ")\n",
    "a"
   ]
  },
  {
   "cell_type": "code",
   "execution_count": 10,
   "metadata": {},
   "outputs": [
    {
     "data": {
      "text/plain": [
       "{'directories': {0: None},\n",
       " 'files': {'files_name': 'scenarios', 'sheets_name': 'variables'}}"
      ]
     },
     "execution_count": 10,
     "metadata": {},
     "output_type": "execute_result"
    }
   ],
   "source": [
    "test.model.database.database_settings['input_data_hierarchy_map']"
   ]
  },
  {
   "cell_type": "code",
   "execution_count": 23,
   "metadata": {},
   "outputs": [
    {
     "data": {
      "text/plain": [
       "{'v': <xarray.DataArray (scenarios: 2, rows: 3, cols: 3)>\n",
       " array([[[None, None, None],\n",
       "         [None, None, None],\n",
       "         [None, None, None]],\n",
       " \n",
       "        [[None, None, None],\n",
       "         [None, None, None],\n",
       "         [None, None, None]]], dtype=object)\n",
       " Coordinates:\n",
       "   * scenarios            (scenarios) MultiIndex\n",
       "   - s_ID                 (scenarios) object 's.1' 's.2'\n",
       "   - s_Name               (scenarios) object 'BAU' 'NZE'\n",
       "   * rows                 (rows) MultiIndex\n",
       "   - t_ID                 (rows) object 't.1' 't.2' 't.3'\n",
       "   - t_Name               (rows) object 'Steel factory' ... 'PV power plant'\n",
       "   - t_Category           (rows) object 'Supply technology' ... 'Supply techno...\n",
       "   * cols                 (cols) MultiIndex\n",
       "   - f_ID                 (cols) object 'f.1' 'f.2' 'f.3'\n",
       "   - f_Name               (cols) object 'Steel' 'Energy, gas' 'Energy, PV'\n",
       "   - f_Category           (cols) object 'Product flow' ... 'Product flow'\n",
       "   - f_Competition        (cols) object '' 'Energy' 'Energy'\n",
       "   - f_Parent technology  (cols) object 'Steel factory' ... 'PV power plant'\n",
       "   - f_Unit               (cols) object 'ton' 'MWh' 'MWh',\n",
       " 'u': <xarray.DataArray (scenarios: 2, rows: 3, cols: 3)>\n",
       " array([[[None, None, None],\n",
       "         [None, None, None],\n",
       "         [None, None, None]],\n",
       " \n",
       "        [[None, None, None],\n",
       "         [None, None, None],\n",
       "         [None, None, None]]], dtype=object)\n",
       " Coordinates:\n",
       "   * scenarios            (scenarios) MultiIndex\n",
       "   - s_ID                 (scenarios) object 's.1' 's.2'\n",
       "   - s_Name               (scenarios) object 'BAU' 'NZE'\n",
       "   * rows                 (rows) MultiIndex\n",
       "   - f_ID                 (rows) object 'f.1' 'f.2' 'f.3'\n",
       "   - f_Name               (rows) object 'Steel' 'Energy, gas' 'Energy, PV'\n",
       "   - f_Category           (rows) object 'Product flow' ... 'Product flow'\n",
       "   - f_Competition        (rows) object '' 'Energy' 'Energy'\n",
       "   - f_Parent technology  (rows) object 'Steel factory' ... 'PV power plant'\n",
       "   - f_Unit               (rows) object 'ton' 'MWh' 'MWh'\n",
       "   * cols                 (cols) MultiIndex\n",
       "   - t_ID                 (cols) object 't.1' 't.2' 't.3'\n",
       "   - t_Name               (cols) object 'Steel factory' ... 'PV power plant'\n",
       "   - t_Category           (cols) object 'Supply technology' ... 'Supply techno...,\n",
       " 'Y': <xarray.DataArray (scenarios: 2, rows: 3, cols: 1)>\n",
       " array([[[None],\n",
       "         [None],\n",
       "         [None]],\n",
       " \n",
       "        [[None],\n",
       "         [None],\n",
       "         [None]]], dtype=object)\n",
       " Coordinates:\n",
       "   * scenarios            (scenarios) MultiIndex\n",
       "   - s_ID                 (scenarios) object 's.1' 's.2'\n",
       "   - s_Name               (scenarios) object 'BAU' 'NZE'\n",
       "   * rows                 (rows) MultiIndex\n",
       "   - f_ID                 (rows) object 'f.1' 'f.2' 'f.3'\n",
       "   - f_Name               (rows) object 'Steel' 'Energy, gas' 'Energy, PV'\n",
       "   - f_Category           (rows) object 'Product flow' ... 'Product flow'\n",
       "   - f_Competition        (rows) object '' 'Energy' 'Energy'\n",
       "   - f_Parent technology  (rows) object 'Steel factory' ... 'PV power plant'\n",
       "   - f_Unit               (rows) object 'ton' 'MWh' 'MWh'\n",
       "   * cols                 (cols) MultiIndex\n",
       "   - t_ID                 (cols) object 't.4'\n",
       "   - t_Name               (cols) object 'Final demand'\n",
       "   - t_Category           (cols) object 'Demand technology'}"
      ]
     },
     "execution_count": 23,
     "metadata": {},
     "output_type": "execute_result"
    }
   ],
   "source": [
    "test.model.database.data"
   ]
  },
  {
   "cell_type": "code",
   "execution_count": null,
   "metadata": {},
   "outputs": [],
   "source": [
    "test.model.database.sets_structure['scenarios']['table_headers']['name'][0]"
   ]
  },
  {
   "cell_type": "code",
   "execution_count": null,
   "metadata": {},
   "outputs": [],
   "source": [
    "test.model.database.coordinates"
   ]
  },
  {
   "cell_type": "code",
   "execution_count": null,
   "metadata": {},
   "outputs": [],
   "source": [
    "test.model.database.data"
   ]
  },
  {
   "cell_type": "code",
   "execution_count": null,
   "metadata": {},
   "outputs": [],
   "source": [
    "# delete all the information included in the model data folder, if necessary\n",
    "\n",
    "test.model.model_cleanup()"
   ]
  }
 ],
 "metadata": {
  "kernelspec": {
   "display_name": "esm_dev",
   "language": "python",
   "name": "python3"
  },
  "language_info": {
   "codemirror_mode": {
    "name": "ipython",
    "version": 3
   },
   "file_extension": ".py",
   "mimetype": "text/x-python",
   "name": "python",
   "nbconvert_exporter": "python",
   "pygments_lexer": "ipython3",
   "version": "3.7.12"
  },
  "orig_nbformat": 4
 },
 "nbformat": 4,
 "nbformat_minor": 2
}
