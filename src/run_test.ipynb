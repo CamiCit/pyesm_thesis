{
 "cells": [
  {
   "attachments": {},
   "cell_type": "markdown",
   "metadata": {},
   "source": [
    "pyESM WORKFLOW"
   ]
  },
  {
   "cell_type": "code",
   "execution_count": null,
   "metadata": {},
   "outputs": [],
   "source": [
    "import os\n",
    "import sys\n",
    "\n",
    "print(sys.path)\n",
    "print(\"Current working directory:\", os.getcwd())\n",
    "print(\"Module execution directory:\", os.path.dirname(os.path.abspath(\"\")))"
   ]
  },
  {
   "cell_type": "code",
   "execution_count": null,
   "metadata": {},
   "outputs": [],
   "source": [
    "from frontend.interface import Interface\n",
    "\n",
    "model_test = Interface(\n",
    "    log_format='minimal',\n",
    "    log_level='debug',\n",
    ")"
   ]
  },
  {
   "cell_type": "code",
   "execution_count": null,
   "metadata": {},
   "outputs": [],
   "source": [
    "model_test.model.database.load_sets()"
   ]
  },
  {
   "cell_type": "code",
   "execution_count": null,
   "metadata": {},
   "outputs": [],
   "source": [
    "model_test.model.database.close_connection()"
   ]
  },
  {
   "cell_type": "code",
   "execution_count": null,
   "metadata": {},
   "outputs": [],
   "source": [
    "model_test.model.model_cleanup()"
   ]
  },
  {
   "cell_type": "code",
   "execution_count": null,
   "metadata": {},
   "outputs": [],
   "source": [
    "model_test"
   ]
  },
  {
   "cell_type": "code",
   "execution_count": null,
   "metadata": {},
   "outputs": [],
   "source": [
    "model_test.model.database.get_table_fields('_set_SCENARIOS')['labels']"
   ]
  },
  {
   "cell_type": "code",
   "execution_count": null,
   "metadata": {},
   "outputs": [],
   "source": [
    "model_test.model.database.sets['technologies'].columns.tolist()\n",
    "model_test.model.database.get_table_fields(table_name='technologies')\n"
   ]
  },
  {
   "cell_type": "code",
   "execution_count": null,
   "metadata": {},
   "outputs": [],
   "source": [
    "model_test.model.database.sets['scenarios'].columns.tolist()"
   ]
  },
  {
   "cell_type": "code",
   "execution_count": null,
   "metadata": {},
   "outputs": [],
   "source": [
    "_INDEX_HEADERS = {\n",
    "    'id': ['ID', 'INTEGER PRIMARY KEY'],\n",
    "    'name': ['Name', 'TEXT'],\n",
    "    'acronym': ['Acronym', 'TEXT'],\n",
    "    'stock_unit': ['Stock_unit', 'TEXT'],\n",
    "    'flow_unit': ['Flow_unit', 'TEXT'],\n",
    "    'category': ['Category', 'TEXT'],\n",
    "    'cluster_1': ['Cluster_1', 'TEXT']\n",
    "}\n",
    "\n",
    "_SETS = {\n",
    "\n",
    "    'scenarios': {\n",
    "        'symbol': 'sc',\n",
    "        'table_name': '_set_SCENARIOS',\n",
    "        'table_headers': {\n",
    "            key: _INDEX_HEADERS[key] for key in ['id', 'name', 'acronym']\n",
    "        }\n",
    "    },\n",
    "\n",
    "    'regions': {\n",
    "        'symbol': 'reg',\n",
    "        'table_name': '_set_REGIONS',\n",
    "        'table_headers': {\n",
    "            key: _INDEX_HEADERS[key] for key in ['id', 'name', 'acronym', 'cluster_1']\n",
    "        }\n",
    "    }\n",
    "}"
   ]
  }
 ],
 "metadata": {
  "kernelspec": {
   "display_name": "esm_dev",
   "language": "python",
   "name": "python3"
  },
  "language_info": {
   "codemirror_mode": {
    "name": "ipython",
    "version": 3
   },
   "file_extension": ".py",
   "mimetype": "text/x-python",
   "name": "python",
   "nbconvert_exporter": "python",
   "pygments_lexer": "ipython3",
   "version": "3.7.12"
  },
  "orig_nbformat": 4
 },
 "nbformat": 4,
 "nbformat_minor": 2
}
