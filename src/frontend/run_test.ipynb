{
 "cells": [
  {
   "attachments": {},
   "cell_type": "markdown",
   "metadata": {},
   "source": [
    "pySM WORKFLOW"
   ]
  },
  {
   "cell_type": "code",
   "execution_count": 1,
   "metadata": {},
   "outputs": [
    {
     "name": "stderr",
     "output_type": "stream",
     "text": [
      "INFO | Interface | Initializing 'Interface' object.\n",
      "DEBUG | Interface.file_manager | 'FileManager' object generated.\n",
      "INFO | Interface.model | Generation of 'Model' object.\n",
      "DEBUG | Interface.file_manager | File 'model_settings.json' loaded.\n",
      "WARNING | Interface.file_manager | Folder 'test_case_1' already exists.\n",
      "INFO | Interface.model.database | Generation of 'Database' object.\n",
      "INFO | Interface.model.database | 'Database' connection opened.\n",
      "INFO | Interface.model.database | 'Database' object initialized.\n",
      "INFO | Interface.model.problem | Generation of 'Problem' object.\n",
      "INFO | Interface.model.problem | 'Problem' object generated.\n",
      "INFO | Interface.model | 'Model' generated.\n",
      "INFO | Interface | 'Interface' object initialized.\n"
     ]
    }
   ],
   "source": [
    "from interface import Interface\n",
    "\n",
    "model_test = Interface(\n",
    "    log_format='minimal',\n",
    "    log_level='debug',\n",
    ")"
   ]
  },
  {
   "cell_type": "code",
   "execution_count": 2,
   "metadata": {},
   "outputs": [
    {
     "name": "stderr",
     "output_type": "stream",
     "text": [
      "DEBUG | Interface.file_manager | Excel file 'sets.xlsx' loaded.\n",
      "INFO | Interface.model.database | New sets loaded from 'sets.xlsx'.\n"
     ]
    }
   ],
   "source": [
    "model_test.model.database.load_sets()"
   ]
  },
  {
   "cell_type": "code",
   "execution_count": null,
   "metadata": {},
   "outputs": [],
   "source": [
    "model_test.model.database.close_connection()"
   ]
  },
  {
   "cell_type": "code",
   "execution_count": null,
   "metadata": {},
   "outputs": [],
   "source": [
    "model_test.model.model_cleanup()"
   ]
  },
  {
   "cell_type": "code",
   "execution_count": 3,
   "metadata": {},
   "outputs": [
    {
     "data": {
      "text/plain": [
       "Interface"
      ]
     },
     "execution_count": 3,
     "metadata": {},
     "output_type": "execute_result"
    }
   ],
   "source": [
    "model_test"
   ]
  },
  {
   "cell_type": "code",
   "execution_count": null,
   "metadata": {},
   "outputs": [],
   "source": [
    "model_test.model.database.get_table_fields('_set_SCENARIOS')['labels']"
   ]
  },
  {
   "cell_type": "code",
   "execution_count": null,
   "metadata": {},
   "outputs": [],
   "source": [
    "model_test.model.database.sets['technologies'].columns.tolist()\n",
    "model_test.model.database.get_table_fields(table_name='technologies')\n"
   ]
  },
  {
   "cell_type": "code",
   "execution_count": null,
   "metadata": {},
   "outputs": [],
   "source": [
    "model_test.model.database.sets['scenarios'].columns.tolist()"
   ]
  },
  {
   "cell_type": "code",
   "execution_count": null,
   "metadata": {},
   "outputs": [],
   "source": [
    "_INDEX_HEADERS = {\n",
    "    'id': ['ID', 'INTEGER PRIMARY KEY'],\n",
    "    'name': ['Name', 'TEXT'],\n",
    "    'acronym': ['Acronym', 'TEXT'],\n",
    "    'stock_unit': ['Stock_unit', 'TEXT'],\n",
    "    'flow_unit': ['Flow_unit', 'TEXT'],\n",
    "    'category': ['Category', 'TEXT'],\n",
    "    'cluster_1': ['Cluster_1', 'TEXT']\n",
    "}\n",
    "\n",
    "_SETS = {\n",
    "\n",
    "    'scenarios': {\n",
    "        'symbol': 'sc',\n",
    "        'table_name': '_set_SCENARIOS',\n",
    "        'table_headers': {\n",
    "            key: _INDEX_HEADERS[key] for key in ['id', 'name', 'acronym']\n",
    "        }\n",
    "    },\n",
    "\n",
    "    'regions': {\n",
    "        'symbol': 'reg',\n",
    "        'table_name': '_set_REGIONS',\n",
    "        'table_headers': {\n",
    "            key: _INDEX_HEADERS[key] for key in ['id', 'name', 'acronym', 'cluster_1']\n",
    "        }\n",
    "    }\n",
    "}"
   ]
  }
 ],
 "metadata": {
  "kernelspec": {
   "display_name": "esm_dev",
   "language": "python",
   "name": "python3"
  },
  "language_info": {
   "codemirror_mode": {
    "name": "ipython",
    "version": 3
   },
   "file_extension": ".py",
   "mimetype": "text/x-python",
   "name": "python",
   "nbconvert_exporter": "python",
   "pygments_lexer": "ipython3",
   "version": "3.7.12"
  },
  "orig_nbformat": 4
 },
 "nbformat": 4,
 "nbformat_minor": 2
}
