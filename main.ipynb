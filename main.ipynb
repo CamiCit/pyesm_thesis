{
 "cells": [
  {
   "cell_type": "markdown",
   "metadata": {
    "slideshow": {
     "slide_type": "slide"
    }
   },
   "source": [
    "- - - \n",
    "CASE A \n",
    "\n",
    "Generation of a new model from scratch, including database and data input"
   ]
  },
  {
   "cell_type": "code",
   "execution_count": 1,
   "metadata": {},
   "outputs": [],
   "source": [
    "model_dir_name = 'model2'\n",
    "main_dir_path = 'D:\\Politecnico di Milano\\Documentale DENG - PRIN-MIMO\\Models\\pyESM_docs\\case_studies'"
   ]
  },
  {
   "cell_type": "code",
   "execution_count": 2,
   "metadata": {},
   "outputs": [
    {
     "name": "stderr",
     "output_type": "stream",
     "text": [
      "WARNING | default_logger.file_manager | Directory 'model2' already exists.\n",
      "INFO | default_logger.file_manager | Folder and blank settings files for model 'model2' ready.\n"
     ]
    }
   ],
   "source": [
    "# create model directory with essential setup files\n",
    "\n",
    "from src.frontend import esm\n",
    "\n",
    "esm.create_model_dir(\n",
    "    model_dir_name=model_dir_name,\n",
    "    main_dir_path=main_dir_path,\n",
    "    force_overwrite=False,\n",
    ")"
   ]
  },
  {
   "cell_type": "code",
   "execution_count": 3,
   "metadata": {},
   "outputs": [
    {
     "name": "stderr",
     "output_type": "stream",
     "text": [
      "INFO | Model | 'Model' object initialization...\n",
      "DEBUG | Model.file_manager | 'FileManager' object generated.\n",
      "INFO | Model | 'Model' object initialized.\n"
     ]
    }
   ],
   "source": [
    "# generate model instance based on setup files filled by the user.\n",
    "# first validates model directory (in case user relies on existing directory). \n",
    "# then parse settings and paths. \n",
    "# if specified in settings, generates blank sets file.\n",
    "\n",
    "from src.frontend import esm\n",
    "\n",
    "model = esm.Model(\n",
    "    model_dir_name=model_dir_name,\n",
    "    main_dir_path=main_dir_path,\n",
    ")\n",
    "\n"
   ]
  },
  {
   "cell_type": "code",
   "execution_count": 2,
   "metadata": {},
   "outputs": [
    {
     "name": "stdout",
     "output_type": "stream",
     "text": [
      "['d:\\\\git_repos\\\\pyESM', 'C:\\\\ProgramData\\\\Anaconda3\\\\python.exe', 'c:\\\\ProgramData\\\\Anaconda3\\\\envs\\\\esm\\\\python310.zip', 'c:\\\\ProgramData\\\\Anaconda3\\\\envs\\\\esm\\\\DLLs', 'c:\\\\ProgramData\\\\Anaconda3\\\\envs\\\\esm\\\\lib', 'c:\\\\ProgramData\\\\Anaconda3\\\\envs\\\\esm', '', 'C:\\\\Users\\\\matte\\\\AppData\\\\Roaming\\\\Python\\\\Python310\\\\site-packages', 'd:\\\\git_repos\\\\pyesm', 'c:\\\\ProgramData\\\\Anaconda3\\\\envs\\\\esm\\\\lib\\\\site-packages', 'c:\\\\ProgramData\\\\Anaconda3\\\\envs\\\\esm\\\\lib\\\\site-packages\\\\win32', 'c:\\\\ProgramData\\\\Anaconda3\\\\envs\\\\esm\\\\lib\\\\site-packages\\\\win32\\\\lib', 'c:\\\\ProgramData\\\\Anaconda3\\\\envs\\\\esm\\\\lib\\\\site-packages\\\\Pythonwin']\n"
     ]
    }
   ],
   "source": [
    "import sys\n",
    "print(sys.path)"
   ]
  },
  {
   "cell_type": "markdown",
   "metadata": {},
   "source": [
    "- - - \n",
    "CASE B\n",
    "\n",
    "Generation of a new model working with existing database and data input files.\n",
    "\n",
    "(new_model_dir=False)"
   ]
  },
  {
   "cell_type": "code",
   "execution_count": null,
   "metadata": {},
   "outputs": [],
   "source": [
    "# Generating a Model instance referring to existing model folder and input data.\n",
    "from src.backend.model import Model\n",
    "\n",
    "model = Model(\n",
    "    model_dir_name='test_case_2',\n",
    "    main_dir_path='D:\\Politecnico di Milano\\Documentale DENG - PRIN-MIMO\\Models\\pyESM_docs\\case_studies',\n",
    "    new_model_dir=False,\n",
    ")\n",
    "\n",
    "# test.load_model_coordinates()\n",
    "# test.initialize_problem()"
   ]
  },
  {
   "cell_type": "code",
   "execution_count": null,
   "metadata": {},
   "outputs": [],
   "source": [
    "# load model sets from the xlsx files filled by the user\n",
    "# Note: data validation in excel according to the constant file is envisaged\n",
    "test.load_model_coordinates()"
   ]
  },
  {
   "cell_type": "code",
   "execution_count": null,
   "metadata": {},
   "outputs": [],
   "source": [
    "# Once sets has compiled in excel and loaded in the database, \n",
    "# blank database is generated.\n",
    "# Note: an error is raised at the first launch of the method, \n",
    "# disappearing the second run.\n",
    "test.generate_blank_database()"
   ]
  },
  {
   "cell_type": "code",
   "execution_count": null,
   "metadata": {},
   "outputs": [],
   "source": [
    "# Load input file/s data into the sql database.\n",
    "# Can be used to update data in the sql database without generating a new \n",
    "# Model instance\n",
    "test.load_data_files_to_database(operation='overwrite')"
   ]
  },
  {
   "cell_type": "code",
   "execution_count": null,
   "metadata": {},
   "outputs": [],
   "source": [
    "# Initialize cvxpy problem.and\n",
    "# Fetch data from sql database to cvxpy exogenous variables,\n",
    "# (to be done: generate equations and objective function)\n",
    "test.initialize_problem()"
   ]
  },
  {
   "cell_type": "code",
   "execution_count": null,
   "metadata": {},
   "outputs": [],
   "source": [
    "import yaml\n",
    "\n",
    "yaml_data = \"\"\"\n",
    "v:\n",
    "    symbol: 'v'\n",
    "    name: 'make coefficients matrix'\n",
    "    type: 'exogenous'\n",
    "    coordinates: null\n",
    "    shape: \n",
    "        technologies: {set_categories: Supply technology}\n",
    "        flows: {set_categories: Product flow}\n",
    "\n",
    "u:\n",
    "    symbol: 'u'\n",
    "    name: 'use coefficients matrix'\n",
    "    type: 'exogenous'\n",
    "    coordinates: null\n",
    "    shape: \n",
    "        flows: {set_categories: Product flow}\n",
    "        technologies: \n",
    "            set_categories: Product flow\n",
    "            aggregation_key: competition\n",
    "\"\"\"\n",
    "\n",
    "data_dict = yaml.safe_load(yaml_data)\n",
    "\n",
    "data_dict['u']['shape']\n"
   ]
  },
  {
   "cell_type": "code",
   "execution_count": null,
   "metadata": {},
   "outputs": [],
   "source": [
    "# In case it is needed, update data without re-generate a new instance of Model class.\n",
    "test.update_database_and_problem()"
   ]
  },
  {
   "cell_type": "code",
   "execution_count": null,
   "metadata": {},
   "outputs": [],
   "source": [
    "test.load_results_to_database(operation='update')"
   ]
  },
  {
   "cell_type": "markdown",
   "metadata": {},
   "source": [
    "- - - \n",
    "TESTS"
   ]
  },
  {
   "cell_type": "code",
   "execution_count": null,
   "metadata": {},
   "outputs": [],
   "source": [
    "test.core.index.sets.technologies"
   ]
  },
  {
   "cell_type": "code",
   "execution_count": null,
   "metadata": {},
   "outputs": [],
   "source": [
    "test.core.index.variables.X"
   ]
  },
  {
   "cell_type": "code",
   "execution_count": null,
   "metadata": {},
   "outputs": [],
   "source": [
    "import numpy as np\n",
    "values = np.ones((3,1))\n",
    "\n",
    "variable.data['variable'][0].value = values"
   ]
  },
  {
   "cell_type": "code",
   "execution_count": null,
   "metadata": {},
   "outputs": [],
   "source": [
    "import pandas as pd\n",
    "from src.util import constants\n",
    "from src.util import util\n",
    "\n",
    "field_id = constants._STD_ID_FIELD['id'][0]\n",
    "\n",
    "col_to_update = constants._STD_VALUES_FIELD['values'][0]\n",
    "cols_common = list(variable.coordinates.keys())\n",
    "\n",
    "new_df = variable.reshaping_variable_data(0)\n",
    "\n",
    "new_values = {\n",
    "    's_Name': 'Reference',\n",
    "    'dt_Name': '2023',\n",
    "    't_Name': 'Final demand',\n",
    "    'values': 15.0\n",
    "}\n",
    "\n",
    "new_df.loc[len(new_df)] = new_values\n",
    "new_df.at[0,'values'] = 2\n",
    "\n",
    "test.core.sqltools.open_connection()\n",
    "existing_df = test.core.sqltools.table_to_dataframe(table_name=variable.symbol)\n",
    "existing_df.drop(columns=['id'],inplace=True)\n",
    "test.core.sqltools.close_connection()\n",
    "\n",
    "print('\\n')\n",
    "print('existing_df: \\n', existing_df)\n",
    "print('\\n')\n",
    "print('new_df: \\n', new_df)"
   ]
  },
  {
   "cell_type": "code",
   "execution_count": null,
   "metadata": {},
   "outputs": [],
   "source": [
    "variable=test.core.index.variables.u\n",
    "\n",
    "test.core.database.sqltools.open_connection()\n",
    "raw_data = test.core.database.sqltools.filtered_table_to_dataframe(\n",
    "    table_name=variable.symbol,\n",
    "    filters_dict=variable.data['filter'][0]\n",
    ")\n",
    "test.core.database.sqltools.close_connection()\n",
    "\n",
    "raw_data"
   ]
  },
  {
   "cell_type": "code",
   "execution_count": null,
   "metadata": {},
   "outputs": [],
   "source": [
    "test.core.database.sqltools.open_connection()\n",
    "\n",
    "var = test.core.database.sqltools.filtered_table_to_dataframe(\n",
    "    table_name='u',\n",
    "    filters_dict={\n",
    "        's_Name': ['Reference'],\n",
    "        'dt_Name': [2023],\n",
    "        'f_Name': ['Energy', 'Steel'],\n",
    "        't_Name': ['PV power plant', 'Steel factory', 'Gas power plant']\n",
    "    }\n",
    ")\n",
    "\n",
    "# filter_1 = test.core.database.sqltools.get_related_table_keys(\n",
    "#     child_column_name='f_Name',\n",
    "#     parent_table_name='_set_FLOWS',\n",
    "#     parent_table_fields={\n",
    "#         'f_Category': ['Product flow'],\n",
    "#     }\n",
    "# )\n",
    "\n",
    "# filter_2 = test.core.database.sqltools.get_related_table_keys(\n",
    "#     child_column_name='dt_Name',\n",
    "#     parent_table_name='_set_DATETIME',\n",
    "#     parent_table_fields={\n",
    "#         'dt_Name': [2023],\n",
    "#     }\n",
    "# )\n",
    "\n",
    "# var_custom_filter = test.core.database.sqltools.filtered_table_to_dataframe(\n",
    "#     table_name='v',\n",
    "#     filters_dict={\n",
    "#         **filter_1,\n",
    "#         **filter_2,\n",
    "#         **{'f_Name': ['Steel']},\n",
    "#     }\n",
    "# )\n",
    "\n",
    "test.core.database.sqltools.close_connection()\n",
    "\n",
    "# filter_1, filter_2\n",
    "var"
   ]
  },
  {
   "cell_type": "markdown",
   "metadata": {},
   "source": [
    "Other commands"
   ]
  },
  {
   "cell_type": "code",
   "execution_count": null,
   "metadata": {},
   "outputs": [],
   "source": [
    "# delete all the information included in the model data folder, if necessary\n",
    "test.erase_model()"
   ]
  }
 ],
 "metadata": {
  "kernelspec": {
   "display_name": "esm_dev",
   "language": "python",
   "name": "python3"
  },
  "language_info": {
   "codemirror_mode": {
    "name": "ipython",
    "version": 3
   },
   "file_extension": ".py",
   "mimetype": "text/x-python",
   "name": "python",
   "nbconvert_exporter": "python",
   "pygments_lexer": "ipython3",
   "version": "3.10.13"
  },
  "orig_nbformat": 4
 },
 "nbformat": 4,
 "nbformat_minor": 2
}
