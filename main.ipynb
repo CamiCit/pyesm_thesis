{
 "cells": [
  {
   "cell_type": "markdown",
   "metadata": {
    "slideshow": {
     "slide_type": "slide"
    }
   },
   "source": [
    "- - - \n",
    "MODEL GENERATION FROM SCRATCH\n",
    "\n",
    "Generation of a new model from scratch, including database and data input\n",
    "\n",
    "(settings -> model -> use_existing_data -> False)"
   ]
  },
  {
   "cell_type": "code",
   "execution_count": null,
   "metadata": {},
   "outputs": [],
   "source": [
    "# create model directory with essential setup files\n",
    "# to be used only to generate models from scratch\n",
    "from src.frontend import esm\n",
    "\n",
    "model_dir_name = '0_hsut'\n",
    "main_dir_path = 'D:\\Politecnico di Milano\\Documentale DENG - PRIN-MIMO\\Models\\pyESM_docs\\case_studies'\n",
    "\n",
    "esm.create_model_dir(\n",
    "    model_dir_name=model_dir_name,\n",
    "    main_dir_path=main_dir_path,\n",
    "    force_overwrite=True,\n",
    ")"
   ]
  },
  {
   "cell_type": "code",
   "execution_count": null,
   "metadata": {},
   "outputs": [],
   "source": [
    "# generate model instance based on setup files filled by the user.\n",
    "# validates model directory (in case user relies on existing directory). \n",
    "# parse settings and paths.\n",
    "from src.frontend import esm\n",
    "\n",
    "model_dir_name = '0_hsut'\n",
    "main_dir_path = 'D:\\Politecnico di Milano\\Documentale DENG - PRIN-MIMO\\Models\\pyESM_docs\\case_studies'\n",
    "\n",
    "model = esm.Model(\n",
    "    model_dir_name=model_dir_name,\n",
    "    main_dir_path=main_dir_path,\n",
    "    log_level='debug',\n",
    ")"
   ]
  },
  {
   "cell_type": "code",
   "execution_count": null,
   "metadata": {},
   "outputs": [],
   "source": [
    "# after filling sets.xlsx file: \n",
    "# - loading model coordinates to Index\n",
    "# - generating sqlite database tables for sets and variables\n",
    "# (variables tables in sqlite database empty)\n",
    "# (error occurring at the first run related to foreign_keys. second run works)\n",
    "model.load_model_coordinates()\n",
    "model.initialize_blank_database()"
   ]
  },
  {
   "cell_type": "code",
   "execution_count": null,
   "metadata": {},
   "outputs": [],
   "source": [
    "# after filling input_data file/s:\n",
    "# - loading input data into sqlite database variables tables\n",
    "# - initialize problem\n",
    "model.load_data_files_to_database()\n",
    "model.initialize_problems()"
   ]
  },
  {
   "cell_type": "markdown",
   "metadata": {},
   "source": [
    "- - - \n",
    "MODEL GENERATION FROM EXISTING DATA\n",
    "\n",
    "Generation of a new model working with existing database and data input files.\n",
    "\n",
    "(settings -> model -> use_existing_data -> True)"
   ]
  },
  {
   "cell_type": "code",
   "execution_count": 1,
   "metadata": {},
   "outputs": [
    {
     "name": "stderr",
     "output_type": "stream",
     "text": [
      "INFO | Model | 'Model' object initialization...\n",
      "INFO | Model.file_manager | 'FileManager' object generated.\n",
      "INFO | Model | Model directory and required setup files exist.\n",
      "INFO | Model | Loading settings.\n",
      "DEBUG | Model.file_manager | File 'settings.yml' loaded.\n",
      "INFO | Model | Loading paths from settings.\n",
      "INFO | Model.core | 'Core' object initialization...\n",
      "INFO | Model.core.sql_manager | 'SQLManager' object generation.\n",
      "INFO | Model.core.index | 'Index' object initialization...\n",
      "DEBUG | Model.file_manager | File 'sets_structure.yml' loaded.\n",
      "DEBUG | Model.file_manager | File 'variables.yml' loaded.\n",
      "DEBUG | Model.core.index | Loading 'variables_fields' to Index.\n",
      "DEBUG | Model.core.index | Loading variables 'table_headers' to Index.\n",
      "DEBUG | Model.core.index | Loading variables 'sets_parsing_hierarchy' to Index.\n",
      "INFO | Model.core.index | 'Index' object initialized.\n",
      "INFO | Model.core.database | 'Database' object initialization...\n",
      "INFO | Model.core.database | 'Database' object initialized.\n",
      "INFO | Model.core.problem | 'Problem' object initialization...\n",
      "INFO | Model.core.problem | 'Problem' object initialized.\n",
      "INFO | Model.core | 'Core' initialized.\n",
      "INFO | Model | Loading existing sets data and variable coordinates.\n",
      "INFO | Model.core.index | 'Index' object: loading new Sets to Index.\n",
      "DEBUG | Model.file_manager | Excel file 'sets.xlsx' loaded.\n",
      "DEBUG | Model.core.index | Loading variables 'coordinates' to Index.\n",
      "DEBUG | Model.core.index | Loading tables 'foreign_keys' to Index.\n",
      "INFO | Model | Initializing numerical problems.\n",
      "INFO | Model.core | Initialize variables dataframes (cvxpy objects, filters dictionaries).\n",
      "DEBUG | Model.core.problem | Generating variable 'd' dataframe (cvxpy object, filter dictionary).\n",
      "DEBUG | Model.core.problem | Generating variable 'u' dataframe (cvxpy object, filter dictionary).\n",
      "DEBUG | Model.core.problem | Generating variable 'Y' dataframe (cvxpy object, filter dictionary).\n",
      "DEBUG | Model.core.problem | Generating variable 'Q' dataframe (cvxpy object, filter dictionary).\n",
      "DEBUG | Model.core.problem | Generating variable 'X' dataframe (cvxpy object, filter dictionary).\n",
      "DEBUG | Model.core.sql_manager | Connection to 'database.db' opened.\n",
      "INFO | Model.core | Fetching data from 'database.db' to cvxpy exogenous variables.\n",
      "DEBUG | Model.core | Fetching data from table 'd' to cvxpy exogenous variable.\n",
      "DEBUG | Model.core | Fetching data from table 'u' to cvxpy exogenous variable.\n",
      "DEBUG | Model.core | Fetching data from table 'Y' to cvxpy exogenous variable.\n",
      "DEBUG | Model.core.sql_manager | Connection to 'database.db' closed.\n",
      "INFO | Model.core | Load symbolic problem, initialize dataframes with cvxpy problems \n",
      "INFO | Model.core.problem | Loading symbolic problem from 'problem.yml' file.\n",
      "DEBUG | Model.file_manager | File 'problem.yml' loaded.\n",
      "INFO | Model.core.problem | Defining numeric problems based on symbolic problem.\n",
      "DEBUG | Model.core.problem | Defining numeric problem for combination of sets: ['Reference', 'min'].\n",
      "DEBUG | Model.core.problem | Defining numeric problem for combination of sets: ['Reference', 'max'].\n",
      "DEBUG | Model.core.problem | Defining numeric problem for combination of sets: ['NetZero', 'min'].\n",
      "DEBUG | Model.core.problem | Defining numeric problem for combination of sets: ['NetZero', 'max'].\n",
      "INFO | Model.pbi_manager | 'PBIManager' object generated.\n",
      "INFO | Model | 'Model' object initialized.\n"
     ]
    }
   ],
   "source": [
    "# generate model instance based on setup files filled by the user.\n",
    "# validates model directory (in case user relies on existing directory). \n",
    "# parse settings and paths.\n",
    "# loading model coordinates\n",
    "# initializing numerical problem\n",
    "from src.frontend import esm\n",
    "\n",
    "model_dir_name = '0_hsut'\n",
    "main_dir_path = 'D:\\Politecnico di Milano\\Documentale DENG - PRIN-MIMO\\Models\\pyESM_docs\\case_studies'\n",
    "\n",
    "model = esm.Model(\n",
    "    model_dir_name=model_dir_name,\n",
    "    main_dir_path=main_dir_path,\n",
    "    log_level='debug',\n",
    ")"
   ]
  },
  {
   "cell_type": "markdown",
   "metadata": {},
   "source": [
    "- - -\n",
    "MODEL USE \n",
    "\n",
    "solving numerical model, results export to sqlite database, generation of powerbi\n",
    "dataset"
   ]
  },
  {
   "cell_type": "code",
   "execution_count": null,
   "metadata": {},
   "outputs": [],
   "source": [
    "# in case of modifications in input data files (not in sets),\n",
    "# update database and problem\n",
    "model.update_database_and_problem()"
   ]
  },
  {
   "cell_type": "code",
   "execution_count": 2,
   "metadata": {},
   "outputs": [
    {
     "name": "stderr",
     "output_type": "stream",
     "text": [
      "INFO | Model | Solving numerical problem.\n",
      "INFO | Model.core | Solve numerical problems.\n",
      "DEBUG | Model.core.problem | Solving problem: ['Reference', 'min']\n",
      "c:\\ProgramData\\Anaconda3\\envs\\esm\\lib\\site-packages\\cvxpy\\reductions\\solvers\\solving_chain.py:336: FutureWarning: \n",
      "    Your problem is being solved with the ECOS solver by default. Starting in \n",
      "    CVXPY 1.5.0, Clarabel will be used as the default solver instead. To continue \n",
      "    using ECOS, specify the ECOS solver explicitly using the ``solver=cp.ECOS`` \n",
      "    argument to the ``problem.solve`` method.\n",
      "    \n",
      "  warnings.warn(ECOS_DEPRECATION_MSG, FutureWarning)\n",
      "DEBUG | Model.core.problem | Solving problem: ['Reference', 'max']\n",
      "DEBUG | Model.core.problem | Solving problem: ['NetZero', 'min']\n",
      "DEBUG | Model.core.problem | Solving problem: ['NetZero', 'max']\n"
     ]
    }
   ],
   "source": [
    "# solve numerical problems\n",
    "model.solve_problem()"
   ]
  },
  {
   "cell_type": "code",
   "execution_count": 3,
   "metadata": {},
   "outputs": [
    {
     "name": "stderr",
     "output_type": "stream",
     "text": [
      "INFO | Model | Exporting endogenous model results to SQLite database.\n",
      "DEBUG | Model.core.sql_manager | Connection to 'database.db' opened.\n",
      "INFO | Model.core | Fetching data from cvxpy endogenous variables to database 'database.db' \n",
      "DEBUG | Model.core | Fetching data from cvxpy variable 'Q to the related SQLite table.\n",
      "DEBUG | Model.core.sql_manager | SQLite table 'Q' - 36 entries deleted.\n",
      "DEBUG | Model.core.sql_manager | SQLite table 'Q' - table overwritten and 36 entries added.\n",
      "DEBUG | Model.core | Fetching data from cvxpy variable 'X to the related SQLite table.\n",
      "DEBUG | Model.core.sql_manager | SQLite table 'X' - 36 entries deleted.\n",
      "DEBUG | Model.core.sql_manager | SQLite table 'X' - table overwritten and 36 entries added.\n",
      "DEBUG | Model.core.sql_manager | Connection to 'database.db' closed.\n",
      "INFO | Model | Generating PowerBI report.\n",
      "DEBUG | Model.pbi_manager | PowerBI report file 'dataset.pbix' created.\n"
     ]
    }
   ],
   "source": [
    "# once model has successfully solved, load endogenous parameters data to \n",
    "# sqlite database and generate powerbi dataset.\n",
    "model.load_results_to_database()\n",
    "model.generate_pbi_report()"
   ]
  },
  {
   "cell_type": "markdown",
   "metadata": {},
   "source": [
    "- - - \n",
    "TESTS"
   ]
  },
  {
   "cell_type": "code",
   "execution_count": null,
   "metadata": {},
   "outputs": [],
   "source": [
    "import pandas as pd\n",
    "\n",
    "\n",
    "var_test = model.core.index.variables.Q\n",
    "df_test = pd.DataFrame()\n",
    "\n",
    "for row in var_test.data.index:\n",
    "    df_test = pd.concat(\n",
    "        (df_test, var_test.reshaping_variable_data(row))\n",
    "    )\n",
    "\n",
    "var_test.reshaping_variable_data(1)\n",
    "df_test"
   ]
  },
  {
   "cell_type": "code",
   "execution_count": null,
   "metadata": {},
   "outputs": [],
   "source": [
    "model.core.index.sets.years.data"
   ]
  },
  {
   "cell_type": "code",
   "execution_count": null,
   "metadata": {},
   "outputs": [],
   "source": [
    "model.core.index.variables.u.data\n"
   ]
  },
  {
   "cell_type": "code",
   "execution_count": null,
   "metadata": {},
   "outputs": [],
   "source": [
    "model.core.problem.symbolic_problem"
   ]
  },
  {
   "cell_type": "code",
   "execution_count": null,
   "metadata": {},
   "outputs": [],
   "source": [
    "model.core.index.variables.X.data.at[0, 'variable'].value\n"
   ]
  },
  {
   "cell_type": "code",
   "execution_count": null,
   "metadata": {},
   "outputs": [],
   "source": [
    "if model.core.problem.numeric_problems is None:\n",
    "    print('ciao')"
   ]
  },
  {
   "cell_type": "code",
   "execution_count": null,
   "metadata": {},
   "outputs": [],
   "source": [
    "import cvxpy as cp\n",
    "import numpy as np\n",
    "\n",
    "# Problem data.\n",
    "m = 30\n",
    "n = 20\n",
    "np.random.seed(1)\n",
    "A = np.random.randn(m, n)\n",
    "# b = np.random.randn(m)\n",
    "b = 1\n",
    "\n",
    "# Construct the problem.\n",
    "x = cp.Variable((n,1))\n",
    "objective = cp.Minimize(cp.sum_squares(A @ x - b))\n",
    "constraints = [0 <= x, x <= 1]\n",
    "prob = cp.Problem(objective, constraints)\n",
    "\n",
    "# The optimal objective value is returned by `prob.solve()`.\n",
    "result = prob.solve()\n",
    "# The optimal value for x is stored in `x.value`.\n",
    "\n",
    "x.value"
   ]
  },
  {
   "cell_type": "code",
   "execution_count": null,
   "metadata": {},
   "outputs": [],
   "source": [
    "# DEFINIZIONE COSTANTI PER TRASFORMARE I VARI OPERATORI VETTORIALI\n",
    "import cvxpy as cp\n",
    "import numpy as np\n",
    "\n",
    "var_a = cp.Variable((3,2))\n",
    "var_a.value = np.ones((var_a.shape))*3\n",
    "var_b = cp.Variable((3,1))\n",
    "\n",
    "i_21 = cp.Constant(np.ones((2,1)))\n",
    "i_13 = cp.Constant(np.ones((1,3)))\n",
    "\n",
    "allowed_vars = {\n",
    "    'A': var_a,\n",
    "    'B': var_b,\n",
    "    'i_21': i_21,\n",
    "    'i_13': i_13,\n",
    "}\n",
    "\n",
    "allowed_ops = {\n",
    "    '+': '+',\n",
    "    '-': '-',\n",
    "    '*': '*',\n",
    "    '@': '@',\n",
    "    '==': '==',\n",
    "    '>=': '>=',\n",
    "    '<=': '<=',\n",
    "    '(': '(',\n",
    "    ')': ')',\n",
    "    ',':',',\n",
    "    'sum': cp.sum,\n",
    "}\n",
    "\n",
    "expr = model.core.problem.execute_cvxpy_code(\n",
    "    expression='i_13 @ A @ i_21',\n",
    "    allowed_variables=allowed_vars,\n",
    "    allowed_operators=allowed_ops\n",
    ")\n",
    "\n",
    "expr2 = model.core.problem.execute_cvxpy_code(\n",
    "    expression='sum(B)',\n",
    "    allowed_variables=allowed_vars,\n",
    "    allowed_operators=allowed_ops\n",
    ")\n",
    "\n",
    "expr2"
   ]
  },
  {
   "cell_type": "code",
   "execution_count": null,
   "metadata": {},
   "outputs": [],
   "source": [
    "import pandas as pd\n",
    "from src.util import constants\n",
    "from src.util import util\n",
    "\n",
    "field_id = constants._STD_ID_FIELD['id'][0]\n",
    "\n",
    "col_to_update = constants._STD_VALUES_FIELD['values'][0]\n",
    "cols_common = list(variable.coordinates.keys())\n",
    "\n",
    "new_df = variable.reshaping_variable_data(0)\n",
    "\n",
    "new_values = {\n",
    "    's_Name': 'Reference',\n",
    "    'dt_Name': '2023',\n",
    "    't_Name': 'Final demand',\n",
    "    'values': 15.0\n",
    "}\n",
    "\n",
    "new_df.loc[len(new_df)] = new_values\n",
    "new_df.at[0,'values'] = 2\n",
    "\n",
    "test.core.sqltools.open_connection()\n",
    "existing_df = test.core.sqltools.table_to_dataframe(table_name=variable.symbol)\n",
    "existing_df.drop(columns=['id'],inplace=True)\n",
    "test.core.sqltools.close_connection()\n",
    "\n",
    "print('\\n')\n",
    "print('existing_df: \\n', existing_df)\n",
    "print('\\n')\n",
    "print('new_df: \\n', new_df)"
   ]
  },
  {
   "cell_type": "code",
   "execution_count": null,
   "metadata": {},
   "outputs": [],
   "source": [
    "variable=test.core.index.variables.u\n",
    "\n",
    "test.core.database.sqltools.open_connection()\n",
    "raw_data = test.core.database.sqltools.filtered_table_to_dataframe(\n",
    "    table_name=variable.symbol,\n",
    "    filters_dict=variable.data['filter'][0]\n",
    ")\n",
    "test.core.database.sqltools.close_connection()\n",
    "\n",
    "raw_data"
   ]
  },
  {
   "cell_type": "code",
   "execution_count": null,
   "metadata": {},
   "outputs": [],
   "source": [
    "test.core.database.sqltools.open_connection()\n",
    "\n",
    "var = test.core.database.sqltools.filtered_table_to_dataframe(\n",
    "    table_name='u',\n",
    "    filters_dict={\n",
    "        's_Name': ['Reference'],\n",
    "        'dt_Name': [2023],\n",
    "        'f_Name': ['Energy', 'Steel'],\n",
    "        't_Name': ['PV power plant', 'Steel factory', 'Gas power plant']\n",
    "    }\n",
    ")\n",
    "\n",
    "# filter_1 = test.core.database.sqltools.get_related_table_keys(\n",
    "#     child_column_name='f_Name',\n",
    "#     parent_table_name='_set_FLOWS',\n",
    "#     parent_table_fields={\n",
    "#         'f_Category': ['Product flow'],\n",
    "#     }\n",
    "# )\n",
    "\n",
    "# filter_2 = test.core.database.sqltools.get_related_table_keys(\n",
    "#     child_column_name='dt_Name',\n",
    "#     parent_table_name='_set_DATETIME',\n",
    "#     parent_table_fields={\n",
    "#         'dt_Name': [2023],\n",
    "#     }\n",
    "# )\n",
    "\n",
    "# var_custom_filter = test.core.database.sqltools.filtered_table_to_dataframe(\n",
    "#     table_name='v',\n",
    "#     filters_dict={\n",
    "#         **filter_1,\n",
    "#         **filter_2,\n",
    "#         **{'f_Name': ['Steel']},\n",
    "#     }\n",
    "# )\n",
    "\n",
    "test.core.database.sqltools.close_connection()\n",
    "\n",
    "# filter_1, filter_2\n",
    "var"
   ]
  }
 ],
 "metadata": {
  "kernelspec": {
   "display_name": "esm_dev",
   "language": "python",
   "name": "python3"
  },
  "language_info": {
   "codemirror_mode": {
    "name": "ipython",
    "version": 3
   },
   "file_extension": ".py",
   "mimetype": "text/x-python",
   "name": "python",
   "nbconvert_exporter": "python",
   "pygments_lexer": "ipython3",
   "version": "3.10.13"
  },
  "orig_nbformat": 4
 },
 "nbformat": 4,
 "nbformat_minor": 2
}
