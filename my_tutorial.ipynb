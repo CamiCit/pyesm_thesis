{
 "cells": [
  {
   "cell_type": "markdown",
   "metadata": {},
   "source": [
    "## Python based Input-Output Modelling System (pyESM)\n",
    "Python package for generation and analysis of generic systems models "
   ]
  },
  {
   "cell_type": "markdown",
   "metadata": {},
   "source": [
    "GENERATION OF A NEW MODEL by creating a new set.xlsx"
   ]
  },
  {
   "cell_type": "code",
   "execution_count": null,
   "metadata": {},
   "outputs": [],
   "source": [
    "# Generate model instance based on setup files filled by the user.\n",
    "# Validates model directory before executing.\n",
    "# Generates sets excel file\n",
    "# If existing data are used, model coordinates are loaded and numerical problem\n",
    "# initialized (model ready to be run). Otherwise, sets excel file generated only.\n",
    "import esm\n",
    "\n",
    "model_dir_name = 'case1_new_time'\n",
    "main_dir_path = 'tesi_camilla'\n",
    "\n",
    "model = esm.Model(\n",
    "    model_dir_name=model_dir_name,\n",
    "    main_dir_path=main_dir_path,\n",
    "    use_existing_data=False,\n",
    "    log_level='info',\n",
    ")"
   ]
  },
  {
   "cell_type": "markdown",
   "metadata": {},
   "source": [
    "Existing data == True"
   ]
  },
  {
   "cell_type": "code",
   "execution_count": null,
   "metadata": {},
   "outputs": [],
   "source": [
    "# Generate model instance based on existing data\n",
    "# If existing data are used, model coordinates are loaded and numerical problem\n",
    "# initialized (model ready to be run)\n",
    "import esm\n",
    "\n",
    "model_dir_name = 'case1_home_new'\n",
    "main_dir_path = 'tesi_camilla'\n",
    "\n",
    "model = esm.Model(\n",
    "    model_dir_name=model_dir_name,\n",
    "    main_dir_path=main_dir_path,\n",
    "    use_existing_data=True,\n",
    "    log_level='info',\n",
    ")"
   ]
  },
  {
   "cell_type": "code",
   "execution_count": null,
   "metadata": {},
   "outputs": [],
   "source": [
    "# Once sets.xlsx file has filled: \n",
    "# - loading model coordinates to Index\n",
    "# - generating blank sqlite database for sets and variables \n",
    "# (variables tables in sqlite database empty)\n",
    "model.load_model_coordinates()\n",
    "model.initialize_blank_data_structure()"
   ]
  },
  {
   "cell_type": "code",
   "execution_count": null,
   "metadata": {},
   "outputs": [],
   "source": [
    "# after filling input_data file/s: \n",
    "# - loading input data into sqlite database variables tables\n",
    "# - initialize problem\n",
    "model.load_exogenous_data_to_sqlite_database()\n",
    "model.initialize_problems()"
   ]
  },
  {
   "cell_type": "code",
   "execution_count": null,
   "metadata": {},
   "outputs": [],
   "source": [
    "#-->\n",
    "# solve numerical problems\n",
    "model.run_model(verbose=False, solver='GUROBI')"
   ]
  },
  {
   "cell_type": "code",
   "execution_count": null,
   "metadata": {},
   "outputs": [],
   "source": [
    "model.load_results_to_database()\n",
    "#model.generate_pbi_report()"
   ]
  },
  {
   "cell_type": "markdown",
   "metadata": {},
   "source": [
    "- - - \n",
    "MODEL GENERATION FROM EXISTING DATA\n",
    "\n",
    "Generation of a new model working with existing database and data input files."
   ]
  },
  {
   "cell_type": "markdown",
   "metadata": {},
   "source": [
    "- - -\n",
    "DATA and MODEL UPDATE, MODEL RUN \n",
    "\n",
    "updating SQLite database with new data, \n",
    "re-initializing numerical problem\n",
    "\n",
    "solving numerical model, \n",
    "results export to sqlite database, \n",
    "generation of powerbi dataset"
   ]
  },
  {
   "cell_type": "code",
   "execution_count": 27,
   "metadata": {},
   "outputs": [
    {
     "name": "stderr",
     "output_type": "stream",
     "text": [
      "INFO | Model | Updating SQLite database 'database.db' and initialize problems.\n",
      "INFO | Model | Loading input data to SQLite database.\n",
      "WARNING | Model.core.sql_manager | SQLite table u already up to date.\n",
      "WARNING | Model.core.sql_manager | SQLite table cf already up to date.\n",
      "WARNING | Model.core.sql_manager | SQLite table Y already up to date.\n",
      "WARNING | Model.core.sql_manager | SQLite table cost_op already up to date.\n",
      "WARNING | Model.core.sql_manager | SQLite table cap_i already up to date.\n",
      "WARNING | Model.core.sql_manager | SQLite table cap_units already up to date.\n",
      "WARNING | Model.core.sql_manager | SQLite table days_per_type already up to date.\n",
      "WARNING | Model.core.sql_manager | SQLite table sf already up to date.\n",
      "WARNING | Model.core.sql_manager | SQLite table TI_param already up to date.\n",
      "WARNING | Model.core.sql_manager | SQLite table storage_min already up to date.\n",
      "WARNING | Model.core.sql_manager | SQLite table storage_max already up to date.\n",
      "WARNING | Model.core.sql_manager | SQLite table storage_max_disch already up to date.\n",
      "WARNING | Model.core.sql_manager | SQLite table storage_min_charge already up to date.\n",
      "WARNING | Model.core.sql_manager | SQLite table BEV_level_min already up to date.\n",
      "WARNING | Model.core.sql_manager | SQLite table BEV_level_max already up to date.\n",
      "WARNING | Model.core.sql_manager | SQLite table loss_factors already up to date.\n",
      "WARNING | Model.core.sql_manager | SQLite table disc_frac already up to date.\n",
      "INFO | Model | Loading symbolic problem, initializing numerical problem.\n",
      "WARNING | Model.core.problem | Symbolic problem already loaded.\n",
      "WARNING | Model.core.problem | Numerical problem already defined.\n"
     ]
    }
   ],
   "source": [
    "# in case of modifications in input data files (but not in sets, nor in \n",
    "# variables structures), update database and problem only\n",
    "model.update_database_and_problem()"
   ]
  },
  {
   "cell_type": "code",
   "execution_count": null,
   "metadata": {},
   "outputs": [],
   "source": [
    "# in case of modifications in symbolic problem only,\n",
    "# update problems dataframe and symbolic problem\n",
    "model.initialize_problems()"
   ]
  },
  {
   "cell_type": "code",
   "execution_count": null,
   "metadata": {},
   "outputs": [],
   "source": [
    "# solve numerical problems\n",
    "model.run_model(verbose=False, solver='GUROBI')"
   ]
  },
  {
   "cell_type": "code",
   "execution_count": null,
   "metadata": {},
   "outputs": [],
   "source": [
    "# once model has successfully solved, load endogenous parameters data to \n",
    "# sqlite database and generate powerbi dataset.\n",
    "model.load_results_to_database()\n",
    "#model.generate_pbi_report()"
   ]
  }
 ],
 "metadata": {
  "kernelspec": {
   "display_name": "esm_dev",
   "language": "python",
   "name": "python3"
  },
  "language_info": {
   "codemirror_mode": {
    "name": "ipython",
    "version": 3
   },
   "file_extension": ".py",
   "mimetype": "text/x-python",
   "name": "python",
   "nbconvert_exporter": "python",
   "pygments_lexer": "ipython3",
   "version": "3.12.4"
  },
  "orig_nbformat": 4
 },
 "nbformat": 4,
 "nbformat_minor": 2
}
