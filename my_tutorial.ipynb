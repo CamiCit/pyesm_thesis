{
 "cells": [
  {
   "cell_type": "markdown",
   "metadata": {},
   "source": [
    "## Python based Input-Output Modelling System (pyESM)\n",
    "Python package for generation and analysis of generic systems models "
   ]
  },
  {
   "cell_type": "markdown",
   "metadata": {},
   "source": [
    "GENERATION OF A NEW MODEL by creating a new set.xlsx"
   ]
  },
  {
   "cell_type": "code",
   "execution_count": null,
   "metadata": {},
   "outputs": [],
   "source": [
    "# Generate model instance based on setup files filled by the user.\n",
    "# Validates model directory before executing.\n",
    "# Generates sets excel file\n",
    "# If existing data are used, model coordinates are loaded and numerical problem\n",
    "# initialized (model ready to be run). Otherwise, sets excel file generated only.\n",
    "import esm\n",
    "\n",
    "model_dir_name = 'Siracusa'\n",
    "main_dir_path = 'tesi_camilla/casi_MarioU'\n",
    "\n",
    "model = esm.Model(\n",
    "    model_dir_name=model_dir_name,\n",
    "    main_dir_path=main_dir_path,\n",
    "    use_existing_data=False,\n",
    "    log_level='info',\n",
    ")"
   ]
  },
  {
   "cell_type": "markdown",
   "metadata": {},
   "source": [
    "Existing data == True"
   ]
  },
  {
   "cell_type": "code",
   "execution_count": null,
   "metadata": {},
   "outputs": [],
   "source": [
    "# Generate model instance based on existing data\n",
    "# If existing data are used, model coordinates are loaded and numerical problem\n",
    "# initialized (model ready to be run)\n",
    "import esm\n",
    "\n",
    "model_dir_name = 'Siracusa_emissions'\n",
    "main_dir_path = 'tesi_camilla/casi_MarioU'\n",
    "\n",
    "model = esm.Model(\n",
    "    model_dir_name=model_dir_name,\n",
    "    main_dir_path=main_dir_path,\n",
    "    use_existing_data=True,\n",
    "    log_level='info',\n",
    ")"
   ]
  },
  {
   "cell_type": "code",
   "execution_count": null,
   "metadata": {},
   "outputs": [],
   "source": [
    "# Once sets.xlsx file has filled: \n",
    "# - loading model coordinates to Index\n",
    "# - generating blank sqlite database for sets and variables \n",
    "# (variables tables in sqlite database empty)\n",
    "model.load_model_coordinates()\n",
    "model.initialize_blank_data_structure()"
   ]
  },
  {
   "cell_type": "code",
   "execution_count": null,
   "metadata": {},
   "outputs": [],
   "source": [
    "# after filling input_data file/s: \n",
    "# - loading input data into sqlite database variables tables\n",
    "# - initialize problem\n",
    "model.load_exogenous_data_to_sqlite_database()\n",
    "model.initialize_problems()"
   ]
  },
  {
   "cell_type": "code",
   "execution_count": null,
   "metadata": {},
   "outputs": [],
   "source": [
    "#-->\n",
    "# solve numerical problems\n",
    "model.run_model(verbose=False, solver='GUROBI')"
   ]
  },
  {
   "cell_type": "code",
   "execution_count": null,
   "metadata": {},
   "outputs": [],
   "source": [
    "model.load_results_to_database()\n",
    "#model.generate_pbi_report()"
   ]
  },
  {
   "cell_type": "markdown",
   "metadata": {},
   "source": [
    "- - - \n",
    "MODEL GENERATION FROM EXISTING DATA\n",
    "\n",
    "Generation of a new model working with existing database and data input files."
   ]
  },
  {
   "cell_type": "markdown",
   "metadata": {},
   "source": [
    "- - -\n",
    "DATA and MODEL UPDATE, MODEL RUN \n",
    "\n",
    "updating SQLite database with new data, \n",
    "re-initializing numerical problem\n",
    "\n",
    "solving numerical model, \n",
    "results export to sqlite database, \n",
    "generation of powerbi dataset"
   ]
  },
  {
   "cell_type": "code",
   "execution_count": null,
   "metadata": {},
   "outputs": [],
   "source": [
    "# in case of modifications in input data files (but not in sets, nor in \n",
    "# variables structures), update database and problem only\n",
    "model.update_database_and_problem()"
   ]
  },
  {
   "cell_type": "code",
   "execution_count": null,
   "metadata": {},
   "outputs": [],
   "source": [
    "# in case of modifications in symbolic problem only,\n",
    "# update problems dataframe and symbolic problem\n",
    "model.initialize_problems()"
   ]
  },
  {
   "cell_type": "code",
   "execution_count": null,
   "metadata": {},
   "outputs": [],
   "source": [
    "# solve numerical problems\n",
    "model.run_model(verbose=False, solver='GUROBI')"
   ]
  },
  {
   "cell_type": "code",
   "execution_count": null,
   "metadata": {},
   "outputs": [],
   "source": [
    "# once model has successfully solved, load endogenous parameters data to \n",
    "# sqlite database and generate powerbi dataset.\n",
    "\n",
    "model.load_results_to_database(main_dir_path,model_dir_name)\n",
    "#model.load_results_to_database()\n",
    "#model.generate_pbi_report()"
   ]
  },
  {
   "cell_type": "markdown",
   "metadata": {},
   "source": [
    "All together (pre-existing data)"
   ]
  },
  {
   "cell_type": "code",
   "execution_count": 1,
   "metadata": {},
   "outputs": [
    {
     "name": "stderr",
     "output_type": "stream",
     "text": [
      "INFO | Model | Generating 'Roma' pyESM model instance.\n",
      "INFO | Model | Model directory and required setup files validated.\n",
      "INFO | Model | Loading existing sets data and variable coordinates to Index.\n",
      "INFO | Model | Loading symbolic problem, initializing numerical problem.\n",
      "INFO | Model | Updating SQLite database 'database.db' and initialize problems.\n",
      "INFO | Model | Loading input data to SQLite database.\n",
      "WARNING | Model.core.sql_manager | SQLite table u already up to date.\n",
      "WARNING | Model.core.sql_manager | SQLite table cost_op already up to date.\n",
      "WARNING | Model.core.sql_manager | SQLite table e_op already up to date.\n",
      "WARNING | Model.core.sql_manager | SQLite table sf already up to date.\n",
      "WARNING | Model.core.sql_manager | SQLite table TI_param already up to date.\n",
      "WARNING | Model.core.sql_manager | SQLite table TI_e already up to date.\n",
      "WARNING | Model.core.sql_manager | SQLite table storage_min already up to date.\n",
      "WARNING | Model.core.sql_manager | SQLite table storage_max already up to date.\n",
      "WARNING | Model.core.sql_manager | SQLite table storage_start already up to date.\n",
      "WARNING | Model.core.sql_manager | SQLite table storage_max_disch already up to date.\n",
      "WARNING | Model.core.sql_manager | SQLite table storage_min_charge already up to date.\n",
      "WARNING | Model.core.sql_manager | SQLite table disc_frac already up to date.\n",
      "INFO | Model | Loading symbolic problem, initializing numerical problem.\n",
      "INFO | Model.core.problem | Symbolic problem updated.\n",
      "INFO | Model.core.problem | Numerical problem overwritten.\n",
      "INFO | Model | Solving numerical problem with 'GUROBI' solver\n",
      "INFO | Model.core.problem | Solving numerical problem - Sub-problem ['UserA'].\n"
     ]
    },
    {
     "name": "stdout",
     "output_type": "stream",
     "text": [
      "Set parameter Username\n",
      "Academic license - for non-commercial use only - expires 2025-06-19\n"
     ]
    },
    {
     "name": "stderr",
     "output_type": "stream",
     "text": [
      "INFO | Model.core.problem | Solving numerical problem - Sub-problem ['UserB'].\n",
      "INFO | Model.core.problem | Solving numerical problem - Sub-problem ['UserC'].\n",
      "INFO | Model.core.problem | Solving numerical problem - Sub-problem ['UserD'].\n",
      "INFO | Model | =================================\n",
      "INFO | Model | Numerical problems status report:\n",
      "INFO | Model | sub-problem ['UserA']: optimal\n",
      "INFO | Model | sub-problem ['UserB']: optimal\n",
      "INFO | Model | sub-problem ['UserC']: optimal\n",
      "INFO | Model | sub-problem ['UserD']: optimal\n",
      "INFO | Model | Exporting endogenous model results to SQLite database.\n",
      "INFO | Model.core | Data exported to Q.csv\n",
      "INFO | Model.core | Data exported to X.csv\n",
      "INFO | Model.core | Data exported to curtail.csv\n",
      "INFO | Model.core | Data exported to new_units.csv\n",
      "INFO | Model.core | Data exported to cap_new.csv\n",
      "INFO | Model.core | Data exported to active_techs.csv\n",
      "INFO | Model.core | Data exported to cost_op_hours.csv\n",
      "INFO | Model.core | Data exported to cost_op_tot.csv\n",
      "INFO | Model.core | Data exported to cost_op_year.csv\n",
      "INFO | Model.core | Data exported to cost_inv_tot.csv\n",
      "INFO | Model.core | Data exported to X_t.csv\n",
      "INFO | Model.core | Data exported to X_max.csv\n",
      "INFO | Model.core | Data exported to cap_tot.csv\n",
      "INFO | Model.core | Data exported to CO2_act.csv\n",
      "INFO | Model.core | Data exported to CO2_embed.csv\n",
      "INFO | Model.core | Data exported to CO2_start.csv\n",
      "INFO | Model.core | Data exported to CO2_tot.csv\n",
      "INFO | Model.core | Data exported to insulation.csv\n",
      "INFO | Model.core | Data exported to TI.csv\n",
      "INFO | Model.core | Data exported to act_capacity.csv\n",
      "INFO | Model.core | Data exported to season_limit.csv\n",
      "INFO | Model.core | Data exported to SOC_min.csv\n",
      "INFO | Model.core | Data exported to SOC_max.csv\n",
      "INFO | Model.core | Data exported to SOC_start.csv\n",
      "INFO | Model.core | Data exported to SOC.csv\n",
      "INFO | Model.core | Data exported to max_disch.csv\n",
      "INFO | Model.core | Data exported to min_charge.csv\n"
     ]
    }
   ],
   "source": [
    "# Generate model instance based on existing data\n",
    "# If existing data are used, model coordinates are loaded and numerical problem\n",
    "# initialized (model ready to be run)\n",
    "import esm\n",
    "\n",
    "model_dir_name = 'Roma'\n",
    "main_dir_path = 'tesi_camilla/casi_MarioU'\n",
    "\n",
    "model = esm.Model(\n",
    "    model_dir_name=model_dir_name,\n",
    "    main_dir_path=main_dir_path,\n",
    "    use_existing_data=True,\n",
    "    log_level='info',\n",
    ")\n",
    "\n",
    "#Data update\n",
    "model.update_database_and_problem(force_overwrite=True)\n",
    "\n",
    "#Solve numerical problems\n",
    "model.run_model(verbose=False, solver='GUROBI')\n",
    "\n",
    "# once model has successfully solved, load endogenous parameters data to \n",
    "# sqlite database and generate powerbi dataset.\n",
    "model.load_results_to_database(main_dir_path,model_dir_name)"
   ]
  },
  {
   "cell_type": "code",
   "execution_count": 4,
   "metadata": {},
   "outputs": [
    {
     "name": "stderr",
     "output_type": "stream",
     "text": [
      "INFO | Model | Generating 'Milano' pyESM model instance.\n",
      "INFO | Model | Model directory and required setup files validated.\n",
      "INFO | Model | Loading existing sets data and variable coordinates to Index.\n",
      "INFO | Model | Loading symbolic problem, initializing numerical problem.\n",
      "INFO | Model | Updating SQLite database 'database.db' and initialize problems.\n",
      "INFO | Model | Loading input data to SQLite database.\n",
      "WARNING | Model.core.sql_manager | SQLite table u already up to date.\n",
      "WARNING | Model.core.sql_manager | SQLite table cf already up to date.\n",
      "WARNING | Model.core.sql_manager | SQLite table Y already up to date.\n",
      "WARNING | Model.core.sql_manager | SQLite table cost_op already up to date.\n",
      "WARNING | Model.core.sql_manager | SQLite table e_op already up to date.\n",
      "WARNING | Model.core.sql_manager | SQLite table sf already up to date.\n",
      "WARNING | Model.core.sql_manager | SQLite table TI_param already up to date.\n",
      "WARNING | Model.core.sql_manager | SQLite table TI_e already up to date.\n",
      "WARNING | Model.core.sql_manager | SQLite table storage_min already up to date.\n",
      "WARNING | Model.core.sql_manager | SQLite table storage_max already up to date.\n",
      "WARNING | Model.core.sql_manager | SQLite table storage_start already up to date.\n",
      "WARNING | Model.core.sql_manager | SQLite table storage_max_disch already up to date.\n",
      "WARNING | Model.core.sql_manager | SQLite table storage_min_charge already up to date.\n",
      "WARNING | Model.core.sql_manager | SQLite table disc_frac already up to date.\n",
      "INFO | Model | Loading symbolic problem, initializing numerical problem.\n",
      "INFO | Model.core.problem | Symbolic problem updated.\n",
      "INFO | Model.core.problem | Numerical problem overwritten.\n",
      "INFO | Model | Solving numerical problem with 'GUROBI' solver\n",
      "INFO | Model.core.problem | Solving numerical problem - Sub-problem ['UserA'].\n",
      "INFO | Model.core.problem | Solving numerical problem - Sub-problem ['UserB'].\n",
      "INFO | Model.core.problem | Solving numerical problem - Sub-problem ['UserC'].\n",
      "INFO | Model.core.problem | Solving numerical problem - Sub-problem ['UserD'].\n",
      "INFO | Model | =================================\n",
      "INFO | Model | Numerical problems status report:\n",
      "INFO | Model | sub-problem ['UserA']: optimal\n",
      "INFO | Model | sub-problem ['UserB']: optimal\n",
      "INFO | Model | sub-problem ['UserC']: optimal\n",
      "INFO | Model | sub-problem ['UserD']: optimal\n",
      "INFO | Model | Exporting endogenous model results to SQLite database.\n",
      "INFO | Model.core | Data exported to Q.csv\n",
      "INFO | Model.core | Data exported to X.csv\n",
      "INFO | Model.core | Data exported to curtail.csv\n",
      "INFO | Model.core | Data exported to new_units.csv\n",
      "INFO | Model.core | Data exported to cap_new.csv\n",
      "INFO | Model.core | Data exported to active_techs.csv\n",
      "INFO | Model.core | Data exported to cost_op_hours.csv\n",
      "INFO | Model.core | Data exported to cost_op_tot.csv\n",
      "INFO | Model.core | Data exported to cost_op_year.csv\n",
      "INFO | Model.core | Data exported to cost_inv_tot.csv\n",
      "INFO | Model.core | Data exported to X_t.csv\n",
      "INFO | Model.core | Data exported to X_max.csv\n",
      "INFO | Model.core | Data exported to cap_tot.csv\n",
      "INFO | Model.core | Data exported to CO2_act.csv\n",
      "INFO | Model.core | Data exported to CO2_embed.csv\n",
      "INFO | Model.core | Data exported to CO2_start.csv\n",
      "INFO | Model.core | Data exported to CO2_tot.csv\n",
      "INFO | Model.core | Data exported to insulation.csv\n",
      "INFO | Model.core | Data exported to TI.csv\n",
      "INFO | Model.core | Data exported to act_capacity.csv\n",
      "INFO | Model.core | Data exported to season_limit.csv\n",
      "INFO | Model.core | Data exported to SOC_min.csv\n",
      "INFO | Model.core | Data exported to SOC_max.csv\n",
      "INFO | Model.core | Data exported to SOC_start.csv\n",
      "INFO | Model.core | Data exported to SOC.csv\n",
      "INFO | Model.core | Data exported to max_disch.csv\n",
      "INFO | Model.core | Data exported to min_charge.csv\n"
     ]
    }
   ],
   "source": [
    "# Generate model instance based on existing data\n",
    "# If existing data are used, model coordinates are loaded and numerical problem\n",
    "# initialized (model ready to be run)\n",
    "import esm\n",
    "\n",
    "model_dir_name = 'Milano'\n",
    "main_dir_path = 'tesi_camilla/casi_MarioU'\n",
    "\n",
    "model = esm.Model(\n",
    "    model_dir_name=model_dir_name,\n",
    "    main_dir_path=main_dir_path,\n",
    "    use_existing_data=True,\n",
    "    log_level='info',\n",
    ")\n",
    "\n",
    "#Data update\n",
    "model.update_database_and_problem(force_overwrite=True)\n",
    "\n",
    "#Solve numerical problems\n",
    "model.run_model(verbose=False, solver='GUROBI')\n",
    "\n",
    "# once model has successfully solved, load endogenous parameters data to \n",
    "# sqlite database and generate powerbi dataset.\n",
    "model.load_results_to_database(main_dir_path,model_dir_name)"
   ]
  },
  {
   "cell_type": "code",
   "execution_count": 5,
   "metadata": {},
   "outputs": [
    {
     "name": "stderr",
     "output_type": "stream",
     "text": [
      "INFO | Model | Generating 'Siracusa' pyESM model instance.\n",
      "INFO | Model | Model directory and required setup files validated.\n",
      "INFO | Model | Loading existing sets data and variable coordinates to Index.\n",
      "INFO | Model | Loading symbolic problem, initializing numerical problem.\n",
      "INFO | Model | Updating SQLite database 'database.db' and initialize problems.\n",
      "INFO | Model | Loading input data to SQLite database.\n",
      "WARNING | Model.core.sql_manager | SQLite table u already up to date.\n",
      "WARNING | Model.core.sql_manager | SQLite table cost_op already up to date.\n",
      "WARNING | Model.core.sql_manager | SQLite table e_op already up to date.\n",
      "WARNING | Model.core.sql_manager | SQLite table sf already up to date.\n",
      "WARNING | Model.core.sql_manager | SQLite table TI_param already up to date.\n",
      "WARNING | Model.core.sql_manager | SQLite table TI_e already up to date.\n",
      "WARNING | Model.core.sql_manager | SQLite table storage_min already up to date.\n",
      "WARNING | Model.core.sql_manager | SQLite table storage_max already up to date.\n",
      "WARNING | Model.core.sql_manager | SQLite table storage_start already up to date.\n",
      "WARNING | Model.core.sql_manager | SQLite table storage_max_disch already up to date.\n",
      "WARNING | Model.core.sql_manager | SQLite table storage_min_charge already up to date.\n",
      "WARNING | Model.core.sql_manager | SQLite table disc_frac already up to date.\n",
      "INFO | Model | Loading symbolic problem, initializing numerical problem.\n",
      "INFO | Model.core.problem | Symbolic problem updated.\n",
      "INFO | Model.core.problem | Numerical problem overwritten.\n",
      "INFO | Model | Solving numerical problem with 'GUROBI' solver\n",
      "INFO | Model.core.problem | Solving numerical problem - Sub-problem ['UserA'].\n",
      "INFO | Model.core.problem | Solving numerical problem - Sub-problem ['UserB'].\n",
      "INFO | Model.core.problem | Solving numerical problem - Sub-problem ['UserC'].\n",
      "INFO | Model.core.problem | Solving numerical problem - Sub-problem ['UserD'].\n",
      "INFO | Model | =================================\n",
      "INFO | Model | Numerical problems status report:\n",
      "INFO | Model | sub-problem ['UserA']: optimal\n",
      "INFO | Model | sub-problem ['UserB']: optimal\n",
      "INFO | Model | sub-problem ['UserC']: optimal\n",
      "INFO | Model | sub-problem ['UserD']: optimal\n",
      "INFO | Model | Exporting endogenous model results to SQLite database.\n",
      "INFO | Model.core | Data exported to Q.csv\n",
      "INFO | Model.core | Data exported to X.csv\n",
      "INFO | Model.core | Data exported to curtail.csv\n",
      "INFO | Model.core | Data exported to new_units.csv\n",
      "INFO | Model.core | Data exported to cap_new.csv\n",
      "INFO | Model.core | Data exported to active_techs.csv\n",
      "INFO | Model.core | Data exported to cost_op_hours.csv\n",
      "INFO | Model.core | Data exported to cost_op_tot.csv\n",
      "INFO | Model.core | Data exported to cost_op_year.csv\n",
      "INFO | Model.core | Data exported to cost_inv_tot.csv\n",
      "INFO | Model.core | Data exported to X_t.csv\n",
      "INFO | Model.core | Data exported to X_max.csv\n",
      "INFO | Model.core | Data exported to cap_tot.csv\n",
      "INFO | Model.core | Data exported to CO2_act.csv\n",
      "INFO | Model.core | Data exported to CO2_embed.csv\n",
      "INFO | Model.core | Data exported to CO2_start.csv\n",
      "INFO | Model.core | Data exported to CO2_tot.csv\n",
      "INFO | Model.core | Data exported to insulation.csv\n",
      "INFO | Model.core | Data exported to TI.csv\n",
      "INFO | Model.core | Data exported to act_capacity.csv\n",
      "INFO | Model.core | Data exported to season_limit.csv\n",
      "INFO | Model.core | Data exported to SOC_min.csv\n",
      "INFO | Model.core | Data exported to SOC_max.csv\n",
      "INFO | Model.core | Data exported to SOC_start.csv\n",
      "INFO | Model.core | Data exported to SOC.csv\n",
      "INFO | Model.core | Data exported to max_disch.csv\n",
      "INFO | Model.core | Data exported to min_charge.csv\n"
     ]
    }
   ],
   "source": [
    "# Generate model instance based on existing data\n",
    "# If existing data are used, model coordinates are loaded and numerical problem\n",
    "# initialized (model ready to be run)\n",
    "import esm\n",
    "\n",
    "model_dir_name = 'Siracusa'\n",
    "main_dir_path = 'tesi_camilla/casi_MarioU'\n",
    "\n",
    "model = esm.Model(\n",
    "    model_dir_name=model_dir_name,\n",
    "    main_dir_path=main_dir_path,\n",
    "    use_existing_data=True,\n",
    "    log_level='info',\n",
    ")\n",
    "\n",
    "#Data update\n",
    "model.update_database_and_problem(force_overwrite=True)\n",
    "\n",
    "#Solve numerical problems\n",
    "model.run_model(verbose=False, solver='GUROBI')\n",
    "\n",
    "# once model has successfully solved, load endogenous parameters data to \n",
    "# sqlite database and generate powerbi dataset.\n",
    "model.load_results_to_database(main_dir_path,model_dir_name)"
   ]
  },
  {
   "cell_type": "code",
   "execution_count": 6,
   "metadata": {},
   "outputs": [
    {
     "name": "stderr",
     "output_type": "stream",
     "text": [
      "INFO | Model | Generating 'Siracusa_hw' pyESM model instance.\n",
      "INFO | Model | Model directory and required setup files validated.\n",
      "INFO | Model | Loading existing sets data and variable coordinates to Index.\n",
      "INFO | Model | Loading symbolic problem, initializing numerical problem.\n",
      "INFO | Model | Updating SQLite database 'database.db' and initialize problems.\n",
      "INFO | Model | Loading input data to SQLite database.\n",
      "WARNING | Model.core.sql_manager | SQLite table cost_op already up to date.\n",
      "WARNING | Model.core.sql_manager | SQLite table e_op already up to date.\n",
      "WARNING | Model.core.sql_manager | SQLite table sf already up to date.\n",
      "WARNING | Model.core.sql_manager | SQLite table TI_param already up to date.\n",
      "WARNING | Model.core.sql_manager | SQLite table TI_e already up to date.\n",
      "WARNING | Model.core.sql_manager | SQLite table storage_min already up to date.\n",
      "WARNING | Model.core.sql_manager | SQLite table storage_max already up to date.\n",
      "WARNING | Model.core.sql_manager | SQLite table storage_start already up to date.\n",
      "WARNING | Model.core.sql_manager | SQLite table storage_max_disch already up to date.\n",
      "WARNING | Model.core.sql_manager | SQLite table storage_min_charge already up to date.\n",
      "WARNING | Model.core.sql_manager | SQLite table disc_frac already up to date.\n",
      "INFO | Model | Loading symbolic problem, initializing numerical problem.\n",
      "INFO | Model.core.problem | Symbolic problem updated.\n",
      "INFO | Model.core.problem | Numerical problem overwritten.\n",
      "INFO | Model | Solving numerical problem with 'GUROBI' solver\n",
      "INFO | Model.core.problem | Solving numerical problem - Sub-problem ['UserA'].\n",
      "/opt/anaconda3/envs/pyesm/lib/python3.12/site-packages/cvxpy/problems/problem.py:1409: UserWarning: \n",
      "    The problem is either infeasible or unbounded, but the solver\n",
      "    cannot tell which. Disable any solver-specific presolve methods\n",
      "    and re-solve to determine the precise problem status.\n",
      "\n",
      "    For GUROBI and CPLEX you can automatically perform this re-solve\n",
      "    with the keyword argument prob.solve(reoptimize=True, ...).\n",
      "    \n",
      "  warnings.warn(INF_OR_UNB_MESSAGE)\n",
      "INFO | Model.core.problem | Solving numerical problem - Sub-problem ['UserB'].\n",
      "INFO | Model.core.problem | Solving numerical problem - Sub-problem ['UserC'].\n",
      "INFO | Model.core.problem | Solving numerical problem - Sub-problem ['UserD'].\n",
      "INFO | Model | =================================\n",
      "INFO | Model | Numerical problems status report:\n",
      "INFO | Model | sub-problem ['UserA']: infeasible_or_unbounded\n",
      "INFO | Model | sub-problem ['UserB']: infeasible_or_unbounded\n",
      "INFO | Model | sub-problem ['UserC']: infeasible_or_unbounded\n",
      "INFO | Model | sub-problem ['UserD']: infeasible_or_unbounded\n",
      "INFO | Model | Exporting endogenous model results to SQLite database.\n"
     ]
    },
    {
     "ename": "ValueError",
     "evalue": "Length of values (4) does not match length of index (32280)",
     "output_type": "error",
     "traceback": [
      "\u001b[0;31m---------------------------------------------------------------------------\u001b[0m",
      "\u001b[0;31mValueError\u001b[0m                                Traceback (most recent call last)",
      "Cell \u001b[0;32mIn[6], line 24\u001b[0m\n\u001b[1;32m     20\u001b[0m model\u001b[38;5;241m.\u001b[39mrun_model(verbose\u001b[38;5;241m=\u001b[39m\u001b[38;5;28;01mFalse\u001b[39;00m, solver\u001b[38;5;241m=\u001b[39m\u001b[38;5;124m'\u001b[39m\u001b[38;5;124mGUROBI\u001b[39m\u001b[38;5;124m'\u001b[39m)\n\u001b[1;32m     22\u001b[0m \u001b[38;5;66;03m# once model has successfully solved, load endogenous parameters data to \u001b[39;00m\n\u001b[1;32m     23\u001b[0m \u001b[38;5;66;03m# sqlite database and generate powerbi dataset.\u001b[39;00m\n\u001b[0;32m---> 24\u001b[0m \u001b[43mmodel\u001b[49m\u001b[38;5;241;43m.\u001b[39;49m\u001b[43mload_results_to_database\u001b[49m\u001b[43m(\u001b[49m\u001b[43mmain_dir_path\u001b[49m\u001b[43m,\u001b[49m\u001b[43mmodel_dir_name\u001b[49m\u001b[43m)\u001b[49m\n",
      "File \u001b[0;32m~/Documents/GitHub/pyesm_thesis/esm/backend/model.py:465\u001b[0m, in \u001b[0;36mModel.load_results_to_database\u001b[0;34m(self, main_dir_path, model_dir_name, operation)\u001b[0m\n\u001b[1;32m    452\u001b[0m \u001b[38;5;250m\u001b[39m\u001b[38;5;124;03m\"\"\"\u001b[39;00m\n\u001b[1;32m    453\u001b[0m \u001b[38;5;124;03mLoads the endogenous model results to a SQLite database. \u001b[39;00m\n\u001b[1;32m    454\u001b[0m \n\u001b[0;32m   (...)\u001b[0m\n\u001b[1;32m    460\u001b[0m \u001b[38;5;124;03m    None\u001b[39;00m\n\u001b[1;32m    461\u001b[0m \u001b[38;5;124;03m\"\"\"\u001b[39;00m\n\u001b[1;32m    462\u001b[0m \u001b[38;5;28mself\u001b[39m\u001b[38;5;241m.\u001b[39mlogger\u001b[38;5;241m.\u001b[39minfo(\n\u001b[1;32m    463\u001b[0m     \u001b[38;5;124m'\u001b[39m\u001b[38;5;124mExporting endogenous model results to SQLite database.\u001b[39m\u001b[38;5;124m'\u001b[39m)\n\u001b[0;32m--> 465\u001b[0m \u001b[38;5;28;43mself\u001b[39;49m\u001b[38;5;241;43m.\u001b[39;49m\u001b[43mcore\u001b[49m\u001b[38;5;241;43m.\u001b[39;49m\u001b[43mcvxpy_endogenous_data_to_database\u001b[49m\u001b[43m(\u001b[49m\u001b[43moperation\u001b[49m\u001b[43m,\u001b[49m\u001b[43mmain_dir_path\u001b[49m\u001b[43m,\u001b[49m\u001b[43mmodel_dir_name\u001b[49m\u001b[43m)\u001b[49m\n",
      "File \u001b[0;32m~/Documents/GitHub/pyesm_thesis/esm/backend/core.py:608\u001b[0m, in \u001b[0;36mCore.cvxpy_endogenous_data_to_database\u001b[0;34m(self, operation, main_dir_path, model_dir_name, suppress_warnings)\u001b[0m\n\u001b[1;32m    605\u001b[0m \u001b[38;5;28;01melse\u001b[39;00m:\n\u001b[1;32m    606\u001b[0m     cvxpy_var_data \u001b[38;5;241m=\u001b[39m data_table\u001b[38;5;241m.\u001b[39mcvxpy_var\u001b[38;5;241m.\u001b[39mvalue\n\u001b[0;32m--> 608\u001b[0m \u001b[43mdata_table_dataframe\u001b[49m\u001b[43m[\u001b[49m\u001b[43mvalues_headers\u001b[49m\u001b[43m]\u001b[49m \u001b[38;5;241m=\u001b[39m cvxpy_var_data\n\u001b[1;32m    610\u001b[0m \u001b[38;5;66;03m#Camilla: change\u001b[39;00m\n\u001b[1;32m    611\u001b[0m file_path \u001b[38;5;241m=\u001b[39m \u001b[38;5;124mf\u001b[39m\u001b[38;5;124m\"\u001b[39m\u001b[38;5;132;01m{\u001b[39;00mmain_dir_path\u001b[38;5;132;01m}\u001b[39;00m\u001b[38;5;124m/\u001b[39m\u001b[38;5;132;01m{\u001b[39;00mmodel_dir_name\u001b[38;5;132;01m}\u001b[39;00m\u001b[38;5;124m/Results_csv\u001b[39m\u001b[38;5;124m\"\u001b[39m\n",
      "File \u001b[0;32m/opt/anaconda3/envs/pyesm/lib/python3.12/site-packages/pandas/core/frame.py:4091\u001b[0m, in \u001b[0;36mDataFrame.__setitem__\u001b[0;34m(self, key, value)\u001b[0m\n\u001b[1;32m   4088\u001b[0m     \u001b[38;5;28mself\u001b[39m\u001b[38;5;241m.\u001b[39m_setitem_array([key], value)\n\u001b[1;32m   4089\u001b[0m \u001b[38;5;28;01melse\u001b[39;00m:\n\u001b[1;32m   4090\u001b[0m     \u001b[38;5;66;03m# set column\u001b[39;00m\n\u001b[0;32m-> 4091\u001b[0m     \u001b[38;5;28;43mself\u001b[39;49m\u001b[38;5;241;43m.\u001b[39;49m\u001b[43m_set_item\u001b[49m\u001b[43m(\u001b[49m\u001b[43mkey\u001b[49m\u001b[43m,\u001b[49m\u001b[43m \u001b[49m\u001b[43mvalue\u001b[49m\u001b[43m)\u001b[49m\n",
      "File \u001b[0;32m/opt/anaconda3/envs/pyesm/lib/python3.12/site-packages/pandas/core/frame.py:4300\u001b[0m, in \u001b[0;36mDataFrame._set_item\u001b[0;34m(self, key, value)\u001b[0m\n\u001b[1;32m   4290\u001b[0m \u001b[38;5;28;01mdef\u001b[39;00m \u001b[38;5;21m_set_item\u001b[39m(\u001b[38;5;28mself\u001b[39m, key, value) \u001b[38;5;241m-\u001b[39m\u001b[38;5;241m>\u001b[39m \u001b[38;5;28;01mNone\u001b[39;00m:\n\u001b[1;32m   4291\u001b[0m \u001b[38;5;250m    \u001b[39m\u001b[38;5;124;03m\"\"\"\u001b[39;00m\n\u001b[1;32m   4292\u001b[0m \u001b[38;5;124;03m    Add series to DataFrame in specified column.\u001b[39;00m\n\u001b[1;32m   4293\u001b[0m \n\u001b[0;32m   (...)\u001b[0m\n\u001b[1;32m   4298\u001b[0m \u001b[38;5;124;03m    ensure homogeneity.\u001b[39;00m\n\u001b[1;32m   4299\u001b[0m \u001b[38;5;124;03m    \"\"\"\u001b[39;00m\n\u001b[0;32m-> 4300\u001b[0m     value, refs \u001b[38;5;241m=\u001b[39m \u001b[38;5;28;43mself\u001b[39;49m\u001b[38;5;241;43m.\u001b[39;49m\u001b[43m_sanitize_column\u001b[49m\u001b[43m(\u001b[49m\u001b[43mvalue\u001b[49m\u001b[43m)\u001b[49m\n\u001b[1;32m   4302\u001b[0m     \u001b[38;5;28;01mif\u001b[39;00m (\n\u001b[1;32m   4303\u001b[0m         key \u001b[38;5;129;01min\u001b[39;00m \u001b[38;5;28mself\u001b[39m\u001b[38;5;241m.\u001b[39mcolumns\n\u001b[1;32m   4304\u001b[0m         \u001b[38;5;129;01mand\u001b[39;00m value\u001b[38;5;241m.\u001b[39mndim \u001b[38;5;241m==\u001b[39m \u001b[38;5;241m1\u001b[39m\n\u001b[1;32m   4305\u001b[0m         \u001b[38;5;129;01mand\u001b[39;00m \u001b[38;5;129;01mnot\u001b[39;00m \u001b[38;5;28misinstance\u001b[39m(value\u001b[38;5;241m.\u001b[39mdtype, ExtensionDtype)\n\u001b[1;32m   4306\u001b[0m     ):\n\u001b[1;32m   4307\u001b[0m         \u001b[38;5;66;03m# broadcast across multiple columns if necessary\u001b[39;00m\n\u001b[1;32m   4308\u001b[0m         \u001b[38;5;28;01mif\u001b[39;00m \u001b[38;5;129;01mnot\u001b[39;00m \u001b[38;5;28mself\u001b[39m\u001b[38;5;241m.\u001b[39mcolumns\u001b[38;5;241m.\u001b[39mis_unique \u001b[38;5;129;01mor\u001b[39;00m \u001b[38;5;28misinstance\u001b[39m(\u001b[38;5;28mself\u001b[39m\u001b[38;5;241m.\u001b[39mcolumns, MultiIndex):\n",
      "File \u001b[0;32m/opt/anaconda3/envs/pyesm/lib/python3.12/site-packages/pandas/core/frame.py:5039\u001b[0m, in \u001b[0;36mDataFrame._sanitize_column\u001b[0;34m(self, value)\u001b[0m\n\u001b[1;32m   5036\u001b[0m     \u001b[38;5;28;01mreturn\u001b[39;00m _reindex_for_setitem(value, \u001b[38;5;28mself\u001b[39m\u001b[38;5;241m.\u001b[39mindex)\n\u001b[1;32m   5038\u001b[0m \u001b[38;5;28;01mif\u001b[39;00m is_list_like(value):\n\u001b[0;32m-> 5039\u001b[0m     \u001b[43mcom\u001b[49m\u001b[38;5;241;43m.\u001b[39;49m\u001b[43mrequire_length_match\u001b[49m\u001b[43m(\u001b[49m\u001b[43mvalue\u001b[49m\u001b[43m,\u001b[49m\u001b[43m \u001b[49m\u001b[38;5;28;43mself\u001b[39;49m\u001b[38;5;241;43m.\u001b[39;49m\u001b[43mindex\u001b[49m\u001b[43m)\u001b[49m\n\u001b[1;32m   5040\u001b[0m \u001b[38;5;28;01mreturn\u001b[39;00m sanitize_array(value, \u001b[38;5;28mself\u001b[39m\u001b[38;5;241m.\u001b[39mindex, copy\u001b[38;5;241m=\u001b[39m\u001b[38;5;28;01mTrue\u001b[39;00m, allow_2d\u001b[38;5;241m=\u001b[39m\u001b[38;5;28;01mTrue\u001b[39;00m), \u001b[38;5;28;01mNone\u001b[39;00m\n",
      "File \u001b[0;32m/opt/anaconda3/envs/pyesm/lib/python3.12/site-packages/pandas/core/common.py:561\u001b[0m, in \u001b[0;36mrequire_length_match\u001b[0;34m(data, index)\u001b[0m\n\u001b[1;32m    557\u001b[0m \u001b[38;5;250m\u001b[39m\u001b[38;5;124;03m\"\"\"\u001b[39;00m\n\u001b[1;32m    558\u001b[0m \u001b[38;5;124;03mCheck the length of data matches the length of the index.\u001b[39;00m\n\u001b[1;32m    559\u001b[0m \u001b[38;5;124;03m\"\"\"\u001b[39;00m\n\u001b[1;32m    560\u001b[0m \u001b[38;5;28;01mif\u001b[39;00m \u001b[38;5;28mlen\u001b[39m(data) \u001b[38;5;241m!=\u001b[39m \u001b[38;5;28mlen\u001b[39m(index):\n\u001b[0;32m--> 561\u001b[0m     \u001b[38;5;28;01mraise\u001b[39;00m \u001b[38;5;167;01mValueError\u001b[39;00m(\n\u001b[1;32m    562\u001b[0m         \u001b[38;5;124m\"\u001b[39m\u001b[38;5;124mLength of values \u001b[39m\u001b[38;5;124m\"\u001b[39m\n\u001b[1;32m    563\u001b[0m         \u001b[38;5;124mf\u001b[39m\u001b[38;5;124m\"\u001b[39m\u001b[38;5;124m(\u001b[39m\u001b[38;5;132;01m{\u001b[39;00m\u001b[38;5;28mlen\u001b[39m(data)\u001b[38;5;132;01m}\u001b[39;00m\u001b[38;5;124m) \u001b[39m\u001b[38;5;124m\"\u001b[39m\n\u001b[1;32m    564\u001b[0m         \u001b[38;5;124m\"\u001b[39m\u001b[38;5;124mdoes not match length of index \u001b[39m\u001b[38;5;124m\"\u001b[39m\n\u001b[1;32m    565\u001b[0m         \u001b[38;5;124mf\u001b[39m\u001b[38;5;124m\"\u001b[39m\u001b[38;5;124m(\u001b[39m\u001b[38;5;132;01m{\u001b[39;00m\u001b[38;5;28mlen\u001b[39m(index)\u001b[38;5;132;01m}\u001b[39;00m\u001b[38;5;124m)\u001b[39m\u001b[38;5;124m\"\u001b[39m\n\u001b[1;32m    566\u001b[0m     )\n",
      "\u001b[0;31mValueError\u001b[0m: Length of values (4) does not match length of index (32280)"
     ]
    }
   ],
   "source": [
    "# Generate model instance based on existing data\n",
    "# If existing data are used, model coordinates are loaded and numerical problem\n",
    "# initialized (model ready to be run)\n",
    "import esm\n",
    "\n",
    "model_dir_name = 'Siracusa_hw'\n",
    "main_dir_path = 'tesi_camilla/casi_MarioU'\n",
    "\n",
    "model = esm.Model(\n",
    "    model_dir_name=model_dir_name,\n",
    "    main_dir_path=main_dir_path,\n",
    "    use_existing_data=True,\n",
    "    log_level='info',\n",
    ")\n",
    "\n",
    "#Data update\n",
    "model.update_database_and_problem(force_overwrite=True)\n",
    "\n",
    "#Solve numerical problems\n",
    "model.run_model(verbose=False, solver='GUROBI')\n",
    "\n",
    "# once model has successfully solved, load endogenous parameters data to \n",
    "# sqlite database and generate powerbi dataset.\n",
    "model.load_results_to_database(main_dir_path,model_dir_name)"
   ]
  }
 ],
 "metadata": {
  "kernelspec": {
   "display_name": "esm_dev",
   "language": "python",
   "name": "python3"
  },
  "language_info": {
   "codemirror_mode": {
    "name": "ipython",
    "version": 3
   },
   "file_extension": ".py",
   "mimetype": "text/x-python",
   "name": "python",
   "nbconvert_exporter": "python",
   "pygments_lexer": "ipython3",
   "version": "3.12.4"
  },
  "orig_nbformat": 4
 },
 "nbformat": 4,
 "nbformat_minor": 2
}
