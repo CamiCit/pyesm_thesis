{
 "cells": [
  {
   "cell_type": "markdown",
   "metadata": {},
   "source": [
    "## Python based Input-Output Modelling System (pyESM)\n",
    "Python package for generation and analysis of generic systems models "
   ]
  },
  {
   "cell_type": "markdown",
   "metadata": {},
   "source": [
    "GENERATION OF A NEW MODEL by creating a new set.xlsx"
   ]
  },
  {
   "cell_type": "code",
   "execution_count": 35,
   "metadata": {},
   "outputs": [
    {
     "name": "stderr",
     "output_type": "stream",
     "text": [
      "INFO | Model | Generating 'case1_new_storage' pyESM model instance.\n",
      "INFO | Model | Model directory and required setup files validated.\n",
      "INFO | Model.core.database | Sets excel file 'sets.xlsx' already exists.\n",
      "INFO | Model.core.database | Relying on existing sets excel file 'sets.xlsx'.\n"
     ]
    }
   ],
   "source": [
    "# Generate model instance based on setup files filled by the user.\n",
    "# Validates model directory before executing.\n",
    "# Generates sets excel file\n",
    "# If existing data are used, model coordinates are loaded and numerical problem\n",
    "# initialized (model ready to be run). Otherwise, sets excel file generated only.\n",
    "import esm\n",
    "\n",
    "model_dir_name = 'case1_new_storage'\n",
    "main_dir_path = 'tesi_camilla'\n",
    "\n",
    "model = esm.Model(\n",
    "    model_dir_name=model_dir_name,\n",
    "    main_dir_path=main_dir_path,\n",
    "    use_existing_data=False,\n",
    "    log_level='info',\n",
    ")"
   ]
  },
  {
   "cell_type": "markdown",
   "metadata": {},
   "source": [
    "Existing data == True"
   ]
  },
  {
   "cell_type": "code",
   "execution_count": null,
   "metadata": {},
   "outputs": [],
   "source": [
    "# Generate model instance based on existing data\n",
    "# If existing data are used, model coordinates are loaded and numerical problem\n",
    "# initialized (model ready to be run)\n",
    "import esm\n",
    "\n",
    "model_dir_name = 'case1_'\n",
    "main_dir_path = 'tesi_camilla'\n",
    "\n",
    "model = esm.Model(\n",
    "    model_dir_name=model_dir_name,\n",
    "    main_dir_path=main_dir_path,\n",
    "    use_existing_data=True,\n",
    "    log_level='info',\n",
    ")"
   ]
  },
  {
   "cell_type": "code",
   "execution_count": 36,
   "metadata": {},
   "outputs": [
    {
     "name": "stderr",
     "output_type": "stream",
     "text": [
      "INFO | Model | Loading new sets data and variable coordinates to Index.\n",
      "INFO | Model | Generating new SQLite database 'database.db' and input excel file/s.\n"
     ]
    }
   ],
   "source": [
    "# Once sets.xlsx file has filled: \n",
    "# - loading model coordinates to Index\n",
    "# - generating blank sqlite database for sets and variables \n",
    "# (variables tables in sqlite database empty)\n",
    "model.load_model_coordinates()\n",
    "model.initialize_blank_data_structure()"
   ]
  },
  {
   "cell_type": "code",
   "execution_count": 37,
   "metadata": {},
   "outputs": [
    {
     "name": "stderr",
     "output_type": "stream",
     "text": [
      "INFO | Model | Loading input data to SQLite database.\n",
      "INFO | Model | Loading symbolic problem, initializing numerical problem.\n"
     ]
    }
   ],
   "source": [
    "# after filling input_data file/s: \n",
    "# - loading input data into sqlite database variables tables\n",
    "# - initialize problem\n",
    "model.load_exogenous_data_to_sqlite_database()\n",
    "model.initialize_problems()"
   ]
  },
  {
   "cell_type": "code",
   "execution_count": 38,
   "metadata": {},
   "outputs": [
    {
     "name": "stderr",
     "output_type": "stream",
     "text": [
      "INFO | Model | Solving numerical problem with 'GUROBI' solver\n",
      "INFO | Model.core.problem | Solving numerical problem - Sub-problem ['baseline'].\n",
      "INFO | Model | =================================\n",
      "INFO | Model | Numerical problems status report:\n",
      "INFO | Model | problem: optimal\n"
     ]
    }
   ],
   "source": [
    "#-->\n",
    "# solve numerical problems\n",
    "model.run_model(verbose=False, solver='GUROBI')"
   ]
  },
  {
   "cell_type": "code",
   "execution_count": 39,
   "metadata": {},
   "outputs": [
    {
     "name": "stderr",
     "output_type": "stream",
     "text": [
      "INFO | Model | Exporting endogenous model results to SQLite database.\n"
     ]
    }
   ],
   "source": [
    "model.load_results_to_database()\n",
    "#model.generate_pbi_report()"
   ]
  },
  {
   "cell_type": "markdown",
   "metadata": {},
   "source": [
    "- - - \n",
    "MODEL GENERATION FROM EXISTING DATA\n",
    "\n",
    "Generation of a new model working with existing database and data input files."
   ]
  },
  {
   "cell_type": "markdown",
   "metadata": {},
   "source": [
    "- - -\n",
    "DATA and MODEL UPDATE, MODEL RUN \n",
    "\n",
    "updating SQLite database with new data, \n",
    "re-initializing numerical problem\n",
    "\n",
    "solving numerical model, \n",
    "results export to sqlite database, \n",
    "generation of powerbi dataset"
   ]
  },
  {
   "cell_type": "code",
   "execution_count": 28,
   "metadata": {},
   "outputs": [
    {
     "name": "stderr",
     "output_type": "stream",
     "text": [
      "INFO | Model | Updating SQLite database 'database.db' and initialize problems.\n",
      "INFO | Model | Loading input data to SQLite database.\n",
      "WARNING | Model.core.sql_manager | SQLite table u already up to date.\n",
      "WARNING | Model.core.sql_manager | SQLite table cf already up to date.\n",
      "WARNING | Model.core.sql_manager | SQLite table Y already up to date.\n",
      "WARNING | Model.core.sql_manager | SQLite table cost_op already up to date.\n",
      "WARNING | Model.core.sql_manager | SQLite table cap_i already up to date.\n",
      "WARNING | Model.core.sql_manager | SQLite table cap_units already up to date.\n",
      "WARNING | Model.core.sql_manager | SQLite table days_per_type already up to date.\n",
      "WARNING | Model.core.sql_manager | SQLite table sf already up to date.\n",
      "WARNING | Model.core.sql_manager | SQLite table TI_param already up to date.\n",
      "WARNING | Model.core.sql_manager | SQLite table storage_min already up to date.\n",
      "WARNING | Model.core.sql_manager | SQLite table storage_max already up to date.\n",
      "WARNING | Model.core.sql_manager | SQLite table storage_start already up to date.\n",
      "WARNING | Model.core.sql_manager | SQLite table storage_max_disch already up to date.\n",
      "WARNING | Model.core.sql_manager | SQLite table storage_min_charge already up to date.\n",
      "WARNING | Model.core.sql_manager | SQLite table BEV_level_min already up to date.\n",
      "WARNING | Model.core.sql_manager | SQLite table BEV_level_max already up to date.\n",
      "WARNING | Model.core.sql_manager | SQLite table BEV_level_start already up to date.\n",
      "WARNING | Model.core.sql_manager | SQLite table loss_factors already up to date.\n",
      "WARNING | Model.core.sql_manager | SQLite table disc_frac already up to date.\n",
      "INFO | Model | Loading symbolic problem, initializing numerical problem.\n",
      "WARNING | Model.core.problem | Symbolic problem already loaded.\n",
      "WARNING | Model.core.problem | Numerical problem already defined.\n"
     ]
    }
   ],
   "source": [
    "# in case of modifications in input data files (but not in sets, nor in \n",
    "# variables structures), update database and problem only\n",
    "model.update_database_and_problem()"
   ]
  },
  {
   "cell_type": "code",
   "execution_count": 31,
   "metadata": {},
   "outputs": [
    {
     "name": "stderr",
     "output_type": "stream",
     "text": [
      "INFO | Model | Loading symbolic problem, initializing numerical problem.\n",
      "WARNING | Model.core.problem | Symbolic problem already loaded.\n",
      "WARNING | Model.core.problem | Numerical problem already defined.\n"
     ]
    }
   ],
   "source": [
    "# in case of modifications in symbolic problem only,\n",
    "# update problems dataframe and symbolic problem\n",
    "model.initialize_problems()"
   ]
  },
  {
   "cell_type": "code",
   "execution_count": 32,
   "metadata": {},
   "outputs": [
    {
     "name": "stderr",
     "output_type": "stream",
     "text": [
      "INFO | Model | Solving numerical problem with 'GUROBI' solver\n",
      "WARNING | Model.core | Numeric problems already solved.\n",
      "INFO | Model.core | Solving numeric problem and overwriting existing variables numerical values.\n",
      "INFO | Model.core.problem | Solving numerical problem - Sub-problem ['baseline'].\n",
      "INFO | Model | =================================\n",
      "INFO | Model | Numerical problems status report:\n",
      "INFO | Model | problem: optimal\n"
     ]
    }
   ],
   "source": [
    "# solve numerical problems\n",
    "model.run_model(verbose=False, solver='GUROBI')"
   ]
  },
  {
   "cell_type": "code",
   "execution_count": 33,
   "metadata": {},
   "outputs": [
    {
     "name": "stderr",
     "output_type": "stream",
     "text": [
      "INFO | Model | Exporting endogenous model results to SQLite database.\n",
      "WARNING | Model.core.sql_manager | SQLite table Q already up to date.\n",
      "WARNING | Model.core.sql_manager | SQLite table X already up to date.\n",
      "WARNING | Model.core.sql_manager | SQLite table curtail already up to date.\n",
      "WARNING | Model.core.sql_manager | SQLite table new_units already up to date.\n",
      "WARNING | Model.core.sql_manager | SQLite table cap_new already up to date.\n",
      "WARNING | Model.core.sql_manager | SQLite table active_techs already up to date.\n",
      "WARNING | Model.core.sql_manager | SQLite table cost_op_hours already up to date.\n",
      "WARNING | Model.core.sql_manager | SQLite table cost_op_tot already up to date.\n",
      "WARNING | Model.core.sql_manager | SQLite table cost_op_year already up to date.\n",
      "WARNING | Model.core.sql_manager | SQLite table cost_inv_tot already up to date.\n",
      "WARNING | Model.core.sql_manager | SQLite table X_t already up to date.\n",
      "WARNING | Model.core.sql_manager | SQLite table X_max already up to date.\n",
      "WARNING | Model.core.sql_manager | SQLite table cap_tot already up to date.\n",
      "WARNING | Model.core.sql_manager | SQLite table insulation already up to date.\n",
      "WARNING | Model.core.sql_manager | SQLite table TI already up to date.\n",
      "WARNING | Model.core.sql_manager | SQLite table act_capacity already up to date.\n",
      "WARNING | Model.core.sql_manager | SQLite table season_limit already up to date.\n",
      "WARNING | Model.core.sql_manager | SQLite table SOC_min already up to date.\n",
      "WARNING | Model.core.sql_manager | SQLite table SOC_max already up to date.\n",
      "WARNING | Model.core.sql_manager | SQLite table SOC_start already up to date.\n",
      "WARNING | Model.core.sql_manager | SQLite table SOC already up to date.\n",
      "WARNING | Model.core.sql_manager | SQLite table max_disch already up to date.\n",
      "WARNING | Model.core.sql_manager | SQLite table min_charge already up to date.\n",
      "WARNING | Model.core.sql_manager | SQLite table BEV_SOC_min already up to date.\n",
      "WARNING | Model.core.sql_manager | SQLite table BEV_SOC_max already up to date.\n",
      "WARNING | Model.core.sql_manager | SQLite table BEV_SOC_start already up to date.\n",
      "WARNING | Model.core.sql_manager | SQLite table BEV_SOC already up to date.\n"
     ]
    }
   ],
   "source": [
    "# once model has successfully solved, load endogenous parameters data to \n",
    "# sqlite database and generate powerbi dataset.\n",
    "model.load_results_to_database()\n",
    "#model.generate_pbi_report()"
   ]
  }
 ],
 "metadata": {
  "kernelspec": {
   "display_name": "esm_dev",
   "language": "python",
   "name": "python3"
  },
  "language_info": {
   "codemirror_mode": {
    "name": "ipython",
    "version": 3
   },
   "file_extension": ".py",
   "mimetype": "text/x-python",
   "name": "python",
   "nbconvert_exporter": "python",
   "pygments_lexer": "ipython3",
   "version": "3.12.4"
  },
  "orig_nbformat": 4
 },
 "nbformat": 4,
 "nbformat_minor": 2
}
