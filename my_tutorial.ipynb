{
 "cells": [
  {
   "cell_type": "markdown",
   "metadata": {},
   "source": [
    "## Python based Input-Output Modelling System (pyESM)\n",
    "Python package for generation and analysis of generic systems models "
   ]
  },
  {
   "cell_type": "markdown",
   "metadata": {},
   "source": [
    "GENERATION OF A NEW MODEL by creating a new set.xlsx"
   ]
  },
  {
   "cell_type": "code",
   "execution_count": null,
   "metadata": {},
   "outputs": [],
   "source": [
    "# Generate model instance based on setup files filled by the user.\n",
    "# Validates model directory before executing.\n",
    "# Generates sets excel file\n",
    "# If existing data are used, model coordinates are loaded and numerical problem\n",
    "# initialized (model ready to be run). Otherwise, sets excel file generated only.\n",
    "import esm\n",
    "\n",
    "model_dir_name = 'fix_matrix'\n",
    "main_dir_path = 'tesi_camilla'\n",
    "\n",
    "model = esm.Model(\n",
    "    model_dir_name=model_dir_name,\n",
    "    main_dir_path=main_dir_path,\n",
    "    use_existing_data=False,\n",
    "    log_level='info',\n",
    ")"
   ]
  },
  {
   "cell_type": "markdown",
   "metadata": {},
   "source": [
    "Existing data == True"
   ]
  },
  {
   "cell_type": "code",
   "execution_count": null,
   "metadata": {},
   "outputs": [],
   "source": [
    "# Generate model instance based on existing data\n",
    "# If existing data are used, model coordinates are loaded and numerical problem\n",
    "# initialized (model ready to be run)\n",
    "import esm\n",
    "\n",
    "model_dir_name = 'case1_scenarios'\n",
    "main_dir_path = 'tesi_camilla'\n",
    "\n",
    "model = esm.Model(\n",
    "    model_dir_name=model_dir_name,\n",
    "    main_dir_path=main_dir_path,\n",
    "    use_existing_data=True,\n",
    "    log_level='debug',\n",
    ")"
   ]
  },
  {
   "cell_type": "code",
   "execution_count": null,
   "metadata": {},
   "outputs": [],
   "source": [
    "# Once sets.xlsx file has filled: \n",
    "# - loading model coordinates to Index\n",
    "# - generating blank sqlite database for sets and variables \n",
    "# (variables tables in sqlite database empty)\n",
    "model.load_model_coordinates()\n",
    "model.initialize_blank_data_structure()"
   ]
  },
  {
   "cell_type": "code",
   "execution_count": null,
   "metadata": {},
   "outputs": [],
   "source": [
    "# after filling input_data file/s: \n",
    "# - loading input data into sqlite database variables tables\n",
    "# - initialize problem\n",
    "model.load_exogenous_data_to_sqlite_database()\n",
    "model.initialize_problems()"
   ]
  },
  {
   "cell_type": "code",
   "execution_count": null,
   "metadata": {},
   "outputs": [],
   "source": [
    "#-->\n",
    "# solve numerical problems\n",
    "model.run_model(verbose=False, solver='GUROBI')"
   ]
  },
  {
   "cell_type": "code",
   "execution_count": null,
   "metadata": {},
   "outputs": [],
   "source": [
    "model.load_results_to_database()\n",
    "#model.generate_pbi_report()"
   ]
  },
  {
   "cell_type": "markdown",
   "metadata": {},
   "source": [
    "- - - \n",
    "MODEL GENERATION FROM EXISTING DATA\n",
    "\n",
    "Generation of a new model working with existing database and data input files."
   ]
  },
  {
   "cell_type": "markdown",
   "metadata": {},
   "source": [
    "- - -\n",
    "DATA and MODEL UPDATE, MODEL RUN \n",
    "\n",
    "updating SQLite database with new data, \n",
    "re-initializing numerical problem\n",
    "\n",
    "solving numerical model, \n",
    "results export to sqlite database, \n",
    "generation of powerbi dataset"
   ]
  },
  {
   "cell_type": "code",
   "execution_count": null,
   "metadata": {},
   "outputs": [],
   "source": [
    "# in case of modifications in input data files (but not in sets, nor in \n",
    "# variables structures), update database and problem only\n",
    "model.update_database_and_problem()"
   ]
  },
  {
   "cell_type": "code",
   "execution_count": 13,
   "metadata": {},
   "outputs": [
    {
     "name": "stderr",
     "output_type": "stream",
     "text": [
      "INFO | Model | Loading symbolic problem, initializing numerical problem.\n",
      "DEBUG | Model.core | Generating data structures for endogenous data tables (cvxpy objects, filters dict for data tables).\n",
      "DEBUG | Model.core | Generating variable dataframe and cvxpy variable for endogenous data table 'Q'.\n",
      "DEBUG | Model.core | Generating variable dataframe and cvxpy variable for endogenous data table 'X'.\n",
      "DEBUG | Model.core | Generating variable dataframe and cvxpy variable for endogenous data table 'curtail'.\n",
      "DEBUG | Model.core | Generating variable dataframe and cvxpy variable for endogenous integer data table 'new_units'.\n",
      "DEBUG | Model.core | Generating variable dataframe and cvxpy variable for endogenous integer data table 'cap_new'.\n",
      "DEBUG | Model.core | Generating variable dataframe and cvxpy variable for endogenous integer data table 'active_techs'.\n",
      "DEBUG | Model.core | Generating variable dataframe and cvxpy variable for endogenous data table 'cost_op_hours'.\n",
      "DEBUG | Model.core | Generating variable dataframe and cvxpy variable for endogenous data table 'cost_op_tot'.\n",
      "DEBUG | Model.core | Generating variable dataframe and cvxpy variable for endogenous data table 'cost_op_year'.\n",
      "DEBUG | Model.core | Generating variable dataframe and cvxpy variable for endogenous data table 'cost_inv_tot'.\n",
      "DEBUG | Model.core | Generating variable dataframe and cvxpy variable for endogenous data table 'X_t'.\n",
      "DEBUG | Model.core | Generating variable dataframe and cvxpy variable for endogenous data table 'X_max'.\n",
      "DEBUG | Model.core | Generating variable dataframe and cvxpy variable for endogenous data table 'cap_tot'.\n",
      "DEBUG | Model.core | Generating variable dataframe and cvxpy variable for endogenous data table 'insulation'.\n",
      "DEBUG | Model.core | Generating variable dataframe and cvxpy variable for endogenous data table 'TI'.\n",
      "DEBUG | Model.core | Generating variable dataframe and cvxpy variable for endogenous data table 'act_capacity'.\n",
      "DEBUG | Model.core | Generating variable dataframe and cvxpy variable for endogenous data table 'season_limit'.\n",
      "DEBUG | Model.core | Generating variable dataframe and cvxpy variable for endogenous data table 'SOC_min'.\n",
      "DEBUG | Model.core | Generating variable dataframe and cvxpy variable for endogenous data table 'SOC_max'.\n",
      "DEBUG | Model.core | Generating variable dataframe and cvxpy variable for endogenous data table 'SOC_start'.\n",
      "DEBUG | Model.core | Generating variable dataframe and cvxpy variable for endogenous data table 'SOC'.\n",
      "DEBUG | Model.core | Generating variable dataframe and cvxpy variable for endogenous data table 'max_disch'.\n",
      "DEBUG | Model.core | Generating variable dataframe and cvxpy variable for endogenous data table 'min_charge'.\n",
      "DEBUG | Model.core | Generating variable dataframe and cvxpy variable for endogenous data table 'BEV_SOC_min'.\n",
      "DEBUG | Model.core | Generating variable dataframe and cvxpy variable for endogenous data table 'BEV_SOC_max'.\n",
      "DEBUG | Model.core | Generating variable dataframe and cvxpy variable for endogenous data table 'BEV_SOC_start'.\n",
      "DEBUG | Model.core | Generating variable dataframe and cvxpy variable for endogenous data table 'BEV_SOC'.\n",
      "DEBUG | Model.core | Generating data structures for all variables and constants.\n",
      "DEBUG | Model.core.problem | Generating dataframe for exogenous variable 'u' (cvxpy object, filter dictionary, sub problem key).\n",
      "DEBUG | Model.core.problem | Generating dataframe for exogenous variable 'd' (cvxpy object, filter dictionary, sub problem key).\n",
      "DEBUG | Model.core.problem | Generating dataframe for exogenous variable 'cf' (cvxpy object, filter dictionary, sub problem key).\n",
      "DEBUG | Model.core.problem | Generating dataframe for exogenous variable 'Y' (cvxpy object, filter dictionary, sub problem key).\n",
      "DEBUG | Model.core.problem | Generating dataframe for exogenous variable 'cost_op' (cvxpy object, filter dictionary, sub problem key).\n",
      "DEBUG | Model.core.problem | Generating dataframe for exogenous variable 'cost_period' (cvxpy object, filter dictionary, sub problem key).\n",
      "DEBUG | Model.core.problem | Generating dataframe for exogenous variable 'cost_cap' (cvxpy object, filter dictionary, sub problem key).\n",
      "DEBUG | Model.core.problem | Generating dataframe for exogenous variable 'cost_inv' (cvxpy object, filter dictionary, sub problem key).\n",
      "DEBUG | Model.core.problem | Generating dataframe for exogenous variable 'max_opex' (cvxpy object, filter dictionary, sub problem key).\n",
      "DEBUG | Model.core.problem | Generating dataframe for exogenous variable 'max_capex' (cvxpy object, filter dictionary, sub problem key).\n",
      "DEBUG | Model.core.problem | Generating dataframe for exogenous variable 'cap_i' (cvxpy object, filter dictionary, sub problem key).\n",
      "DEBUG | Model.core.problem | Generating dataframe for exogenous variable 'cap_units' (cvxpy object, filter dictionary, sub problem key).\n",
      "DEBUG | Model.core.problem | Generating dataframe for exogenous variable 'Act_constr' (cvxpy object, filter dictionary, sub problem key).\n",
      "DEBUG | Model.core.problem | Generating dataframe for exogenous variable 'days_per_type' (cvxpy object, filter dictionary, sub problem key).\n",
      "DEBUG | Model.core.problem | Generating dataframe for exogenous variable 'sf' (cvxpy object, filter dictionary, sub problem key).\n",
      "DEBUG | Model.core.problem | Generating dataframe for exogenous variable 'TI_param' (cvxpy object, filter dictionary, sub problem key).\n",
      "DEBUG | Model.core.problem | Generating dataframe for exogenous variable 'TI_cost' (cvxpy object, filter dictionary, sub problem key).\n",
      "DEBUG | Model.core.problem | Generating dataframe for exogenous variable 'storage_min' (cvxpy object, filter dictionary, sub problem key).\n",
      "DEBUG | Model.core.problem | Generating dataframe for exogenous variable 'storage_max' (cvxpy object, filter dictionary, sub problem key).\n",
      "DEBUG | Model.core.problem | Generating dataframe for exogenous variable 'storage_start' (cvxpy object, filter dictionary, sub problem key).\n",
      "DEBUG | Model.core.problem | Generating dataframe for exogenous variable 'storage_max_disch' (cvxpy object, filter dictionary, sub problem key).\n",
      "DEBUG | Model.core.problem | Generating dataframe for exogenous variable 'storage_min_charge' (cvxpy object, filter dictionary, sub problem key).\n",
      "DEBUG | Model.core.problem | Generating dataframe for exogenous variable 'BEV_level_min' (cvxpy object, filter dictionary, sub problem key).\n",
      "DEBUG | Model.core.problem | Generating dataframe for exogenous variable 'BEV_level_max' (cvxpy object, filter dictionary, sub problem key).\n",
      "DEBUG | Model.core.problem | Generating dataframe for exogenous variable 'BEV_level_start' (cvxpy object, filter dictionary, sub problem key).\n",
      "DEBUG | Model.core.problem | Generating dataframe for exogenous variable 'BEV_vector' (cvxpy object, filter dictionary, sub problem key).\n",
      "DEBUG | Model.core.problem | Generating dataframe for exogenous variable 'loss_factors' (cvxpy object, filter dictionary, sub problem key).\n",
      "DEBUG | Model.core.problem | Generating dataframe for exogenous variable 'loss_factors_t' (cvxpy object, filter dictionary, sub problem key).\n",
      "DEBUG | Model.core.problem | Generating dataframe for exogenous variable 'loss_factors_BEV' (cvxpy object, filter dictionary, sub problem key).\n",
      "DEBUG | Model.core.problem | Generating dataframe for exogenous variable 'n_hours' (cvxpy object, filter dictionary, sub problem key).\n",
      "DEBUG | Model.core.problem | Generating dataframe for exogenous variable 'n_years' (cvxpy object, filter dictionary, sub problem key).\n",
      "DEBUG | Model.core.problem | Generating dataframe for exogenous variable 'disc_frac' (cvxpy object, filter dictionary, sub problem key).\n",
      "DEBUG | Model.core.problem | Generating dataframe for endogenous variable 'Q' (cvxpy object, filter dictionary, sub problem key).\n",
      "DEBUG | Model.core.problem | Generating dataframe for endogenous variable 'X' (cvxpy object, filter dictionary, sub problem key).\n",
      "DEBUG | Model.core.problem | Generating dataframe for endogenous variable 'X_storage' (cvxpy object, filter dictionary, sub problem key).\n",
      "DEBUG | Model.core.problem | Generating dataframe for endogenous variable 'X_no_stor' (cvxpy object, filter dictionary, sub problem key).\n",
      "DEBUG | Model.core.problem | Generating dataframe for endogenous variable 'X_season' (cvxpy object, filter dictionary, sub problem key).\n",
      "DEBUG | Model.core.problem | Generating dataframe for endogenous variable 'X_no_peak' (cvxpy object, filter dictionary, sub problem key).\n",
      "DEBUG | Model.core.problem | Generating dataframe for endogenous variable 'X_stor_peak' (cvxpy object, filter dictionary, sub problem key).\n",
      "DEBUG | Model.core.problem | Generating dataframe for endogenous variable 'curtail' (cvxpy object, filter dictionary, sub problem key).\n",
      "DEBUG | Model.core.problem | Generating dataframe for endogenous variable 'curtail_peak' (cvxpy object, filter dictionary, sub problem key).\n",
      "DEBUG | Model.core.problem | Generating dataframe for endogenous_integer variable 'new_units' (cvxpy object, filter dictionary, sub problem key).\n",
      "DEBUG | Model.core.problem | Generating dataframe for endogenous_integer variable 'cap_new' (cvxpy object, filter dictionary, sub problem key).\n",
      "DEBUG | Model.core.problem | Generating dataframe for endogenous_integer variable 'cap_new_BEV' (cvxpy object, filter dictionary, sub problem key).\n",
      "DEBUG | Model.core.problem | Generating dataframe for endogenous_integer variable 'active_techs' (cvxpy object, filter dictionary, sub problem key).\n",
      "DEBUG | Model.core.problem | Generating dataframe for endogenous variable 'cost_op_hours' (cvxpy object, filter dictionary, sub problem key).\n",
      "DEBUG | Model.core.problem | Generating dataframe for endogenous variable 'cost_op_tot' (cvxpy object, filter dictionary, sub problem key).\n",
      "DEBUG | Model.core.problem | Generating dataframe for endogenous variable 'cost_op_year' (cvxpy object, filter dictionary, sub problem key).\n",
      "DEBUG | Model.core.problem | Generating dataframe for endogenous variable 'cost_inv_tot' (cvxpy object, filter dictionary, sub problem key).\n",
      "DEBUG | Model.core.problem | Generating dataframe for endogenous variable 'X_t' (cvxpy object, filter dictionary, sub problem key).\n",
      "DEBUG | Model.core.problem | Generating dataframe for endogenous variable 'X_t_no_stor' (cvxpy object, filter dictionary, sub problem key).\n",
      "DEBUG | Model.core.problem | Generating dataframe for endogenous variable 'X_t_stor' (cvxpy object, filter dictionary, sub problem key).\n",
      "DEBUG | Model.core.problem | Generating dataframe for endogenous variable 'X_t_stor_t' (cvxpy object, filter dictionary, sub problem key).\n",
      "DEBUG | Model.core.problem | Generating dataframe for endogenous variable 'X_t_stor_all' (cvxpy object, filter dictionary, sub problem key).\n",
      "DEBUG | Model.core.problem | Generating dataframe for endogenous variable 'X_max' (cvxpy object, filter dictionary, sub problem key).\n",
      "DEBUG | Model.core.problem | Generating dataframe for endogenous variable 'cap_tot' (cvxpy object, filter dictionary, sub problem key).\n",
      "DEBUG | Model.core.problem | Generating dataframe for endogenous variable 'cap_tot_no_stor' (cvxpy object, filter dictionary, sub problem key).\n",
      "DEBUG | Model.core.problem | Generating dataframe for endogenous variable 'cap_tot_stor' (cvxpy object, filter dictionary, sub problem key).\n",
      "DEBUG | Model.core.problem | Generating dataframe for endogenous variable 'cap_tot_BEV' (cvxpy object, filter dictionary, sub problem key).\n",
      "DEBUG | Model.core.problem | Generating dataframe for endogenous variable 'insulation' (cvxpy object, filter dictionary, sub problem key).\n",
      "DEBUG | Model.core.problem | Generating dataframe for endogenous variable 'TI' (cvxpy object, filter dictionary, sub problem key).\n",
      "DEBUG | Model.core.problem | Generating dataframe for endogenous variable 'act_capacity' (cvxpy object, filter dictionary, sub problem key).\n",
      "DEBUG | Model.core.problem | Generating dataframe for endogenous variable 'season_capacity' (cvxpy object, filter dictionary, sub problem key).\n",
      "DEBUG | Model.core.problem | Generating dataframe for endogenous variable 'season_limit' (cvxpy object, filter dictionary, sub problem key).\n",
      "DEBUG | Model.core.problem | Generating dataframe for endogenous variable 'SOC_min' (cvxpy object, filter dictionary, sub problem key).\n",
      "DEBUG | Model.core.problem | Generating dataframe for endogenous variable 'SOC_max' (cvxpy object, filter dictionary, sub problem key).\n",
      "DEBUG | Model.core.problem | Generating dataframe for endogenous variable 'SOC_start' (cvxpy object, filter dictionary, sub problem key).\n",
      "DEBUG | Model.core.problem | Generating dataframe for endogenous variable 'SOC_start_t' (cvxpy object, filter dictionary, sub problem key).\n",
      "DEBUG | Model.core.problem | Generating dataframe for endogenous variable 'SOC' (cvxpy object, filter dictionary, sub problem key).\n",
      "DEBUG | Model.core.problem | Generating dataframe for endogenous variable 'SOC_t' (cvxpy object, filter dictionary, sub problem key).\n",
      "DEBUG | Model.core.problem | Generating dataframe for endogenous variable 'max_disch' (cvxpy object, filter dictionary, sub problem key).\n",
      "DEBUG | Model.core.problem | Generating dataframe for endogenous variable 'min_charge' (cvxpy object, filter dictionary, sub problem key).\n",
      "DEBUG | Model.core.problem | Generating dataframe for endogenous variable 'BEV_SOC_min' (cvxpy object, filter dictionary, sub problem key).\n",
      "DEBUG | Model.core.problem | Generating dataframe for endogenous variable 'BEV_SOC_max' (cvxpy object, filter dictionary, sub problem key).\n",
      "DEBUG | Model.core.problem | Generating dataframe for endogenous variable 'BEV_SOC_start' (cvxpy object, filter dictionary, sub problem key).\n",
      "DEBUG | Model.core.problem | Generating dataframe for endogenous variable 'BEV_SOC' (cvxpy object, filter dictionary, sub problem key).\n",
      "DEBUG | Model.core.problem | Generating constant 'I_ta' as 'identity_rcot'.\n",
      "DEBUG | Model.core.problem | Generating constant 'N_ones' as 'sum_vector'.\n",
      "DEBUG | Model.core.problem | Generating constant 'H_ones' as 'sum_vector'.\n",
      "DEBUG | Model.core.problem | Generating constant 'H_ones_row' as 'sum_vector'.\n",
      "DEBUG | Model.core.problem | Generating constant 'A_ones' as 'sum_vector'.\n",
      "DEBUG | Model.core.problem | Generating constant 'I_dh' as 'identity_rcot'.\n",
      "DEBUG | Model.core | Fetching data from 'database.db' to cvxpy exogenous variables.\n",
      "DEBUG | Model.core.sql_manager | Connection to 'database.db' opened.\n",
      "DEBUG | Model.core | Fetching data from table 'u' to cvxpy exogenous variable.\n",
      "DEBUG | Model.core | Fetching data from table 'd' to cvxpy exogenous variable.\n",
      "DEBUG | Model.core | Fetching data from table 'cf' to cvxpy exogenous variable.\n",
      "DEBUG | Model.core | Fetching data from table 'Y' to cvxpy exogenous variable.\n",
      "DEBUG | Model.core | Fetching data from table 'cost_op' to cvxpy exogenous variable.\n",
      "DEBUG | Model.core | Fetching data from table 'cost_period' to cvxpy exogenous variable.\n",
      "DEBUG | Model.core | Fetching data from table 'cost_cap' to cvxpy exogenous variable.\n",
      "DEBUG | Model.core | Fetching data from table 'cost_inv' to cvxpy exogenous variable.\n",
      "DEBUG | Model.core | Fetching data from table 'max_opex' to cvxpy exogenous variable.\n",
      "DEBUG | Model.core | Fetching data from table 'max_capex' to cvxpy exogenous variable.\n",
      "DEBUG | Model.core | Fetching data from table 'cap_i' to cvxpy exogenous variable.\n",
      "DEBUG | Model.core | Fetching data from table 'cap_units' to cvxpy exogenous variable.\n",
      "DEBUG | Model.core | Fetching data from table 'Act_constr' to cvxpy exogenous variable.\n",
      "DEBUG | Model.core | Fetching data from table 'days_per_type' to cvxpy exogenous variable.\n",
      "DEBUG | Model.core | Fetching data from table 'sf' to cvxpy exogenous variable.\n",
      "DEBUG | Model.core | Fetching data from table 'TI_param' to cvxpy exogenous variable.\n",
      "DEBUG | Model.core | Fetching data from table 'TI_cost' to cvxpy exogenous variable.\n",
      "DEBUG | Model.core | Fetching data from table 'storage_min' to cvxpy exogenous variable.\n",
      "DEBUG | Model.core | Fetching data from table 'storage_max' to cvxpy exogenous variable.\n",
      "DEBUG | Model.core | Fetching data from table 'storage_start' to cvxpy exogenous variable.\n",
      "DEBUG | Model.core | Fetching data from table 'storage_max_disch' to cvxpy exogenous variable.\n",
      "DEBUG | Model.core | Fetching data from table 'storage_min_charge' to cvxpy exogenous variable.\n",
      "DEBUG | Model.core | Fetching data from table 'BEV_level_min' to cvxpy exogenous variable.\n",
      "DEBUG | Model.core | Fetching data from table 'BEV_level_max' to cvxpy exogenous variable.\n",
      "DEBUG | Model.core | Fetching data from table 'BEV_level_start' to cvxpy exogenous variable.\n",
      "DEBUG | Model.core | Fetching data from table 'BEV_vector' to cvxpy exogenous variable.\n",
      "DEBUG | Model.core | Fetching data from table 'loss_factors' to cvxpy exogenous variable.\n",
      "DEBUG | Model.core | Fetching data from table 'loss_factors_t' to cvxpy exogenous variable.\n",
      "DEBUG | Model.core | Fetching data from table 'loss_factors_BEV' to cvxpy exogenous variable.\n",
      "DEBUG | Model.core | Fetching data from table 'n_hours' to cvxpy exogenous variable.\n",
      "DEBUG | Model.core | Fetching data from table 'n_years' to cvxpy exogenous variable.\n",
      "DEBUG | Model.core | Fetching data from table 'disc_frac' to cvxpy exogenous variable.\n",
      "DEBUG | Model.core.sql_manager | Connection to 'database.db' closed.\n",
      "DEBUG | Model.core | Load symbolic problem, initialize dataframes with cvxpy problem.\n",
      "WARNING | Model.core.problem | Symbolic problem already loaded.\n",
      "DEBUG | Model.core.problem | Loading symbolic problem from 'problem.yml' file.\n",
      "DEBUG | Model.file_manager | File 'problem.yml' loaded.\n",
      "DEBUG | Model.core.problem | Symbolic problem successfully loaded.\n",
      "WARNING | Model.core.problem | Numerical problem already defined.\n",
      "DEBUG | Model.core.problem | Defining numeric problem for combination of sets: ['random1'].\n",
      "DEBUG | Model.core.problem | Defining numeric problem for combination of sets: ['random2'].\n"
     ]
    }
   ],
   "source": [
    "# in case of modifications in symbolic problem only,\n",
    "# update problems dataframe and symbolic problem\n",
    "model.initialize_problems()"
   ]
  },
  {
   "cell_type": "code",
   "execution_count": 14,
   "metadata": {},
   "outputs": [
    {
     "name": "stderr",
     "output_type": "stream",
     "text": [
      "INFO | Model | Solving numerical problem with 'GUROBI' solver\n",
      "WARNING | Model.core | Numeric problems already solved.\n",
      "INFO | Model.core | Solving numeric problem and overwriting existing variables numerical values.\n",
      "INFO | Model.core.problem | Solving numerical problem - Sub-problem ['random1'].\n",
      "DEBUG | Model.core.problem | Problem status: 'optimal'\n",
      "INFO | Model.core.problem | Solving numerical problem - Sub-problem ['random2'].\n",
      "DEBUG | Model.core.problem | Problem status: 'optimal'\n",
      "INFO | Model | =================================\n",
      "INFO | Model | Numerical problems status report:\n",
      "INFO | Model | sub-problem ['random1']: optimal\n",
      "INFO | Model | sub-problem ['random2']: optimal\n"
     ]
    }
   ],
   "source": [
    "# solve numerical problems\n",
    "model.run_model(verbose=False, solver='GUROBI')"
   ]
  },
  {
   "cell_type": "code",
   "execution_count": 15,
   "metadata": {},
   "outputs": [
    {
     "name": "stderr",
     "output_type": "stream",
     "text": [
      "INFO | Model | Exporting endogenous model results to SQLite database.\n",
      "DEBUG | Model.core | Exporting data from cvxpy endogenous variable (in data table) to SQLite database 'database.db' \n",
      "DEBUG | Model.core.sql_manager | Connection to 'database.db' opened.\n",
      "DEBUG | Model.core | Exporting data from cvxpy variable to the related data table 'Q'. \n",
      "DEBUG | Model.core.sql_manager | SQLite table 'Q' - 21520 entries updated.\n",
      "DEBUG | Model.core | Exporting data from cvxpy variable to the related data table 'X'. \n",
      "DEBUG | Model.core.sql_manager | SQLite table 'X' - 45730 entries updated.\n",
      "DEBUG | Model.core | Exporting data from cvxpy variable to the related data table 'curtail'. \n",
      "WARNING | Model.core.sql_manager | SQLite table curtail already up to date.\n",
      "DEBUG | Model.core | Exporting data from cvxpy variable to the related data table 'new_units'. \n",
      "WARNING | Model.core.sql_manager | SQLite table new_units already up to date.\n",
      "DEBUG | Model.core | Exporting data from cvxpy variable to the related data table 'cap_new'. \n",
      "WARNING | Model.core.sql_manager | SQLite table cap_new already up to date.\n",
      "DEBUG | Model.core | Exporting data from cvxpy variable to the related data table 'active_techs'. \n",
      "WARNING | Model.core.sql_manager | SQLite table active_techs already up to date.\n",
      "DEBUG | Model.core | Exporting data from cvxpy variable to the related data table 'cost_op_hours'. \n",
      "DEBUG | Model.core.sql_manager | SQLite table 'cost_op_hours' - 45730 entries updated.\n",
      "DEBUG | Model.core | Exporting data from cvxpy variable to the related data table 'cost_op_tot'. \n",
      "DEBUG | Model.core.sql_manager | SQLite table 'cost_op_tot' - 34 entries updated.\n",
      "DEBUG | Model.core | Exporting data from cvxpy variable to the related data table 'cost_op_year'. \n",
      "DEBUG | Model.core.sql_manager | SQLite table 'cost_op_year' - 2 entries updated.\n",
      "DEBUG | Model.core | Exporting data from cvxpy variable to the related data table 'cost_inv_tot'. \n",
      "WARNING | Model.core.sql_manager | SQLite table cost_inv_tot already up to date.\n",
      "DEBUG | Model.core | Exporting data from cvxpy variable to the related data table 'X_t'. \n",
      "DEBUG | Model.core.sql_manager | SQLite table 'X_t' - 37660 entries updated.\n",
      "DEBUG | Model.core | Exporting data from cvxpy variable to the related data table 'X_max'. \n",
      "WARNING | Model.core.sql_manager | SQLite table X_max already up to date.\n",
      "DEBUG | Model.core | Exporting data from cvxpy variable to the related data table 'cap_tot'. \n",
      "WARNING | Model.core.sql_manager | SQLite table cap_tot already up to date.\n",
      "DEBUG | Model.core | Exporting data from cvxpy variable to the related data table 'insulation'. \n",
      "WARNING | Model.core.sql_manager | SQLite table insulation already up to date.\n",
      "DEBUG | Model.core | Exporting data from cvxpy variable to the related data table 'TI'. \n",
      "WARNING | Model.core.sql_manager | SQLite table TI already up to date.\n",
      "DEBUG | Model.core | Exporting data from cvxpy variable to the related data table 'act_capacity'. \n",
      "WARNING | Model.core.sql_manager | SQLite table act_capacity already up to date.\n",
      "DEBUG | Model.core | Exporting data from cvxpy variable to the related data table 'season_limit'. \n",
      "WARNING | Model.core.sql_manager | SQLite table season_limit already up to date.\n",
      "DEBUG | Model.core | Exporting data from cvxpy variable to the related data table 'SOC_min'. \n",
      "WARNING | Model.core.sql_manager | SQLite table SOC_min already up to date.\n",
      "DEBUG | Model.core | Exporting data from cvxpy variable to the related data table 'SOC_max'. \n",
      "WARNING | Model.core.sql_manager | SQLite table SOC_max already up to date.\n",
      "DEBUG | Model.core | Exporting data from cvxpy variable to the related data table 'SOC_start'. \n",
      "WARNING | Model.core.sql_manager | SQLite table SOC_start already up to date.\n",
      "DEBUG | Model.core | Exporting data from cvxpy variable to the related data table 'SOC'. \n",
      "DEBUG | Model.core.sql_manager | SQLite table 'SOC' - 37660 entries updated.\n",
      "DEBUG | Model.core | Exporting data from cvxpy variable to the related data table 'max_disch'. \n",
      "WARNING | Model.core.sql_manager | SQLite table max_disch already up to date.\n",
      "DEBUG | Model.core | Exporting data from cvxpy variable to the related data table 'min_charge'. \n",
      "WARNING | Model.core.sql_manager | SQLite table min_charge already up to date.\n",
      "DEBUG | Model.core | Exporting data from cvxpy variable to the related data table 'BEV_SOC_min'. \n",
      "WARNING | Model.core.sql_manager | SQLite table BEV_SOC_min already up to date.\n",
      "DEBUG | Model.core | Exporting data from cvxpy variable to the related data table 'BEV_SOC_max'. \n",
      "WARNING | Model.core.sql_manager | SQLite table BEV_SOC_max already up to date.\n",
      "DEBUG | Model.core | Exporting data from cvxpy variable to the related data table 'BEV_SOC_start'. \n",
      "WARNING | Model.core.sql_manager | SQLite table BEV_SOC_start already up to date.\n",
      "DEBUG | Model.core | Exporting data from cvxpy variable to the related data table 'BEV_SOC'. \n",
      "DEBUG | Model.core.sql_manager | SQLite table 'BEV_SOC' - 37660 entries updated.\n",
      "DEBUG | Model.core.sql_manager | Connection to 'database.db' closed.\n"
     ]
    }
   ],
   "source": [
    "# once model has successfully solved, load endogenous parameters data to \n",
    "# sqlite database and generate powerbi dataset.\n",
    "model.load_results_to_database()\n",
    "#model.generate_pbi_report()"
   ]
  }
 ],
 "metadata": {
  "kernelspec": {
   "display_name": "esm_dev",
   "language": "python",
   "name": "python3"
  },
  "language_info": {
   "codemirror_mode": {
    "name": "ipython",
    "version": 3
   },
   "file_extension": ".py",
   "mimetype": "text/x-python",
   "name": "python",
   "nbconvert_exporter": "python",
   "pygments_lexer": "ipython3",
   "version": "3.12.4"
  },
  "orig_nbformat": 4
 },
 "nbformat": 4,
 "nbformat_minor": 2
}
