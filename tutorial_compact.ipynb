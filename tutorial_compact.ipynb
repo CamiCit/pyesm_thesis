{
 "cells": [
  {
   "cell_type": "markdown",
   "metadata": {},
   "source": [
    "## Python based Input-Output Modelling System (pyESM)\n",
    "Change in input data only "
   ]
  },
  {
   "cell_type": "code",
   "execution_count": null,
   "metadata": {},
   "outputs": [],
   "source": [
    "# Generate model instance based on existing data\n",
    "# If existing data are used, model coordinates are loaded and numerical problem\n",
    "# initialized (model ready to be run)\n",
    "import esm\n",
    "main_dir_path = 'tesi_camilla/casi_MarioU'\n",
    "\n",
    "for city in ['Siracusa','Roma','Milano']:\n",
    "    model_dir_name = city\n",
    "\n",
    "    model = esm.Model(\n",
    "        model_dir_name=model_dir_name,\n",
    "        main_dir_path=main_dir_path,\n",
    "        use_existing_data=True,\n",
    "        log_level='info',\n",
    "    )\n",
    "\n",
    "    #Data update\n",
    "    model.update_database_and_problem(force_overwrite=True)\n",
    "\n",
    "    #Solve numerical problems\n",
    "    model.run_model(verbose=False, solver='GUROBI')\n",
    "\n",
    "    # once model has successfully solved, load endogenous parameters data to \n",
    "    # sqlite database and generate powerbi dataset.\n",
    "    model.load_results_to_database()\n"
   ]
  },
  {
   "cell_type": "code",
   "execution_count": 3,
   "metadata": {},
   "outputs": [
    {
     "name": "stderr",
     "output_type": "stream",
     "text": [
      "INFO | Model | Generating 'transport' pyESM model instance.\n",
      "INFO | Model | Model directory and required setup files validated.\n",
      "INFO | Model.core.database | Sets excel file 'sets.xlsx' already exists.\n",
      "INFO | Model.core.database | Relying on existing sets excel file 'sets.xlsx'.\n"
     ]
    }
   ],
   "source": [
    "import esm\n",
    "\n",
    "model_dir_name = 'transport'\n",
    "main_dir_path = 'tesi_camilla/casi_MarioU'\n",
    "\n",
    "model = esm.Model(\n",
    "    model_dir_name=model_dir_name,\n",
    "    main_dir_path=main_dir_path,\n",
    "    use_existing_data=False,\n",
    "    log_level='info',\n",
    ")"
   ]
  },
  {
   "cell_type": "code",
   "execution_count": 4,
   "metadata": {},
   "outputs": [
    {
     "name": "stderr",
     "output_type": "stream",
     "text": [
      "INFO | Model | Loading new sets data and variable coordinates to Index.\n",
      "INFO | Model | Database 'database.db' already exists.\n",
      "INFO | Model | Erasing SQLite database 'database.db'. Generating new database and excel input file/s.\n"
     ]
    }
   ],
   "source": [
    "# Once sets.xlsx file has filled: \n",
    "# - loading model coordinates to Index\n",
    "# - generating blank sqlite database for sets and variables \n",
    "# (variables tables in sqlite database empty)\n",
    "model.load_model_coordinates()\n",
    "model.initialize_blank_data_structure()"
   ]
  },
  {
   "cell_type": "code",
   "execution_count": null,
   "metadata": {},
   "outputs": [],
   "source": [
    "# after filling input_data file/s: \n",
    "# - loading input data into sqlite database variables tables\n",
    "# - initialize problem\n",
    "model.load_exogenous_data_to_sqlite_database()\n",
    "model.initialize_problems()"
   ]
  }
 ],
 "metadata": {
  "kernelspec": {
   "display_name": "esm_dev",
   "language": "python",
   "name": "python3"
  },
  "language_info": {
   "codemirror_mode": {
    "name": "ipython",
    "version": 3
   },
   "file_extension": ".py",
   "mimetype": "text/x-python",
   "name": "python",
   "nbconvert_exporter": "python",
   "pygments_lexer": "ipython3",
   "version": "3.12.4"
  },
  "orig_nbformat": 4
 },
 "nbformat": 4,
 "nbformat_minor": 2
}
